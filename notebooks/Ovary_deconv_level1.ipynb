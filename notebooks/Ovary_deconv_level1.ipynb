{
 "cells": [
  {
   "cell_type": "code",
   "execution_count": null,
   "id": "a7a8d0d1",
   "metadata": {},
   "outputs": [],
   "source": [
    "import pandas as pd\n",
    "import matplotlib.pyplot as plt\n",
    "import seaborn as sns\n",
    "import scanpy as sc\n",
    "import numpy as np\n",
    "import pandas as pd\n",
    "import anndata as ad\n",
    "from scipy import sparse"
   ]
  },
  {
   "cell_type": "code",
   "execution_count": null,
   "id": "d6119e1a",
   "metadata": {},
   "outputs": [],
   "source": [
    "import cell2location"
   ]
  },
  {
   "cell_type": "code",
   "execution_count": null,
   "id": "7bb5de6d",
   "metadata": {},
   "outputs": [],
   "source": [
    "samples_dict = {\"Immature\": \"A0021_043\", \"0hr\": \"A0008_041\", \"1hr\": \"A0021_044\", \"4hr\": \"A0008_045\", \"4hr_replicate\": \"A0021_042\", \"6hr\": \"A0021_045\", \"8hr\": \"A0008_044\", \"8hr_replicate\": \"A0021_038\", \"11hr\": \"A0008_046\", \"12hr\": \"A0021_046\"}"
   ]
  },
  {
   "cell_type": "code",
   "execution_count": null,
   "id": "7fd3503d",
   "metadata": {},
   "outputs": [],
   "source": [
    "sc.settings.verbosity = 3  \n",
    "# verbosity: errors (0), warnings (1), info (2), hints (3)\n",
    "sc.logging.print_versions()\n",
    "sc.settings.set_figure_params(dpi=80, facecolor='white', frameon=True, figsize=(5, 5))"
   ]
  },
  {
   "cell_type": "code",
   "execution_count": null,
   "id": "bb8c8670",
   "metadata": {},
   "outputs": [],
   "source": [
    "ovary_raw = pd.read_csv(\"./../scRNAseq_references/Ovary_subset_0_count_data.csv\", index_col=0, header = 0, delimiter=\",\")\n",
    "print(ovary_raw.shape)\n",
    "ovary_meta_data = pd.read_csv(\"./../scRNAseq_references/Ovary_subset_0_meta_data.csv\", index_col = 0)\n",
    "print(ovary_meta_data.shape)\n"
   ]
  },
  {
   "cell_type": "code",
   "execution_count": null,
   "id": "3925bf51",
   "metadata": {
    "scrolled": true
   },
   "outputs": [],
   "source": [
    "var_df = pd.DataFrame(ovary_raw.index.to_frame())\n",
    "var_df.columns = [\"gene\"]"
   ]
  },
  {
   "cell_type": "code",
   "execution_count": null,
   "id": "6bafef11",
   "metadata": {
    "scrolled": false
   },
   "outputs": [],
   "source": [
    "ovary_adata_sc = ad.AnnData(X=sparse.csr_matrix(ovary_raw.transpose().to_numpy()), obs=ovary_meta_data, var=var_df)\n",
    "ovary_adata_sc"
   ]
  },
  {
   "cell_type": "code",
   "execution_count": null,
   "id": "6ced1469",
   "metadata": {},
   "outputs": [],
   "source": [
    "# ovary_adata_sc.write_h5ad(\"./../pyobjs/ovary_adata_sc.h5ad\")\n"
   ]
  },
  {
   "cell_type": "code",
   "execution_count": null,
   "id": "b54033e3",
   "metadata": {},
   "outputs": [],
   "source": [
    "ovary_adata_sc = sc.read_h5ad(\"./../pyobjs/ovary_adata_sc.h5ad\")\n",
    "ovary_adata_sc"
   ]
  },
  {
   "cell_type": "code",
   "execution_count": null,
   "id": "c2494c17",
   "metadata": {},
   "outputs": [],
   "source": [
    "# sc.pp.normalize_total(ovary_adata_sc, inplace=True)\n",
    "# sc.pp.log1p(ovary_adata_sc)\n",
    "# sc.pp.highly_variable_genes(ovary_adata_sc, max_mean=3, min_disp=0.20)\n",
    "# sc.pl.highly_variable_genes(ovary_adata_sc)\n",
    "# ovary_adata_sc.raw = ovary_adata_sc\n",
    "# ovary_adata_sc = ovary_adata_sc[:, ovary_adata_sc.var.highly_variable]\n",
    "# print(ovary_adata_sc.shape)\n",
    "# sc.pp.regress_out(ovary_adata_sc, [\"total_counts\"])\n",
    "# sc.pp.scale(ovary_adata_sc, max_value=10)\n",
    "# sc.pp.pca(ovary_adata_sc, random_state= 0)\n",
    "# sc.pl.pca_variance_ratio(ovary_adata_sc, n_pcs = 50)\n",
    "# sc.pp.neighbors(ovary_adata_sc, n_pcs=20)\n",
    "# sc.tl.umap(ovary_adata_sc)\n",
    "# sc.tl.leiden(ovary_adata_sc, key_added=\"leiden_1.0\", resolution = 1.0)\n",
    "# sc.tl.leiden(ovary_adata_sc, key_added=\"leiden_1.2\", resolution = 1.2)"
   ]
  },
  {
   "cell_type": "code",
   "execution_count": null,
   "id": "5c9913a0",
   "metadata": {},
   "outputs": [],
   "source": [
    "from cell2location.utils.filtering import filter_genes\n",
    "selected = filter_genes(ovary_adata_sc, cell_count_cutoff=5, cell_percentage_cutoff2=0.03, nonz_mean_cutoff=1.12)\n",
    "# %notebook filter the object\n",
    "ovary_adata_sc = ovary_adata_sc[:, selected].copy()"
   ]
  },
  {
   "cell_type": "code",
   "execution_count": null,
   "id": "da18e69d",
   "metadata": {},
   "outputs": [],
   "source": [
    "ovary_adata_sc.obs.columns"
   ]
  },
  {
   "cell_type": "code",
   "execution_count": null,
   "id": "7149c309",
   "metadata": {},
   "outputs": [],
   "source": [
    "ovary_adata_sc.obs[\"mouse\"].value_counts()"
   ]
  },
  {
   "cell_type": "code",
   "execution_count": null,
   "id": "7b46536c",
   "metadata": {},
   "outputs": [],
   "source": [
    "# prepare anndata for the regression model\n",
    "cell2location.models.RegressionModel.setup_anndata(adata=ovary_adata_sc,\n",
    "                        # 10X reaction / sample / batch\n",
    "                        batch_key='mouse',\n",
    "                        # cell type, covariate used for constructing signatures\n",
    "                        labels_key='Level1')"
   ]
  },
  {
   "cell_type": "code",
   "execution_count": null,
   "id": "633c6624",
   "metadata": {},
   "outputs": [],
   "source": [
    "from cell2location.models import RegressionModel\n",
    "mod = RegressionModel(ovary_adata_sc)\n",
    "\n",
    "# view anndata_setup as a sanity check\n",
    "mod.view_anndata_setup()"
   ]
  },
  {
   "cell_type": "code",
   "execution_count": null,
   "id": "b834542d",
   "metadata": {},
   "outputs": [],
   "source": [
    "mod.train(max_epochs=250, use_gpu=0)"
   ]
  },
  {
   "cell_type": "code",
   "execution_count": null,
   "id": "d7273bae",
   "metadata": {},
   "outputs": [],
   "source": [
    "mod.plot_history(20)"
   ]
  },
  {
   "cell_type": "code",
   "execution_count": null,
   "id": "0cf1dd67",
   "metadata": {},
   "outputs": [],
   "source": [
    "# In this section, we export the estimated cell abundance (summary of the posterior distribution).\n",
    "ovary_adata_sc = mod.export_posterior(\n",
    "    ovary_adata_sc, sample_kwargs={'num_samples': 1000, 'batch_size': 2500, 'use_gpu': True}\n",
    ")\n",
    "\n",
    "# Save model\n",
    "mod.save(\"./../pyobjs/ovary_cell2location_sc_ref_mod_level1\", overwrite=True)\n",
    "\n",
    "# Save anndata object with results\n",
    "ovary_adata_sc.write(\"./../pyobjs/ovary_cell2location_sc_ref_level1.h5ad\")"
   ]
  },
  {
   "cell_type": "code",
   "execution_count": null,
   "id": "2d4b7182",
   "metadata": {},
   "outputs": [],
   "source": [
    "mod.plot_QC()"
   ]
  },
  {
   "cell_type": "code",
   "execution_count": null,
   "id": "41034568",
   "metadata": {},
   "outputs": [],
   "source": [
    "adata_ref = sc.read_h5ad(\"./../pyobjs/ovary_cell2location_sc_ref_level1.h5ad\")\n",
    "mod = cell2location.models.RegressionModel.load(f\"./../pyobjs/ovary_cell2location_sc_ref_mod_level1\", adata_ref)"
   ]
  },
  {
   "cell_type": "code",
   "execution_count": null,
   "id": "8dada7c2",
   "metadata": {},
   "outputs": [],
   "source": [
    "# export estimated expression in each cluster\n",
    "if 'means_per_cluster_mu_fg' in adata_ref.varm.keys():\n",
    "    inf_aver = adata_ref.varm['means_per_cluster_mu_fg'][[f'means_per_cluster_mu_fg_{i}'\n",
    "                                    for i in adata_ref.uns['mod']['factor_names']]].copy()\n",
    "else:\n",
    "    inf_aver = adata_ref.var[[f'means_per_cluster_mu_fg_{i}'\n",
    "                                    for i in adata_ref.uns['mod']['factor_names']]].copy()\n",
    "inf_aver.columns = adata_ref.uns['mod']['factor_names']\n",
    "print(inf_aver.shape)\n",
    "inf_aver.iloc[0:10, 0:10]"
   ]
  },
  {
   "cell_type": "code",
   "execution_count": null,
   "id": "3944c4fe",
   "metadata": {},
   "outputs": [],
   "source": [
    "adata_vis = sc.read_h5ad(\"./../pyobjs/adata_ovary_combined_raw_counts_filtered.h5ad\")\n",
    "adata_vis = adata_vis[sc.read_h5ad(\"./../pyobjs/adata_ovary_combined_processed0.h5ad\").obs_names]\n",
    "adata_vis"
   ]
  },
  {
   "cell_type": "code",
   "execution_count": null,
   "id": "dad1af0f",
   "metadata": {},
   "outputs": [],
   "source": [
    "# find shared genes and subset both anndata and reference signatures\n",
    "intersect = np.intersect1d(adata_vis.var_names, inf_aver.index)\n",
    "print(len(intersect))\n",
    "adata_vis = adata_vis[:, intersect].copy()\n",
    "inf_aver = inf_aver.loc[intersect, :].copy()\n",
    "\n",
    "# prepare anndata for cell2location model\n",
    "cell2location.models.Cell2location.setup_anndata(adata=adata_vis, batch_key=\"Sample\")"
   ]
  },
  {
   "cell_type": "code",
   "execution_count": null,
   "id": "414d840f",
   "metadata": {},
   "outputs": [],
   "source": [
    "# create and train the model\n",
    "mod = cell2location.models.Cell2location(\n",
    "    adata_vis, cell_state_df=inf_aver,\n",
    "    # the expected average cell abundance: tissue-dependent\n",
    "    # hyper-prior which can be estimated from paired histology:\n",
    "    N_cells_per_location=1,\n",
    "    # hyperparameter controlling normalisation of\n",
    "    # within-experiment variation in RNA detection:\n",
    "    detection_alpha=20\n",
    ")\n",
    "mod.view_anndata_setup()"
   ]
  },
  {
   "cell_type": "code",
   "execution_count": null,
   "id": "fbe2ff57",
   "metadata": {},
   "outputs": [],
   "source": [
    "mod.train(max_epochs=1000,\n",
    "          # train using full data (batch_size=None)\n",
    "          batch_size=5000,\n",
    "          # use all data points in training because\n",
    "          # we need to estimate cell abundance at all locations\n",
    "          train_size= 1.0,\n",
    "          use_gpu=1)"
   ]
  },
  {
   "cell_type": "code",
   "execution_count": null,
   "id": "d30c188e",
   "metadata": {},
   "outputs": [],
   "source": [
    "# plot ELBO loss history during training, removing first 100 epochs from the plot\n",
    "mod.plot_history(20)\n",
    "plt.legend(labels=['full data training'])"
   ]
  },
  {
   "cell_type": "code",
   "execution_count": null,
   "id": "2d595fe3",
   "metadata": {},
   "outputs": [],
   "source": [
    "# In this section, we export the estimated cell abundance (summary of the posterior distribution).\n",
    "adata_vis = mod.export_posterior(\n",
    "    adata_vis, sample_kwargs={'num_samples': 500, 'batch_size': 5000, 'use_gpu': True}\n",
    ")\n",
    "\n",
    "# Save model\n",
    "mod.save(\"./../pyobjs/ovary_cell2location_ss_combined_mod_level1\", overwrite=True)\n",
    "\n",
    "# Save anndata object with results\n",
    "adata_vis.write(\"./../pyobjs/ovary_cell2location_ss_combined_level1.h5ad\")"
   ]
  },
  {
   "cell_type": "code",
   "execution_count": null,
   "id": "c87ac93d",
   "metadata": {},
   "outputs": [],
   "source": [
    "mod.plot_QC()"
   ]
  },
  {
   "cell_type": "code",
   "execution_count": null,
   "id": "5e447413",
   "metadata": {},
   "outputs": [],
   "source": [
    "adata_vis = sc.read_h5ad(\"./../pyobjs/ovary_cell2location_ss_combined_level1.h5ad\")\n",
    "# mod = cell2location.models.Cell2location.load(f\"./../pyobjs/ovary_cell2location_ss_combined_mod_level1\", adata_vis)\n",
    "adata_vis"
   ]
  },
  {
   "cell_type": "code",
   "execution_count": null,
   "id": "e6248ece",
   "metadata": {},
   "outputs": [],
   "source": [
    "print(adata_vis.obsm)\n",
    "adata_vis.obsm['q05_cell_proportions'] = adata_vis.obsm['q05_cell_abundance_w_sf'].div(adata_vis.obsm['q05_cell_abundance_w_sf'].sum(axis=1), axis=0)\n",
    "# add 5% quantile, representing confident cell abundance, 'at least this amount is present',\n",
    "# to adata.obs with nice names for plotting\n",
    "adata_vis.obs[\"total_abundance\"] = adata_vis.obsm['q05_cell_abundance_w_sf'].sum(axis = 1)\n",
    "adata_vis.obs[adata_vis.uns['mod']['factor_names']] = adata_vis.obsm['q05_cell_proportions']\n",
    "ct_list = list(adata_vis.uns['mod']['factor_names'])\n",
    "ct_list = [\"Level1_\" + x for x in ct_list]\n",
    "# for ct in ct_list:\n",
    "#     data = adata_vis.obs[ct].values\n",
    "#     adata_vis.obs[ct] = np.clip(data,0, np.quantile(data, 0.90))\n",
    "adata_vis.obs[\"Level1_\" + \"max_pred\"] = adata_vis.obs[adata_vis.uns['mod']['factor_names']].max(axis=1)\n",
    "adata_vis.obs[\"Level1_\" + \"max_pred_celltype\"] = adata_vis.obs[adata_vis.uns['mod']['factor_names']].idxmax(axis=1)"
   ]
  },
  {
   "cell_type": "code",
   "execution_count": null,
   "id": "a7d21127",
   "metadata": {},
   "outputs": [],
   "source": [
    "# plot in spatial coordinates\n",
    "sc.settings.set_figure_params(dpi_save= 400, fontsize=6, figsize=(3.0, 3.0), facecolor='white', frameon=False, transparent=True, vector_friendly = True, format=\"pdf\")\n",
    "for sample in samples_dict.keys():    \n",
    "    sc.pl.spatial(adata_vis[adata_vis.obs[\"Sample\"] == sample], cmap=\"Blues\",\n",
    "                      # show first 8 cell types\n",
    "                      color=list(adata_vis.obs[\"Level1_max_pred_celltype\"].value_counts().index), spot_size= 30, \n",
    "                  ncols=6, wspace = 0.2, hspace=0.2,\n",
    "                      # limit color scale at 99.2% quantile of cell abundance\n",
    "                     vmin=0, vmax='p99.2', legend_fontsize=5)"
   ]
  },
  {
   "cell_type": "code",
   "execution_count": null,
   "id": "fac3a82d",
   "metadata": {},
   "outputs": [],
   "source": [
    "# Compute expected expression per cell type\n",
    "expected_dict = mod.module.model.compute_expected_per_cell_type(\n",
    "    mod.samples[\"post_sample_q05\"], mod.adata_manager  \n",
    ")\n",
    "\n",
    "# Add to anndata layers\n",
    "for i, n in enumerate(mod.factor_names_):\n",
    "    adata_vis.layers[\"Level1_\" + n] = expected_dict['mu'][i]"
   ]
  },
  {
   "cell_type": "code",
   "execution_count": null,
   "id": "27a231fa",
   "metadata": {},
   "outputs": [],
   "source": [
    "adata_vis"
   ]
  },
  {
   "cell_type": "code",
   "execution_count": null,
   "id": "f420b108",
   "metadata": {},
   "outputs": [],
   "source": [
    "# Save anndata object with results\n",
    "adata_vis.write_h5ad(\"./../pyobjs/slideseq_cell2loc_RCTD_level1.h5ad\")"
   ]
  },
  {
   "cell_type": "code",
   "execution_count": null,
   "id": "c01b35d0",
   "metadata": {},
   "outputs": [],
   "source": [
    "adata_vis = sc.read_h5ad(\"./../pyobjs/slideseq_cell2loc_RCTD_level1.h5ad\")\n",
    "adata_vis"
   ]
  },
  {
   "cell_type": "code",
   "execution_count": null,
   "id": "d09aaf0c",
   "metadata": {},
   "outputs": [],
   "source": [
    "fig, axs = plt.subplots(2,5, figsize = (30,8))\n",
    "for i, sample in enumerate(samples_dict.keys()):\n",
    "    sc.settings.set_figure_params(dpi=200, dpi_save= 300, fontsize=10, facecolor='white', frameon=False, figsize=(2.0, 2.0), vector_friendly = False, transparent=True, format=\"pdf\")\n",
    "    sc.pl.spatial(adata_vis[adata_vis.obs[\"Sample\"] == sample], color = [\"Level1_max_pred_celltype\"], wspace= 1.0, spot_size = 30, frameon=False, title=sample, show=False, ax=axs[int(i/5), int(i%5)])  "
   ]
  },
  {
   "cell_type": "code",
   "execution_count": null,
   "id": "700799c9",
   "metadata": {},
   "outputs": [],
   "source": []
  }
 ],
 "metadata": {
  "kernelspec": {
   "display_name": "Python 3 (ipykernel)",
   "language": "python",
   "name": "python3"
  },
  "language_info": {
   "codemirror_mode": {
    "name": "ipython",
    "version": 3
   },
   "file_extension": ".py",
   "mimetype": "text/x-python",
   "name": "python",
   "nbconvert_exporter": "python",
   "pygments_lexer": "ipython3",
   "version": "3.9.13"
  }
 },
 "nbformat": 4,
 "nbformat_minor": 5
}
