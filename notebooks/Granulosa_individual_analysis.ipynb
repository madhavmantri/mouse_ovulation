{
 "cells": [
  {
   "cell_type": "code",
   "execution_count": null,
   "id": "4cb17587",
   "metadata": {},
   "outputs": [],
   "source": [
    "import pandas as pd\n",
    "import matplotlib.pyplot as plt\n",
    "import seaborn as sns\n",
    "import scanpy as sc\n",
    "import numpy as np\n",
    "import scanpy.external as sce"
   ]
  },
  {
   "cell_type": "code",
   "execution_count": null,
   "id": "2a7e5f81",
   "metadata": {},
   "outputs": [],
   "source": [
    "sc.settings.verbosity = 3  \n",
    "# verbosity: errors (0), warnings (1), info (2), hints (3)\n",
    "sc.logging.print_versions()\n",
    "sc.settings.set_figure_params(dpi=80, facecolor='white', frameon=True, figsize=(5, 5))"
   ]
  },
  {
   "cell_type": "code",
   "execution_count": null,
   "id": "18efa711",
   "metadata": {},
   "outputs": [],
   "source": [
    "# samples_dict = {\"Immature\": \"A0021_043\", \"0hr\": \"A0008_041\", \"1hr\": \"A0021_044\", \"4hr\": \"A0008_045\", \"4hr_replicate\": \"A0021_042\", \"6hr\": \"A0021_045\", \"8hr\": \"A0008_044\", \"8hr_replicate\": \"A0021_038\", \"11hr\": \"A0008_046\", \"12hr\": \"A0021_046\"}\n",
    "samples_dict = {\"Immature\": \"A0021_043\", \"0hr\": \"A0008_041\", \"1hr\": \"A0021_044\", \"4hr\": \"A0021_042\", \"6hr\": \"A0021_045\", \"8hr\": \"A0008_044\", \"11hr\": \"A0008_046\", \"12hr\": \"A0021_046\"}"
   ]
  },
  {
   "cell_type": "code",
   "execution_count": null,
   "id": "6e5e7c67",
   "metadata": {},
   "outputs": [],
   "source": [
    "s_genes = list(pd.read_csv(\"./../../../../MouseInfection/s.genes.txt\")[\"x\"])\n",
    "g2m_genes = list(pd.read_csv(\"./../../../../MouseInfection/g2m.genes.txt\")[\"x\"])\n",
    "print(s_genes)\n",
    "print(g2m_genes)"
   ]
  },
  {
   "cell_type": "code",
   "execution_count": null,
   "id": "41da2909",
   "metadata": {},
   "outputs": [],
   "source": [
    "adata_ovary_combined = sc.read_h5ad(\"./../../pyobjs_github/adata_ovary_combined_processed_deconvoluted_newscaling.h5ad\")\n",
    "adata_ovary_combined"
   ]
  },
  {
   "cell_type": "code",
   "execution_count": null,
   "id": "27d47bdd",
   "metadata": {
    "scrolled": false
   },
   "outputs": [],
   "source": [
    "adata_dict = dict()\n",
    "for sample in samples_dict.keys():\n",
    "        adata_dict[sample] = sc.read_h5ad(\"./../../pyobjs_github/adata_\"+ sample + \"_with_image_processed_undertissue_filtered_reprocessed_refiltered_integrated.h5ad\")"
   ]
  },
  {
   "cell_type": "code",
   "execution_count": null,
   "id": "bd7fa0e2",
   "metadata": {},
   "outputs": [],
   "source": [
    "granulosa_dict = dict()\n",
    "for sample in samples_dict.keys():\n",
    "    granulosa_dict[sample] = adata_dict[sample].raw.to_adata()[adata_dict[sample].obs[\"Level0_max_pred_celltype\"] == \"Level0_Granulosa\"]\n",
    "    granulosa_dict[sample].obs[\"Selection\"] = \"Granulosa\"\n",
    "    print(granulosa_dict[sample].shape)"
   ]
  },
  {
   "cell_type": "code",
   "execution_count": null,
   "id": "c63f3c48",
   "metadata": {
    "scrolled": false
   },
   "outputs": [],
   "source": [
    "for sample in samples_dict.keys():\n",
    "    print(granulosa_dict[sample].shape)\n",
    "    sc.pp.highly_variable_genes(granulosa_dict[sample], max_mean=3)\n",
    "    sc.pl.highly_variable_genes(granulosa_dict[sample])\n",
    "    sc.tl.score_genes_cell_cycle(granulosa_dict[sample], s_genes=s_genes, g2m_genes=g2m_genes)\n",
    "    granulosa_dict[sample].raw = granulosa_dict[sample]\n",
    "    granulosa_dict[sample] = granulosa_dict[sample][:, granulosa_dict[sample].var.highly_variable]\n",
    "    print(granulosa_dict[sample].shape)\n",
    "    sc.pp.regress_out(granulosa_dict[sample], ['S_score', 'G2M_score', 'total_counts'])\n",
    "    sc.pp.scale(granulosa_dict[sample], max_value=10)\n",
    "    sc.pp.pca(granulosa_dict[sample], random_state= 0)\n",
    "    "
   ]
  },
  {
   "cell_type": "code",
   "execution_count": null,
   "id": "93acca01",
   "metadata": {},
   "outputs": [],
   "source": [
    "for sample in samples_dict.keys():\n",
    "    sc.pp.neighbors(granulosa_dict[sample], n_pcs=20)\n",
    "    sc.tl.umap(granulosa_dict[sample])"
   ]
  },
  {
   "cell_type": "code",
   "execution_count": null,
   "id": "8502cb9a",
   "metadata": {},
   "outputs": [],
   "source": [
    "for sample in samples_dict.keys():\n",
    "    sc.tl.leiden(granulosa_dict[sample], key_added=\"granulosa_leiden_1.0\",  resolution = 1.0)"
   ]
  },
  {
   "cell_type": "code",
   "execution_count": null,
   "id": "f371b95d",
   "metadata": {},
   "outputs": [],
   "source": [
    "for sample in samples_dict.keys():\n",
    "    print(granulosa_dict[sample].shape)\n",
    "    sc.tl.rank_genes_groups(granulosa_dict[sample], groupby=\"granulosa_leiden_1.0\", key_added=\"markers_granulosa_leiden_1.0\")"
   ]
  },
  {
   "cell_type": "code",
   "execution_count": null,
   "id": "fb445071",
   "metadata": {
    "scrolled": false
   },
   "outputs": [],
   "source": [
    "sc.pl.spatial(granulosa_dict[\"Immature\"], color = \"Kctd14\", spot_size=30)"
   ]
  },
  {
   "cell_type": "code",
   "execution_count": null,
   "id": "7191b0ca",
   "metadata": {},
   "outputs": [],
   "source": [
    "sc.tl.leiden(granulosa_dict[\"Immature\"], key_added=\"granulosa_leiden_1.2\",  resolution = 1.2)\n",
    "sc.tl.rank_genes_groups(granulosa_dict[\"Immature\"], groupby=\"granulosa_leiden_1.2\", key_added=\"markers_granulosa_leiden_1.2\")"
   ]
  },
  {
   "cell_type": "code",
   "execution_count": null,
   "id": "f8315de4",
   "metadata": {},
   "outputs": [],
   "source": [
    "sample = \"Immature\"\n",
    "sc.settings.set_figure_params(dpi=200, facecolor='white', fontsize=6, frameon=True, figsize=(5, 2))\n",
    "ax = sc.pl.correlation_matrix(granulosa_dict[sample], 'granulosa_leiden_1.2', figsize=(3,2))"
   ]
  },
  {
   "cell_type": "code",
   "execution_count": null,
   "id": "9cff5cb7",
   "metadata": {},
   "outputs": [],
   "source": [
    "sample = \"Immature\"\n",
    "granulosa_dict[sample].obs[\"granulosa_clusters\"] = granulosa_dict[sample].obs[\"granulosa_leiden_1.2\"]\n",
    "celltypes = {'1': \"GC_Mural_Outer-(Atretic)\", \n",
    "             '0': \"GC_Mural-(Small Antral)\", \n",
    "            '2': \"GC_Mural_Inner-(Atretic)\", \n",
    "            '3': \"Others\",\n",
    "            '4': \"Mixed\",\n",
    "            '5': \"GC_Mural-(Preantral)\",\n",
    "            '6': \"GC_Mural_Inner-(Atretic)\",\n",
    "            '7': \"GC_Mitotic-(Antral)\",\n",
    "            '8': \"GC_Mural_Inner-(Atretic)\",\n",
    "            '9': \"GC_Mural_Outer-(Atretic)\",\n",
    "            '10': \"GC_Mitotic-(Antral)\",\n",
    "            '11': \"Others\",\n",
    "             '12': \"Others\"}\n",
    "granulosa_dict[sample].obs[\"granulosa_celltypes\"] = granulosa_dict[sample].obs[\"granulosa_clusters\"].map(celltypes).astype(\"category\")"
   ]
  },
  {
   "cell_type": "code",
   "execution_count": null,
   "id": "c99e8c23",
   "metadata": {},
   "outputs": [],
   "source": [
    "sc.settings.set_figure_params(dpi=200, facecolor='white', fontsize=20, frameon=True, figsize=(2, 2))\n",
    "sc.pl.rank_genes_groups_dotplot(granulosa_dict[\"Immature\"], key=\"markers_granulosa_leiden_1.2\", n_genes=10, values_to_plot='logfoldchanges', min_logfoldchange=0.5, vmax=7, vmin=-7, cmap='bwr')\n",
    "sc.settings.set_figure_params(dpi=200, facecolor='white', fontsize=8, frameon=True, figsize=(2, 2))\n"
   ]
  },
  {
   "cell_type": "code",
   "execution_count": null,
   "id": "1a9f2018",
   "metadata": {},
   "outputs": [],
   "source": [
    "sc.settings.set_figure_params(dpi=200, facecolor='white', fontsize=6, frameon=True, figsize=(2, 2))\n",
    "sc.pl.spatial(granulosa_dict[\"Immature\"], color=[\"phase\", \"granulosa_leiden_1.2\", \"granulosa_celltypes\"], spot_size=30, frameon=False, wspace=0.3)    "
   ]
  },
  {
   "cell_type": "code",
   "execution_count": null,
   "id": "773cc83a",
   "metadata": {},
   "outputs": [],
   "source": [
    "sc.settings.set_figure_params(dpi=200, facecolor='white', fontsize=6, frameon=True, figsize=(2, 2))\n",
    "sc.pl.spatial(granulosa_dict[\"Immature\"], color=[\"granulosa_leiden_1.2\"], groups = [\"9\"], spot_size=30, frameon=False, wspace=0.3)    "
   ]
  },
  {
   "cell_type": "code",
   "execution_count": null,
   "id": "470ba558",
   "metadata": {},
   "outputs": [],
   "source": [
    "sc.tl.leiden(granulosa_dict[\"0hr\"], key_added=\"granulosa_leiden_1.2\",  resolution = 1.2)\n",
    "sc.tl.rank_genes_groups(granulosa_dict[\"0hr\"], groupby=\"granulosa_leiden_1.2\", key_added=\"markers_granulosa_leiden_1.2\")"
   ]
  },
  {
   "cell_type": "code",
   "execution_count": null,
   "id": "faafe802",
   "metadata": {
    "scrolled": false
   },
   "outputs": [],
   "source": [
    "sample = \"0hr\"\n",
    "ax = sc.pl.correlation_matrix(granulosa_dict[sample], 'granulosa_leiden_1.0', figsize=(2,2))"
   ]
  },
  {
   "cell_type": "code",
   "execution_count": null,
   "id": "6b3017a4",
   "metadata": {},
   "outputs": [],
   "source": [
    "sc.settings.set_figure_params(dpi=200, facecolor='white', fontsize=20, frameon=True, figsize=(2, 2))\n",
    "sc.pl.rank_genes_groups_dotplot(granulosa_dict[\"0hr\"], key=\"markers_granulosa_leiden_1.0\", n_genes=10, values_to_plot='logfoldchanges', min_logfoldchange=1, vmax=7, vmin=-7, cmap='bwr')\n",
    "sc.settings.set_figure_params(dpi=200, facecolor='white', fontsize=8, frameon=True, figsize=(2, 2))\n"
   ]
  },
  {
   "cell_type": "code",
   "execution_count": null,
   "id": "6b7a945e",
   "metadata": {},
   "outputs": [],
   "source": [
    "sample = \"0hr\"\n",
    "granulosa_dict[sample].obs[\"granulosa_clusters\"] = granulosa_dict[sample].obs[\"granulosa_leiden_1.0\"]\n",
    "celltypes = {'0': \"GC_Mural-(Preantral)\", \n",
    "             '1': \"GC_Mural_Inner-(Antral)\", \n",
    "            '2': \"GC_Mural_Outer-(Antral)\", \n",
    "            '3': \"GC_Mural_Outer-(Atretic)\", \n",
    "            '4': \"GC_Lytic\", \n",
    "            '5': \"Others\",\n",
    "            '6': \"GC_Cumulus\"}\n",
    "granulosa_dict[sample].obs[\"granulosa_celltypes\"] = granulosa_dict[sample].obs[\"granulosa_clusters\"].map(celltypes).astype(\"category\")"
   ]
  },
  {
   "cell_type": "code",
   "execution_count": null,
   "id": "235f2e31",
   "metadata": {},
   "outputs": [],
   "source": [
    "sc.settings.set_figure_params(dpi=200, facecolor='white', fontsize=6, frameon=True, figsize=(2, 2))\n",
    "sc.pl.spatial(granulosa_dict[\"0hr\"], color=[\"phase\", \"granulosa_clusters\", \"granulosa_celltypes\"], spot_size=30, frameon=False, wspace=0.3)  "
   ]
  },
  {
   "cell_type": "code",
   "execution_count": null,
   "id": "8b142f0d",
   "metadata": {},
   "outputs": [],
   "source": [
    "# sc.tl.leiden(granulosa_dict[\"0hr\"], key_added=\"granulosa_leiden_1.5\", restrict_to=(\"granulosa_leiden_1.0\", [\"6\"]), resolution = 0.5)"
   ]
  },
  {
   "cell_type": "code",
   "execution_count": null,
   "id": "e6926e63",
   "metadata": {
    "scrolled": true
   },
   "outputs": [],
   "source": [
    "# sc.tl.leiden(granulosa_dict[\"1hr\"], key_added=\"granulosa_leiden_1.2\", restrict_to=(\"granulosa_leiden_1.0\", [\"1\", \"2\"]), resolution = 0.7)\n",
    "# sc.tl.rank_genes_groups(granulosa_dict[\"1hr\"], groupby=\"granulosa_leiden_1.2\", key_added=\"markers_granulosa_leiden_1.2\")"
   ]
  },
  {
   "cell_type": "code",
   "execution_count": null,
   "id": "95c156e4",
   "metadata": {
    "scrolled": true
   },
   "outputs": [],
   "source": [
    "sample = \"1hr\"\n",
    "ax = sc.pl.correlation_matrix(granulosa_dict[sample], 'granulosa_leiden_1.0', figsize=(2,2))"
   ]
  },
  {
   "cell_type": "code",
   "execution_count": null,
   "id": "580d93eb",
   "metadata": {},
   "outputs": [],
   "source": [
    "sc.settings.set_figure_params(dpi=200, facecolor='white', fontsize=20, frameon=True, figsize=(2, 2))\n",
    "sc.pl.rank_genes_groups_dotplot(granulosa_dict[\"1hr\"], key=\"markers_granulosa_leiden_1.0\", n_genes=10, values_to_plot='logfoldchanges', min_logfoldchange=0.5, vmax=7, vmin=-7, cmap='bwr')\n",
    "sc.settings.set_figure_params(dpi=200, facecolor='white', fontsize=8, frameon=True, figsize=(2, 2))"
   ]
  },
  {
   "cell_type": "code",
   "execution_count": null,
   "id": "97a62d05",
   "metadata": {},
   "outputs": [],
   "source": [
    "sample = \"1hr\"\n",
    "granulosa_dict[sample].obs[\"granulosa_clusters\"] = granulosa_dict[sample].obs[\"granulosa_leiden_1.0\"]\n",
    "celltypes = {'0': \"GC_Mural_Outer-(Antral)\", \n",
    "             '1': \"GC_Mural_Outer-(Atretic)\", \n",
    "            '2': \"GC_Mural_Inner-(Antral)\", \n",
    "            '3': \"GC_Mural_Outer-(Antral)\", \n",
    "            '4': \"Others\", \n",
    "            '5': \"GC_Lytic\", \n",
    "            '6': \"GC_Cumulus\",\n",
    "            '7': \"Others\",\n",
    "            '8': \"Others\"}\n",
    "granulosa_dict[sample].obs[\"granulosa_celltypes\"] = granulosa_dict[sample].obs[\"granulosa_clusters\"].map(celltypes).astype(\"category\")"
   ]
  },
  {
   "cell_type": "code",
   "execution_count": null,
   "id": "cb948fa9",
   "metadata": {},
   "outputs": [],
   "source": [
    "sc.settings.set_figure_params(dpi=200, facecolor='white', fontsize=6, frameon=True, figsize=(2, 2))\n",
    "sc.pl.spatial(granulosa_dict[\"1hr\"], color=[\"phase\", \"granulosa_leiden_1.0\", \"granulosa_celltypes\"], spot_size=30, frameon=False, wspace=0.3)  "
   ]
  },
  {
   "cell_type": "code",
   "execution_count": null,
   "id": "3558b901",
   "metadata": {},
   "outputs": [],
   "source": [
    "sc.settings.set_figure_params(dpi=200, facecolor='white', fontsize=6, frameon=True, figsize=(2, 2))\n",
    "sc.pl.spatial(granulosa_dict[\"1hr\"], color=[\"Inha\", \"Inhbb\", \"Ccnb2\"], spot_size=30, frameon=False, wspace=0.3)  "
   ]
  },
  {
   "cell_type": "code",
   "execution_count": null,
   "id": "ab00c735",
   "metadata": {},
   "outputs": [],
   "source": [
    "sample = \"4hr\"\n",
    "ax = sc.pl.correlation_matrix(granulosa_dict[sample], 'granulosa_leiden_1.0', figsize=(2,2))"
   ]
  },
  {
   "cell_type": "code",
   "execution_count": null,
   "id": "2d699df1",
   "metadata": {},
   "outputs": [],
   "source": [
    "sc.settings.set_figure_params(dpi=200, facecolor='white', fontsize=20, frameon=True, figsize=(2, 2))\n",
    "sc.pl.rank_genes_groups_dotplot(granulosa_dict[\"4hr\"], key=\"markers_granulosa_leiden_1.0\", n_genes=10, values_to_plot='logfoldchanges', min_logfoldchange=0.5, vmax=7, vmin=-7, cmap='bwr')\n",
    "sc.settings.set_figure_params(dpi=200, facecolor='white', fontsize=8, frameon=True, figsize=(2, 2))"
   ]
  },
  {
   "cell_type": "code",
   "execution_count": null,
   "id": "f3740528",
   "metadata": {},
   "outputs": [],
   "source": [
    "sample = \"4hr\"\n",
    "ax = sc.pl.correlation_matrix(granulosa_dict[sample], 'granulosa_leiden_1.0', figsize=(2,2))"
   ]
  },
  {
   "cell_type": "code",
   "execution_count": null,
   "id": "f22adc5b",
   "metadata": {},
   "outputs": [],
   "source": [
    "sc.settings.set_figure_params(dpi=200, facecolor='white', fontsize=20, frameon=True, figsize=(2, 2))\n",
    "sc.pl.rank_genes_groups_dotplot(granulosa_dict[\"4hr\"], key=\"markers_granulosa_leiden_1.0\", n_genes=10, values_to_plot='logfoldchanges', min_logfoldchange=1.0, vmax=7, vmin=-7, cmap='bwr')\n",
    "sc.settings.set_figure_params(dpi=200, facecolor='white', fontsize=8, frameon=True, figsize=(2, 2))"
   ]
  },
  {
   "cell_type": "code",
   "execution_count": null,
   "id": "b6e3de9e",
   "metadata": {},
   "outputs": [],
   "source": [
    "sample = \"4hr\"\n",
    "granulosa_dict[sample].obs[\"granulosa_clusters\"] = granulosa_dict[sample].obs[\"granulosa_leiden_1.0\"]\n",
    "celltypes = {'0': \"GC_Mural_Outer-(Antral)\", \n",
    "             '1': \"GC_Mural_Inner-(Antral)\", \n",
    "            '2': \"GC_Mural_Inner-(Antral)\", \n",
    "            '3': \"GC_Mural_Outer-(Antral)\", \n",
    "            '4': \"GC_Mural_Outer-(Antral)\", \n",
    "            '5': \"GC_Mural-(Preantral)\", \n",
    "            '6': \"GC_Lytic\",\n",
    "            '7': \"GC_Mural_Outer-(Atretic)\",\n",
    "            '8': \"GC_Cumulus\"}\n",
    "granulosa_dict[sample].obs[\"granulosa_celltypes\"] = granulosa_dict[sample].obs[\"granulosa_clusters\"].map(celltypes).astype(\"category\")"
   ]
  },
  {
   "cell_type": "code",
   "execution_count": null,
   "id": "1d8bf598",
   "metadata": {},
   "outputs": [],
   "source": [
    "sc.settings.set_figure_params(dpi=200, facecolor='white', fontsize=6, frameon=True, figsize=(2, 2))\n",
    "sc.pl.spatial(granulosa_dict[\"4hr\"], color=[\"phase\", \"granulosa_leiden_1.0\", \"granulosa_celltypes\"], spot_size=30, frameon=False, wspace=0.3)  "
   ]
  },
  {
   "cell_type": "code",
   "execution_count": null,
   "id": "b4a17abd",
   "metadata": {},
   "outputs": [],
   "source": [
    "sample = \"6hr\"\n",
    "ax = sc.pl.correlation_matrix(granulosa_dict[sample], 'granulosa_leiden_1.0', figsize=(2,2))"
   ]
  },
  {
   "cell_type": "code",
   "execution_count": null,
   "id": "d67b7a80",
   "metadata": {},
   "outputs": [],
   "source": [
    "sc.settings.set_figure_params(dpi=200, facecolor='white', fontsize=20, frameon=True, figsize=(2, 2))\n",
    "sc.pl.rank_genes_groups_dotplot(granulosa_dict[\"6hr\"], key=\"markers_granulosa_leiden_1.0\", n_genes=10, values_to_plot='logfoldchanges', min_logfoldchange=0.5, vmax=7, vmin=-7, cmap='bwr')\n",
    "sc.settings.set_figure_params(dpi=200, facecolor='white', fontsize=8, frameon=True, figsize=(2, 2))"
   ]
  },
  {
   "cell_type": "code",
   "execution_count": null,
   "id": "48399cf1",
   "metadata": {},
   "outputs": [],
   "source": [
    "sample = \"6hr\"\n",
    "granulosa_dict[sample].obs[\"granulosa_clusters\"] = granulosa_dict[sample].obs[\"granulosa_leiden_1.0\"]\n",
    "celltypes = {'0': \"GC_Mural_Inner-(Antral)\", \n",
    "             '1': \"GC_Mural_Outer-(Antral)\", \n",
    "            '2': \"GC_Mural_Outer-(Antral)\", \n",
    "            '4': \"GC_Mural_Inner-(Antral)\", \n",
    "            '3': \"GC_Mural-(Preantral)\", \n",
    "            '5': \"GC_Mural-(Preantral)\", \n",
    "            '6': \"GC_Cumulus\",\n",
    "            '7': \"GC_Cumulus\", \n",
    "            '8': \"GC_Lytic\"}\n",
    "granulosa_dict[sample].obs[\"granulosa_celltypes\"] = granulosa_dict[sample].obs[\"granulosa_clusters\"].map(celltypes).astype(\"category\")"
   ]
  },
  {
   "cell_type": "code",
   "execution_count": null,
   "id": "b1aab5dd",
   "metadata": {},
   "outputs": [],
   "source": [
    "sc.settings.set_figure_params(dpi=200, facecolor='white', fontsize=6, frameon=True, figsize=(2, 2))\n",
    "sc.pl.spatial(granulosa_dict[\"6hr\"], color=[\"phase\", \"granulosa_leiden_1.0\", \"granulosa_celltypes\"], spot_size=30, frameon=False, wspace=0.3)  "
   ]
  },
  {
   "cell_type": "code",
   "execution_count": null,
   "id": "138866ae",
   "metadata": {},
   "outputs": [],
   "source": [
    "sc.settings.set_figure_params(dpi=200, facecolor='white', fontsize=6, frameon=True, figsize=(2, 2))\n",
    "sc.pl.spatial(granulosa_dict[\"6hr\"], color=[\"Inha\", \"Inhbb\", \"Ccnb2\", \"Kctd14\"], spot_size=30, frameon=False, wspace=0.3)  "
   ]
  },
  {
   "cell_type": "code",
   "execution_count": null,
   "id": "7f05e4a4",
   "metadata": {},
   "outputs": [],
   "source": [
    "sc.tl.leiden(granulosa_dict[\"8hr\"], key_added=\"granulosa_leiden_1.2\",  resolution = 1.2)\n",
    "sc.tl.rank_genes_groups(granulosa_dict[\"8hr\"], groupby=\"granulosa_leiden_1.2\", key_added=\"markers_granulosa_leiden_1.2\")"
   ]
  },
  {
   "cell_type": "code",
   "execution_count": null,
   "id": "68101ce6",
   "metadata": {},
   "outputs": [],
   "source": [
    "sample = \"8hr\"\n",
    "ax = sc.pl.correlation_matrix(granulosa_dict[sample], 'granulosa_leiden_1.0', figsize=(2,2))"
   ]
  },
  {
   "cell_type": "code",
   "execution_count": null,
   "id": "c77c0f33",
   "metadata": {},
   "outputs": [],
   "source": [
    "sample = \"8hr\"\n",
    "granulosa_dict[sample].obs[\"granulosa_clusters\"] = granulosa_dict[sample].obs[\"granulosa_leiden_1.0\"]\n",
    "celltypes = {'0': \"GC_Mural_Inner-(Antral)\", \n",
    "             '1': \"GC_Mural_Outer-(Atretic)\", \n",
    "            '2': \"GC_Mural_Outer-(Antral)\", \n",
    "            '3': \"GC_Lytic\", \n",
    "            '4': \"GC_Lytic\", \n",
    "            '5': \"GC_Cumulus\", \n",
    "            '6': \"GC_Mural-(Preantral)\",\n",
    "            '7': \"GC_Cumulus\", \n",
    "            '8': \"Others\"}\n",
    "granulosa_dict[sample].obs[\"granulosa_celltypes\"] = granulosa_dict[sample].obs[\"granulosa_clusters\"].map(celltypes).astype(\"category\")"
   ]
  },
  {
   "cell_type": "code",
   "execution_count": null,
   "id": "08b97afd",
   "metadata": {},
   "outputs": [],
   "source": [
    "sc.settings.set_figure_params(dpi=200, facecolor='white', fontsize=20, frameon=True, figsize=(2, 2))\n",
    "sc.pl.rank_genes_groups_dotplot(granulosa_dict[\"8hr\"], key=\"markers_granulosa_leiden_1.0\", n_genes=10, values_to_plot='logfoldchanges', min_logfoldchange=0.5, vmax=7, vmin=-7, cmap='bwr')\n",
    "sc.settings.set_figure_params(dpi=200, facecolor='white', fontsize=8, frameon=True, figsize=(2, 2))"
   ]
  },
  {
   "cell_type": "code",
   "execution_count": null,
   "id": "391c618b",
   "metadata": {
    "scrolled": false
   },
   "outputs": [],
   "source": [
    "sc.settings.set_figure_params(dpi=200, facecolor='white', fontsize=6, frameon=True, figsize=(2, 2))\n",
    "sc.pl.spatial(granulosa_dict[\"8hr\"], color=[\"phase\", \"granulosa_leiden_1.0\", \"granulosa_celltypes\"], spot_size=30, frameon=False, wspace=0.3)  "
   ]
  },
  {
   "cell_type": "code",
   "execution_count": null,
   "id": "06270cc1",
   "metadata": {},
   "outputs": [],
   "source": [
    "sc.tl.leiden(granulosa_dict[\"11hr\"], key_added=\"granulosa_leiden_1.2\",  resolution = 1.2)\n",
    "sc.tl.rank_genes_groups(granulosa_dict[\"11hr\"], groupby=\"granulosa_leiden_1.2\", key_added=\"markers_granulosa_leiden_1.2\")"
   ]
  },
  {
   "cell_type": "code",
   "execution_count": null,
   "id": "25cf9c64",
   "metadata": {
    "scrolled": true
   },
   "outputs": [],
   "source": [
    "sc.settings.set_figure_params(dpi=200, facecolor='white', fontsize=8, frameon=True, figsize=(4, 2))\n",
    "sample = \"11hr\"\n",
    "ax = sc.pl.correlation_matrix(granulosa_dict[sample], 'granulosa_leiden_1.2', figsize=(2,2))"
   ]
  },
  {
   "cell_type": "code",
   "execution_count": null,
   "id": "93f085ea",
   "metadata": {},
   "outputs": [],
   "source": [
    "sc.settings.set_figure_params(dpi=200, facecolor='white', fontsize=20, frameon=True, figsize=(4, 2))\n",
    "sc.pl.rank_genes_groups_dotplot(granulosa_dict[\"11hr\"], key=\"markers_granulosa_leiden_1.5\", n_genes=10, values_to_plot='logfoldchanges', min_logfoldchange=1, vmax=7, vmin=-7, cmap='bwr')"
   ]
  },
  {
   "cell_type": "code",
   "execution_count": null,
   "id": "c98d09f9",
   "metadata": {},
   "outputs": [],
   "source": [
    "sample = \"11hr\"\n",
    "granulosa_dict[sample].obs[\"granulosa_clusters\"] = granulosa_dict[sample].obs[\"granulosa_leiden_1.2\"]\n",
    "celltypes = {'0': \"GC_Mural_Outer-(Antral)\", \n",
    "             '1': \"GC_Mural-(Preantral)\", \n",
    "            '2': \"GC_Mural_Inner-(Antral)\", \n",
    "             '3': \"Others\", \n",
    "            '4': \"GC_Cumulus\", \n",
    "            '5': \"GC_Mural_Outer-(Atretic)\", \n",
    "            '6': \"GC_Cumulus\",\n",
    "            '7': \"Others\", \n",
    "            '8': \"Others\",\n",
    "            '9': \"GC_Cumulus\",\n",
    "            '10': \"GC_Lytic\"}\n",
    "granulosa_dict[sample].obs[\"granulosa_celltypes\"] = granulosa_dict[sample].obs[\"granulosa_clusters\"].map(celltypes).astype(\"category\")"
   ]
  },
  {
   "cell_type": "code",
   "execution_count": null,
   "id": "04aee300",
   "metadata": {
    "scrolled": false
   },
   "outputs": [],
   "source": [
    "sc.settings.set_figure_params(dpi=200, facecolor='white', fontsize=6, frameon=True, figsize=(2, 2))\n",
    "sc.pl.spatial(granulosa_dict[\"11hr\"], color=[\"phase\", \"granulosa_leiden_1.2\", \"granulosa_celltypes\"], spot_size=30, frameon=False, wspace=0.3)\n"
   ]
  },
  {
   "cell_type": "code",
   "execution_count": null,
   "id": "2216f269",
   "metadata": {},
   "outputs": [],
   "source": [
    "sample = \"12hr\"\n",
    "ax = sc.pl.correlation_matrix(granulosa_dict[sample], 'granulosa_leiden_1.0', figsize=(2,2))"
   ]
  },
  {
   "cell_type": "code",
   "execution_count": null,
   "id": "a3900b1d",
   "metadata": {},
   "outputs": [],
   "source": [
    "sc.settings.set_figure_params(dpi=200, facecolor='white', fontsize=20, frameon=True, figsize=(2, 2))\n",
    "sc.pl.rank_genes_groups_dotplot(granulosa_dict[\"12hr\"], key=\"markers_granulosa_leiden_1.0\", n_genes=10, values_to_plot='logfoldchanges', min_logfoldchange=0.5, vmax=5, vmin=-5, cmap='bwr')\n",
    "sc.settings.set_figure_params(dpi=200, facecolor='white', fontsize=6, frameon=True, figsize=(2, 2))\n"
   ]
  },
  {
   "cell_type": "code",
   "execution_count": null,
   "id": "8361f1da",
   "metadata": {},
   "outputs": [],
   "source": [
    "sample = \"12hr\"\n",
    "granulosa_dict[sample].obs[\"granulosa_clusters\"] = granulosa_dict[sample].obs[\"granulosa_leiden_1.0\"]\n",
    "celltypes = {'0': \"GC_Mural_Outer-(Antral)\", \n",
    "             '1': \"GC_Lytic\", \n",
    "            '2': \"GC_Lytic\", \n",
    "            '3': \"GC_Mural_Outer-(Antral)\", \n",
    "            '4': \"GC_Mural_Inner-(Antral)\", \n",
    "            '5': \"GC_Mural_Outer-(Atretic)\", \n",
    "            '6': \"Others\",\n",
    "            '7': \"GC_Mural-(Preantral)\", \n",
    "            '8': \"GC_Cumulus\"}\n",
    "granulosa_dict[sample].obs[\"granulosa_celltypes\"] = granulosa_dict[sample].obs[\"granulosa_clusters\"].map(celltypes).astype(\"category\")"
   ]
  },
  {
   "cell_type": "code",
   "execution_count": null,
   "id": "bb74fbee",
   "metadata": {},
   "outputs": [],
   "source": [
    "sc.settings.set_figure_params(dpi=200, facecolor='white', fontsize=6, frameon=True, figsize=(2, 2))\n",
    "sc.pl.spatial(granulosa_dict[\"12hr\"], color=[\"phase\", \"granulosa_leiden_1.0\", \"granulosa_celltypes\"], spot_size=30, frameon=False, wspace=0.3)\n"
   ]
  },
  {
   "cell_type": "code",
   "execution_count": null,
   "id": "7691a99f",
   "metadata": {},
   "outputs": [],
   "source": [
    "sc.settings.set_figure_params(dpi=200, facecolor='white', fontsize=6, frameon=True, figsize=(2, 2))\n",
    "sc.pl.spatial(granulosa_dict[\"12hr\"], color=[\"Gm2a\", \"Clu\", \"Rhox8\", \"Edn2\"], spot_size=30, frameon=False, wspace=0.3)\n"
   ]
  },
  {
   "cell_type": "code",
   "execution_count": null,
   "id": "3ce09164",
   "metadata": {},
   "outputs": [],
   "source": [
    "sc.settings.set_figure_params(dpi=200, facecolor='white', fontsize=6, frameon=True, figsize=(2, 2))\n",
    "sc.pl.spatial(granulosa_dict[\"11hr\"], color=[\"Clu\", \"Gm2a\", \"Rhox8\", \"Ctsl\"], spot_size=30, frameon=False, wspace=0.3)\n"
   ]
  },
  {
   "cell_type": "code",
   "execution_count": null,
   "id": "9429fd25",
   "metadata": {},
   "outputs": [],
   "source": [
    "for sample in granulosa_dict.keys():\n",
    "        print(granulosa_dict[sample].shape)\n",
    "        granulosa_dict[sample].write_h5ad(\"./../../pyobjs_github/granulosa_adata_\"+ sample + \"_with_image_processed_undertissue_filtered_reprocessed_integrated_individual_reprocessed_newscaling.h5ad\")        "
   ]
  },
  {
   "cell_type": "code",
   "execution_count": null,
   "id": "e9fdbbf7",
   "metadata": {},
   "outputs": [],
   "source": [
    "granulosa_dict[\"4hr\"].obs_names = [x.replace(\"4hr_replicate\", \"4hr\") for x in granulosa_dict[\"4hr\"].obs_names]"
   ]
  },
  {
   "cell_type": "code",
   "execution_count": null,
   "id": "161215d2",
   "metadata": {},
   "outputs": [],
   "source": [
    "granulosa_dict[\"4hr\"].obs[\"Sample\"] = granulosa_dict[\"4hr\"].obs[\"Sample\"].cat.rename_categories({\"4hr_replicate\": \"4hr\"})"
   ]
  },
  {
   "cell_type": "code",
   "execution_count": null,
   "id": "561f8847",
   "metadata": {
    "scrolled": false
   },
   "outputs": [],
   "source": [
    "granulosa_dict = dict()\n",
    "for sample in samples_dict.keys():\n",
    "        granulosa_dict[sample] = sc.read_h5ad(\"./../../pyobjs_github//granulosa_adata_\"+ sample + \"_with_image_processed_undertissue_filtered_reprocessed_integrated_individual_reprocessed_newscaling.h5ad\")\n",
    "        print(granulosa_dict[sample].shape)\n",
    "        #  granulosa_dict[sample].uns['log1p'][\"base\"] = None"
   ]
  },
  {
   "cell_type": "code",
   "execution_count": null,
   "id": "81cfd24b",
   "metadata": {},
   "outputs": [],
   "source": [
    "granulosa_combined = granulosa_dict[list(samples_dict.keys())[0]].raw.to_adata().concatenate([granulosa_dict[x].raw.to_adata() for x in list(samples_dict.keys())[1:]], batch_categories=list(samples_dict.keys()))\n",
    "granulosa_combined.obs_names = [x.split(\"-\")[0] + \"-\" + x.split(\"-\")[1] for x in granulosa_combined.obs_names]\n",
    "granulosa_combined"
   ]
  },
  {
   "cell_type": "code",
   "execution_count": null,
   "id": "5599cc81",
   "metadata": {},
   "outputs": [],
   "source": [
    "granulosa_combined.obs[\"granulosa_celltypes\"].cat.categories"
   ]
  },
  {
   "cell_type": "code",
   "execution_count": null,
   "id": "20718868",
   "metadata": {},
   "outputs": [],
   "source": [
    "granulosa_combined.obs[\"granulosa_celltypes\"] = granulosa_combined.obs[\"granulosa_celltypes\"].astype(\"category\")\n",
    "granulosa_combined.obs[\"granulosa_celltypes\"].cat.reorder_categories(\n",
    "    new_categories = ['GC_Mural_Outer-(Antral)', 'GC_Mural_Inner-(Antral)', 'GC_Mural-(Small Antral)',\n",
    "                      'GC_Mural_Outer-(Atretic)', 'GC_Mural_Inner-(Atretic)', \n",
    "                      'GC_Cumulus', 'GC_Lytic', 'GC_Mitotic-(Antral)',\n",
    "                       'GC_Mural-(Preantral)', 'Others', \"Mixed\"], inplace = True)"
   ]
  },
  {
   "cell_type": "code",
   "execution_count": null,
   "id": "01c30b2b",
   "metadata": {},
   "outputs": [],
   "source": [
    "# granulosa_combined.obs[\"granulosa_celltypes\"] = granulosa_combined.obs[\"granulosa_celltypes\"].astype(\"category\")\n",
    "# granulosa_combined.obs[\"granulosa_celltypes\"].cat.rename_categories({'GC_Mitotic-(Antral)':'GC_Mitotic-(Transitioning)'}, inplace = True)"
   ]
  },
  {
   "cell_type": "code",
   "execution_count": null,
   "id": "f7699875",
   "metadata": {},
   "outputs": [],
   "source": [
    "granulosa_combined.obs[\"granulosa_celltypes_reduced\"] = granulosa_combined.obs[\"granulosa_celltypes\"]\n",
    "celltypes = {'GC_Mural-(Preantral)': 'GC_Mural-(Preantral)',\n",
    "             'GC_Mural_Outer-(Antral)': \"GC_Mural-(Antral)\",\n",
    "             'GC_Mural_Inner-(Antral)': \"GC_Mural-(Antral)\",\n",
    "            'GC_Mural-(Small Antral)': \"GC_Mural-(Antral)\",\n",
    "             'GC_Mural_Outer-(Atretic)': \"GC_Mural-(Atretic)\",\n",
    "            'GC_Mural_Inner-(Atretic)': \"GC_Mural-(Atretic)\",\n",
    "            'GC_Cumulus':'GC_Cumulus-(Mixed)',\n",
    "            'GC_Lytic': 'GC_Lytic-(Lytic)',\n",
    "            'GC_Mitotic-(Antral)': 'GC_Mitotic-(Antral)',\n",
    "            'Others': \"Others\",\n",
    "            \"Mixed\": \"Mixed\"}\n",
    "granulosa_combined.obs[\"granulosa_celltypes_reduced\"] = granulosa_combined.obs[\"granulosa_celltypes_reduced\"].map(celltypes).astype(\"category\")"
   ]
  },
  {
   "cell_type": "code",
   "execution_count": null,
   "id": "b65c622f",
   "metadata": {},
   "outputs": [],
   "source": [
    "granulosa_combined.obs[\"granulosa_celltypes_reduced\"] = granulosa_combined.obs[\"granulosa_celltypes_reduced\"].astype(\"category\")\n",
    "granulosa_combined.obs[\"granulosa_celltypes_reduced\"].cat.reorder_categories(\n",
    "    new_categories = ['GC_Mural-(Preantral)',  'GC_Mural-(Antral)', 'GC_Mural-(Atretic)',\n",
    "                    'GC_Cumulus-(Mixed)', 'GC_Mitotic-(Antral)', 'GC_Lytic-(Lytic)', \"Mixed\", \"Others\"], inplace = True)"
   ]
  },
  {
   "cell_type": "code",
   "execution_count": null,
   "id": "276b66b7",
   "metadata": {},
   "outputs": [],
   "source": [
    "granulosa_combined.write_h5ad(\"./../../pyobjs_github/granulosa_individual_combined_newscaling.h5ad\")"
   ]
  },
  {
   "cell_type": "code",
   "execution_count": null,
   "id": "2460fd3d",
   "metadata": {},
   "outputs": [],
   "source": [
    "granulosa_combined = sc.read_h5ad(\"./../../pyobjs/granulosa_individual_combined_newscaling.h5ad\")"
   ]
  },
  {
   "cell_type": "code",
   "execution_count": null,
   "id": "8b4513c2",
   "metadata": {},
   "outputs": [],
   "source": [
    "cat_custom = [ 'GC_Mural-(Antral)', 'GC_Mural-(Atretic)', 'GC_Cumulus-(Mixed)', 'GC_Lytic-(Lytic)', 'GC_Mitotic-(Antral)', \n",
    "       'GC_Mural-(Preantral)', 'M_Smooth Muscle', 'M_Steroidogenic Theca', 'M_Fibroblast Stroma', 'M_Dividing Mesenchyme',\n",
    " 'M_Pericyte', 'Oocyte', 'Endothelium', 'Epithelium', 'Immune', \"Mixed\", \"Others\"]"
   ]
  },
  {
   "cell_type": "code",
   "execution_count": null,
   "id": "4aa213da",
   "metadata": {},
   "outputs": [],
   "source": [
    "from pylab import *\n",
    "cmap = cm.get_cmap('tab20')\n",
    "palette_custom = [matplotlib.colors.rgb2hex(cmap(i)) for i in range(cmap.N)]\n",
    "cmap"
   ]
  },
  {
   "cell_type": "code",
   "execution_count": null,
   "id": "a230ac2f",
   "metadata": {
    "scrolled": false
   },
   "outputs": [],
   "source": [
    "sc.settings.set_figure_params(dpi=300, dpi_save= 300, fontsize=6, facecolor='white', frameon=False, figsize=(2.0, 2.0), vector_friendly = True, transparent=True, format=\"pdf\")\n",
    "grouping_var = \"granulosa_celltypes_reduced\"\n",
    "fig, axs = plt.subplots(2,4, figsize = (18,8))\n",
    "for i, sample in enumerate(samples_dict.keys()):\n",
    "    subset = granulosa_combined[granulosa_combined.obs[\"Sample\"] == sample]\n",
    "    subset.obs[grouping_var] = subset.obs[grouping_var].cat.set_categories(cat_custom)\n",
    "    print(subset.obs[grouping_var].cat.categories)\n",
    "    if i == 3:\n",
    "        sc.pl.spatial(subset, color = [grouping_var], palette=palette_custom, wspace= 0.0, hspace = 0.0, spot_size = 30, frameon=False, title=sample, show=False, ax=axs[int(i/4), int(i%4)])\n",
    "        handles, labels = axs[int(i/4), int(i%4)].get_legend_handles_labels()\n",
    "        axs[int(i/5), int(i%5)].get_legend().remove()\n",
    "    else: \n",
    "        sc.pl.spatial(subset, color = [grouping_var], palette=palette_custom, wspace= 0.0, hspace = 0.0, spot_size = 30, frameon=False, title=sample, show=False, legend_loc=\"none\", ax=axs[int(i/4), int(i%4)])  \n",
    "fig.legend(handles, labels, ncol = 1, loc=6, bbox_to_anchor = (1.0,0.5), title = \"Cell types\")\n",
    "plt.subplots_adjust(wspace=-0, hspace=0)"
   ]
  },
  {
   "cell_type": "code",
   "execution_count": null,
   "id": "6b796721",
   "metadata": {},
   "outputs": [],
   "source": []
  },
  {
   "cell_type": "code",
   "execution_count": null,
   "id": "44208767",
   "metadata": {},
   "outputs": [],
   "source": []
  },
  {
   "cell_type": "code",
   "execution_count": null,
   "id": "348d5e5a",
   "metadata": {},
   "outputs": [],
   "source": []
  }
 ],
 "metadata": {
  "kernelspec": {
   "display_name": "Python 3 (ipykernel)",
   "language": "python",
   "name": "python3"
  },
  "language_info": {
   "codemirror_mode": {
    "name": "ipython",
    "version": 3
   },
   "file_extension": ".py",
   "mimetype": "text/x-python",
   "name": "python",
   "nbconvert_exporter": "python",
   "pygments_lexer": "ipython3",
   "version": "3.9.13"
  }
 },
 "nbformat": 4,
 "nbformat_minor": 5
}
