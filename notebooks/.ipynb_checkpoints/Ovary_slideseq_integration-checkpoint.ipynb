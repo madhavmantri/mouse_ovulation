{
 "cells": [
  {
   "cell_type": "code",
   "execution_count": 1,
   "id": "4cb17587",
   "metadata": {},
   "outputs": [],
   "source": [
    "import pandas as pd\n",
    "import matplotlib.pyplot as plt\n",
    "import seaborn as sns\n",
    "import scanpy as sc\n",
    "import numpy as np\n",
    "import scanpy.external as sce"
   ]
  },
  {
   "cell_type": "code",
   "execution_count": 2,
   "id": "2a7e5f81",
   "metadata": {},
   "outputs": [
    {
     "name": "stdout",
     "output_type": "stream",
     "text": [
      "WARNING: If you miss a compact list, please try `print_header`!\n",
      "-----\n",
      "anndata     0.8.0\n",
      "scanpy      NA\n",
      "sinfo       0.3.1\n",
      "-----\n",
      "PIL                 8.1.1\n",
      "anndata             0.8.0\n",
      "anyio               NA\n",
      "argon2              20.1.0\n",
      "asciitree           NA\n",
      "attr                20.3.0\n",
      "babel               2.9.0\n",
      "backcall            0.2.0\n",
      "beta_ufunc          NA\n",
      "binom_ufunc         NA\n",
      "brotli              NA\n",
      "cairo               1.20.0\n",
      "certifi             2021.10.08\n",
      "cffi                1.14.5\n",
      "chardet             4.0.0\n",
      "cloudpickle         1.3.0\n",
      "colorama            0.4.4\n",
      "cycler              0.10.0\n",
      "cython_runtime      NA\n",
      "dask                2021.02.0\n",
      "dateutil            2.8.1\n",
      "decorator           4.4.2\n",
      "fasteners           NA\n",
      "future_fstrings     NA\n",
      "google              NA\n",
      "h5py                3.9.0\n",
      "idna                2.10\n",
      "igraph              0.8.3\n",
      "ipykernel           5.5.0\n",
      "ipython_genutils    0.2.0\n",
      "ipywidgets          7.6.3\n",
      "jedi                0.18.0\n",
      "jinja2              2.11.3\n",
      "joblib              1.0.1\n",
      "json5               NA\n",
      "jsonschema          3.2.0\n",
      "jupyter_server      1.7.0\n",
      "jupyterlab_server   2.5.1\n",
      "kiwisolver          1.3.1\n",
      "leidenalg           0.8.3\n",
      "llvmlite            0.35.0\n",
      "louvain             0.7.0\n",
      "markupsafe          1.1.1\n",
      "matplotlib          3.3.4\n",
      "mpl_toolkits        NA\n",
      "msgpack             1.0.4\n",
      "natsort             7.1.1\n",
      "nbclassic           NA\n",
      "nbformat            5.1.2\n",
      "nbinom_ufunc        NA\n",
      "numba               0.52.0\n",
      "numcodecs           0.7.3\n",
      "numexpr             2.7.2\n",
      "numpy               1.19.5\n",
      "packaging           20.9\n",
      "pandas              1.3.5\n",
      "parso               0.8.1\n",
      "pexpect             4.8.0\n",
      "pickleshare         0.7.5\n",
      "pkg_resources       NA\n",
      "prometheus_client   NA\n",
      "prompt_toolkit      3.0.16\n",
      "psutil              5.8.0\n",
      "ptyprocess          0.7.0\n",
      "pvectorc            NA\n",
      "pygments            2.8.0\n",
      "pyparsing           2.4.7\n",
      "pyrsistent          NA\n",
      "pytoml              NA\n",
      "pytz                2021.1\n",
      "requests            2.25.1\n",
      "scanpy              NA\n",
      "scipy               1.7.3\n",
      "seaborn             0.11.1\n",
      "send2trash          NA\n",
      "setuptools_scm      NA\n",
      "simplejson          3.17.6\n",
      "sinfo               0.3.1\n",
      "six                 1.15.0\n",
      "sklearn             0.22\n",
      "sksparse            0.4.4\n",
      "sniffio             1.2.0\n",
      "socks               1.7.1\n",
      "sparse              0.12.0\n",
      "sphinxcontrib       NA\n",
      "statsmodels         0.12.2\n",
      "storemagic          NA\n",
      "tables              3.6.1\n",
      "terminado           0.9.2\n",
      "texttable           1.6.3\n",
      "tlz                 0.11.1\n",
      "toolz               0.11.1\n",
      "tornado             6.1\n",
      "traitlets           5.0.5\n",
      "typing_extensions   NA\n",
      "urllib3             1.26.3\n",
      "wcwidth             0.2.5\n",
      "websocket           0.59.0\n",
      "yaml                5.4.1\n",
      "zarr                2.6.1\n",
      "zmq                 22.0.3\n",
      "zope                NA\n",
      "-----\n",
      "IPython             7.20.0\n",
      "jupyter_client      6.1.11\n",
      "jupyter_core        4.7.1\n",
      "jupyterlab          3.0.15\n",
      "notebook            6.2.0\n",
      "-----\n",
      "Python 3.8.5 (default, Sep  4 2020, 07:30:14) [GCC 7.3.0]\n",
      "Linux-5.14.0-70.13.1.el9_0.x86_64-x86_64-with-glibc2.10\n",
      "80 logical CPU cores, x86_64\n",
      "-----\n",
      "Session information updated at 2023-08-28 14:20\n",
      "\n"
     ]
    }
   ],
   "source": [
    "sc.settings.verbosity = 3  \n",
    "# verbosity: errors (0), warnings (1), info (2), hints (3)\n",
    "sc.logging.print_versions()\n",
    "sc.settings.set_figure_params(dpi=80, facecolor='white', frameon=True, figsize=(5, 5))"
   ]
  },
  {
   "cell_type": "code",
   "execution_count": 3,
   "id": "18efa711",
   "metadata": {},
   "outputs": [],
   "source": [
    "# samples_dict = {\"Immature\": \"A0021_043\", \"0hr\": \"A0008_041\", \"1hr\": \"A0021_044\", \"4hr\": \"A0008_045\", \"4hr_replicate\": \"A0021_042\", \"6hr\": \"A0021_045\", \"8hr\": \"A0008_044\", \"8hr_replicate\": \"A0021_038\", \"11hr\": \"A0008_046\", \"12hr\": \"A0021_046\"}\n",
    "samples_dict = {\"Immature\": \"A0021_043\", \"0hr\": \"A0008_041\", \"1hr\": \"A0021_044\", \"4hr\": \"A0021_042\", \"6hr\": \"A0021_045\", \"8hr\": \"A0008_044\", \"11hr\": \"A0008_046\", \"12hr\": \"A0021_046\"}"
   ]
  },
  {
   "cell_type": "code",
   "execution_count": 4,
   "id": "6e5e7c67",
   "metadata": {},
   "outputs": [
    {
     "name": "stdout",
     "output_type": "stream",
     "text": [
      "['Mcm4', 'Exo1', 'Slbp', 'Gmnn', 'Cdc45', 'Msh2', 'Mcm6', 'Rrm2', 'Pold3', 'Blm', 'Ubr7', 'Mcm5', 'Clspn', 'Hells', 'Nasp', 'Rpa2', 'Rad51ap1', 'Tyms', 'Rrm1', 'Rfc2', 'Prim1', 'Brip1', 'Usp1', 'Ung', 'Pola1', 'Mcm2', 'Fen1', 'Tipin', 'Pcna', 'Cdca7', 'Uhrf1', 'Casp8ap2', 'Cdc6', 'Dscc1', 'Wdr76', 'E2f8', 'Dtl', 'Ccne2', 'Atad2', 'Gins2', 'Chaf1b', 'Pcna-ps2']\n",
      "['Nuf2', 'Psrc1', 'Ncapd2', 'Ccnb2', 'Smc4', 'Lbr', 'Tacc3', 'Cenpa', 'Kif23', 'Cdca2', 'Anp32e', 'G2e3', 'Cdca3', 'Anln', 'Cenpe', 'Gas2l3', 'Tubb4b', 'Cenpf', 'Dlgap5', 'Hjurp', 'Cks1brt', 'Gtse1', 'Bub1', 'Birc5', 'Ube2c', 'Rangap1', 'Hmmr', 'Ect2', 'Tpx2', 'Ckap5', 'Cbx5', 'Nek2', 'Ttk', 'Cdca8', 'Nusap1', 'Ctcf', 'Cdc20', 'Cks2', 'Mki67', 'Tmpo', 'Ckap2l', 'Aurkb', 'Kif2c', 'Cdk1', 'Kif20b', 'Top2a', 'Aurka', 'Ckap2', 'Hmgb2', 'Cdc25c', 'Ndc80', 'Kif11']\n"
     ]
    }
   ],
   "source": [
    "s_genes = list(pd.read_csv(\"./../../../../MouseInfection/s.genes.txt\")[\"x\"])\n",
    "g2m_genes = list(pd.read_csv(\"./../../../../MouseInfection/g2m.genes.txt\")[\"x\"])\n",
    "print(s_genes)\n",
    "print(g2m_genes)"
   ]
  },
  {
   "cell_type": "code",
   "execution_count": 11,
   "id": "c6b7b1df",
   "metadata": {},
   "outputs": [
    {
     "ename": "AnnDataReadError",
     "evalue": "Above error raised while reading key '/layers' of type <class 'h5py._hl.group.Group'> from /.",
     "output_type": "error",
     "traceback": [
      "\u001b[0;31m---------------------------------------------------------------------------\u001b[0m",
      "\u001b[0;31mKeyError\u001b[0m                                  Traceback (most recent call last)",
      "\u001b[0;32m~/miniconda3/envs/python385/lib/python3.8/site-packages/anndata/_io/utils.py\u001b[0m in \u001b[0;36mfunc_wrapper\u001b[0;34m(elem, *args, **kwargs)\u001b[0m\n\u001b[1;32m    155\u001b[0m         \u001b[0;32mtry\u001b[0m\u001b[0;34m:\u001b[0m\u001b[0;34m\u001b[0m\u001b[0;34m\u001b[0m\u001b[0m\n\u001b[0;32m--> 156\u001b[0;31m             \u001b[0;32mreturn\u001b[0m \u001b[0mfunc\u001b[0m\u001b[0;34m(\u001b[0m\u001b[0melem\u001b[0m\u001b[0;34m,\u001b[0m \u001b[0;34m*\u001b[0m\u001b[0margs\u001b[0m\u001b[0;34m,\u001b[0m \u001b[0;34m**\u001b[0m\u001b[0mkwargs\u001b[0m\u001b[0;34m)\u001b[0m\u001b[0;34m\u001b[0m\u001b[0;34m\u001b[0m\u001b[0m\n\u001b[0m\u001b[1;32m    157\u001b[0m         \u001b[0;32mexcept\u001b[0m \u001b[0mException\u001b[0m \u001b[0;32mas\u001b[0m \u001b[0me\u001b[0m\u001b[0;34m:\u001b[0m\u001b[0;34m\u001b[0m\u001b[0;34m\u001b[0m\u001b[0m\n",
      "\u001b[0;32m~/miniconda3/envs/python385/lib/python3.8/site-packages/anndata/_io/h5ad.py\u001b[0m in \u001b[0;36mread_group\u001b[0;34m(group)\u001b[0m\n\u001b[1;32m    531\u001b[0m     \u001b[0;32mif\u001b[0m \u001b[0mencoding_type\u001b[0m\u001b[0;34m:\u001b[0m\u001b[0;34m\u001b[0m\u001b[0;34m\u001b[0m\u001b[0m\n\u001b[0;32m--> 532\u001b[0;31m         EncodingVersions[encoding_type].check(\n\u001b[0m\u001b[1;32m    533\u001b[0m             \u001b[0mgroup\u001b[0m\u001b[0;34m.\u001b[0m\u001b[0mname\u001b[0m\u001b[0;34m,\u001b[0m \u001b[0mgroup\u001b[0m\u001b[0;34m.\u001b[0m\u001b[0mattrs\u001b[0m\u001b[0;34m[\u001b[0m\u001b[0;34m\"encoding-version\"\u001b[0m\u001b[0;34m]\u001b[0m\u001b[0;34m\u001b[0m\u001b[0;34m\u001b[0m\u001b[0m\n",
      "\u001b[0;32m~/miniconda3/envs/python385/lib/python3.8/enum.py\u001b[0m in \u001b[0;36m__getitem__\u001b[0;34m(cls, name)\u001b[0m\n\u001b[1;32m    348\u001b[0m     \u001b[0;32mdef\u001b[0m \u001b[0m__getitem__\u001b[0m\u001b[0;34m(\u001b[0m\u001b[0mcls\u001b[0m\u001b[0;34m,\u001b[0m \u001b[0mname\u001b[0m\u001b[0;34m)\u001b[0m\u001b[0;34m:\u001b[0m\u001b[0;34m\u001b[0m\u001b[0;34m\u001b[0m\u001b[0m\n\u001b[0;32m--> 349\u001b[0;31m         \u001b[0;32mreturn\u001b[0m \u001b[0mcls\u001b[0m\u001b[0;34m.\u001b[0m\u001b[0m_member_map_\u001b[0m\u001b[0;34m[\u001b[0m\u001b[0mname\u001b[0m\u001b[0;34m]\u001b[0m\u001b[0;34m\u001b[0m\u001b[0;34m\u001b[0m\u001b[0m\n\u001b[0m\u001b[1;32m    350\u001b[0m \u001b[0;34m\u001b[0m\u001b[0m\n",
      "\u001b[0;31mKeyError\u001b[0m: 'dict'",
      "\nDuring handling of the above exception, another exception occurred:\n",
      "\u001b[0;31mAnnDataReadError\u001b[0m                          Traceback (most recent call last)",
      "\u001b[0;32m<ipython-input-11-6e26c1d3fe5b>\u001b[0m in \u001b[0;36m<module>\u001b[0;34m\u001b[0m\n\u001b[1;32m      1\u001b[0m \u001b[0madata_dict\u001b[0m \u001b[0;34m=\u001b[0m \u001b[0mdict\u001b[0m\u001b[0;34m(\u001b[0m\u001b[0;34m)\u001b[0m\u001b[0;34m\u001b[0m\u001b[0;34m\u001b[0m\u001b[0m\n\u001b[1;32m      2\u001b[0m \u001b[0;32mfor\u001b[0m \u001b[0msample\u001b[0m \u001b[0;32min\u001b[0m \u001b[0msamples_dict\u001b[0m\u001b[0;34m.\u001b[0m\u001b[0mkeys\u001b[0m\u001b[0;34m(\u001b[0m\u001b[0;34m)\u001b[0m\u001b[0;34m:\u001b[0m\u001b[0;34m\u001b[0m\u001b[0;34m\u001b[0m\u001b[0m\n\u001b[0;32m----> 3\u001b[0;31m         \u001b[0madata_dict\u001b[0m\u001b[0;34m[\u001b[0m\u001b[0msample\u001b[0m\u001b[0;34m]\u001b[0m \u001b[0;34m=\u001b[0m \u001b[0msc\u001b[0m\u001b[0;34m.\u001b[0m\u001b[0mread_h5ad\u001b[0m\u001b[0;34m(\u001b[0m\u001b[0;34m\"./../../pyobjs_github//adata_\"\u001b[0m\u001b[0;34m+\u001b[0m \u001b[0msample\u001b[0m \u001b[0;34m+\u001b[0m \u001b[0;34m\"_with_image_processed_undertissue_filtered_reprocessed_refiltered_processed.h5ad\"\u001b[0m\u001b[0;34m)\u001b[0m\u001b[0;34m\u001b[0m\u001b[0;34m\u001b[0m\u001b[0m\n\u001b[0m\u001b[1;32m      4\u001b[0m \u001b[0madata_dict\u001b[0m\u001b[0;34m\u001b[0m\u001b[0;34m\u001b[0m\u001b[0m\n",
      "\u001b[0;32m~/miniconda3/envs/python385/lib/python3.8/site-packages/anndata/_io/h5ad.py\u001b[0m in \u001b[0;36mread_h5ad\u001b[0;34m(filename, backed, as_sparse, as_sparse_fmt, chunk_size)\u001b[0m\n\u001b[1;32m    424\u001b[0m                 \u001b[0md\u001b[0m\u001b[0;34m[\u001b[0m\u001b[0mk\u001b[0m\u001b[0;34m]\u001b[0m \u001b[0;34m=\u001b[0m \u001b[0mread_dataframe\u001b[0m\u001b[0;34m(\u001b[0m\u001b[0mf\u001b[0m\u001b[0;34m[\u001b[0m\u001b[0mk\u001b[0m\u001b[0;34m]\u001b[0m\u001b[0;34m)\u001b[0m\u001b[0;34m\u001b[0m\u001b[0;34m\u001b[0m\u001b[0m\n\u001b[1;32m    425\u001b[0m             \u001b[0;32melse\u001b[0m\u001b[0;34m:\u001b[0m  \u001b[0;31m# Base case\u001b[0m\u001b[0;34m\u001b[0m\u001b[0;34m\u001b[0m\u001b[0m\n\u001b[0;32m--> 426\u001b[0;31m                 \u001b[0md\u001b[0m\u001b[0;34m[\u001b[0m\u001b[0mk\u001b[0m\u001b[0;34m]\u001b[0m \u001b[0;34m=\u001b[0m \u001b[0mread_attribute\u001b[0m\u001b[0;34m(\u001b[0m\u001b[0mf\u001b[0m\u001b[0;34m[\u001b[0m\u001b[0mk\u001b[0m\u001b[0;34m]\u001b[0m\u001b[0;34m)\u001b[0m\u001b[0;34m\u001b[0m\u001b[0;34m\u001b[0m\u001b[0m\n\u001b[0m\u001b[1;32m    427\u001b[0m \u001b[0;34m\u001b[0m\u001b[0m\n\u001b[1;32m    428\u001b[0m         \u001b[0md\u001b[0m\u001b[0;34m[\u001b[0m\u001b[0;34m\"raw\"\u001b[0m\u001b[0;34m]\u001b[0m \u001b[0;34m=\u001b[0m \u001b[0m_read_raw\u001b[0m\u001b[0;34m(\u001b[0m\u001b[0mf\u001b[0m\u001b[0;34m,\u001b[0m \u001b[0mas_sparse\u001b[0m\u001b[0;34m,\u001b[0m \u001b[0mrdasp\u001b[0m\u001b[0;34m)\u001b[0m\u001b[0;34m\u001b[0m\u001b[0;34m\u001b[0m\u001b[0m\n",
      "\u001b[0;32m~/miniconda3/envs/python385/lib/python3.8/functools.py\u001b[0m in \u001b[0;36mwrapper\u001b[0;34m(*args, **kw)\u001b[0m\n\u001b[1;32m    873\u001b[0m                             '1 positional argument')\n\u001b[1;32m    874\u001b[0m \u001b[0;34m\u001b[0m\u001b[0m\n\u001b[0;32m--> 875\u001b[0;31m         \u001b[0;32mreturn\u001b[0m \u001b[0mdispatch\u001b[0m\u001b[0;34m(\u001b[0m\u001b[0margs\u001b[0m\u001b[0;34m[\u001b[0m\u001b[0;36m0\u001b[0m\u001b[0;34m]\u001b[0m\u001b[0;34m.\u001b[0m\u001b[0m__class__\u001b[0m\u001b[0;34m)\u001b[0m\u001b[0;34m(\u001b[0m\u001b[0;34m*\u001b[0m\u001b[0margs\u001b[0m\u001b[0;34m,\u001b[0m \u001b[0;34m**\u001b[0m\u001b[0mkw\u001b[0m\u001b[0;34m)\u001b[0m\u001b[0;34m\u001b[0m\u001b[0;34m\u001b[0m\u001b[0m\n\u001b[0m\u001b[1;32m    876\u001b[0m \u001b[0;34m\u001b[0m\u001b[0m\n\u001b[1;32m    877\u001b[0m     \u001b[0mfuncname\u001b[0m \u001b[0;34m=\u001b[0m \u001b[0mgetattr\u001b[0m\u001b[0;34m(\u001b[0m\u001b[0mfunc\u001b[0m\u001b[0;34m,\u001b[0m \u001b[0;34m'__name__'\u001b[0m\u001b[0;34m,\u001b[0m \u001b[0;34m'singledispatch function'\u001b[0m\u001b[0;34m)\u001b[0m\u001b[0;34m\u001b[0m\u001b[0;34m\u001b[0m\u001b[0m\n",
      "\u001b[0;32m~/miniconda3/envs/python385/lib/python3.8/site-packages/anndata/_io/utils.py\u001b[0m in \u001b[0;36mfunc_wrapper\u001b[0;34m(elem, *args, **kwargs)\u001b[0m\n\u001b[1;32m    160\u001b[0m             \u001b[0;32melse\u001b[0m\u001b[0;34m:\u001b[0m\u001b[0;34m\u001b[0m\u001b[0;34m\u001b[0m\u001b[0m\n\u001b[1;32m    161\u001b[0m                 \u001b[0mparent\u001b[0m \u001b[0;34m=\u001b[0m \u001b[0m_get_parent\u001b[0m\u001b[0;34m(\u001b[0m\u001b[0melem\u001b[0m\u001b[0;34m)\u001b[0m\u001b[0;34m\u001b[0m\u001b[0;34m\u001b[0m\u001b[0m\n\u001b[0;32m--> 162\u001b[0;31m                 raise AnnDataReadError(\n\u001b[0m\u001b[1;32m    163\u001b[0m                     \u001b[0;34mf\"Above error raised while reading key {elem.name!r} of \"\u001b[0m\u001b[0;34m\u001b[0m\u001b[0;34m\u001b[0m\u001b[0m\n\u001b[1;32m    164\u001b[0m                     \u001b[0;34mf\"type {type(elem)} from {parent}.\"\u001b[0m\u001b[0;34m\u001b[0m\u001b[0;34m\u001b[0m\u001b[0m\n",
      "\u001b[0;31mAnnDataReadError\u001b[0m: Above error raised while reading key '/layers' of type <class 'h5py._hl.group.Group'> from /."
     ]
    }
   ],
   "source": [
    "adata_dict = dict()\n",
    "for sample in samples_dict.keys():\n",
    "        adata_dict[sample] = sc.read_h5ad(\"./../../pyobjs_github//adata_\"+ sample + \"_with_image_processed_undertissue_filtered_reprocessed_refiltered_processed.h5ad\")\n",
    "adata_dict"
   ]
  },
  {
   "cell_type": "code",
   "execution_count": null,
   "id": "d968d970",
   "metadata": {},
   "outputs": [],
   "source": [
    "adata_ovary_combined = adata_dict[list(samples_dict.keys())[0]].raw.to_adata().concatenate([adata_dict[x].raw.to_adata() for x in list(samples_dict.keys())[1:]], batch_key= \"Sample\", batch_categories=list(samples_dict.keys()))\n",
    "adata_ovary_combined\n",
    "del adata_dict"
   ]
  },
  {
   "cell_type": "code",
   "execution_count": null,
   "id": "4f3fe67b",
   "metadata": {},
   "outputs": [],
   "source": [
    "adata_ovary_combined.obs.rename(columns={\"leiden_1.0\": \"individual_leiden_1.0\", \n",
    "                                     \"leiden_1.2\": \"individual_leiden_1.2\",\n",
    "                                     \"leiden_1.5\": \"individual_leiden_1.5\"}, inplace=True)\n",
    "adata_ovary_combined"
   ]
  },
  {
   "cell_type": "code",
   "execution_count": null,
   "id": "bcb351a0",
   "metadata": {
    "scrolled": false
   },
   "outputs": [],
   "source": [
    "sc.pp.highly_variable_genes(adata_ovary_combined, max_mean=3, batch_key = \"Sample\")\n",
    "sc.pl.highly_variable_genes(adata_ovary_combined)\n",
    "sc.tl.score_genes_cell_cycle(adata_ovary_combined, s_genes=s_genes, g2m_genes=g2m_genes)\n",
    "adata_ovary_combined.raw = adata_ovary_combined\n",
    "adata_ovary_combined = adata_ovary_combined[:, adata_ovary_combined.var.highly_variable]\n",
    "print(adata_ovary_combined.shape)\n",
    "sc.pp.scale(adata_ovary_combined, max_value=10)\n",
    "sc.pp.pca(adata_ovary_combined, random_state= 0)\n",
    "sc.pl.pca_variance_ratio(adata_ovary_combined, n_pcs = 50)\n",
    "sc.pp.neighbors(adata_ovary_combined, n_pcs=20)\n",
    "sc.tl.umap(adata_ovary_combined)"
   ]
  },
  {
   "cell_type": "code",
   "execution_count": null,
   "id": "4e6fb8c2",
   "metadata": {},
   "outputs": [],
   "source": [
    "sc.settings.set_figure_params(dpi=200, dpi_save= 300, fontsize=8, facecolor='white', frameon=True, figsize=(2.0, 2.0), vector_friendly = False, transparent=True, format=\"pdf\")\n",
    "sc.pl.umap(adata_ovary_combined, color = [\"Sample\", \"individual_leiden_1.2\"], wspace= 0.5)"
   ]
  },
  {
   "cell_type": "code",
   "execution_count": null,
   "id": "c9e387f1",
   "metadata": {
    "scrolled": true
   },
   "outputs": [],
   "source": [
    "sc.settings.set_figure_params(dpi=200, dpi_save= 300, fontsize=8, facecolor='white', frameon=True, figsize=(2.0, 2.0), vector_friendly = False, transparent=True, format=\"pdf\")\n",
    "sc.pl.umap(adata_ovary_combined, color = [\"Sample\", \"individual_leiden_1.2\"], wspace= 0.5)"
   ]
  },
  {
   "cell_type": "code",
   "execution_count": null,
   "id": "b55e1054",
   "metadata": {},
   "outputs": [],
   "source": [
    "sce.pp.harmony_integrate(adata_ovary_combined, 'Sample')"
   ]
  },
  {
   "cell_type": "code",
   "execution_count": null,
   "id": "92475b9a",
   "metadata": {},
   "outputs": [],
   "source": [
    "sc.pp.neighbors(adata_ovary_combined, use_rep = \"X_pca_harmony\", n_pcs=50, key_added=\"harmony_nn\")\n",
    "sc.tl.umap(adata_ovary_combined, neighbors_key=\"harmony_nn\")"
   ]
  },
  {
   "cell_type": "code",
   "execution_count": null,
   "id": "e9799ab6",
   "metadata": {},
   "outputs": [],
   "source": [
    "sc.tl.leiden(adata_ovary_combined, key_added=\"leiden_1.0\", neighbors_key=\"harmony_nn\", resolution = 1.0)\n",
    "sc.tl.leiden(adata_ovary_combined, key_added=\"leiden_1.5\", neighbors_key=\"harmony_nn\", resolution = 1.5)"
   ]
  },
  {
   "cell_type": "code",
   "execution_count": null,
   "id": "01005e83",
   "metadata": {},
   "outputs": [],
   "source": [
    "sc.settings.set_figure_params(dpi=200, dpi_save= 300, fontsize=8, facecolor='white', frameon=True, figsize=(2.0, 2.0), vector_friendly = False, transparent=True, format=\"pdf\")\n",
    "sc.pl.umap(adata_ovary_combined, color = ['n_genes_by_counts', 'total_counts'], wspace= 0.4, palette=\"tab20\")"
   ]
  },
  {
   "cell_type": "code",
   "execution_count": null,
   "id": "6cc4eeb0",
   "metadata": {},
   "outputs": [],
   "source": [
    "sc.settings.set_figure_params(dpi=200, dpi_save= 300, fontsize=8, facecolor='white', frameon=True, figsize=(2.0, 2.0), vector_friendly = False, transparent=True, format=\"pdf\")\n",
    "sc.pl.umap(adata_ovary_combined, color = [\"Sample\", \"phase\", \"leiden_1.5\"], wspace= 0.6, palette=\"tab20\")"
   ]
  },
  {
   "cell_type": "code",
   "execution_count": null,
   "id": "31d2c928",
   "metadata": {},
   "outputs": [],
   "source": [
    "sc.settings.set_figure_params(dpi=300, dpi_save= 300, fontsize=10, facecolor='white', frameon=False, figsize=(2.0, 2.0), vector_friendly = False, transparent=True, format=\"pdf\")\n",
    "grouping_var = \"individual_leiden_1.5\"\n",
    "fig, axs = plt.subplots(2,4, figsize = (20,8))\n",
    "for i, sample in enumerate(samples_dict.keys()):\n",
    "    subset = adata_ovary_combined[adata_ovary_combined.obs[\"Sample\"] == sample]\n",
    "#     subset.obs[grouping_var] = subset.obs[grouping_var].cat.set_categories(adata_ovary_combined.obs[grouping_var].cat.categories)\n",
    "#     print(subset.obs[grouping_var].cat.categories)\n",
    "    if i == 1:\n",
    "        sc.pl.spatial(subset, color = [grouping_var], wspace= 0.0, hspace = 0.0, spot_size = 30, frameon=False, title=sample, show=False, ax=axs[int(i/4), int(i%4)], cmap=\"tab20\")\n",
    "        handles, labels = axs[int(i/5), int(i%5)].get_legend_handles_labels()\n",
    "        axs[int(i/5), int(i%5)].get_legend().remove()\n",
    "    else: \n",
    "        sc.pl.spatial(subset, color = [grouping_var], wspace= 0.0, hspace = 0.0, spot_size = 30, frameon=False, title=sample, show=False, legend_loc=\"none\", ax=axs[int(i/4), int(i%4)], cmap=\"tab20\")  \n",
    "fig.legend(handles, labels, loc='right', bbox_to_anchor = (0.98,0.5))\n",
    "plt.subplots_adjust(wspace=0, hspace=0)"
   ]
  },
  {
   "cell_type": "code",
   "execution_count": null,
   "id": "aaf6b158",
   "metadata": {},
   "outputs": [],
   "source": [
    "adata_ovary_combined.write_h5ad(\"./../../pyobjs_github/adata_ovary_combined_processed0.h5ad\")"
   ]
  },
  {
   "cell_type": "code",
   "execution_count": null,
   "id": "8ac8d75d",
   "metadata": {},
   "outputs": [],
   "source": [
    "adata_ovary_combined = sc.read_h5ad(\"./../../pyobjs_github/adata_ovary_combined_processed0.h5ad\")\n",
    "adata_ovary_combined"
   ]
  },
  {
   "cell_type": "code",
   "execution_count": null,
   "id": "b3c3b250",
   "metadata": {},
   "outputs": [],
   "source": [
    "adata_ovary_combined.obs[\"Sample\"].value_counts()"
   ]
  },
  {
   "cell_type": "code",
   "execution_count": null,
   "id": "79bbb7fa",
   "metadata": {},
   "outputs": [],
   "source": [
    "fig, axs = plt.subplots(2,4, figsize = (20,8))\n",
    "for i, sample in enumerate(samples_dict.keys()):\n",
    "    sc.settings.set_figure_params(dpi=200, dpi_save= 300, fontsize=10, facecolor='white', frameon=False, figsize=(2.0, 2.0), vector_friendly = False, transparent=True, format=\"pdf\")\n",
    "    sc.pl.spatial(adata_ovary_combined[adata_ovary_combined.obs[\"Sample\"] == sample], color = [\"Kctd14\"], wspace= 0.5, spot_size = 30, frameon=False, title=sample, show=False, ax=axs[int(i/4), int(i%4)], cmap=sns.blend_palette([\"lightgrey\", sns.xkcd_rgb[\"crimson\"]], as_cmap=True), vmax='p99.2')  "
   ]
  },
  {
   "cell_type": "code",
   "execution_count": null,
   "id": "8373aea2",
   "metadata": {},
   "outputs": [],
   "source": [
    "validation_markers = {\"Increase from immature to 0h and then decrease\" : [\"Cyp19a1\", \"Hsd3b1\"],\n",
    "                      \"Continuously increase from immature to 12h\" : [\"Vegfa\", \"Cebpb\"],\n",
    "                      \"Increase from immature to 4h and then decrease\" : [\"Lhcgr\", \"Star\"], \n",
    "                      \"Gene peaks at 12h\" : [\"Edn2\"],\n",
    "                      \"Gene peaks at 4hr\" : [\"Ptgs2\"],\n",
    "                      \"Gene peaks at 8hr\" : [\"Kdr\"]\n",
    "                     }"
   ]
  },
  {
   "cell_type": "code",
   "execution_count": null,
   "id": "e9dfc549",
   "metadata": {},
   "outputs": [],
   "source": [
    "sc.settings.set_figure_params(dpi=200, dpi_save= 300, fontsize=10, facecolor='white', frameon=False, figsize=(5.0,5.0), vector_friendly = False, transparent=True, format=\"pdf\")\n",
    "sc.pl.dotplot(adata_ovary_combined, validation_markers, groupby=\"Sample\", cmap=\"Blues\", var_group_rotation=90)"
   ]
  },
  {
   "cell_type": "code",
   "execution_count": null,
   "id": "1946a3bc",
   "metadata": {
    "scrolled": true
   },
   "outputs": [],
   "source": [
    "sc.tl.rank_genes_groups(adata_ovary_combined, 'leiden_1.5', key_added='rank_genes_groups_leiden_1.5')"
   ]
  },
  {
   "cell_type": "code",
   "execution_count": null,
   "id": "12067446",
   "metadata": {},
   "outputs": [],
   "source": [
    "result = adata_ovary_combined.uns['rank_genes_groups_leiden_1.5']\n",
    "groups = result['names'].dtype.names\n",
    "dge_results = pd.DataFrame(\n",
    "    {group + '_' + key: result[key][group]\n",
    "    for group in groups for key in ['names']}).head(100)\n",
    "print(dge_results.head(30))"
   ]
  },
  {
   "cell_type": "code",
   "execution_count": null,
   "id": "0e2572fb",
   "metadata": {},
   "outputs": [],
   "source": [
    "sc.settings.set_figure_params(dpi=200, dpi_save= 300, fontsize=20, facecolor='white', frameon=True, figsize=(2.0, 2.0), vector_friendly = False, transparent=True, format=\"pdf\")\n",
    "sc.pl.rank_genes_groups_dotplot(adata_ovary_combined, key=\"rank_genes_groups_leiden_1.5\", n_genes=5, values_to_plot='logfoldchanges', min_logfoldchange=1, vmax=7, vmin=-7, cmap='bwr')"
   ]
  },
  {
   "cell_type": "code",
   "execution_count": null,
   "id": "1b12bb2e",
   "metadata": {},
   "outputs": [],
   "source": [
    "adata_ovary_combined"
   ]
  },
  {
   "cell_type": "code",
   "execution_count": null,
   "id": "e1a7b752",
   "metadata": {},
   "outputs": [],
   "source": [
    "adata_ovary_combined.write_h5ad(\"./../../pyobjs_github/adata_ovary_combined_processed0.h5ad\")"
   ]
  },
  {
   "cell_type": "code",
   "execution_count": 6,
   "id": "46deb8d3",
   "metadata": {},
   "outputs": [
    {
     "ename": "AnnDataReadError",
     "evalue": "Above error raised while reading key '/layers' of type <class 'h5py._hl.group.Group'> from /.",
     "output_type": "error",
     "traceback": [
      "\u001b[0;31m---------------------------------------------------------------------------\u001b[0m",
      "\u001b[0;31mKeyError\u001b[0m                                  Traceback (most recent call last)",
      "\u001b[0;32m~/miniconda3/envs/python385/lib/python3.8/site-packages/anndata/_io/utils.py\u001b[0m in \u001b[0;36mfunc_wrapper\u001b[0;34m(elem, *args, **kwargs)\u001b[0m\n\u001b[1;32m    155\u001b[0m         \u001b[0;32mtry\u001b[0m\u001b[0;34m:\u001b[0m\u001b[0;34m\u001b[0m\u001b[0;34m\u001b[0m\u001b[0m\n\u001b[0;32m--> 156\u001b[0;31m             \u001b[0;32mreturn\u001b[0m \u001b[0mfunc\u001b[0m\u001b[0;34m(\u001b[0m\u001b[0melem\u001b[0m\u001b[0;34m,\u001b[0m \u001b[0;34m*\u001b[0m\u001b[0margs\u001b[0m\u001b[0;34m,\u001b[0m \u001b[0;34m**\u001b[0m\u001b[0mkwargs\u001b[0m\u001b[0;34m)\u001b[0m\u001b[0;34m\u001b[0m\u001b[0;34m\u001b[0m\u001b[0m\n\u001b[0m\u001b[1;32m    157\u001b[0m         \u001b[0;32mexcept\u001b[0m \u001b[0mException\u001b[0m \u001b[0;32mas\u001b[0m \u001b[0me\u001b[0m\u001b[0;34m:\u001b[0m\u001b[0;34m\u001b[0m\u001b[0;34m\u001b[0m\u001b[0m\n",
      "\u001b[0;32m~/miniconda3/envs/python385/lib/python3.8/site-packages/anndata/_io/h5ad.py\u001b[0m in \u001b[0;36mread_group\u001b[0;34m(group)\u001b[0m\n\u001b[1;32m    531\u001b[0m     \u001b[0;32mif\u001b[0m \u001b[0mencoding_type\u001b[0m\u001b[0;34m:\u001b[0m\u001b[0;34m\u001b[0m\u001b[0;34m\u001b[0m\u001b[0m\n\u001b[0;32m--> 532\u001b[0;31m         EncodingVersions[encoding_type].check(\n\u001b[0m\u001b[1;32m    533\u001b[0m             \u001b[0mgroup\u001b[0m\u001b[0;34m.\u001b[0m\u001b[0mname\u001b[0m\u001b[0;34m,\u001b[0m \u001b[0mgroup\u001b[0m\u001b[0;34m.\u001b[0m\u001b[0mattrs\u001b[0m\u001b[0;34m[\u001b[0m\u001b[0;34m\"encoding-version\"\u001b[0m\u001b[0;34m]\u001b[0m\u001b[0;34m\u001b[0m\u001b[0;34m\u001b[0m\u001b[0m\n",
      "\u001b[0;32m~/miniconda3/envs/python385/lib/python3.8/enum.py\u001b[0m in \u001b[0;36m__getitem__\u001b[0;34m(cls, name)\u001b[0m\n\u001b[1;32m    348\u001b[0m     \u001b[0;32mdef\u001b[0m \u001b[0m__getitem__\u001b[0m\u001b[0;34m(\u001b[0m\u001b[0mcls\u001b[0m\u001b[0;34m,\u001b[0m \u001b[0mname\u001b[0m\u001b[0;34m)\u001b[0m\u001b[0;34m:\u001b[0m\u001b[0;34m\u001b[0m\u001b[0;34m\u001b[0m\u001b[0m\n\u001b[0;32m--> 349\u001b[0;31m         \u001b[0;32mreturn\u001b[0m \u001b[0mcls\u001b[0m\u001b[0;34m.\u001b[0m\u001b[0m_member_map_\u001b[0m\u001b[0;34m[\u001b[0m\u001b[0mname\u001b[0m\u001b[0;34m]\u001b[0m\u001b[0;34m\u001b[0m\u001b[0;34m\u001b[0m\u001b[0m\n\u001b[0m\u001b[1;32m    350\u001b[0m \u001b[0;34m\u001b[0m\u001b[0m\n",
      "\u001b[0;31mKeyError\u001b[0m: 'dict'",
      "\nDuring handling of the above exception, another exception occurred:\n",
      "\u001b[0;31mAnnDataReadError\u001b[0m                          Traceback (most recent call last)",
      "\u001b[0;32m<ipython-input-6-42607d320520>\u001b[0m in \u001b[0;36m<module>\u001b[0;34m\u001b[0m\n\u001b[0;32m----> 1\u001b[0;31m \u001b[0madata_ovary_combined\u001b[0m \u001b[0;34m=\u001b[0m \u001b[0msc\u001b[0m\u001b[0;34m.\u001b[0m\u001b[0mread_h5ad\u001b[0m\u001b[0;34m(\u001b[0m\u001b[0;34m\"./../../pyobjs_github/adata_ovary_combined_processed0.h5ad\"\u001b[0m\u001b[0;34m)\u001b[0m\u001b[0;34m\u001b[0m\u001b[0;34m\u001b[0m\u001b[0m\n\u001b[0m\u001b[1;32m      2\u001b[0m \u001b[0madata_ovary_combined\u001b[0m\u001b[0;34m\u001b[0m\u001b[0;34m\u001b[0m\u001b[0m\n",
      "\u001b[0;32m~/miniconda3/envs/python385/lib/python3.8/site-packages/anndata/_io/h5ad.py\u001b[0m in \u001b[0;36mread_h5ad\u001b[0;34m(filename, backed, as_sparse, as_sparse_fmt, chunk_size)\u001b[0m\n\u001b[1;32m    424\u001b[0m                 \u001b[0md\u001b[0m\u001b[0;34m[\u001b[0m\u001b[0mk\u001b[0m\u001b[0;34m]\u001b[0m \u001b[0;34m=\u001b[0m \u001b[0mread_dataframe\u001b[0m\u001b[0;34m(\u001b[0m\u001b[0mf\u001b[0m\u001b[0;34m[\u001b[0m\u001b[0mk\u001b[0m\u001b[0;34m]\u001b[0m\u001b[0;34m)\u001b[0m\u001b[0;34m\u001b[0m\u001b[0;34m\u001b[0m\u001b[0m\n\u001b[1;32m    425\u001b[0m             \u001b[0;32melse\u001b[0m\u001b[0;34m:\u001b[0m  \u001b[0;31m# Base case\u001b[0m\u001b[0;34m\u001b[0m\u001b[0;34m\u001b[0m\u001b[0m\n\u001b[0;32m--> 426\u001b[0;31m                 \u001b[0md\u001b[0m\u001b[0;34m[\u001b[0m\u001b[0mk\u001b[0m\u001b[0;34m]\u001b[0m \u001b[0;34m=\u001b[0m \u001b[0mread_attribute\u001b[0m\u001b[0;34m(\u001b[0m\u001b[0mf\u001b[0m\u001b[0;34m[\u001b[0m\u001b[0mk\u001b[0m\u001b[0;34m]\u001b[0m\u001b[0;34m)\u001b[0m\u001b[0;34m\u001b[0m\u001b[0;34m\u001b[0m\u001b[0m\n\u001b[0m\u001b[1;32m    427\u001b[0m \u001b[0;34m\u001b[0m\u001b[0m\n\u001b[1;32m    428\u001b[0m         \u001b[0md\u001b[0m\u001b[0;34m[\u001b[0m\u001b[0;34m\"raw\"\u001b[0m\u001b[0;34m]\u001b[0m \u001b[0;34m=\u001b[0m \u001b[0m_read_raw\u001b[0m\u001b[0;34m(\u001b[0m\u001b[0mf\u001b[0m\u001b[0;34m,\u001b[0m \u001b[0mas_sparse\u001b[0m\u001b[0;34m,\u001b[0m \u001b[0mrdasp\u001b[0m\u001b[0;34m)\u001b[0m\u001b[0;34m\u001b[0m\u001b[0;34m\u001b[0m\u001b[0m\n",
      "\u001b[0;32m~/miniconda3/envs/python385/lib/python3.8/functools.py\u001b[0m in \u001b[0;36mwrapper\u001b[0;34m(*args, **kw)\u001b[0m\n\u001b[1;32m    873\u001b[0m                             '1 positional argument')\n\u001b[1;32m    874\u001b[0m \u001b[0;34m\u001b[0m\u001b[0m\n\u001b[0;32m--> 875\u001b[0;31m         \u001b[0;32mreturn\u001b[0m \u001b[0mdispatch\u001b[0m\u001b[0;34m(\u001b[0m\u001b[0margs\u001b[0m\u001b[0;34m[\u001b[0m\u001b[0;36m0\u001b[0m\u001b[0;34m]\u001b[0m\u001b[0;34m.\u001b[0m\u001b[0m__class__\u001b[0m\u001b[0;34m)\u001b[0m\u001b[0;34m(\u001b[0m\u001b[0;34m*\u001b[0m\u001b[0margs\u001b[0m\u001b[0;34m,\u001b[0m \u001b[0;34m**\u001b[0m\u001b[0mkw\u001b[0m\u001b[0;34m)\u001b[0m\u001b[0;34m\u001b[0m\u001b[0;34m\u001b[0m\u001b[0m\n\u001b[0m\u001b[1;32m    876\u001b[0m \u001b[0;34m\u001b[0m\u001b[0m\n\u001b[1;32m    877\u001b[0m     \u001b[0mfuncname\u001b[0m \u001b[0;34m=\u001b[0m \u001b[0mgetattr\u001b[0m\u001b[0;34m(\u001b[0m\u001b[0mfunc\u001b[0m\u001b[0;34m,\u001b[0m \u001b[0;34m'__name__'\u001b[0m\u001b[0;34m,\u001b[0m \u001b[0;34m'singledispatch function'\u001b[0m\u001b[0;34m)\u001b[0m\u001b[0;34m\u001b[0m\u001b[0;34m\u001b[0m\u001b[0m\n",
      "\u001b[0;32m~/miniconda3/envs/python385/lib/python3.8/site-packages/anndata/_io/utils.py\u001b[0m in \u001b[0;36mfunc_wrapper\u001b[0;34m(elem, *args, **kwargs)\u001b[0m\n\u001b[1;32m    160\u001b[0m             \u001b[0;32melse\u001b[0m\u001b[0;34m:\u001b[0m\u001b[0;34m\u001b[0m\u001b[0;34m\u001b[0m\u001b[0m\n\u001b[1;32m    161\u001b[0m                 \u001b[0mparent\u001b[0m \u001b[0;34m=\u001b[0m \u001b[0m_get_parent\u001b[0m\u001b[0;34m(\u001b[0m\u001b[0melem\u001b[0m\u001b[0;34m)\u001b[0m\u001b[0;34m\u001b[0m\u001b[0;34m\u001b[0m\u001b[0m\n\u001b[0;32m--> 162\u001b[0;31m                 raise AnnDataReadError(\n\u001b[0m\u001b[1;32m    163\u001b[0m                     \u001b[0;34mf\"Above error raised while reading key {elem.name!r} of \"\u001b[0m\u001b[0;34m\u001b[0m\u001b[0;34m\u001b[0m\u001b[0m\n\u001b[1;32m    164\u001b[0m                     \u001b[0;34mf\"type {type(elem)} from {parent}.\"\u001b[0m\u001b[0;34m\u001b[0m\u001b[0;34m\u001b[0m\u001b[0m\n",
      "\u001b[0;31mAnnDataReadError\u001b[0m: Above error raised while reading key '/layers' of type <class 'h5py._hl.group.Group'> from /."
     ]
    }
   ],
   "source": [
    "adata_ovary_combined = sc.read_h5ad(\"./../../pyobjs_github/adata_ovary_combined_processed0.h5ad\")\n",
    "adata_ovary_combined"
   ]
  },
  {
   "cell_type": "code",
   "execution_count": null,
   "id": "991affc5",
   "metadata": {},
   "outputs": [],
   "source": [
    "Level1_obsm = dict(sc.read_h5ad(\"./../pyobjs/ovary_cell2location_ss_combined_level1.h5ad\")[adata_ovary_combined.obs_names,:].obsm)\n",
    "Level1_uns = dict(sc.read_h5ad(\"./../pyobjs/ovary_cell2location_ss_combined_level1.h5ad\")[adata_ovary_combined.obs_names,:].uns)\n",
    "\n",
    "Level1_obsm['q05_cell_proportions'] = Level1_obsm['q05_cell_abundance_w_sf'].div(Level1_obsm['q05_cell_abundance_w_sf'].sum(axis=1), axis=0)\n",
    "# add 5% quantile, representing confident cell abundance, 'at least this amount is present',\n",
    "# to adata.obs with nice names for plotting\n",
    "adata_ovary_combined.obs[\"Level1_total_abundance\"] = Level1_obsm['q05_cell_abundance_w_sf'].sum(axis = 1)\n",
    "ct_list = list(Level1_uns['mod']['factor_names'])\n",
    "ct_list = [\"Level1_\" + x for x in ct_list]\n",
    "adata_ovary_combined.obs[ct_list] = Level1_obsm['q05_cell_proportions']\n",
    "# # for ct in ct_list:\n",
    "# #     data = adata_vis.obs[ct].values\n",
    "# #     adata_ovary_combined.obs[ct] = np.clip(data,0, np.quantile(data, 0.90))\n",
    "adata_ovary_combined.obs[\"Level1_max_pred\"] = adata_ovary_combined.obs[ct_list].max(axis=1)\n",
    "adata_ovary_combined.obs[\"Level1_max_pred_celltype\"] = adata_ovary_combined.obs[ct_list].idxmax(axis=1)\n",
    "adata_ovary_combined.obs[\"Level1_max_pred_celltype_group\"]  = [x.split(\"_\")[1] for x in adata_ovary_combined.obs[\"Level1_max_pred_celltype\"]]"
   ]
  },
  {
   "cell_type": "code",
   "execution_count": null,
   "id": "ce39caa1",
   "metadata": {},
   "outputs": [],
   "source": [
    "Level0_obsm = dict(sc.read_h5ad(\"./../pyobjs/ovary_cell2location_ss_combined_level0.h5ad\")[adata_ovary_combined.obs_names,:].obsm)\n",
    "Level0_uns = dict(sc.read_h5ad(\"./../pyobjs/ovary_cell2location_ss_combined_level0.h5ad\")[adata_ovary_combined.obs_names,:].uns)\n",
    "\n",
    "Level0_obsm['q05_cell_proportions'] = Level0_obsm['q05_cell_abundance_w_sf'].div(Level0_obsm['q05_cell_abundance_w_sf'].sum(axis=1), axis=0)\n",
    "# add 5% quantile, representing confident cell abundance, 'at least this amount is present',\n",
    "# to adata.obs with nice names for plotting\n",
    "adata_ovary_combined.obs[\"Level0_total_abundance\"] = Level0_obsm['q05_cell_abundance_w_sf'].sum(axis = 1)\n",
    "ct_list = list(Level0_uns['mod']['factor_names'])\n",
    "ct_list = [\"Level0_\" + x for x in ct_list]\n",
    "adata_ovary_combined.obs[ct_list] = Level0_obsm['q05_cell_proportions']\n",
    "# # for ct in ct_list:\n",
    "# #     data = adata_vis.obs[ct].values\n",
    "# #     adata_ovary_combined.obs[ct] = np.clip(data,0, np.quantile(data, 0.90))\n",
    "adata_ovary_combined.obs[\"Level0_max_pred\"] = adata_ovary_combined.obs[ct_list].max(axis=1)\n",
    "adata_ovary_combined.obs[\"Level0_max_pred_celltype\"] = adata_ovary_combined.obs[ct_list].idxmax(axis=1)\n"
   ]
  },
  {
   "cell_type": "code",
   "execution_count": null,
   "id": "5454d2d7",
   "metadata": {
    "scrolled": false
   },
   "outputs": [],
   "source": [
    "adata_ovary_combined.write_h5ad(\"./../../pyobjs_github/adata_ovary_combined_processed_deconvoluted_newscaling.h5ad\")"
   ]
  },
  {
   "cell_type": "code",
   "execution_count": 3,
   "id": "451c0ef9",
   "metadata": {},
   "outputs": [
    {
     "data": {
      "text/plain": [
       "AnnData object with n_obs × n_vars = 121536 × 2537\n",
       "    obs: 'barcode', 'x', 'y', 'n_genes_by_counts', 'total_counts', 'total_counts_mt', 'pct_counts_mt', 'n_counts', 'individual_leiden_1.0', 'individual_leiden_1.2', 'individual_leiden_1.5', 'Sample', 'S_score', 'G2M_score', 'phase', 'leiden_1.0', 'leiden_1.5', 'Level1_total_abundance', 'Level1_EN_Blood', 'Level1_EN_Lymph', 'Level1_Epithelium', 'Level1_GC_Antral', 'Level1_GC_Atretic', 'Level1_GC_CL_Active', 'Level1_GC_CL_Lytic', 'Level1_GC_Estrous', 'Level1_GC_Mitotic', 'Level1_GC_Mural', 'Level1_GC_Preantral', 'Level1_I_B_Cell', 'Level1_I_Dendritic_Cell', 'Level1_I_Granulocyte', 'Level1_I_Macrophage', 'Level1_I_T_Cell', 'Level1_M_Cortical Stroma', 'Level1_M_Dividing Mesenchyme', 'Level1_M_Immature Theca', 'Level1_M_Medullary Stroma', 'Level1_M_Pericyte', 'Level1_M_Smooth Muscle', 'Level1_M_Steroidogenic Theca', 'Level1_Oocyte', 'Level1_max_pred', 'Level1_max_pred_celltype', 'Level1_max_pred_celltype_group', 'Level0_total_abundance', 'Level0_Endothelium', 'Level0_Epithelium', 'Level0_Granulosa', 'Level0_Immune', 'Level0_Mesenchyme', 'Level0_Oocyte', 'Level0_max_pred', 'Level0_max_pred_celltype', 'Coarse celltype'\n",
       "    var: 'gene_ids', 'feature_types', 'mt', 'n_cells_by_counts-0hr', 'mean_counts-0hr', 'pct_dropout_by_counts-0hr', 'total_counts-0hr', 'highly_variable-0hr', 'means-0hr', 'dispersions-0hr', 'dispersions_norm-0hr', 'n_cells_by_counts-11hr', 'mean_counts-11hr', 'pct_dropout_by_counts-11hr', 'total_counts-11hr', 'highly_variable-11hr', 'means-11hr', 'dispersions-11hr', 'dispersions_norm-11hr', 'n_cells_by_counts-12hr', 'mean_counts-12hr', 'pct_dropout_by_counts-12hr', 'total_counts-12hr', 'highly_variable-12hr', 'means-12hr', 'dispersions-12hr', 'dispersions_norm-12hr', 'n_cells_by_counts-1hr', 'mean_counts-1hr', 'pct_dropout_by_counts-1hr', 'total_counts-1hr', 'highly_variable-1hr', 'means-1hr', 'dispersions-1hr', 'dispersions_norm-1hr', 'n_cells_by_counts-4hr', 'mean_counts-4hr', 'pct_dropout_by_counts-4hr', 'total_counts-4hr', 'highly_variable-4hr', 'means-4hr', 'dispersions-4hr', 'dispersions_norm-4hr', 'n_cells_by_counts-4hr_replicate', 'mean_counts-4hr_replicate', 'pct_dropout_by_counts-4hr_replicate', 'total_counts-4hr_replicate', 'highly_variable-4hr_replicate', 'means-4hr_replicate', 'dispersions-4hr_replicate', 'dispersions_norm-4hr_replicate', 'n_cells_by_counts-6hr', 'mean_counts-6hr', 'pct_dropout_by_counts-6hr', 'total_counts-6hr', 'highly_variable-6hr', 'means-6hr', 'dispersions-6hr', 'dispersions_norm-6hr', 'n_cells_by_counts-8hr', 'mean_counts-8hr', 'pct_dropout_by_counts-8hr', 'total_counts-8hr', 'highly_variable-8hr', 'means-8hr', 'dispersions-8hr', 'dispersions_norm-8hr', 'n_cells_by_counts-8hr_replicate', 'mean_counts-8hr_replicate', 'pct_dropout_by_counts-8hr_replicate', 'total_counts-8hr_replicate', 'highly_variable-8hr_replicate', 'means-8hr_replicate', 'dispersions-8hr_replicate', 'dispersions_norm-8hr_replicate', 'n_cells_by_counts-Immature', 'mean_counts-Immature', 'pct_dropout_by_counts-Immature', 'total_counts-Immature', 'highly_variable-Immature', 'means-Immature', 'dispersions-Immature', 'dispersions_norm-Immature', 'highly_variable', 'means', 'dispersions', 'dispersions_norm', 'highly_variable_nbatches', 'highly_variable_intersection', 'mean', 'std'\n",
       "    uns: 'Sample_colors', 'dendrogram_leiden_1.5', 'harmony_nn', 'hvg', 'individual_leiden_1.2_colors', 'leiden', 'leiden_1.5_colors', 'neighbors', 'pca', 'phase_colors', 'rank_genes_groups_leiden_1.5', 'umap'\n",
       "    obsm: 'X_pca', 'X_pca_harmony', 'X_umap', 'spatial'\n",
       "    varm: 'PCs'\n",
       "    obsp: 'connectivities', 'distances', 'harmony_nn_connectivities', 'harmony_nn_distances'"
      ]
     },
     "execution_count": 3,
     "metadata": {},
     "output_type": "execute_result"
    }
   ],
   "source": [
    "adata_ovary_combined = sc.read_h5ad(\"./../../pyobjs_github/adata_ovary_combined_processed_deconvoluted_newscaling.h5ad\")\n",
    "adata_ovary_combined"
   ]
  },
  {
   "cell_type": "code",
   "execution_count": null,
   "id": "352ca38c",
   "metadata": {},
   "outputs": [],
   "source": [
    "adata_ovary_combined.obs[\"Coarse celltype\"] = [x.split(\"Level0_\")[1] for x in adata_ovary_combined.obs[\"Level0_max_pred_celltype\"]]\n",
    "adata_ovary_combined.obs[\"Coarse celltype\"] = adata_ovary_combined.obs[\"Coarse celltype\"].astype(str)\n",
    "adata_ovary_combined.obs[\"Coarse celltype\"] = adata_ovary_combined.obs[\"Coarse celltype\"].astype(\"category\")\n",
    "adata_ovary_combined.obs[\"Coarse celltype\"] = adata_ovary_combined.obs[\"Coarse celltype\"].cat.set_categories(['Endothelium', 'Epithelium', 'Granulosa', 'Mesenchyme', 'Immune' ,'Oocyte'])"
   ]
  },
  {
   "cell_type": "code",
   "execution_count": null,
   "id": "26ea1056",
   "metadata": {},
   "outputs": [],
   "source": [
    "adata_ovary_combined.obs[\"Coarse celltype\"].value_counts()"
   ]
  },
  {
   "cell_type": "code",
   "execution_count": null,
   "id": "e27218cc",
   "metadata": {
    "scrolled": false
   },
   "outputs": [],
   "source": [
    "sc.settings.set_figure_params(dpi=200, dpi_save= 300, fontsize=6, facecolor='white', frameon=False, figsize=(2.0, 2.0), vector_friendly = False, transparent=True, format=\"pdf\")\n",
    "grouping_var = \"Coarse celltype\"\n",
    "fig, axs = plt.subplots(2,4, figsize = (20,8))\n",
    "for i, sample in enumerate(samples_dict.keys()):\n",
    "    subset = adata_ovary_combined[adata_ovary_combined.obs[\"Sample\"] == sample]\n",
    "    subset.obs[grouping_var] = subset.obs[grouping_var].cat.set_categories(adata_ovary_combined.obs[grouping_var].cat.categories)\n",
    "    print(subset.obs[grouping_var].cat.categories)\n",
    "    if i == 0:\n",
    "        sc.pl.spatial(subset, color = [grouping_var], wspace= 0.5, spot_size = 30, frameon=False, title=sample, show=False, ax=axs[int(i/4), int(i%4)])\n",
    "        handles, labels = axs[int(i/4), int(i%4)].get_legend_handles_labels()\n",
    "        axs[int(i/4), int(i%4)].get_legend().remove()\n",
    "    else: \n",
    "        sc.pl.spatial(subset, color = [grouping_var], wspace= 0.5, spot_size = 30, frameon=False, title=sample, show=False, legend_loc=\"none\", ax=axs[int(i/4), int(i%4)])  \n",
    "fig.legend(handles, labels, ncol = 6, loc='lower center', bbox_to_anchor = (0.50,0.1), title = \"Coarse celltype\")\n",
    "plt.subplots_adjust(wspace=0, hspace=0)"
   ]
  },
  {
   "cell_type": "code",
   "execution_count": null,
   "id": "99015c1e",
   "metadata": {},
   "outputs": [],
   "source": [
    "adata_ovary_combined.obs[\"Level1_max_pred_celltype_group\"]  = [x.split(\"_\")[1] for x in adata_ovary_combined.obs[\"Level1_max_pred_celltype\"]]\n",
    "adata_ovary_combined.obs[\"Fine celltype\"] = [x.split(\"Level1_\")[1] for x in adata_ovary_combined.obs[\"Level1_max_pred_celltype\"]]\n",
    "adata_ovary_combined.obs[\"Fine celltype\"] = adata_ovary_combined.obs[\"Fine celltype\"].astype(str)\n",
    "adata_ovary_combined.obs[\"Fine celltype\"][adata_ovary_combined.obs[\"Level1_max_pred_celltype_group\"] == \"I\"] = \"Immune\"\n",
    "adata_ovary_combined.obs[\"Fine celltype\"] = adata_ovary_combined.obs[\"Fine celltype\"].astype(\"category\")"
   ]
  },
  {
   "cell_type": "code",
   "execution_count": null,
   "id": "3807c093",
   "metadata": {},
   "outputs": [],
   "source": [
    "adata_ovary_combined.obs[\"Fine celltype\"] = adata_ovary_combined.obs[\"Fine celltype\"].cat.set_categories(['GC_Preantral', 'GC_Antral','GC_Estrous', 'GC_CL_Lytic', 'GC_Atretic',\n",
    "       'GC_CL_Active', 'GC_Mitotic', 'GC_Mural', \n",
    "         'M_Immature Theca', 'M_Steroidogenic Theca', \n",
    "        'M_Dividing Mesenchyme', 'M_Smooth Muscle', 'M_Pericyte',\n",
    "           'M_Medullary Stroma', 'M_Cortical Stroma',\n",
    "        \"Immune\", 'EN_Blood', 'EN_Lymph', 'Epithelium', 'Oocyte'])"
   ]
  },
  {
   "cell_type": "code",
   "execution_count": null,
   "id": "12946d67",
   "metadata": {
    "scrolled": true
   },
   "outputs": [],
   "source": [
    "sc.settings.set_figure_params(dpi=300, dpi_save= 300, fontsize=10, facecolor='white', frameon=False, figsize=(2.0, 2.0), vector_friendly = False, transparent=True, format=\"pdf\")\n",
    "grouping_var = \"Fine celltype\"\n",
    "fig, axs = plt.subplots(2,4, figsize = (20,8))\n",
    "for i, sample in enumerate(samples_dict.keys()):\n",
    "    subset = adata_ovary_combined[adata_ovary_combined.obs[\"Sample\"] == sample]\n",
    "#     subset.obs[grouping_var] = subset.obs[grouping_var].cat.set_categories(adata_ovary_combined.obs[grouping_var].cat.categories)\n",
    "#     print(subset.obs[grouping_var].cat.categories)\n",
    "    if i == 1:\n",
    "        sc.pl.spatial(subset, color = [grouping_var], wspace= 0.0, hspace = 0.0, spot_size = 30, frameon=False, title=sample, show=False, ax=axs[int(i/4), int(i%4)])\n",
    "        handles, labels = axs[int(i/4), int(i%4)].get_legend_handles_labels()\n",
    "        axs[int(i/4), int(i%4)].get_legend().remove()\n",
    "    else: \n",
    "        sc.pl.spatial(subset, color = [grouping_var], wspace= 0.0, hspace = 0.0, spot_size = 30, frameon=False, title=sample, show=False, legend_loc=\"none\", ax=axs[int(i/4), int(i%4)])  \n",
    "fig.legend(handles, labels, ncol = 6, loc='lower center', bbox_to_anchor = (0.55, 0), title = \"Fine celltype\")\n",
    "plt.subplots_adjust(wspace=0, hspace=0)"
   ]
  },
  {
   "cell_type": "code",
   "execution_count": 4,
   "id": "cae8655f",
   "metadata": {},
   "outputs": [
    {
     "data": {
      "text/plain": [
       "AnnData object with n_obs × n_vars = 121536 × 2537\n",
       "    obs: 'barcode', 'x', 'y', 'n_genes_by_counts', 'total_counts', 'total_counts_mt', 'pct_counts_mt', 'n_counts', 'individual_leiden_1.0', 'individual_leiden_1.2', 'individual_leiden_1.5', 'Sample', 'S_score', 'G2M_score', 'phase', 'leiden_1.0', 'leiden_1.5', 'Level1_total_abundance', 'Level1_EN_Blood', 'Level1_EN_Lymph', 'Level1_Epithelium', 'Level1_GC_Antral', 'Level1_GC_Atretic', 'Level1_GC_CL_Active', 'Level1_GC_CL_Lytic', 'Level1_GC_Estrous', 'Level1_GC_Mitotic', 'Level1_GC_Mural', 'Level1_GC_Preantral', 'Level1_I_B_Cell', 'Level1_I_Dendritic_Cell', 'Level1_I_Granulocyte', 'Level1_I_Macrophage', 'Level1_I_T_Cell', 'Level1_M_Cortical Stroma', 'Level1_M_Dividing Mesenchyme', 'Level1_M_Immature Theca', 'Level1_M_Medullary Stroma', 'Level1_M_Pericyte', 'Level1_M_Smooth Muscle', 'Level1_M_Steroidogenic Theca', 'Level1_Oocyte', 'Level1_max_pred', 'Level1_max_pred_celltype', 'Level1_max_pred_celltype_group', 'Level0_total_abundance', 'Level0_Endothelium', 'Level0_Epithelium', 'Level0_Granulosa', 'Level0_Immune', 'Level0_Mesenchyme', 'Level0_Oocyte', 'Level0_max_pred', 'Level0_max_pred_celltype', 'Coarse celltype'\n",
       "    var: 'gene_ids', 'feature_types', 'mt', 'n_cells_by_counts-0hr', 'mean_counts-0hr', 'pct_dropout_by_counts-0hr', 'total_counts-0hr', 'highly_variable-0hr', 'means-0hr', 'dispersions-0hr', 'dispersions_norm-0hr', 'n_cells_by_counts-11hr', 'mean_counts-11hr', 'pct_dropout_by_counts-11hr', 'total_counts-11hr', 'highly_variable-11hr', 'means-11hr', 'dispersions-11hr', 'dispersions_norm-11hr', 'n_cells_by_counts-12hr', 'mean_counts-12hr', 'pct_dropout_by_counts-12hr', 'total_counts-12hr', 'highly_variable-12hr', 'means-12hr', 'dispersions-12hr', 'dispersions_norm-12hr', 'n_cells_by_counts-1hr', 'mean_counts-1hr', 'pct_dropout_by_counts-1hr', 'total_counts-1hr', 'highly_variable-1hr', 'means-1hr', 'dispersions-1hr', 'dispersions_norm-1hr', 'n_cells_by_counts-4hr', 'mean_counts-4hr', 'pct_dropout_by_counts-4hr', 'total_counts-4hr', 'highly_variable-4hr', 'means-4hr', 'dispersions-4hr', 'dispersions_norm-4hr', 'n_cells_by_counts-4hr_replicate', 'mean_counts-4hr_replicate', 'pct_dropout_by_counts-4hr_replicate', 'total_counts-4hr_replicate', 'highly_variable-4hr_replicate', 'means-4hr_replicate', 'dispersions-4hr_replicate', 'dispersions_norm-4hr_replicate', 'n_cells_by_counts-6hr', 'mean_counts-6hr', 'pct_dropout_by_counts-6hr', 'total_counts-6hr', 'highly_variable-6hr', 'means-6hr', 'dispersions-6hr', 'dispersions_norm-6hr', 'n_cells_by_counts-8hr', 'mean_counts-8hr', 'pct_dropout_by_counts-8hr', 'total_counts-8hr', 'highly_variable-8hr', 'means-8hr', 'dispersions-8hr', 'dispersions_norm-8hr', 'n_cells_by_counts-8hr_replicate', 'mean_counts-8hr_replicate', 'pct_dropout_by_counts-8hr_replicate', 'total_counts-8hr_replicate', 'highly_variable-8hr_replicate', 'means-8hr_replicate', 'dispersions-8hr_replicate', 'dispersions_norm-8hr_replicate', 'n_cells_by_counts-Immature', 'mean_counts-Immature', 'pct_dropout_by_counts-Immature', 'total_counts-Immature', 'highly_variable-Immature', 'means-Immature', 'dispersions-Immature', 'dispersions_norm-Immature', 'highly_variable', 'means', 'dispersions', 'dispersions_norm', 'highly_variable_nbatches', 'highly_variable_intersection', 'mean', 'std'\n",
       "    uns: 'Sample_colors', 'dendrogram_leiden_1.5', 'harmony_nn', 'hvg', 'individual_leiden_1.2_colors', 'leiden', 'leiden_1.5_colors', 'neighbors', 'pca', 'phase_colors', 'rank_genes_groups_leiden_1.5', 'umap'\n",
       "    obsm: 'X_pca', 'X_pca_harmony', 'X_umap', 'spatial'\n",
       "    varm: 'PCs'\n",
       "    obsp: 'connectivities', 'distances', 'harmony_nn_connectivities', 'harmony_nn_distances'"
      ]
     },
     "execution_count": 4,
     "metadata": {},
     "output_type": "execute_result"
    }
   ],
   "source": [
    "adata_ovary_combined = sc.read_h5ad(\"./../../pyobjs_github/adata_ovary_combined_processed_deconvoluted_newscaling.h5ad\")\n",
    "adata_ovary_combined"
   ]
  },
  {
   "cell_type": "code",
   "execution_count": 5,
   "id": "civil-mouth",
   "metadata": {},
   "outputs": [],
   "source": [
    "meta_data = adata_ovary_combined.obs"
   ]
  },
  {
   "cell_type": "code",
   "execution_count": null,
   "id": "e320a34d",
   "metadata": {},
   "outputs": [],
   "source": [
    "for sample in samples_dict.keys():\n",
    "        print(adata_ovary_combined[adata_ovary_combined.obs[\"Sample\"] == sample].shape)\n",
    "        adata_ovary_combined[adata_ovary_combined.obs[\"Sample\"] == sample].write_h5ad(\"./../../pyobjs_github/adata_\"+ sample + \"_with_image_processed_undertissue_filtered_reprocessed_refiltered_integrated.h5ad\")          "
   ]
  },
  {
   "cell_type": "code",
   "execution_count": null,
   "id": "b1af48b5",
   "metadata": {},
   "outputs": [],
   "source": [
    "adata_dict[\"4hr\"].obs_names"
   ]
  },
  {
   "cell_type": "code",
   "execution_count": null,
   "id": "e08a5421",
   "metadata": {},
   "outputs": [],
   "source": [
    "adata_dict = dict()\n",
    "for sample in samples_dict.keys():\n",
    "        adata_dict[sample] = sc.read_h5ad(\"./../../pyobjs_github/adata_\"+ sample + \"_with_image_processed_undertissue_filtered_reprocessed_refiltered_integrated.h5ad\")\n",
    "        print(adata_dict[sample].shape)"
   ]
  },
  {
   "cell_type": "code",
   "execution_count": null,
   "id": "7d2cc5aa",
   "metadata": {},
   "outputs": [],
   "source": [
    "adata_ovary_combined = sc.read_h5ad(\"./../../pyobjs_github/adata_ovary_combined_processed_deconvoluted_newscaling.h5ad\")\n",
    "adata_ovary_combined.uns['log1p'] = {'base' : None}\n",
    "adata_ovary_combined"
   ]
  },
  {
   "cell_type": "code",
   "execution_count": null,
   "id": "4f6169a7",
   "metadata": {},
   "outputs": [],
   "source": [
    "sc.tl.rank_genes_groups(adata_ovary_combined, groupby=\"Coarse celltype\", key_added=\"rank_gene_groups_coarse_celltype\", pts=True)"
   ]
  },
  {
   "cell_type": "code",
   "execution_count": null,
   "id": "6d4a89f9",
   "metadata": {},
   "outputs": [],
   "source": [
    "sc.settings.set_figure_params(dpi=80, fontsize=16, facecolor='white', frameon=True, figsize=(8, 5))\n",
    "sc.pl.rank_genes_groups_dotplot(adata_ovary_combined, n_genes=10, key=\"rank_gene_groups_coarse_celltype\", values_to_plot='logfoldchanges', min_logfoldchange=1.0, cmap='bwr', vmin = -3, vmax = 3.0)"
   ]
  },
  {
   "cell_type": "code",
   "execution_count": null,
   "id": "712ca500",
   "metadata": {},
   "outputs": [],
   "source": [
    "result = adata_ovary_combined.uns['rank_gene_groups_Level0_max_pred_celltype']\n",
    "groups = result['names'].dtype.names\n",
    "dge_results = pd.DataFrame(\n",
    "    {group + '_' + key: result[key][group]\n",
    "    for group in groups for key in ['names', \"logfoldchanges\", \"pvals_adj\"]}).head(30)\n",
    "dge_results"
   ]
  },
  {
   "cell_type": "code",
   "execution_count": null,
   "id": "2147faf2",
   "metadata": {},
   "outputs": [],
   "source": []
  }
 ],
 "metadata": {
  "kernelspec": {
   "display_name": "Python 3 (ipykernel)",
   "language": "python",
   "name": "python3"
  },
  "language_info": {
   "codemirror_mode": {
    "name": "ipython",
    "version": 3
   },
   "file_extension": ".py",
   "mimetype": "text/x-python",
   "name": "python",
   "nbconvert_exporter": "python",
   "pygments_lexer": "ipython3",
   "version": "3.8.5"
  }
 },
 "nbformat": 4,
 "nbformat_minor": 5
}
