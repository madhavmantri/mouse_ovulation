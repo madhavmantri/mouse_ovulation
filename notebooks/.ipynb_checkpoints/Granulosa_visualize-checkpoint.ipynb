{
 "cells": [
  {
   "cell_type": "code",
   "execution_count": 1,
   "id": "4cb17587",
   "metadata": {},
   "outputs": [],
   "source": [
    "import pandas as pd\n",
    "import matplotlib.pyplot as plt\n",
    "import seaborn as sns\n",
    "import scanpy as sc\n",
    "import numpy as np\n",
    "import scanpy.external as sce"
   ]
  },
  {
   "cell_type": "code",
   "execution_count": 2,
   "id": "18efa711",
   "metadata": {},
   "outputs": [],
   "source": [
    "# samples_dict = {\"Immature\": \"A0021_043\", \"0hr\": \"A0008_041\", \"1hr\": \"A0021_044\", \"4hr\": \"A0008_045\", \"4hr_replicate\": \"A0021_042\", \"6hr\": \"A0021_045\", \"8hr\": \"A0008_044\", \"8hr_replicate\": \"A0021_038\", \"11hr\": \"A0008_046\", \"12hr\": \"A0021_046\"}\n",
    "samples_dict = {\"Immature\": \"A0021_043\", \"0hr\": \"A0008_041\", \"1hr\": \"A0021_044\", \"4hr\": \"A0021_042\", \"6hr\": \"A0021_045\", \"8hr\": \"A0008_044\", \"11hr\": \"A0008_046\", \"12hr\": \"A0021_046\"}"
   ]
  },
  {
   "cell_type": "code",
   "execution_count": 3,
   "id": "6e5e7c67",
   "metadata": {},
   "outputs": [
    {
     "name": "stdout",
     "output_type": "stream",
     "text": [
      "['Mcm4', 'Exo1', 'Slbp', 'Gmnn', 'Cdc45', 'Msh2', 'Mcm6', 'Rrm2', 'Pold3', 'Blm', 'Ubr7', 'Mcm5', 'Clspn', 'Hells', 'Nasp', 'Rpa2', 'Rad51ap1', 'Tyms', 'Rrm1', 'Rfc2', 'Prim1', 'Brip1', 'Usp1', 'Ung', 'Pola1', 'Mcm2', 'Fen1', 'Tipin', 'Pcna', 'Cdca7', 'Uhrf1', 'Casp8ap2', 'Cdc6', 'Dscc1', 'Wdr76', 'E2f8', 'Dtl', 'Ccne2', 'Atad2', 'Gins2', 'Chaf1b', 'Pcna-ps2']\n",
      "['Nuf2', 'Psrc1', 'Ncapd2', 'Ccnb2', 'Smc4', 'Lbr', 'Tacc3', 'Cenpa', 'Kif23', 'Cdca2', 'Anp32e', 'G2e3', 'Cdca3', 'Anln', 'Cenpe', 'Gas2l3', 'Tubb4b', 'Cenpf', 'Dlgap5', 'Hjurp', 'Cks1brt', 'Gtse1', 'Bub1', 'Birc5', 'Ube2c', 'Rangap1', 'Hmmr', 'Ect2', 'Tpx2', 'Ckap5', 'Cbx5', 'Nek2', 'Ttk', 'Cdca8', 'Nusap1', 'Ctcf', 'Cdc20', 'Cks2', 'Mki67', 'Tmpo', 'Ckap2l', 'Aurkb', 'Kif2c', 'Cdk1', 'Kif20b', 'Top2a', 'Aurka', 'Ckap2', 'Hmgb2', 'Cdc25c', 'Ndc80', 'Kif11']\n"
     ]
    }
   ],
   "source": [
    "s_genes = list(pd.read_csv(\"./../../../../MouseInfection/s.genes.txt\")[\"x\"])\n",
    "g2m_genes = list(pd.read_csv(\"./../../../../MouseInfection/g2m.genes.txt\")[\"x\"])\n",
    "print(s_genes)\n",
    "print(g2m_genes)"
   ]
  },
  {
   "cell_type": "code",
   "execution_count": 4,
   "id": "a58f0acf",
   "metadata": {},
   "outputs": [
    {
     "name": "stdout",
     "output_type": "stream",
     "text": [
      "(121536, 2537)\n"
     ]
    }
   ],
   "source": [
    "adata_ovary_combined = sc.read_h5ad(\"./../../pyobjs_github/adata_ovary_combined_processed_deconvoluted_newscaling.h5ad\")\n",
    "print(adata_ovary_combined.shape)"
   ]
  },
  {
   "cell_type": "code",
   "execution_count": 5,
   "id": "c0c54199",
   "metadata": {},
   "outputs": [],
   "source": [
    "adata_ovary_combined.obs[\"Sample\"] = adata_ovary_combined.obs[\"Sample\"].cat.rename_categories({\"Immature\": \"Untreated\", \"0hr\": \"0h\", \"1hr\": \"1h\", \"4hr\": \"4h\", \"6hr\": \"6h\", \"8hr\": \"8h\", \"11hr\": \"11h\", \"12hr\": \"12h\"})\n"
   ]
  },
  {
   "cell_type": "code",
   "execution_count": null,
   "id": "427ba2fc",
   "metadata": {},
   "outputs": [],
   "source": [
    "sc.settings.set_figure_params(dpi=80, fontsize=5, facecolor='white', frameon=False, figsize=(2.0, 2.0), vector_friendly = False, transparent=True, format=\"pdf\")\n",
    "sns.set_style(\"ticks\")\n",
    "fig, ax = plt.subplots(figsize = (2.5,1.3))\n",
    "plt.margins(x=0, y=0)\n",
    "ax.tick_params(axis='both', which='major', pad=0, size = 2)\n",
    "sns.violinplot(adata_ovary_combined.obs, y = \"total_counts\", x = \"Sample\", dodge=True, palette=\"tab10\", ax=ax)\n",
    "plt.rcParams['legend.title_fontsize'] = 9\n",
    "# ax.set_ylim(0,5000)\n",
    "ax.set_yscale(\"log\")\n",
    "ax.set_ylabel(\"UMI counts / bead\", labelpad = 1.0)\n",
    "ax.set_xlabel(\"Sample\", labelpad = 0.5)\n",
    "plt.tight_layout()\n",
    "plt.savefig(\"./figures/sample_total_counts.pdf\")"
   ]
  },
  {
   "cell_type": "code",
   "execution_count": null,
   "id": "54ff1561",
   "metadata": {},
   "outputs": [],
   "source": [
    "sc.settings.set_figure_params(dpi=80, fontsize=5, facecolor='white', frameon=False, figsize=(2.0, 2.0), vector_friendly = False, transparent=True, format=\"pdf\")\n",
    "sns.set_style(\"ticks\")\n",
    "fig, ax = plt.subplots(figsize = (2.5,1.3))\n",
    "plt.margins(x=0, y=0)\n",
    "ax.tick_params(axis='both', which='major', pad=0, size = 2)\n",
    "sns.violinplot(adata_ovary_combined.obs, y = \"n_genes_by_counts\", x = \"Sample\", dodge=True, palette=\"tab10\", ax=ax)\n",
    "plt.rcParams['legend.title_fontsize'] = 9\n",
    "# ax.set_ylim(0,5000)\n",
    "ax.set_yscale(\"log\")\n",
    "ax.set_ylabel(\"Genes detected / bead\", labelpad = 1.0)\n",
    "ax.set_xlabel(\"Sample\", labelpad = 0.5)\n",
    "plt.tight_layout()\n",
    "plt.savefig(\"./figures/sample_n_genes_by_counts.pdf\")"
   ]
  },
  {
   "cell_type": "code",
   "execution_count": null,
   "id": "caee9df3",
   "metadata": {},
   "outputs": [],
   "source": [
    "adata_ovary_combined = sc.read_h5ad(\"./../../pyobjs_github/adata_ovary_combined_processed_deconvoluted_newscaling.h5ad\")\n",
    "print(adata_ovary_combined.shape)"
   ]
  },
  {
   "cell_type": "code",
   "execution_count": 6,
   "id": "e1d0e2a0",
   "metadata": {},
   "outputs": [
    {
     "name": "stdout",
     "output_type": "stream",
     "text": [
      "(63849, 31053)\n"
     ]
    }
   ],
   "source": [
    "granulosa_combined = sc.read_h5ad(\"./../../pyobjs_github/granulosa_individual_combined_newscaling.h5ad\")\n",
    "print(granulosa_combined.shape)"
   ]
  },
  {
   "cell_type": "code",
   "execution_count": 8,
   "id": "7a2b56b9",
   "metadata": {},
   "outputs": [
    {
     "name": "stdout",
     "output_type": "stream",
     "text": [
      "(36838, 504)\n"
     ]
    }
   ],
   "source": [
    "mesenchyme_combined = sc.read_h5ad(\"./../../pyobjs_github/mesenchyme1.h5ad\")\n",
    "print(mesenchyme_combined.shape)"
   ]
  },
  {
   "cell_type": "code",
   "execution_count": 10,
   "id": "2321471a",
   "metadata": {},
   "outputs": [
    {
     "ename": "FileNotFoundError",
     "evalue": "[Errno 2] No such file or directory: './../pyobjs/follicle_mode.csv'",
     "output_type": "error",
     "traceback": [
      "\u001b[0;31m---------------------------------------------------------------------------\u001b[0m",
      "\u001b[0;31mFileNotFoundError\u001b[0m                         Traceback (most recent call last)",
      "\u001b[0;32m<ipython-input-10-6076ea31acbf>\u001b[0m in \u001b[0;36m<module>\u001b[0;34m\u001b[0m\n\u001b[1;32m      1\u001b[0m \u001b[0madata_ovary_combined\u001b[0m\u001b[0;34m.\u001b[0m\u001b[0mobs\u001b[0m\u001b[0;34m[\u001b[0m\u001b[0;34m\"FollicleNumber\"\u001b[0m\u001b[0;34m]\u001b[0m \u001b[0;34m=\u001b[0m \u001b[0msc\u001b[0m\u001b[0;34m.\u001b[0m\u001b[0mread_h5ad\u001b[0m\u001b[0;34m(\u001b[0m\u001b[0;34m\"./../../pyobjs_github/adata_ovary_combined_napari_processed.h5ad\"\u001b[0m\u001b[0;34m)\u001b[0m\u001b[0;34m.\u001b[0m\u001b[0mobs\u001b[0m\u001b[0;34m[\u001b[0m\u001b[0;34m\"FollicleNumber\"\u001b[0m\u001b[0;34m]\u001b[0m\u001b[0;34m\u001b[0m\u001b[0;34m\u001b[0m\u001b[0m\n\u001b[0;32m----> 2\u001b[0;31m \u001b[0mmode_df\u001b[0m \u001b[0;34m=\u001b[0m \u001b[0mpd\u001b[0m\u001b[0;34m.\u001b[0m\u001b[0mread_csv\u001b[0m\u001b[0;34m(\u001b[0m\u001b[0;34m\"./../pyobjs/follicle_mode.csv\"\u001b[0m\u001b[0;34m)\u001b[0m\u001b[0;34m\u001b[0m\u001b[0;34m\u001b[0m\u001b[0m\n\u001b[0m\u001b[1;32m      3\u001b[0m \u001b[0mmode_df\u001b[0m \u001b[0;34m=\u001b[0m \u001b[0mmode_df\u001b[0m\u001b[0;34m.\u001b[0m\u001b[0mdrop\u001b[0m\u001b[0;34m(\u001b[0m\u001b[0mcolumns\u001b[0m\u001b[0;34m=\u001b[0m\u001b[0;34m[\u001b[0m\u001b[0;34m\"Sample\"\u001b[0m\u001b[0;34m]\u001b[0m\u001b[0;34m)\u001b[0m\u001b[0;34m\u001b[0m\u001b[0;34m\u001b[0m\u001b[0m\n\u001b[1;32m      4\u001b[0m \u001b[0madata_ovary_combined\u001b[0m\u001b[0;34m.\u001b[0m\u001b[0mobs\u001b[0m \u001b[0;34m=\u001b[0m \u001b[0madata_ovary_combined\u001b[0m\u001b[0;34m.\u001b[0m\u001b[0mobs\u001b[0m\u001b[0;34m.\u001b[0m\u001b[0mjoin\u001b[0m\u001b[0;34m(\u001b[0m\u001b[0mmode_df\u001b[0m\u001b[0;34m.\u001b[0m\u001b[0mset_index\u001b[0m\u001b[0;34m(\u001b[0m\u001b[0;34m'FollicleNumber'\u001b[0m\u001b[0;34m)\u001b[0m\u001b[0;34m,\u001b[0m \u001b[0mon\u001b[0m\u001b[0;34m=\u001b[0m\u001b[0;34m'FollicleNumber'\u001b[0m\u001b[0;34m)\u001b[0m\u001b[0;34m\u001b[0m\u001b[0;34m\u001b[0m\u001b[0m\n\u001b[1;32m      5\u001b[0m \u001b[0madata_ovary_combined\u001b[0m\u001b[0;34m.\u001b[0m\u001b[0mobs\u001b[0m\u001b[0;34m[\u001b[0m\u001b[0;34m\"Follicle_type\"\u001b[0m\u001b[0;34m]\u001b[0m \u001b[0;34m=\u001b[0m \u001b[0madata_ovary_combined\u001b[0m\u001b[0;34m.\u001b[0m\u001b[0mobs\u001b[0m\u001b[0;34m[\u001b[0m\u001b[0;34m\"Follicle_type\"\u001b[0m\u001b[0;34m]\u001b[0m\u001b[0;34m.\u001b[0m\u001b[0mastype\u001b[0m\u001b[0;34m(\u001b[0m\u001b[0;34m\"category\"\u001b[0m\u001b[0;34m)\u001b[0m\u001b[0;34m\u001b[0m\u001b[0;34m\u001b[0m\u001b[0m\n",
      "\u001b[0;32m~/miniconda3/envs/python385/lib/python3.8/site-packages/pandas/util/_decorators.py\u001b[0m in \u001b[0;36mwrapper\u001b[0;34m(*args, **kwargs)\u001b[0m\n\u001b[1;32m    309\u001b[0m                     \u001b[0mstacklevel\u001b[0m\u001b[0;34m=\u001b[0m\u001b[0mstacklevel\u001b[0m\u001b[0;34m,\u001b[0m\u001b[0;34m\u001b[0m\u001b[0;34m\u001b[0m\u001b[0m\n\u001b[1;32m    310\u001b[0m                 )\n\u001b[0;32m--> 311\u001b[0;31m             \u001b[0;32mreturn\u001b[0m \u001b[0mfunc\u001b[0m\u001b[0;34m(\u001b[0m\u001b[0;34m*\u001b[0m\u001b[0margs\u001b[0m\u001b[0;34m,\u001b[0m \u001b[0;34m**\u001b[0m\u001b[0mkwargs\u001b[0m\u001b[0;34m)\u001b[0m\u001b[0;34m\u001b[0m\u001b[0;34m\u001b[0m\u001b[0m\n\u001b[0m\u001b[1;32m    312\u001b[0m \u001b[0;34m\u001b[0m\u001b[0m\n\u001b[1;32m    313\u001b[0m         \u001b[0;32mreturn\u001b[0m \u001b[0mwrapper\u001b[0m\u001b[0;34m\u001b[0m\u001b[0;34m\u001b[0m\u001b[0m\n",
      "\u001b[0;32m~/miniconda3/envs/python385/lib/python3.8/site-packages/pandas/io/parsers/readers.py\u001b[0m in \u001b[0;36mread_csv\u001b[0;34m(filepath_or_buffer, sep, delimiter, header, names, index_col, usecols, squeeze, prefix, mangle_dupe_cols, dtype, engine, converters, true_values, false_values, skipinitialspace, skiprows, skipfooter, nrows, na_values, keep_default_na, na_filter, verbose, skip_blank_lines, parse_dates, infer_datetime_format, keep_date_col, date_parser, dayfirst, cache_dates, iterator, chunksize, compression, thousands, decimal, lineterminator, quotechar, quoting, doublequote, escapechar, comment, encoding, encoding_errors, dialect, error_bad_lines, warn_bad_lines, on_bad_lines, delim_whitespace, low_memory, memory_map, float_precision, storage_options)\u001b[0m\n\u001b[1;32m    584\u001b[0m     \u001b[0mkwds\u001b[0m\u001b[0;34m.\u001b[0m\u001b[0mupdate\u001b[0m\u001b[0;34m(\u001b[0m\u001b[0mkwds_defaults\u001b[0m\u001b[0;34m)\u001b[0m\u001b[0;34m\u001b[0m\u001b[0;34m\u001b[0m\u001b[0m\n\u001b[1;32m    585\u001b[0m \u001b[0;34m\u001b[0m\u001b[0m\n\u001b[0;32m--> 586\u001b[0;31m     \u001b[0;32mreturn\u001b[0m \u001b[0m_read\u001b[0m\u001b[0;34m(\u001b[0m\u001b[0mfilepath_or_buffer\u001b[0m\u001b[0;34m,\u001b[0m \u001b[0mkwds\u001b[0m\u001b[0;34m)\u001b[0m\u001b[0;34m\u001b[0m\u001b[0;34m\u001b[0m\u001b[0m\n\u001b[0m\u001b[1;32m    587\u001b[0m \u001b[0;34m\u001b[0m\u001b[0m\n\u001b[1;32m    588\u001b[0m \u001b[0;34m\u001b[0m\u001b[0m\n",
      "\u001b[0;32m~/miniconda3/envs/python385/lib/python3.8/site-packages/pandas/io/parsers/readers.py\u001b[0m in \u001b[0;36m_read\u001b[0;34m(filepath_or_buffer, kwds)\u001b[0m\n\u001b[1;32m    480\u001b[0m \u001b[0;34m\u001b[0m\u001b[0m\n\u001b[1;32m    481\u001b[0m     \u001b[0;31m# Create the parser.\u001b[0m\u001b[0;34m\u001b[0m\u001b[0;34m\u001b[0m\u001b[0;34m\u001b[0m\u001b[0m\n\u001b[0;32m--> 482\u001b[0;31m     \u001b[0mparser\u001b[0m \u001b[0;34m=\u001b[0m \u001b[0mTextFileReader\u001b[0m\u001b[0;34m(\u001b[0m\u001b[0mfilepath_or_buffer\u001b[0m\u001b[0;34m,\u001b[0m \u001b[0;34m**\u001b[0m\u001b[0mkwds\u001b[0m\u001b[0;34m)\u001b[0m\u001b[0;34m\u001b[0m\u001b[0;34m\u001b[0m\u001b[0m\n\u001b[0m\u001b[1;32m    483\u001b[0m \u001b[0;34m\u001b[0m\u001b[0m\n\u001b[1;32m    484\u001b[0m     \u001b[0;32mif\u001b[0m \u001b[0mchunksize\u001b[0m \u001b[0;32mor\u001b[0m \u001b[0miterator\u001b[0m\u001b[0;34m:\u001b[0m\u001b[0;34m\u001b[0m\u001b[0;34m\u001b[0m\u001b[0m\n",
      "\u001b[0;32m~/miniconda3/envs/python385/lib/python3.8/site-packages/pandas/io/parsers/readers.py\u001b[0m in \u001b[0;36m__init__\u001b[0;34m(self, f, engine, **kwds)\u001b[0m\n\u001b[1;32m    809\u001b[0m             \u001b[0mself\u001b[0m\u001b[0;34m.\u001b[0m\u001b[0moptions\u001b[0m\u001b[0;34m[\u001b[0m\u001b[0;34m\"has_index_names\"\u001b[0m\u001b[0;34m]\u001b[0m \u001b[0;34m=\u001b[0m \u001b[0mkwds\u001b[0m\u001b[0;34m[\u001b[0m\u001b[0;34m\"has_index_names\"\u001b[0m\u001b[0;34m]\u001b[0m\u001b[0;34m\u001b[0m\u001b[0;34m\u001b[0m\u001b[0m\n\u001b[1;32m    810\u001b[0m \u001b[0;34m\u001b[0m\u001b[0m\n\u001b[0;32m--> 811\u001b[0;31m         \u001b[0mself\u001b[0m\u001b[0;34m.\u001b[0m\u001b[0m_engine\u001b[0m \u001b[0;34m=\u001b[0m \u001b[0mself\u001b[0m\u001b[0;34m.\u001b[0m\u001b[0m_make_engine\u001b[0m\u001b[0;34m(\u001b[0m\u001b[0mself\u001b[0m\u001b[0;34m.\u001b[0m\u001b[0mengine\u001b[0m\u001b[0;34m)\u001b[0m\u001b[0;34m\u001b[0m\u001b[0;34m\u001b[0m\u001b[0m\n\u001b[0m\u001b[1;32m    812\u001b[0m \u001b[0;34m\u001b[0m\u001b[0m\n\u001b[1;32m    813\u001b[0m     \u001b[0;32mdef\u001b[0m \u001b[0mclose\u001b[0m\u001b[0;34m(\u001b[0m\u001b[0mself\u001b[0m\u001b[0;34m)\u001b[0m\u001b[0;34m:\u001b[0m\u001b[0;34m\u001b[0m\u001b[0;34m\u001b[0m\u001b[0m\n",
      "\u001b[0;32m~/miniconda3/envs/python385/lib/python3.8/site-packages/pandas/io/parsers/readers.py\u001b[0m in \u001b[0;36m_make_engine\u001b[0;34m(self, engine)\u001b[0m\n\u001b[1;32m   1038\u001b[0m             )\n\u001b[1;32m   1039\u001b[0m         \u001b[0;31m# error: Too many arguments for \"ParserBase\"\u001b[0m\u001b[0;34m\u001b[0m\u001b[0;34m\u001b[0m\u001b[0;34m\u001b[0m\u001b[0m\n\u001b[0;32m-> 1040\u001b[0;31m         \u001b[0;32mreturn\u001b[0m \u001b[0mmapping\u001b[0m\u001b[0;34m[\u001b[0m\u001b[0mengine\u001b[0m\u001b[0;34m]\u001b[0m\u001b[0;34m(\u001b[0m\u001b[0mself\u001b[0m\u001b[0;34m.\u001b[0m\u001b[0mf\u001b[0m\u001b[0;34m,\u001b[0m \u001b[0;34m**\u001b[0m\u001b[0mself\u001b[0m\u001b[0;34m.\u001b[0m\u001b[0moptions\u001b[0m\u001b[0;34m)\u001b[0m  \u001b[0;31m# type: ignore[call-arg]\u001b[0m\u001b[0;34m\u001b[0m\u001b[0;34m\u001b[0m\u001b[0m\n\u001b[0m\u001b[1;32m   1041\u001b[0m \u001b[0;34m\u001b[0m\u001b[0m\n\u001b[1;32m   1042\u001b[0m     \u001b[0;32mdef\u001b[0m \u001b[0m_failover_to_python\u001b[0m\u001b[0;34m(\u001b[0m\u001b[0mself\u001b[0m\u001b[0;34m)\u001b[0m\u001b[0;34m:\u001b[0m\u001b[0;34m\u001b[0m\u001b[0;34m\u001b[0m\u001b[0m\n",
      "\u001b[0;32m~/miniconda3/envs/python385/lib/python3.8/site-packages/pandas/io/parsers/c_parser_wrapper.py\u001b[0m in \u001b[0;36m__init__\u001b[0;34m(self, src, **kwds)\u001b[0m\n\u001b[1;32m     49\u001b[0m \u001b[0;34m\u001b[0m\u001b[0m\n\u001b[1;32m     50\u001b[0m         \u001b[0;31m# open handles\u001b[0m\u001b[0;34m\u001b[0m\u001b[0;34m\u001b[0m\u001b[0;34m\u001b[0m\u001b[0m\n\u001b[0;32m---> 51\u001b[0;31m         \u001b[0mself\u001b[0m\u001b[0;34m.\u001b[0m\u001b[0m_open_handles\u001b[0m\u001b[0;34m(\u001b[0m\u001b[0msrc\u001b[0m\u001b[0;34m,\u001b[0m \u001b[0mkwds\u001b[0m\u001b[0;34m)\u001b[0m\u001b[0;34m\u001b[0m\u001b[0;34m\u001b[0m\u001b[0m\n\u001b[0m\u001b[1;32m     52\u001b[0m         \u001b[0;32massert\u001b[0m \u001b[0mself\u001b[0m\u001b[0;34m.\u001b[0m\u001b[0mhandles\u001b[0m \u001b[0;32mis\u001b[0m \u001b[0;32mnot\u001b[0m \u001b[0;32mNone\u001b[0m\u001b[0;34m\u001b[0m\u001b[0;34m\u001b[0m\u001b[0m\n\u001b[1;32m     53\u001b[0m \u001b[0;34m\u001b[0m\u001b[0m\n",
      "\u001b[0;32m~/miniconda3/envs/python385/lib/python3.8/site-packages/pandas/io/parsers/base_parser.py\u001b[0m in \u001b[0;36m_open_handles\u001b[0;34m(self, src, kwds)\u001b[0m\n\u001b[1;32m    220\u001b[0m         \u001b[0mLet\u001b[0m \u001b[0mthe\u001b[0m \u001b[0mreaders\u001b[0m \u001b[0mopen\u001b[0m \u001b[0mIOHandles\u001b[0m \u001b[0mafter\u001b[0m \u001b[0mthey\u001b[0m \u001b[0mare\u001b[0m \u001b[0mdone\u001b[0m \u001b[0;32mwith\u001b[0m \u001b[0mtheir\u001b[0m \u001b[0mpotential\u001b[0m \u001b[0mraises\u001b[0m\u001b[0;34m.\u001b[0m\u001b[0;34m\u001b[0m\u001b[0;34m\u001b[0m\u001b[0m\n\u001b[1;32m    221\u001b[0m         \"\"\"\n\u001b[0;32m--> 222\u001b[0;31m         self.handles = get_handle(\n\u001b[0m\u001b[1;32m    223\u001b[0m             \u001b[0msrc\u001b[0m\u001b[0;34m,\u001b[0m\u001b[0;34m\u001b[0m\u001b[0;34m\u001b[0m\u001b[0m\n\u001b[1;32m    224\u001b[0m             \u001b[0;34m\"r\"\u001b[0m\u001b[0;34m,\u001b[0m\u001b[0;34m\u001b[0m\u001b[0;34m\u001b[0m\u001b[0m\n",
      "\u001b[0;32m~/miniconda3/envs/python385/lib/python3.8/site-packages/pandas/io/common.py\u001b[0m in \u001b[0;36mget_handle\u001b[0;34m(path_or_buf, mode, encoding, compression, memory_map, is_text, errors, storage_options)\u001b[0m\n\u001b[1;32m    700\u001b[0m         \u001b[0;32mif\u001b[0m \u001b[0mioargs\u001b[0m\u001b[0;34m.\u001b[0m\u001b[0mencoding\u001b[0m \u001b[0;32mand\u001b[0m \u001b[0;34m\"b\"\u001b[0m \u001b[0;32mnot\u001b[0m \u001b[0;32min\u001b[0m \u001b[0mioargs\u001b[0m\u001b[0;34m.\u001b[0m\u001b[0mmode\u001b[0m\u001b[0;34m:\u001b[0m\u001b[0;34m\u001b[0m\u001b[0;34m\u001b[0m\u001b[0m\n\u001b[1;32m    701\u001b[0m             \u001b[0;31m# Encoding\u001b[0m\u001b[0;34m\u001b[0m\u001b[0;34m\u001b[0m\u001b[0;34m\u001b[0m\u001b[0m\n\u001b[0;32m--> 702\u001b[0;31m             handle = open(\n\u001b[0m\u001b[1;32m    703\u001b[0m                 \u001b[0mhandle\u001b[0m\u001b[0;34m,\u001b[0m\u001b[0;34m\u001b[0m\u001b[0;34m\u001b[0m\u001b[0m\n\u001b[1;32m    704\u001b[0m                 \u001b[0mioargs\u001b[0m\u001b[0;34m.\u001b[0m\u001b[0mmode\u001b[0m\u001b[0;34m,\u001b[0m\u001b[0;34m\u001b[0m\u001b[0;34m\u001b[0m\u001b[0m\n",
      "\u001b[0;31mFileNotFoundError\u001b[0m: [Errno 2] No such file or directory: './../pyobjs/follicle_mode.csv'"
     ]
    }
   ],
   "source": [
    "adata_ovary_combined.obs[\"FollicleNumber\"] = sc.read_h5ad(\"./../../pyobjs_github/adata_ovary_combined_napari_processed.h5ad\").obs[\"FollicleNumber\"]\n",
    "mode_df = pd.read_csv(\"./../pyobjs/follicle_mode.csv\")\n",
    "mode_df = mode_df.drop(columns=[\"Sample\"])\n",
    "adata_ovary_combined.obs = adata_ovary_combined.obs.join(mode_df.set_index('FollicleNumber'), on='FollicleNumber')\n",
    "adata_ovary_combined.obs[\"Follicle_type\"] = adata_ovary_combined.obs[\"Follicle_type\"].astype(\"category\")\n",
    "print(adata_ovary_combined.obs[\"Follicle_type\"].cat.categories)\n",
    "adata_ovary_combined.obs[\"Follicle_type\"].cat.reorder_categories(\n",
    "    new_categories = ['Preantral', 'Antral', 'Atretic', 'Lytic'], inplace = True)"
   ]
  },
  {
   "cell_type": "code",
   "execution_count": null,
   "id": "d46c6af2",
   "metadata": {},
   "outputs": [],
   "source": [
    "mode_df = pd.read_csv(\"./../pyobjs/follicle_mode.csv\")"
   ]
  },
  {
   "cell_type": "code",
   "execution_count": null,
   "id": "48679d6f",
   "metadata": {},
   "outputs": [],
   "source": [
    "freq_table = mode_df.groupby(['FollicleNumber', 'Sample', 'Follicle_type']).size().reset_index(name='count')\n",
    "freq_table['mean_size'] = mode_df.groupby([\"FollicleNumber\", 'Sample', 'Follicle_type'])['size'].mean('mean').values\n",
    "freq_table[\"Sample\"] = freq_table[\"Sample\"].astype(\"str\")\n",
    "freq_table = freq_table[freq_table[\"count\"] > 0]\n",
    "freq_table = freq_table[~freq_table[\"Sample\"].isin([\"4hr\", \"8hr_replicate\"])]\n",
    "freq_table[\"Sample\"][freq_table[\"Sample\"] == \"4hr_replicate\"] = \"4hr\"\n",
    "freq_table = freq_table[~freq_table[\"Follicle_type\"].isin([\"Transitioning\"])]\n",
    "freq_table['total_count'] = freq_table.groupby([\"Sample\"])['count'].transform('sum')\n",
    "freq_table['proportion'] = freq_table['count'] / freq_table['total_count']\n",
    "freq_table[\"Sample\"] = freq_table[\"Sample\"].astype(\"category\")\n",
    "freq_table[\"Sample\"] = freq_table[\"Sample\"].cat.reorder_categories([\"Immature\", \"0hr\", \"1hr\", \"4hr\", \"6hr\", \"8hr\", \"11hr\", \"12hr\"])\n",
    "freq_table[\"Follicle_type\"] = freq_table[\"Follicle_type\"].astype(\"category\")\n",
    "# freq_table[\"Follicle_type\"] = freq_table[\"Follicle_type\"].cat.remove_categories([\"Transitioning\"])\n",
    "freq_table[\"Follicle_type\"] = freq_table[\"Follicle_type\"].cat.reorder_categories([\"Preantral\", \"Antral\", \"Atretic\", \"Lytic\"])"
   ]
  },
  {
   "cell_type": "code",
   "execution_count": null,
   "id": "1f33a7e4",
   "metadata": {},
   "outputs": [],
   "source": [
    "# adata_ovary_combined.obs.loc[granulosa_combined.obs_names,\"granulosa_clusters\"] = granulosa_combined.obs[\"granulosa_clusters\"]\n",
    "# adata_ovary_combined.obs.loc[granulosa_combined.obs_names,\"granulosa_celltypes\"] = granulosa_combined.obs[\"granulosa_celltypes\"]\n",
    "granulosa_combined.obs.loc[granulosa_combined.obs[\"granulosa_celltypes_reduced\"] == \"Others\", \"granulosa_celltypes_reduced\"] = \"Mixed\"\n",
    "adata_ovary_combined.obs.loc[granulosa_combined.obs_names,\"granulosa_celltypes_reduced\"] = granulosa_combined.obs[\"granulosa_celltypes_reduced\"]"
   ]
  },
  {
   "cell_type": "code",
   "execution_count": null,
   "id": "e140ebfb",
   "metadata": {},
   "outputs": [],
   "source": [
    "# adata_ovary_combined.obs[\"oocyte_clusters\"] = sc.read_h5ad(\"./../pyobjs/oocytes_combined.h5ad\").obs[\"oocyte_clusters\"]\n",
    "adata_ovary_combined.obs[\"mesenchyme_leiden_1.0\"] = sc.read_h5ad(\"./../pyobjs/mesenchyme1.h5ad\").obs[\"mesenchyme_leiden_1.0\"]\n",
    "adata_ovary_combined.obs[\"mesenchyme_max_pred_celltype\"] = sc.read_h5ad(\"./../pyobjs/mesenchyme1.h5ad\").obs[\"mesenchyme_max_pred_celltype\"]\n",
    "adata_ovary_combined.obs[\"mesenchyme_clusters\"] = sc.read_h5ad(\"./../pyobjs/mesenchyme1.h5ad\").obs[\"mesenchyme_max_pred_celltype_reduced\"]\n",
    "adata_ovary_combined.obs[\"mesenchyme_clusters\"] = adata_ovary_combined.obs[\"mesenchyme_clusters\"].cat.reorder_categories([\"M_Smooth muscle\", \"M_Theca cells\", \"M_Fibroblast-like cells\", 'M_Dividing mesenchyme', \"M_Pericytes\"])"
   ]
  },
  {
   "cell_type": "code",
   "execution_count": null,
   "id": "e0d76d1e",
   "metadata": {},
   "outputs": [],
   "source": [
    "adata_ovary_combined.obs[\"Celltypes\"] = [x.split(\"_\")[1] for x in adata_ovary_combined.obs[\"Level0_max_pred_celltype\"]]\n",
    "adata_ovary_combined.obs[\"Celltypes\"] = adata_ovary_combined.obs[\"Celltypes\"].astype(str)\n",
    "adata_ovary_combined.obs.loc[granulosa_combined.obs_names,\"Celltypes\"] = granulosa_combined.obs[\"granulosa_celltypes_reduced\"]\n",
    "adata_ovary_combined.obs.loc[mesenchyme_combined.obs_names,\"Celltypes\"] = mesenchyme_combined.obs[\"mesenchyme_max_pred_celltype_reduced\"]\n",
    "adata_ovary_combined.obs[\"Celltypes\"] = adata_ovary_combined.obs[\"Celltypes\"].astype(\"category\")"
   ]
  },
  {
   "cell_type": "code",
   "execution_count": null,
   "id": "4da5d0ef",
   "metadata": {},
   "outputs": [],
   "source": [
    "adata_ovary_combined.obs[\"Celltypes\"].cat.categories"
   ]
  },
  {
   "cell_type": "code",
   "execution_count": null,
   "id": "f6e7b2f5",
   "metadata": {},
   "outputs": [],
   "source": [
    "adata_ovary_combined.obs[\"BroadCelltype\"] = [x.split(\"_\")[1] for x in adata_ovary_combined.obs[\"Level0_max_pred_celltype\"].values]\n",
    "adata_ovary_combined.obs[\"BroadCelltype\"] = adata_ovary_combined.obs[\"BroadCelltype\"].astype(\"category\")\n",
    "adata_ovary_combined.obs[\"BroadCelltype\"] = adata_ovary_combined.obs[\"BroadCelltype\"].cat.reorder_categories([\"Mesenchyme\", \"Granulosa\", \"Oocyte\", \"Endothelium\", \"Epithelium\", \"Immune\"])"
   ]
  },
  {
   "cell_type": "code",
   "execution_count": null,
   "id": "33d6b0f7",
   "metadata": {},
   "outputs": [],
   "source": [
    "samples_dict = {\"Immature\": \"A0021_043\", \"0hr\": \"A0008_041\", \"1hr\": \"A0021_044\", \"4hr_replicate\": \"A0021_042\", \"6hr\": \"A0021_045\", \"8hr\": \"A0008_044\", \"11hr\": \"A0008_046\", \"12hr\": \"A0021_046\"}"
   ]
  },
  {
   "cell_type": "code",
   "execution_count": null,
   "id": "b556ba5d",
   "metadata": {},
   "outputs": [],
   "source": [
    "apoptosis_genes = pd.read_csv(\"./../pyobjs/apoptosis_genes.csv\")[\"mmusculus_homolog_associated_gene_name\"]\n",
    "print(len(apoptosis_genes))\n",
    "print(apoptosis_genes)\n",
    "sc.tl.score_genes(granulosa_combined, gene_list=list(apoptosis_genes), score_name=\"Negative regulation of apoptosis score\")\n",
    "if \"Negative regulation of apoptosis score\" in adata_ovary_combined.obs.columns.values:\n",
    "    adata_ovary_combined.obs = adata_ovary_combined.obs.drop(columns=\"Negative regulation of apoptosis score\")\n",
    "adata_ovary_combined.obs.loc[granulosa_combined.obs_names,\"Negative regulation of apoptosis score\"] = granulosa_combined.obs[\"Negative regulation of apoptosis score\"]"
   ]
  },
  {
   "cell_type": "code",
   "execution_count": null,
   "id": "83c9ff7c",
   "metadata": {},
   "outputs": [],
   "source": [
    "samples_dict = {\"Immature\": \"A0021_043\", \"0hr\": \"A0008_041\", \"1hr\": \"A0021_044\", \"4hr_replicate\": \"A0021_042\", \"6hr\": \"A0021_045\", \"8hr\": \"A0008_044\", \"11hr\": \"A0008_046\", \"12hr\": \"A0021_046\"}\n",
    "granulosa_combined.obs[\"Sample\"] = granulosa_combined.obs[\"batch\"] \n",
    "granulosa_combined = granulosa_combined[granulosa_combined.obs[\"Sample\"].isin(samples_dict.keys())]\n",
    "granulosa_combined.obs[\"Sample\"] = granulosa_combined.obs[\"Sample\"].astype(str)\n",
    "granulosa_combined.obs[\"Sample\"] = granulosa_combined.obs[\"Sample\"].astype(\"category\")\n",
    "granulosa_combined.obs[\"Sample\"] = granulosa_combined.obs[\"Sample\"].cat.rename_categories({\"Immature\": \"IM\", \"4hr_replicate\" : \"4hr\"})\n",
    "granulosa_combined.obs[\"Sample\"] = granulosa_combined.obs[\"Sample\"].cat.reorder_categories([\"IM\", \"0hr\", \"1hr\", \"4hr\", \"6hr\", \"8hr\", \"11hr\", \"12hr\"])\n",
    "granulosa_combined.obs[\"Sample\"]= granulosa_combined.obs[\"Sample\"].astype(\"category\")"
   ]
  },
  {
   "cell_type": "code",
   "execution_count": null,
   "id": "a3845c0d",
   "metadata": {},
   "outputs": [],
   "source": [
    "granulosa_combined = granulosa_combined[~granulosa_combined.obs[\"granulosa_celltypes_reduced\"].isin([\"Mixed\", \"Others\"])]\n",
    "granulosa_combined.obs[\"Follicle_type\"] = adata_ovary_combined.obs.loc[granulosa_combined.obs_names, \"Follicle_type\"]\n",
    "granulosa_combined.obs[\"FollicleNumber\"] = adata_ovary_combined.obs.loc[granulosa_combined.obs_names, \"FollicleNumber\"]"
   ]
  },
  {
   "cell_type": "code",
   "execution_count": null,
   "id": "c4f7b655",
   "metadata": {},
   "outputs": [],
   "source": [
    "granulosa_combined.obs[\"timepoint\"] = granulosa_combined.obs[\"Sample\"]\n",
    "celltypes = {'Immature': -1, \n",
    "             '0hr': 0, \n",
    "            '1hr': 1, \n",
    "            '4hr': 4, \n",
    "            '6hr': 6, \n",
    "            '8hr': 8, \n",
    "            '11hr': 11,\n",
    "            '12hr': 12}\n",
    "granulosa_combined.obs[\"timepoint\"] = granulosa_combined.obs[\"timepoint\"].map(celltypes)\n",
    "# granulosa_combined.obs[\"timepoint\"] = granulosa_combined.obs[\"timepoint\"].astype(np.int_)"
   ]
  },
  {
   "cell_type": "code",
   "execution_count": null,
   "id": "c8fb8947",
   "metadata": {},
   "outputs": [],
   "source": [
    "temp = granulosa_combined[~granulosa_combined.obs[\"granulosa_celltypes_reduced\"].isin([\"GC_Cumulus-(Mixed)\"])]\n",
    "temp = temp[~temp.obs[\"Sample\"].isin([\"IM\"])]\n"
   ]
  },
  {
   "cell_type": "code",
   "execution_count": null,
   "id": "04fe403c",
   "metadata": {},
   "outputs": [],
   "source": [
    "sc.settings.set_figure_params(dpi=80, fontsize=6, facecolor='white', frameon=False, figsize=(2.0, 2.0), vector_friendly = False, transparent=True, format=\"pdf\")\n",
    "sns.set_style(\"ticks\")\n",
    "fig, ax = plt.subplots(figsize = (1.5,1.4))\n",
    "plt.margins(x=0, y=0)\n",
    "ax.tick_params(axis='both', which='major', pad=0, size = 2)\n",
    "g = sns.lineplot(temp.obs, y = \"Negative regulation of apoptosis score\", x = \"timepoint\", hue = \"Follicle_type\", palette=\"tab10\", ax=ax)\n",
    "plt.rcParams['legend.title_fontsize'] = 9\n",
    "# ax.set_ylim(0,5000)\n",
    "# ax.set_yscale(\"log\")\n",
    "g.set_xticks(range(0, 13, 2))\n",
    "ax.set_ylabel(\"Negative regulation of\\n apoptosis module score\", labelpad = 1.0)\n",
    "ax.set_xlabel(\"Hours after hCG treatment\", labelpad = 0.5)\n",
    "plt.legend(ncol=1, prop={'size': 6}, loc = 6, handletextpad=0.5, markerscale = 0.6, title = \"Follicle type\", \n",
    "           labelspacing = 0.0, frameon = False, title_fontsize = 6, alignment = \"left\", \n",
    "           borderpad = 0.1, borderaxespad = 0.1, bbox_to_anchor = (1.02, 0.5))\n",
    "# plt.tight_layout()\n",
    "plt.savefig(\"./figures/follicle_type_apoptosis_violin.pdf\")"
   ]
  },
  {
   "cell_type": "code",
   "execution_count": null,
   "id": "e21d4881",
   "metadata": {},
   "outputs": [],
   "source": [
    "temp = granulosa_combined[~granulosa_combined.obs[\"granulosa_celltypes_reduced\"].isin([\"GC_Cumulus-(Mixed)\"])]\n",
    "# temp = temp[~temp.obs[\"Sample\"].isin([\"IM\"])]"
   ]
  },
  {
   "cell_type": "code",
   "execution_count": null,
   "id": "cfff3596",
   "metadata": {},
   "outputs": [],
   "source": [
    "sc.settings.set_figure_params(dpi=80, fontsize=6, facecolor='white', frameon=False, figsize=(2.0, 2.0), vector_friendly = False, transparent=True, format=\"pdf\")\n",
    "sns.set_style(\"ticks\")\n",
    "fig, ax = plt.subplots(figsize = (1.7,1.4))\n",
    "plt.margins(x=0, y=0)\n",
    "ax.tick_params(axis='both', which='major', pad=0, size = 2)\n",
    "sns.lineplot(temp.obs, y = \"G2M_score\", x = \"Sample\", hue = \"Follicle_type\", palette=\"tab10\", ax=ax)\n",
    "plt.rcParams['legend.title_fontsize'] = 9\n",
    "# ax.set_ylim(0,5000)\n",
    "# ax.set_yscale(\"log\")\n",
    "ax.set_ylabel(\"G2M score\", labelpad = 1.0)\n",
    "ax.set_xlabel(\"Sample\", labelpad = 0.5)\n",
    "plt.legend(ncol=1, prop={'size': 6}, loc = 6, handletextpad=0.5, markerscale = 0.6, title = \"Follicle type\", \n",
    "           labelspacing = 0.0, frameon = False, title_fontsize = 6, alignment = \"left\", \n",
    "           borderpad = 0.1, borderaxespad = 0.1, bbox_to_anchor = (1.02, 0.5))\n",
    "# plt.tight_layout()\n",
    "plt.savefig(\"./figures/follicle_type_G2M_score.pdf\")"
   ]
  },
  {
   "cell_type": "code",
   "execution_count": null,
   "id": "c5ffb5fd",
   "metadata": {},
   "outputs": [],
   "source": [
    "freq_table = temp.obs.groupby(['FollicleNumber', \"Sample\", \"phase\"]).size().reset_index(name='count')\n",
    "freq_table['total_count'] = freq_table.groupby(['FollicleNumber', \"Sample\"])['count'].transform('sum')\n",
    "freq_table['proportion'] = freq_table['count'] / freq_table['total_count']\n",
    "# freq_table[\"Follicle_type\"] = freq_table[\"Follicle_type\"].cat.remove_categories([\"Lytic\"])\n",
    "# freq_table[\"Follicle_type\"] = freq_table[\"Follicle_type\"].cat.reorder_categories([\"Preantral\", \"Antral\", \"Atretic\", \"Transitioning\"])\n",
    "freq_table = freq_table[freq_table[\"count\"] > 0]\n",
    "freq_table.head(20)"
   ]
  },
  {
   "cell_type": "code",
   "execution_count": null,
   "id": "0e1141a7",
   "metadata": {},
   "outputs": [],
   "source": [
    "sc.settings.set_figure_params(dpi=80, fontsize=6, facecolor='white', frameon=False, figsize=(2.0, 2.0), vector_friendly = False, transparent=True, format=\"pdf\")\n",
    "sns.set_style(\"ticks\")\n",
    "fig, ax = plt.subplots(figsize = (2.4,1.5))\n",
    "plt.margins(x=0, y=0)\n",
    "ax.tick_params(axis='both', which='major', pad=0, size = 2)\n",
    "sns.barplot(freq_table, x = \"Sample\", y = \"proportion\", dodge=True, hue=\"phase\", palette=\"Set2\", ax=ax)\n",
    "plt.legend(ncol=1, prop={'size': 6}, handletextpad=0.5, markerscale = 0.6, title = \"Cell cycle\",\n",
    "           labelspacing = 0.0, frameon = False,  title_fontsize = 7, alignment = \"left\", \n",
    "           borderpad = 0.1, borderaxespad = 0.1, loc = 1, bbox_to_anchor = (1.0, 1.0))\n",
    "plt.rcParams['legend.title_fontsize'] = 9\n",
    "ax.set_ylim(0,1.0)\n",
    "ax.set_ylabel(\"Follicle type\", labelpad = 0)\n",
    "ax.set_xlabel(\"Cell proportions\", labelpad = 1.0)\n",
    "plt.tight_layout()\n",
    "plt.savefig(\"./figures/cellcycle_all_granulosa_mural.pdf\")"
   ]
  },
  {
   "cell_type": "code",
   "execution_count": null,
   "id": "5c5b4d4a",
   "metadata": {},
   "outputs": [],
   "source": [
    "temp = granulosa_combined[granulosa_combined.obs[\"granulosa_celltypes_reduced\"].isin([\"GC_Mural-(Antral)\", \"GC_Cumulus-(Mixed)\"])]"
   ]
  },
  {
   "cell_type": "code",
   "execution_count": null,
   "id": "54d6279b",
   "metadata": {},
   "outputs": [],
   "source": [
    "sc.settings.set_figure_params(dpi=80, fontsize=6, facecolor='white', frameon=False, figsize=(2.0, 2.0), vector_friendly = False, transparent=True, format=\"pdf\")\n",
    "sns.set_style(\"ticks\")\n",
    "fig, ax = plt.subplots(figsize = (1.5,1.4))\n",
    "plt.margins(x=0, y=0)\n",
    "ax.tick_params(axis='both', which='major', pad=0, size = 2)\n",
    "g = sns.lineplot(temp.obs, y = \"Negative regulation of apoptosis score\", x = \"timepoint\", hue = \"granulosa_celltypes_reduced\", palette=\"tab10\", ax=ax)\n",
    "plt.rcParams['legend.title_fontsize'] = 9\n",
    "# ax.set_ylim(0,5000)\n",
    "# ax.set_yscale(\"log\")\n",
    "g.set_xticks(range(0, 13, 2))\n",
    "ax.set_ylabel(\"Negative regulation of\\n apoptosis module score\", labelpad = 1.0)\n",
    "ax.set_xlabel(\"Hours after hCG treatment\", labelpad = 0.5)\n",
    "plt.legend(ncol=1, prop={'size': 6}, loc = 6, handletextpad=0.5, markerscale = 0.6, title = \"Granulosa celltype\", \n",
    "           labelspacing = 0.0, frameon = False, title_fontsize = 6, alignment = \"left\", \n",
    "           borderpad = 0.1, borderaxespad = 0.1, bbox_to_anchor = (1.02, 0.5))\n",
    "# plt.tight_layout()\n",
    "plt.savefig(\"./figures/antral_apoptosis_violin.pdf\")"
   ]
  },
  {
   "cell_type": "code",
   "execution_count": null,
   "id": "5be6992f",
   "metadata": {
    "scrolled": true
   },
   "outputs": [],
   "source": [
    "# mesenchyme_genes = pd.read_csv(\"./../pyobjs/.csv\")[\"mmusculus_homolog_associated_gene_name\"]\n",
    "mesenchyme_genes = [\"Pdgfrb\", \"Lmod1\", \"Myom1\"]\n",
    "print(len(mesenchyme_genes))\n",
    "sc.tl.score_genes(mesenchyme_combined, gene_list=list(mesenchyme_genes), score_name=\"Mesenchyme contraction\")\n",
    "if \"Mesenchyme contraction\" in adata_ovary_combined.obs.columns.values:\n",
    "    adata_ovary_combined.obs = adata_ovary_combined.obs.drop(columns=\"Mesenchyme contraction\")\n",
    "adata_ovary_combined.obs.loc[mesenchyme_combined.obs_names,\"Mesenchyme contraction\"] = mesenchyme_combined.obs[\"Mesenchyme contraction\"]"
   ]
  },
  {
   "cell_type": "code",
   "execution_count": null,
   "id": "4b5c4660",
   "metadata": {
    "scrolled": false
   },
   "outputs": [],
   "source": [
    "fig, axs = plt.subplots(2,4, figsize = (20,8))\n",
    "for i, sample in enumerate(samples_dict.keys()):\n",
    "    sc.settings.set_figure_params(dpi=200, dpi_save= 300, fontsize=10, facecolor='white', frameon=False, figsize=(2.0, 2.0), vector_friendly = False, transparent=True, format=\"pdf\")\n",
    "    sc.pl.spatial(adata_ovary_combined[adata_ovary_combined.obs[\"Sample\"] == sample], color = [\"Akt2\"], show=False, wspace= 0.2, hspace=0.2, spot_size = 30, frameon=False, title=sample, ax=axs[int(i/4), int(i%4)], cmap=sns.blend_palette([\"lightgrey\", sns.xkcd_rgb[\"black\"]], as_cmap=True))  "
   ]
  },
  {
   "cell_type": "code",
   "execution_count": null,
   "id": "484c9849",
   "metadata": {},
   "outputs": [],
   "source": [
    "fig, axs = plt.subplots(2,4, figsize = (20,8))\n",
    "for i, sample in enumerate(samples_dict.keys()):\n",
    "    sc.settings.set_figure_params(dpi=200, dpi_save= 300, fontsize=10, facecolor='white', frameon=False, figsize=(2.0, 2.0), vector_friendly = False, transparent=True, format=\"pdf\")\n",
    "    sc.pl.spatial(adata_ovary_combined[adata_ovary_combined.obs[\"Sample\"] == sample], color = [\"Plau\"], show=False, wspace= 0.2, hspace=0.2, spot_size = 30, frameon=False, title=sample, ax=axs[int(i/4), int(i%4)], cmap=sns.blend_palette([\"lightgrey\", sns.xkcd_rgb[\"black\"]], as_cmap=True))  "
   ]
  },
  {
   "cell_type": "code",
   "execution_count": null,
   "id": "26d147e7",
   "metadata": {},
   "outputs": [],
   "source": [
    "sc.settings.set_figure_params(dpi=300, dpi_save= 300, fontsize=5, facecolor='white', frameon=False, figsize=(5.0,5.0), transparent=True, format=\"pdf\")\n",
    "feature = \"Negative regulation of apoptosis score\"\n",
    "fig, axs = plt.subplots(2,4, figsize = (20,12))\n",
    "axs = axs.flatten()\n",
    "for i, sample in enumerate(samples_dict.keys()):\n",
    "    subset = adata_ovary_combined[adata_ovary_combined.obs[\"Sample\"] == sample]\n",
    "    sc.pl.spatial(subset, color = feature, wspace= 0.0, hspace = 0.0, spot_size = 30,\n",
    "                  frameon=False, title=sample, show=False, ax=axs[i], na_color=\"lightgrey\",\n",
    "                  cmap=\"viridis\", vmax=\"p99.2\")\n",
    "    axs[i].set_title(axs[i].get_title(), pad=0)\n",
    "for i in range(1, len(samples_dict)+1):\n",
    "    mappable = fig.axes[-i].collections[1]\n",
    "    colorBar = fig.axes[-i]\n",
    "    colorBar.remove()\n",
    "    plt.colorbar(mappable=mappable, ax=axs[-i], \n",
    "                 fraction=0.25, aspect=7,\n",
    "                 pad=0 , shrink = 0.3, location = \"bottom\")\n",
    "for i in range(1,len(samples_dict)+1):\n",
    "    fig.axes[-i].tick_params(length = 2, pad = 0.0)\n",
    "plt.subplots_adjust(wspace=0, hspace=0)\n",
    "plt.savefig(\"./figures/spatial_maps_apoptosis.pdf\")"
   ]
  },
  {
   "cell_type": "code",
   "execution_count": null,
   "id": "20f4522f",
   "metadata": {
    "scrolled": false
   },
   "outputs": [],
   "source": [
    "sc.settings.set_figure_params(dpi=300, dpi_save= 300, fontsize=5, facecolor='white', frameon=False, figsize=(0.8,0.8), transparent=True, format=\"pdf\")\n",
    "feature = \"Irx3\"\n",
    "fig, axs = plt.subplots(2,4, figsize = (4,2))\n",
    "axs = axs.flatten()\n",
    "for i, sample in enumerate(samples_dict.keys()):\n",
    "    subset = adata_ovary_combined[adata_ovary_combined.obs[\"Sample\"] == sample]\n",
    "    sc.pl.spatial(subset, color = feature, wspace= 0.0, hspace = 0.0, spot_size = 30,\n",
    "                  frameon=False, title=sample, show=False, ax=axs[i], na_color=\"lightgrey\",\n",
    "                  cmap=sns.blend_palette([\"lightgrey\", sns.xkcd_rgb[\"black\"]], as_cmap=True), vmax=\"p99.9\")\n",
    "    axs[i].set_title(axs[i].get_title(), pad=0)\n",
    "for i in range(1, len(samples_dict)+1):\n",
    "    mappable = fig.axes[-i].collections[1]\n",
    "    colorBar = fig.axes[-i]\n",
    "    colorBar.remove()\n",
    "    plt.colorbar(mappable=mappable, ax=axs[-i], \n",
    "                 fraction=0.25, aspect=7,\n",
    "                 pad=0 ,shrink = 0.3, location = \"bottom\")\n",
    "for i in range(1,len(samples_dict)+1):\n",
    "    fig.axes[-i].tick_params(length = 2, pad = 0.0)\n",
    "plt.subplots_adjust(wspace=0, hspace=0)\n",
    "plt.savefig(\"./figures/spatial_maps_Irx3.pdf\")"
   ]
  },
  {
   "cell_type": "code",
   "execution_count": null,
   "id": "e3e3cb65",
   "metadata": {},
   "outputs": [],
   "source": [
    "# adata_ovary_combined.obs[\"granulosa_celltypes_reduced\"] = adata_ovary_combined.obs[\"Level0_max_pred_celltype\"]\n",
    "# adata_ovary_combined.obs[\"granulosa_celltypes_reduced\"] = adata_ovary_combined.obs[\"granulosa_celltypes_reduced\"].astype(str)\n",
    "# adata_ovary_combined.obs.loc[granulosa_combined.obs_names,\"granulosa_celltypes_reduced\"] = granulosa_combined.obs[\"granulosa_celltypes_reduced\"]\n",
    "# adata_ovary_combined.obs[\"granulosa_celltypes_reduced\"] = adata_ovary_combined.obs[\"granulosa_celltypes_reduced\"].astype(\"category\")"
   ]
  },
  {
   "cell_type": "code",
   "execution_count": null,
   "id": "6c3ec7fb",
   "metadata": {},
   "outputs": [],
   "source": [
    "# adata_ovary_combined.obs[\"granulosa_clusters\"] = adata_ovary_combined.obs[\"Level0_max_pred_celltype\"]\n",
    "# adata_ovary_combined.obs[\"granulosa_clusters\"] = adata_ovary_combined.obs[\"granulosa_clusters\"].astype(str)\n",
    "# adata_ovary_combined.obs.loc[granulosa_combined.obs_names,\"granulosa_clusters\"] = granulosa_combined.obs[\"granulosa_clusters\"]\n",
    "# adata_ovary_combined.obs[\"granulosa_clusters\"] = adata_ovary_combined.obs[\"granulosa_clusters\"].astype(\"category\")"
   ]
  },
  {
   "cell_type": "code",
   "execution_count": null,
   "id": "7cbdbb29",
   "metadata": {},
   "outputs": [],
   "source": [
    "# adata_ovary_combined.obs[\"mesenchyme_clusters\"] = adata_ovary_combined.obs[\"Level1_max_pred_celltype\"]\n",
    "# adata_ovary_combined.obs[\"mesenchyme_clusters\"] = adata_ovary_combined.obs[\"mesenchyme_clusters\"].astype(str)\n",
    "# adata_ovary_combined.obs.loc[adata_ovary_combined.obs[\"Level1_max_pred_celltype_group\"] != \"M\", \"mesenchyme_clusters\"] = np.NAN\n",
    "# adata_ovary_combined.obs[\"mesenchyme_clusters\"] = adata_ovary_combined.obs[\"mesenchyme_clusters\"].astype(\"category\")\n"
   ]
  },
  {
   "cell_type": "code",
   "execution_count": null,
   "id": "bc2fd7bd",
   "metadata": {},
   "outputs": [],
   "source": [
    "from pylab import *\n",
    "cmap = cm.get_cmap('tab20')\n",
    "palette_custom = [matplotlib.colors.rgb2hex(cmap(i)) for i in range(cmap.N)]\n",
    "cmap"
   ]
  },
  {
   "cell_type": "code",
   "execution_count": null,
   "id": "d1526c60",
   "metadata": {},
   "outputs": [],
   "source": [
    "cat_custom = [ 'GC_Mural-(Antral)', 'GC_Mural-(Atretic)', 'GC_Cumulus-(Mixed)', 'GC_Lytic-(Lytic)', 'GC_Mitotic-(Antral)', \n",
    "       'GC_Mural-(Preantral)', 'M_Smooth muscle', 'M_Theca cells', 'M_Fibroblast-like cells', 'M_Dividing mesenchyme',\n",
    " 'M_Pericytes', 'Oocyte', 'Endothelium', 'Epithelium', 'Immune', \"Mixed\"]"
   ]
  },
  {
   "cell_type": "code",
   "execution_count": null,
   "id": "6c4f3488",
   "metadata": {
    "scrolled": false
   },
   "outputs": [],
   "source": [
    "sc.settings.set_figure_params(dpi=300, dpi_save= 300, fontsize=6, facecolor='white', frameon=False, figsize=(2.0, 2.0), vector_friendly = True, transparent=True, format=\"pdf\")\n",
    "grouping_var = \"Celltypes\"\n",
    "fig, axs = plt.subplots(2,4, figsize = (18,8))\n",
    "for i, sample in enumerate(samples_dict.keys()):\n",
    "    subset = adata_ovary_combined[adata_ovary_combined.obs[\"Sample\"] == sample]\n",
    "    subset.obs[grouping_var] = subset.obs[grouping_var].cat.set_categories(cat_custom)\n",
    "    print(subset.obs[grouping_var].cat.categories)\n",
    "    if i == 3:\n",
    "        sc.pl.spatial(subset, color = [grouping_var], palette=palette_custom, wspace= 0.0, hspace = 0.0, spot_size = 30, frameon=False, title=sample, show=False, ax=axs[int(i/4), int(i%4)])\n",
    "        handles, labels = axs[int(i/4), int(i%4)].get_legend_handles_labels()\n",
    "        axs[int(i/5), int(i%5)].get_legend().remove()\n",
    "    else: \n",
    "        sc.pl.spatial(subset, color = [grouping_var], palette=palette_custom, wspace= 0.0, hspace = 0.0, spot_size = 30, frameon=False, title=sample, show=False, legend_loc=\"none\", ax=axs[int(i/4), int(i%4)])  \n",
    "fig.legend(handles, labels, ncol = 1, loc=6, bbox_to_anchor = (1.0,0.5), title = \"Cell types\")\n",
    "plt.subplots_adjust(wspace=-0, hspace=0)\n",
    "plt.savefig(\"./figures/spatial_maps_allcelltypes.pdf\")"
   ]
  },
  {
   "cell_type": "code",
   "execution_count": null,
   "id": "58381feb",
   "metadata": {},
   "outputs": [],
   "source": [
    "from pylab import *\n",
    "cmap = cm.get_cmap('tab10')\n",
    "palette_custom = [matplotlib.colors.rgb2hex(cmap(i)) for i in range(cmap.N)]\n",
    "cmap"
   ]
  },
  {
   "cell_type": "code",
   "execution_count": null,
   "id": "25a5852d",
   "metadata": {},
   "outputs": [],
   "source": [
    "adata_ovary_combined.obs.loc[adata_ovary_combined.obs[\"granulosa_celltypes_reduced\"] == \"Mixed\", \"granulosa_celltypes_reduced\"] = np.NAN\n",
    "cat_custom = ['GC_Mural-(Preantral)', 'GC_Mural-(Antral)',  'GC_Mitotic-(Antral)', 'GC_Mural-(Atretic)', 'GC_Lytic-(Lytic)', \n",
    "        'GC_Cumulus-(Mixed)']"
   ]
  },
  {
   "cell_type": "code",
   "execution_count": null,
   "id": "7bdccd51",
   "metadata": {
    "scrolled": false
   },
   "outputs": [],
   "source": [
    "sc.settings.set_figure_params(dpi=300, dpi_save= 300, fontsize=6, facecolor='white', frameon=False, figsize=(2.0, 2.0), vector_friendly = True, transparent=True, format=\"pdf\")\n",
    "grouping_var = \"granulosa_celltypes_reduced\"\n",
    "fig, axs = plt.subplots(2,4, figsize = (16,8))\n",
    "for i, sample in enumerate(samples_dict.keys()):\n",
    "    subset = adata_ovary_combined[adata_ovary_combined.obs[\"Sample\"] == sample]\n",
    "    subset.obs[grouping_var] = subset.obs[grouping_var].cat.set_categories(cat_custom)\n",
    "    print(subset.obs[grouping_var].cat.categories)\n",
    "    if i == 3:\n",
    "        sc.pl.spatial(subset, color = [grouping_var], palette=palette_custom, wspace= 0.0, hspace = 0.0, spot_size = 30, frameon=False, title=sample, show=False, ax=axs[int(i/4), int(i%4)], na_color=\"lightgray\", na_in_legend=False)\n",
    "        handles, labels = axs[int(i/4), int(i%4)].get_legend_handles_labels()\n",
    "        axs[int(i/5), int(i%5)].get_legend().remove()\n",
    "    else: \n",
    "        sc.pl.spatial(subset, color = [grouping_var], palette=palette_custom, wspace= 0.0, hspace = 0.0, spot_size = 30, frameon=False, title=sample, show=False, legend_loc=\"none\", ax=axs[int(i/4), int(i%4)], na_color=\"lightgray\", na_in_legend=False)  \n",
    "fig.legend(handles, labels, ncol = 8, loc='lower center', bbox_to_anchor = (0.5,0.0), title = \"Mesenchyme cell types\")\n",
    "plt.subplots_adjust(wspace=-0, hspace=0)\n",
    "plt.savefig(\"./figures/spatial_maps_granulosa.pdf\")"
   ]
  },
  {
   "cell_type": "code",
   "execution_count": null,
   "id": "6a65ff4d",
   "metadata": {
    "scrolled": false
   },
   "outputs": [],
   "source": [
    "sc.settings.set_figure_params(dpi=300, dpi_save= 300, fontsize=6, facecolor='white', frameon=False, figsize=(2.0, 2.0), vector_friendly = True, transparent=True, format=\"pdf\")\n",
    "grouping_var = \"mesenchyme_clusters\"\n",
    "fig, axs = plt.subplots(2,4, figsize = (16,8))\n",
    "for i, sample in enumerate(samples_dict.keys()):\n",
    "    subset = adata_ovary_combined[adata_ovary_combined.obs[\"Sample\"] == sample]\n",
    "    subset.obs[grouping_var] = subset.obs[grouping_var].cat.set_categories(adata_ovary_combined.obs[grouping_var].cat.categories)\n",
    "    print(subset.obs[grouping_var].cat.categories)\n",
    "    if i == 3:\n",
    "        sc.pl.spatial(subset, color = [grouping_var], palette=palette_custom[0:5], wspace= 0.0, hspace = 0.0, spot_size = 30, frameon=False, title=sample, show=False, ax=axs[int(i/4), int(i%4)], na_color=\"lightgray\", na_in_legend=False)\n",
    "        handles, labels = axs[int(i/4), int(i%4)].get_legend_handles_labels()\n",
    "        axs[int(i/5), int(i%5)].get_legend().remove()\n",
    "    else: \n",
    "        sc.pl.spatial(subset, color = [grouping_var], palette=palette_custom[0:5], wspace= 0.0, hspace = 0.0, spot_size = 30, frameon=False, title=sample, show=False, legend_loc=\"none\", ax=axs[int(i/4), int(i%4)], na_color=\"lightgray\", na_in_legend=False)  \n",
    "fig.legend(handles, labels, ncol = 8, loc='lower center', bbox_to_anchor = (0.5,0.0), title = \"Mesenchyme cell types\")\n",
    "plt.subplots_adjust(wspace=-0, hspace=0)\n",
    "plt.savefig(\"./figures/spatial_maps_mesenchyme.pdf\")"
   ]
  },
  {
   "cell_type": "code",
   "execution_count": null,
   "id": "b8e03bdc",
   "metadata": {},
   "outputs": [],
   "source": [
    "from pylab import *\n",
    "cmap = cm.get_cmap('tab10', 6)\n",
    "palette_custom = [matplotlib.colors.rgb2hex(cmap(i)) for i in range(cmap.N)]\n",
    "cmap"
   ]
  },
  {
   "cell_type": "code",
   "execution_count": null,
   "id": "32b2ca7a",
   "metadata": {
    "scrolled": false
   },
   "outputs": [],
   "source": [
    "from pylab import *\n",
    "cmap = cm.get_cmap('Set1', 10)\n",
    "palette_custom = [matplotlib.colors.rgb2hex(cmap(i)) for i in range(cmap.N)]\n",
    "sc.settings.set_figure_params(dpi=300, dpi_save= 300, fontsize=10, facecolor='white', frameon=False, figsize=(2.0, 2.0), vector_friendly = True, transparent=True, format=\"pdf\")\n",
    "grouping_var = \"BroadCelltype\"\n",
    "fig, axs = plt.subplots(2,4, figsize = (16,8))\n",
    "for i, sample in enumerate(samples_dict.keys()):\n",
    "    subset = adata_ovary_combined[adata_ovary_combined.obs[\"Sample\"] == sample]\n",
    "    subset.obs[grouping_var] = subset.obs[grouping_var].cat.set_categories(adata_ovary_combined.obs[grouping_var].cat.categories)\n",
    "    print(subset.obs[grouping_var].cat.categories)\n",
    "    if i == 3:\n",
    "        sc.pl.spatial(subset, color = [grouping_var], palette=palette_custom, wspace= 0.0, hspace = 0.0, spot_size = 30, frameon=False, title=sample, show=False, ax=axs[int(i/4), int(i%4)], na_color=\"lightgray\", na_in_legend=False)\n",
    "        handles, labels = axs[int(i/4), int(i%4)].get_legend_handles_labels()\n",
    "        axs[int(i/5), int(i%5)].get_legend().remove()\n",
    "    else: \n",
    "        sc.pl.spatial(subset, color = [grouping_var], palette=palette_custom, wspace= 0.0, hspace = 0.0, spot_size = 30, frameon=False, title=sample, show=False, legend_loc=\"none\", ax=axs[int(i/4), int(i%4)], na_color=\"lightgray\", na_in_legend=False)  \n",
    "fig.legend(handles, labels, ncol = 6, loc='lower center', bbox_to_anchor = (0.57,0.1), title = \"Cell types\")\n",
    "plt.subplots_adjust(wspace=-0, hspace=0)\n",
    "plt.savefig(\"./figures/spatial_maps_broadcelltypes.pdf\")"
   ]
  },
  {
   "cell_type": "code",
   "execution_count": null,
   "id": "f919f392",
   "metadata": {},
   "outputs": [],
   "source": [
    "sc.settings.set_figure_params(dpi=300, dpi_save= 300, fontsize=6, facecolor='white', frameon=False, figsize=(2.0, 2.0), vector_friendly = True, transparent=True, format=\"pdf\")\n",
    "grouping_var = \"phase\"\n",
    "fig, axs = plt.subplots(2,4, figsize = (16,8))\n",
    "for i, sample in enumerate(samples_dict.keys()):\n",
    "    subset = adata_ovary_combined[adata_ovary_combined.obs[\"Sample\"] == sample]\n",
    "#     subset.obs[grouping_var] = subset.obs[grouping_var].cat.set_categories(cat_custom)\n",
    "    print(subset.obs[grouping_var].cat.categories)\n",
    "    if i == 3:\n",
    "        sc.pl.spatial(subset, color = [grouping_var], wspace= 0.0, hspace = 0.0, spot_size = 30, frameon=False, title=sample, show=False, ax=axs[int(i/4), int(i%4)], na_color=\"lightgray\", na_in_legend=False)\n",
    "        handles, labels = axs[int(i/4), int(i%4)].get_legend_handles_labels()\n",
    "        axs[int(i/5), int(i%5)].get_legend().remove()\n",
    "    else: \n",
    "        sc.pl.spatial(subset, color = [grouping_var], wspace= 0.0, hspace = 0.0, spot_size = 30, frameon=False, title=sample, show=False, legend_loc=\"none\", ax=axs[int(i/4), int(i%4)], na_color=\"lightgray\", na_in_legend=False)  \n",
    "fig.legend(handles, labels, ncol = 8, loc='lower center', bbox_to_anchor = (0.5,0.0), title = \"Cell cycle phase\")\n",
    "plt.subplots_adjust(wspace=-0, hspace=0)\n",
    "plt.savefig(\"./figures/spatial_maps_phase.pdf\")"
   ]
  },
  {
   "cell_type": "code",
   "execution_count": null,
   "id": "ef782a60",
   "metadata": {},
   "outputs": [],
   "source": [
    "samples_dict = {\"Immature\": \"A0021_043\", \"0hr\": \"A0008_041\", \"1hr\": \"A0021_044\", \"4hr_replicate\": \"A0021_042\", \"6hr\": \"A0021_045\", \"8hr\": \"A0008_044\", \"11hr\": \"A0008_046\", \"12hr\": \"A0021_046\"}\n",
    "\n",
    "freq_table = adata_ovary_combined.obs.groupby(['Sample', 'BroadCelltype']).size().reset_index(name='count')\n",
    "freq_table['total_count'] = freq_table.groupby([\"Sample\"])['count'].transform('sum')\n",
    "freq_table['proportion'] = freq_table['count'] / freq_table['total_count']\n",
    "freq_table = freq_table[freq_table[\"Sample\"].isin(list(samples_dict.keys()))]\n",
    "freq_table[\"Sample\"] = freq_table[\"Sample\"].astype(str)\n",
    "freq_table[\"Sample\"] = freq_table[\"Sample\"].astype(\"category\")\n",
    "freq_table[\"Sample\"] = freq_table[\"Sample\"].cat.rename_categories({\"Immature\": \"IM\", \"4hr_replicate\" : \"4hr\"})\n",
    "freq_table[\"Sample\"] = freq_table[\"Sample\"].cat.reorder_categories([\"IM\", \"0hr\", \"1hr\", \"4hr\", \"6hr\", \"8hr\", \"11hr\", \"12hr\"])\n",
    "freq_table[\"Sample\"] = freq_table[\"Sample\"].astype(\"category\")\n",
    "freq_table = freq_table[freq_table[\"BroadCelltype\"] == \"Endothelium\"]\n",
    "\n",
    "sc.settings.set_figure_params(dpi=200, fontsize=5.5, facecolor='white', frameon=True, figsize=(5, 5))\n",
    "fig, ax = plt.subplots(figsize = (1.8,1.2))\n",
    "plt.grid(False)\n",
    "sns.set_style(\"ticks\")\n",
    "plt.margins(x=0, y=0)\n",
    "ax.tick_params(axis='both', which='major', pad=0.5, size = 2)\n",
    "g = sns.lineplot(data = freq_table, x = \"Sample\", y= \"proportion\", color = \"black\", lw = 1, ax=ax)\n",
    "ax.set_xlabel(\"Sample\", labelpad=0.5)\n",
    "ax.set_ylabel(\"Endothelial cell proportions\", labelpad=0.0)\n",
    "\n",
    "plt.ylim((0,0.12))\n",
    "plt.tight_layout()\n",
    "fig.savefig(\"./figures/Endothelium_trends.pdf\")"
   ]
  },
  {
   "cell_type": "code",
   "execution_count": null,
   "id": "d22ecbaf",
   "metadata": {},
   "outputs": [],
   "source": [
    "sixhr_ovary = adata_ovary_combined[adata_ovary_combined.obs[\"Sample\"] == \"6hr\"]\n",
    "sixhr_ovary.obs[\"mesenchyme_clusters\"] = sixhr_ovary.obs[\"mesenchyme_clusters\"].cat.add_categories([\"Endothelium\"])\n",
    "sixhr_ovary.obs.loc[sixhr_ovary[sixhr_ovary.obs[\"BroadCelltype\"] == \"Endothelium\"].obs_names, \"mesenchyme_clusters\"] = \"Endothelium\"\n",
    "sixhr_ovary.obs[\"mesenchyme_clusters\"] = sixhr_ovary.obs[\"mesenchyme_clusters\"].astype(\"category\")"
   ]
  },
  {
   "cell_type": "code",
   "execution_count": null,
   "id": "dd4a0f72",
   "metadata": {},
   "outputs": [],
   "source": [
    "from pylab import *\n",
    "cmap = cm.get_cmap('tab10')\n",
    "palette_custom = [matplotlib.colors.rgb2hex(cmap(i)) for i in range(cmap.N)]\n",
    "cmap"
   ]
  },
  {
   "cell_type": "code",
   "execution_count": null,
   "id": "9fa1c71e",
   "metadata": {},
   "outputs": [],
   "source": [
    "palette_custom[0:5] + ['#000000']\n",
    "sc.settings.set_figure_params(dpi=200, dpi_save=300, facecolor='white', fontsize=6, frameon=True, figsize=(4, 4), format=\"pdf\")\n",
    "sc.pl.spatial(sixhr_ovary, color=[\"mesenchyme_clusters\"], spot_size=30, palette=, frameon=False, wspace=0.3, na_in_legend=False, title=\"Phase\", save=\"mesenchyme_6hr_with_endothelium\")"
   ]
  },
  {
   "cell_type": "code",
   "execution_count": null,
   "id": "55e52296",
   "metadata": {
    "scrolled": false
   },
   "outputs": [],
   "source": [
    "samples_dict = {\"Immature\": \"A0021_043\", \"0hr\": \"A0008_041\", \"1hr\": \"A0021_044\", \"4hr_replicate\": \"A0021_042\", \"6hr\": \"A0021_045\", \"8hr\": \"A0008_044\", \"11hr\": \"A0008_046\", \"12hr\": \"A0021_046\"}\n",
    "sc.settings.set_figure_params(dpi=300, dpi_save= 300, fontsize=10, facecolor='white', frameon=False, figsize=(2.0, 2.0), vector_friendly = True, transparent=True, format=\"pdf\")\n",
    "grouping_var = \"FollicleNumber\"\n",
    "fig, axs = plt.subplots(2,4, figsize = (16,8))\n",
    "for i, sample in enumerate(samples_dict.keys()):\n",
    "    subset = adata_ovary_combined[adata_ovary_combined.obs[\"Sample\"] == sample]\n",
    "#     subset.obs[grouping_var] = subset.obs[grouping_var].cat.set_categories(adata_ovary_combined.obs[grouping_var].cat.categories)\n",
    "#     print(subset.obs[grouping_var].cat.categories)\n",
    "    if i == 3:\n",
    "        sc.pl.spatial(subset, color = [grouping_var], wspace= 0.0, hspace = 0.0, spot_size = 30, frameon=False, title=sample, show=False, ax=axs[int(i/4), int(i%4)], na_color=\"lightgray\", na_in_legend=False)\n",
    "        handles, labels = axs[int(i/4), int(i%4)].get_legend_handles_labels()\n",
    "        axs[int(i/4), int(i%4)].get_legend().remove()\n",
    "    else: \n",
    "        sc.pl.spatial(subset, color = [grouping_var], wspace= 0.0, hspace = 0.0, spot_size = 30, frameon=False, title=sample, show=False, legend_loc=\"none\", ax=axs[int(i/4), int(i%4)], na_color=\"lightgray\", na_in_legend=False)  \n",
    "# fig.legend(handles, labels, ncol = 5, loc='lower center', bbox_to_anchor = (0.57,0.025), title = \"Cell types\")\n",
    "plt.subplots_adjust(wspace=0, hspace=0)\n",
    "plt.savefig(\"./figures/spatial_maps_folliclenumber.pdf\")"
   ]
  },
  {
   "cell_type": "code",
   "execution_count": null,
   "id": "237a0289",
   "metadata": {},
   "outputs": [],
   "source": [
    "def plot_3_genes_spatial_prep(adata, gene1, gene2, gene3, detection_threshold = 0.5, use_raw = True):\n",
    "    pairs_d = {(True, False, False): f\"{gene1}\",\n",
    "               (False, True, False): f\"{gene2}\",\n",
    "               (False, False, True): f\"{gene3}\",\n",
    "               (True, True, True): np.NAN,\n",
    "              (False, False, False): np.NAN,\n",
    "               (True, True, True): np.NAN,\n",
    "               (False, True, True): np.NAN,\n",
    "               (True, False, True): np.NAN,\n",
    "               (True, True, False): np.NAN}\n",
    "    if use_raw:\n",
    "        adata.obs[f\"{gene1}_{gene2}_{gene3}\"] = [pairs_d[x] for x in zip(adata.raw.to_adata().to_df()[gene1] > detection_threshold, adata.raw.to_adata().to_df()[gene2] > detection_threshold,  adata.raw.to_adata().to_df()[gene3] > detection_threshold)]\n",
    "    else:\n",
    "        adata.obs[f\"{gene1}_{gene2}_{gene3}\"] = [pairs_d[x] for x in zip(adata.to_df()[gene1] > detection_threshold, adata.to_df()[gene2] > detection_threshold, adata.raw.to_adata().to_df()[gene3] > detection_threshold)]\n",
    "    print(f\"{gene1}_{gene2}_{gene3}\" + \" added to .obs\")\n",
    "    adata.obs[f\"{gene1}_{gene2}_{gene3}\"] = adata.obs[f\"{gene1}_{gene2}_{gene3}\"].astype(\"category\")\n",
    "    return adata"
   ]
  },
  {
   "cell_type": "code",
   "execution_count": null,
   "id": "e6c760ee",
   "metadata": {},
   "outputs": [],
   "source": [
    "adata_ovary_combined = plot_3_genes_spatial_prep(adata_ovary_combined, \"Mro\", \"H1foo\", \"Nupr1\")"
   ]
  },
  {
   "cell_type": "code",
   "execution_count": null,
   "id": "42b52363",
   "metadata": {},
   "outputs": [],
   "source": [
    "from pylab import *\n",
    "cmap = cm.get_cmap('tab10', 10)\n",
    "palette_custom = [matplotlib.colors.rgb2hex(cmap(i)) for i in range(cmap.N)]\n",
    "sc.settings.set_figure_params(dpi=300, dpi_save= 300, fontsize=6, facecolor='white', frameon=False, figsize=(1.0, 1.0), vector_friendly = True, transparent=True, format=\"pdf\")\n",
    "grouping_var = \"Mro_H1foo_Tagln\"\n",
    "fig, axs = plt.subplots(2,4, figsize = (8,4))\n",
    "for i, sample in enumerate(samples_dict.keys()):\n",
    "    adata_ovary_combined.obs[grouping_var] = adata_ovary_combined.obs[grouping_var].astype(\"category\")\n",
    "    subset = adata_ovary_combined[adata_ovary_combined.obs[\"Sample\"] == sample]\n",
    "    subset.obs[grouping_var] = subset.obs[grouping_var].cat.set_categories(adata_ovary_combined.obs[grouping_var].cat.categories)\n",
    "    print(subset.obs[grouping_var].cat.categories)\n",
    "    if i == 3:\n",
    "        sc.pl.spatial(subset, color = [grouping_var], palette=palette_custom[0:3], wspace= 0.0, hspace = 0.0, spot_size = 30, frameon=False, title=sample, show=False, ax=axs[int(i/4), int(i%4)], na_color=\"lightgray\", na_in_legend=False)\n",
    "        handles, labels = axs[int(i/4), int(i%4)].get_legend_handles_labels()\n",
    "        axs[int(i/5), int(i%5)].get_legend().remove()\n",
    "    else: \n",
    "        sc.pl.spatial(subset, color = [grouping_var], palette=palette_custom[0:3], wspace= 0.0, hspace = 0.0, spot_size = 30, frameon=False, title=sample, show=False, legend_loc=\"none\", ax=axs[int(i/4), int(i%4)], na_color=\"lightgray\", na_in_legend=False)  \n",
    "fig.legend(handles, labels, ncol = 6, loc='lower center', bbox_to_anchor = (0.57,0.1), title = \"Genes\")\n",
    "plt.subplots_adjust(wspace=-0, hspace=0)\n",
    "plt.savefig(\"./figures/spatial_maps_Mro_H1foo_Nupr.pdf\")"
   ]
  },
  {
   "cell_type": "code",
   "execution_count": null,
   "id": "aa52877a",
   "metadata": {},
   "outputs": [],
   "source": [
    "adata_ovary_combined = plot_3_genes_spatial_prep(adata_ovary_combined, \"Aldh1a1\", \"Ogn\", \"Acta2\")"
   ]
  },
  {
   "cell_type": "code",
   "execution_count": null,
   "id": "1d5ec13c",
   "metadata": {},
   "outputs": [],
   "source": [
    "from pylab import *\n",
    "cmap = cm.get_cmap('tab10', 10)\n",
    "palette_custom = [matplotlib.colors.rgb2hex(cmap(i)) for i in range(cmap.N)]\n",
    "sc.settings.set_figure_params(dpi=300, dpi_save= 300, fontsize=6, facecolor='white', frameon=False, figsize=(1.0, 1.0), vector_friendly = True, transparent=True, format=\"pdf\")\n",
    "grouping_var = \"Aldh1a1_Ogn_Acta2\"\n",
    "fig, axs = plt.subplots(2,4, figsize = (8,4))\n",
    "for i, sample in enumerate(samples_dict.keys()):\n",
    "    adata_ovary_combined.obs[grouping_var] = adata_ovary_combined.obs[grouping_var].astype(\"category\")\n",
    "    subset = adata_ovary_combined[adata_ovary_combined.obs[\"Sample\"] == sample]\n",
    "    subset.obs[grouping_var] = subset.obs[grouping_var].cat.set_categories(adata_ovary_combined.obs[grouping_var].cat.categories)\n",
    "    print(subset.obs[grouping_var].cat.categories)\n",
    "    if i == 3:\n",
    "        sc.pl.spatial(subset, color = [grouping_var], palette=[palette_custom[i] for i in [3,4,5]], wspace= 0.0, hspace = 0.0, spot_size = 30, frameon=False, title=sample, show=False, ax=axs[int(i/4), int(i%4)], na_color=\"lightgray\", na_in_legend=False)\n",
    "        handles, labels = axs[int(i/4), int(i%4)].get_legend_handles_labels()\n",
    "        axs[int(i/5), int(i%5)].get_legend().remove()\n",
    "    else: \n",
    "        sc.pl.spatial(subset, color = [grouping_var], palette=[palette_custom[i] for i in [3,4,5]], wspace= 0.0, hspace = 0.0, spot_size = 30, frameon=False, title=sample, show=False, legend_loc=\"none\", ax=axs[int(i/4), int(i%4)], na_color=\"lightgray\", na_in_legend=False)  \n",
    "fig.legend(handles, labels, ncol = 6, loc='lower center', bbox_to_anchor = (0.57,0.1), title = \"Genes\")\n",
    "plt.subplots_adjust(wspace=-0, hspace=0)\n",
    "plt.savefig(\"./figures/spatial_maps_Aldh1a1_Ogn_Acta2.pdf\")"
   ]
  },
  {
   "cell_type": "code",
   "execution_count": null,
   "id": "8c3f73f8",
   "metadata": {},
   "outputs": [],
   "source": [
    "adata_ovary_combined = plot_3_genes_spatial_prep(adata_ovary_combined, \"Cdh5\", \"Upk1b\", \"Cd74\")"
   ]
  },
  {
   "cell_type": "code",
   "execution_count": null,
   "id": "2c344f45",
   "metadata": {},
   "outputs": [],
   "source": [
    "from pylab import *\n",
    "cmap = cm.get_cmap('tab10', 10)\n",
    "palette_custom = [matplotlib.colors.rgb2hex(cmap(i)) for i in range(cmap.N)]\n",
    "sc.settings.set_figure_params(dpi=300, dpi_save= 300, fontsize=6, facecolor='white', frameon=False, figsize=(1.0, 1.0), vector_friendly = True, transparent=True, format=\"pdf\")\n",
    "grouping_var = \"Cdh5_Upk1b_Cd74\"\n",
    "fig, axs = plt.subplots(2,4, figsize = (8,4))\n",
    "for i, sample in enumerate(samples_dict.keys()):\n",
    "    adata_ovary_combined.obs[grouping_var] = adata_ovary_combined.obs[grouping_var].astype(\"category\")\n",
    "    subset = adata_ovary_combined[adata_ovary_combined.obs[\"Sample\"] == sample]\n",
    "    subset.obs[grouping_var] = subset.obs[grouping_var].cat.set_categories(adata_ovary_combined.obs[grouping_var].cat.categories)\n",
    "    print(subset.obs[grouping_var].cat.categories)\n",
    "    if i == 3:\n",
    "        sc.pl.spatial(subset, color = [grouping_var], palette=[palette_custom[i] for i in [7,8,9]], wspace= 0.0, hspace = 0.0, spot_size = 30, frameon=False, title=sample, show=False, ax=axs[int(i/4), int(i%4)], na_color=\"lightgray\", na_in_legend=False)\n",
    "        handles, labels = axs[int(i/4), int(i%4)].get_legend_handles_labels()\n",
    "        axs[int(i/5), int(i%5)].get_legend().remove()\n",
    "    else: \n",
    "        sc.pl.spatial(subset, color = [grouping_var], palette=[palette_custom[i] for i in [7,8,9]], wspace= 0.0, hspace = 0.0, spot_size = 30, frameon=False, title=sample, show=False, legend_loc=\"none\", ax=axs[int(i/4), int(i%4)], na_color=\"lightgray\", na_in_legend=False)  \n",
    "fig.legend(handles, labels, ncol = 6, loc='lower center', bbox_to_anchor = (0.57,0.1), title = \"Genes\")\n",
    "plt.subplots_adjust(wspace=-0, hspace=0)\n",
    "plt.savefig(\"./figures/spatial_maps_Cdh5_Upk1b_Cd74.pdf\")"
   ]
  },
  {
   "cell_type": "code",
   "execution_count": null,
   "id": "27a63d13",
   "metadata": {
    "scrolled": false
   },
   "outputs": [],
   "source": [
    "sc.settings.set_figure_params(dpi=200, dpi_save=300, facecolor='white', fontsize=6, frameon=True, figsize=(4, 4), format=\"pdf\")\n",
    "sc.pl.spatial(adata_ovary_combined[adata_ovary_combined.obs[\"Sample\"] == \"Immature\"], color=[\"granulosa_celltypes_reduced\"], spot_size=30, frameon=False, wspace=0.3, na_color=palette_custom[1], na_in_legend=False, title=\"Granulosa celltypes\", save=\"granulosa_celltypes_immature\")"
   ]
  },
  {
   "cell_type": "code",
   "execution_count": null,
   "id": "7860db06",
   "metadata": {},
   "outputs": [],
   "source": [
    "sc.settings.set_figure_params(dpi=200, dpi_save=300, facecolor='white', fontsize=6, frameon=True, figsize=(4, 4), format=\"pdf\")\n",
    "sc.pl.spatial(adata_ovary_combined[adata_ovary_combined.obs[\"Sample\"] == \"Immature\"], color=[\"phase\"], spot_size=30, frameon=False, wspace=0.3, na_color=\"lightgray\", na_in_legend=False, title=\"Phase\", save=\"granulosa_phase_immature\")"
   ]
  },
  {
   "cell_type": "code",
   "execution_count": null,
   "id": "a05ab1ac",
   "metadata": {},
   "outputs": [],
   "source": [
    "sc.settings.set_figure_params(dpi=200, dpi_save=300, facecolor='white', fontsize=6, frameon=True, figsize=(4, 4), format=\"pdf\")\n",
    "sc.pl.spatial(adata_ovary_combined[adata_ovary_combined.obs[\"Sample\"] == \"Immature\"], color=[\"Follicle_type\"], spot_size=30, frameon=False, wspace=0.3, na_color=\"black\", na_in_legend=False, title=\"Phase\", save=\"granulosa_Follicle_type_immature\")"
   ]
  },
  {
   "cell_type": "code",
   "execution_count": null,
   "id": "48dac9cb",
   "metadata": {},
   "outputs": [],
   "source": [
    "granulosa_combined = sc.read_h5ad(\"./../pyobjs/granulosa_mural_immature.h5ad\")\n",
    "adata_ovary_combined.obs.loc[granulosa_combined.obs_names,\"Kctd14_Inhbb\"] = granulosa_combined.obs[\"Kctd14_Inhbb\"]\n",
    "adata_ovary_combined.obs.loc[granulosa_combined.obs_names,\"Kctd14_Cfh\"] = granulosa_combined.obs[\"Kctd14_Cfh\"]"
   ]
  },
  {
   "cell_type": "code",
   "execution_count": null,
   "id": "d85c8fda",
   "metadata": {},
   "outputs": [],
   "source": [
    "adata_ovary_combined.obs[\"Kctd14_Inhbb\"]"
   ]
  },
  {
   "cell_type": "code",
   "execution_count": null,
   "id": "2030830f",
   "metadata": {},
   "outputs": [],
   "source": [
    "sc.settings.set_figure_params(dpi=200, dpi_save=300, facecolor='white', fontsize=6, frameon=True, figsize=(4, 4), format=\"pdf\")\n",
    "sc.pl.spatial(adata_ovary_combined[adata_ovary_combined.obs[\"Sample\"] == \"Immature\"], color=[\"Kctd14_Inhbb\"], spot_size=30, frameon=False, wspace=0.3, na_color=\"lightgray\", na_in_legend=False, save=\"Kctd14_Inhbb\")"
   ]
  },
  {
   "cell_type": "code",
   "execution_count": null,
   "id": "4a1c0b12",
   "metadata": {},
   "outputs": [],
   "source": [
    "sc.settings.set_figure_params(dpi=200, dpi_save=300, facecolor='white', fontsize=6, frameon=True, figsize=(4, 4), format=\"pdf\")\n",
    "sc.pl.spatial(adata_ovary_combined[adata_ovary_combined.obs[\"Sample\"] == \"Immature\"], color=[\"Kctd14_Cfh\"], spot_size=30, frameon=False, wspace=0.3, na_color=\"lightgray\", na_in_legend=False, title=\"Kctd14_Cfh\", save=\"Kctd14_Cfh\")"
   ]
  },
  {
   "cell_type": "code",
   "execution_count": null,
   "id": "69eaf341",
   "metadata": {},
   "outputs": [],
   "source": [
    "adata_ovary_combined.obs[['Follicle', 'FollicleID']] = adata_ovary_combined.obs['FollicleNumber'].str.split('Follicle', n=1, expand=True)\n",
    "sc.settings.set_figure_params(dpi=200, dpi_save=300, facecolor='white', fontsize=6, frameon=True, figsize=(4, 4), format=\"pdf\")\n",
    "sc.pl.spatial(adata_ovary_combined[adata_ovary_combined.obs[\"Sample\"] == \"Immature\"], color=[\"FollicleID\"], spot_size=30, frameon=False, wspace=0.3, na_color=\"lightgray\", na_in_legend=False, title=\"FollicleID\", save=\"FollicleID\", legend_loc = \"on data\")"
   ]
  },
  {
   "cell_type": "code",
   "execution_count": null,
   "id": "50a7859a",
   "metadata": {},
   "outputs": [],
   "source": [
    "adata_ovary_combined[(adata_ovary_combined.obs[\"Sample\"] == \"Immature\") & (adata_ovary_combined.obs[\"FollicleID\"] == \"74\")]"
   ]
  },
  {
   "cell_type": "code",
   "execution_count": null,
   "id": "032a2925",
   "metadata": {},
   "outputs": [],
   "source": [
    "sc.settings.set_figure_params(dpi=200, dpi_save=300, facecolor='white', fontsize=6, frameon=True, figsize=(4, 4), format=\"pdf\")\n",
    "sc.pl.spatial(adata_ovary_combined[(adata_ovary_combined.obs[\"Sample\"] == \"Immature\") & (adata_ovary_combined.obs[\"FollicleID\"] == \"44\")], color=[\"phase\", \"Kctd14_Cfh\"], spot_size=30, frameon=False, wspace=0.3, na_color=\"lightgray\", na_in_legend=False, title=\"Phase\", save=\"atretic_zoom\")"
   ]
  },
  {
   "cell_type": "code",
   "execution_count": null,
   "id": "dff1693e",
   "metadata": {},
   "outputs": [],
   "source": [
    "adata_ovary_combined.obs[['Follicle', 'FollicleID']] = adata_ovary_combined.obs['FollicleNumber'].str.split('Follicle', n=1, expand=True)\n",
    "samples_dict = {\"Immature\": \"A0021_043\", \"0hr\": \"A0008_041\", \"1hr\": \"A0021_044\", \"4hr_replicate\": \"A0021_042\", \"6hr\": \"A0021_045\", \"8hr\": \"A0008_044\", \"11hr\": \"A0008_046\", \"12hr\": \"A0021_046\"}\n",
    "sc.settings.set_figure_params(dpi=300, dpi_save= 300, fontsize=10, facecolor='white', frameon=False, figsize=(2.0, 2.0), vector_friendly = True, transparent=True, format=\"pdf\")\n",
    "grouping_var = \"FollicleID\"\n",
    "fig, axs = plt.subplots(2,4, figsize = (16,8))\n",
    "for i, sample in enumerate(samples_dict.keys()):\n",
    "    subset = adata_ovary_combined[adata_ovary_combined.obs[\"Sample\"] == sample]\n",
    "#     subset.obs[grouping_var] = subset.obs[grouping_var].cat.set_categories(adata_ovary_combined.obs[grouping_var].cat.categories)\n",
    "#     print(subset.obs[grouping_var].cat.categories)\n",
    "    sc.pl.spatial(subset, color = [grouping_var], wspace= 0.0, hspace = 0.0, spot_size = 30, frameon=False, title=sample, show=False, ax=axs[int(i/4), int(i%4)], na_color=\"lightgray\", na_in_legend=False, legend_loc = \"on data\")\n",
    "plt.subplots_adjust(wspace=0, hspace=0)"
   ]
  },
  {
   "cell_type": "code",
   "execution_count": null,
   "id": "6569c557",
   "metadata": {},
   "outputs": [],
   "source": [
    "adata_ovary_combined[adata_ovary_combined.obs[\"Sample\"] == \"Immature\"].write_h5ad(\"./../pyobjs/immature_ovary.h5ad\")\n",
    "adata_ovary_combined[adata_ovary_combined.obs[\"Sample\"] == \"11hr\"].write_h5ad(\"./../pyobjs/11hr_ovary.h5ad\")\n",
    "adata_ovary_combined[adata_ovary_combined.obs[\"Sample\"] == \"12hr\"].write_h5ad(\"./../pyobjs/12hr_ovary.h5ad\")"
   ]
  },
  {
   "cell_type": "code",
   "execution_count": null,
   "id": "7bfb53e5",
   "metadata": {},
   "outputs": [],
   "source": [
    "adata_ovary_combined"
   ]
  },
  {
   "cell_type": "code",
   "execution_count": null,
   "id": "f9f1e983",
   "metadata": {},
   "outputs": [],
   "source": [
    "ovary_11hr = adata_ovary_combined[adata_ovary_combined.obs[\"Sample\"] == \"11hr\"]"
   ]
  },
  {
   "cell_type": "code",
   "execution_count": null,
   "id": "6ce1e300",
   "metadata": {},
   "outputs": [],
   "source": [
    "sc.settings.set_figure_params(dpi=200, dpi_save=300, facecolor='white', fontsize=6, frameon=True, figsize=(4, 4), format=\"pdf\")\n",
    "sc.pl.spatial(ovary_11hr, color=[\"mesenchyme_clusters\"], spot_size=30, frameon=False, wspace=0.3, na_color=\"lightgrey\", na_in_legend=False, title=\"Mesenchyme celltypes\", save=\"mesenchyme_celltypes_11hr\")"
   ]
  },
  {
   "cell_type": "code",
   "execution_count": null,
   "id": "f454d5c0",
   "metadata": {},
   "outputs": [],
   "source": [
    "sc.settings.set_figure_params(dpi=200, dpi_save= 300, fontsize=5, facecolor='white', frameon=False, figsize=(4.0, 2.0), vector_friendly = True, transparent=True, format=\"pdf\")\n",
    "sc.pl.spatial(adata_ovary_combined[adata_ovary_combined.obs[\"Sample\"] == \"Immature\"], color = [\"Kctd14\", \"Gas6\", \"Inhba\", \"Inhbb\", \"Ctgf\", \"Cfh\", \"Top2a\", \"Cdk1\"], wspace= 0.0, hspace= 0.0, spot_size = 30, ncols=4, frameon=False, cmap=sns.blend_palette([\"lightgrey\", sns.xkcd_rgb[\"black\"]], as_cmap=True), vmax='p99', save = \"immature_spatial_gene_plots.pdf\")  "
   ]
  },
  {
   "cell_type": "code",
   "execution_count": null,
   "id": "15380f94",
   "metadata": {},
   "outputs": [],
   "source": [
    "sc.settings.set_figure_params(dpi=200, dpi_save=300, facecolor='white', fontsize=6, frameon=True, figsize=(0.8, 0.8), format=\"pdf\")\n",
    "fig, axs = plt.subplots(2,4, figsize = (4,2))\n",
    "axs = axs.flatten()\n",
    "for i, gene in enumerate([\"Kctd14\", \"Gas6\", \"Inhba\", \"Inhbb\", \"Ctgf\", \"Cfh\", \"Top2a\", \"Cdk1\"]):\n",
    "    sc.pl.spatial(adata_ovary_combined[adata_ovary_combined.obs[\"Sample\"] == \"Immature\"], color=gene, spot_size=30, frameon=False, wspace=0.1, ncols=5, cmap=sns.blend_palette([\"lightgrey\", sns.xkcd_rgb[\"black\"]], as_cmap=True), vmax=\"p99.2\", ax=axs[i], show=False)\n",
    "    axs[i].set_title(axs[i].get_title(), pad=0)\n",
    "for i in range(1,9):\n",
    "    mappable = fig.axes[-i].collections[1]\n",
    "    colorBar = fig.axes[-i]\n",
    "    colorBar.remove()\n",
    "    plt.colorbar(mappable=mappable, ax=axs[-i],\n",
    "                 fraction=0.25, aspect=7,\n",
    "                 pad=0 ,shrink = 0.3)\n",
    "for i in range(1,9):\n",
    "    fig.axes[-i].tick_params(length = 2, pad = 0.0)\n",
    "    \n",
    "plt.subplots_adjust(wspace=0, hspace=0)\n",
    "# plt.show()\n",
    "plt.savefig(\"./figures/showimmature_spatial_gene_plots.pdf\")"
   ]
  },
  {
   "cell_type": "code",
   "execution_count": null,
   "id": "15917575",
   "metadata": {},
   "outputs": [],
   "source": [
    "sc.settings.set_figure_params(dpi=200, dpi_save=300, facecolor='white', fontsize=6, frameon=True, figsize=(1.1, 1.1), format=\"pdf\")\n",
    "fig, axs = plt.subplots(2,2, figsize = (2.2,2.2))\n",
    "axs = axs.flatten()\n",
    "for i, gene in enumerate([\"Ank1\", \"Aldh3b1\", \"Irx3\", \"Cacna1a\"]):\n",
    "    sc.pl.spatial(adata_ovary_combined[adata_ovary_combined.obs[\"Sample\"] == \"Immature\"], color=gene, spot_size=30, frameon=False, wspace=0.1, ncols=5, cmap=sns.blend_palette([\"lightgrey\", sns.xkcd_rgb[\"black\"]], as_cmap=True), vmax=\"p99.2\", ax=axs[i], show=False)\n",
    "    axs[i].set_title(axs[i].get_title(), pad=0)\n",
    "for i in range(1,5):\n",
    "    mappable = fig.axes[-i].collections[1]\n",
    "    colorBar = fig.axes[-i]\n",
    "    colorBar.remove()\n",
    "    plt.colorbar(mappable=mappable, ax=axs[-i],\n",
    "                 fraction=0.25, aspect=7, location = \"right\",\n",
    "                 pad=0 ,shrink = 0.3)\n",
    "for i in range(1,5):\n",
    "    fig.axes[-i].tick_params(length = 2, pad = 0.0)\n",
    "    \n",
    "plt.subplots_adjust(wspace=0, hspace=0)\n",
    "plt.tight_layout()\n",
    "# plt.show()\n",
    "plt.savefig(\"./figures/showimmature_spatial_gene_plots2.pdf\")"
   ]
  },
  {
   "cell_type": "code",
   "execution_count": null,
   "id": "f6ed0de4",
   "metadata": {},
   "outputs": [],
   "source": [
    "sc.settings.set_figure_params(dpi=200, dpi_save=300, facecolor='white', fontsize=6, frameon=True, figsize=(1.0, 1.0), format=\"pdf\")\n",
    "fig, axs = plt.subplots(1,2, figsize = (2.5,1.2))\n",
    "axs = axs.flatten()\n",
    "for i, gene in enumerate([\"Fam81a\", \"Wdr59\"]):\n",
    "    sc.pl.spatial(adata_ovary_combined[adata_ovary_combined.obs[\"Sample\"] == \"Immature\"], color=gene, spot_size=30, frameon=False, wspace=0.1, ncols=5, cmap=sns.blend_palette([\"lightgrey\", sns.xkcd_rgb[\"black\"]], as_cmap=True), vmax=\"p99.2\", ax=axs[i], show=False)\n",
    "    axs[i].set_title(axs[i].get_title(), pad=0)\n",
    "for i in range(1,3):\n",
    "    mappable = fig.axes[-i].collections[1]\n",
    "    colorBar = fig.axes[-i]\n",
    "    colorBar.remove()\n",
    "    plt.colorbar(mappable=mappable, ax=axs[-i],\n",
    "                 fraction=0.25, aspect=7, location = \"right\",\n",
    "                 pad=0 ,shrink = 0.3)\n",
    "for i in range(1,3):\n",
    "    fig.axes[-i].tick_params(length = 2, pad = 0.0)\n",
    "    \n",
    "plt.subplots_adjust(wspace=0, hspace=0)\n",
    "plt.tight_layout()\n",
    "# plt.show()\n",
    "plt.savefig(\"./figures/showimmature_spatial_gene_plots3.pdf\")"
   ]
  },
  {
   "cell_type": "code",
   "execution_count": null,
   "id": "bbb9a493",
   "metadata": {},
   "outputs": [],
   "source": [
    "sc.settings.set_figure_params(dpi=200, dpi_save=300, facecolor='white', fontsize=6, frameon=True, figsize=(1.0, 1.0), format=\"pdf\")\n",
    "fig, axs = plt.subplots(1,3, figsize = (2.5,1.2))\n",
    "axs = axs.flatten()\n",
    "for i, gene in enumerate([\"Serpina3a\", \"Lars2\", \"Enc1\"]):\n",
    "    sc.pl.spatial(adata_ovary_combined[adata_ovary_combined.obs[\"Sample\"] == \"0hr\"], color=gene, spot_size=30, frameon=False, wspace=0.1, ncols=5, cmap=sns.blend_palette([\"lightgrey\", sns.xkcd_rgb[\"black\"]], as_cmap=True), vmax=\"p99.9\", ax=axs[i], show=False)\n",
    "    axs[i].set_title(axs[i].get_title(), pad=0)\n",
    "for i in range(1,4):\n",
    "    mappable = fig.axes[-i].collections[1]\n",
    "    colorBar = fig.axes[-i]\n",
    "    colorBar.remove()\n",
    "    plt.colorbar(mappable=mappable, ax=axs[-i],\n",
    "                 fraction=0.25, aspect=7, location = \"right\",\n",
    "                 pad=0 ,shrink = 0.3)\n",
    "for i in range(1,4):\n",
    "    fig.axes[-i].tick_params(length = 2, pad = 0.0)\n",
    "    \n",
    "plt.subplots_adjust(wspace=0, hspace=0)\n",
    "plt.tight_layout()\n",
    "# plt.show()\n",
    "plt.savefig(\"./figures/early_hcg_0hour.pdf\")"
   ]
  },
  {
   "cell_type": "code",
   "execution_count": null,
   "id": "22dc9f0c",
   "metadata": {},
   "outputs": [],
   "source": [
    "sc.settings.set_figure_params(dpi=200, dpi_save=300, facecolor='white', fontsize=6, frameon=True, figsize=(1.0, 1.0), format=\"pdf\")\n",
    "fig, axs = plt.subplots(1,3, figsize = (2.5,1.2))\n",
    "axs = axs.flatten()\n",
    "for i, gene in enumerate([\"Serpina3a\", \"Lars2\", \"Enc1\"]):\n",
    "    sc.pl.spatial(adata_ovary_combined[adata_ovary_combined.obs[\"Sample\"] == \"1hr\"], color=gene, spot_size=30, frameon=False, wspace=0.1, ncols=5, cmap=sns.blend_palette([\"lightgrey\", sns.xkcd_rgb[\"black\"]], as_cmap=True), vmax=\"p99.2\", ax=axs[i], show=False)\n",
    "    axs[i].set_title(axs[i].get_title(), pad=0)\n",
    "for i in range(1,4):\n",
    "    mappable = fig.axes[-i].collections[1]\n",
    "    colorBar = fig.axes[-i]\n",
    "    colorBar.remove()\n",
    "    plt.colorbar(mappable=mappable, ax=axs[-i],\n",
    "                 fraction=0.25, aspect=7, location = \"right\",\n",
    "                 pad=0 ,shrink = 0.3)\n",
    "for i in range(1,4):\n",
    "    fig.axes[-i].tick_params(length = 2, pad = 0.0)\n",
    "    \n",
    "plt.subplots_adjust(wspace=0, hspace=0)\n",
    "plt.tight_layout()\n",
    "# plt.show()\n",
    "plt.savefig(\"./figures/early_hcg_1hour.pdf\")"
   ]
  },
  {
   "cell_type": "code",
   "execution_count": null,
   "id": "1b5cf293",
   "metadata": {},
   "outputs": [],
   "source": [
    "counts = adata_ovary_combined[~adata_ovary_combined.obs[\"Level1_max_pred_celltype\"].isin([\"\"])].obs.value_counts(subset=[\"Sample\", \"Level1_max_pred_celltype\"]).unstack()\n",
    "counts = counts.div(counts.sum(axis=1), axis=0)\n",
    "counts = pd.DataFrame(counts.stack().astype(\"float\"), columns=[\"Proportions\"])\n",
    "counts = counts.join(counts.index.to_frame())\n",
    "counts.index = [i for i in range(counts.shape[0])]\n",
    "counts[\"Celltype\"] = counts.apply(lambda x: x[\"Level1_max_pred_celltype\"].split(\"Level1_\")[1],axis=1)"
   ]
  },
  {
   "cell_type": "code",
   "execution_count": null,
   "id": "eb06bafc",
   "metadata": {},
   "outputs": [],
   "source": [
    "counts"
   ]
  },
  {
   "cell_type": "code",
   "execution_count": null,
   "id": "a4526eec",
   "metadata": {},
   "outputs": [],
   "source": [
    "counts[\"Celltype_group\"] = counts.apply(lambda x: x[\"Celltype\"].split(\"_\")[0],axis=1)"
   ]
  },
  {
   "cell_type": "code",
   "execution_count": null,
   "id": "286e1022",
   "metadata": {},
   "outputs": [],
   "source": [
    "sc.settings.set_figure_params(dpi_save = 400, dpi=300, fontsize=12, facecolor='white', frameon=True, transparent=True, format=\"pdf\")\n",
    "g, ax = plt.subplots(figsize=(15, 4.0))\n",
    "plt.ylim((0,0.55))\n",
    "plt.grid(b=None)\n",
    "ax.set_axisbelow(True)\n",
    "g = sns.barplot(x = \"Celltype\", y = \"Proportions\", data= counts, hue=\"Sample\", palette=\"Dark2\")\n",
    "ax.set_xticklabels(ax.get_xticklabels(), rotation=30, horizontalalignment='right')\n",
    "plt.legend(ncol=1, prop={'size': 16}, handletextpad=0.5, markerscale = 0.6, frameon = False, labelspacing = 0.0, loc = \"right\", bbox_to_anchor = (1.16,0.5))\n",
    "# g.set(ylim=(0, 1))\n",
    "plt.tight_layout()\n",
    "plt.show()"
   ]
  },
  {
   "cell_type": "code",
   "execution_count": null,
   "id": "24b9d470",
   "metadata": {},
   "outputs": [],
   "source": [
    "counts[\"Celltype\"] = counts[\"Celltype\"].astype('category')\n",
    "counts[\"Celltype\"] = counts[\"Celltype\"].cat.set_categories(['GC_Preantral', 'GC_Antral','GC_Estrous', 'GC_CL_Lytic', 'GC_Atretic',\n",
    "       'GC_CL_Active', 'GC_Mitotic', 'GC_Mural', \n",
    "         'M_Immature Theca', 'M_Steroidogenic Theca', \n",
    "        'M_Dividing Mesenchyme', 'M_Smooth Muscle', 'M_Pericyte',\n",
    "           'M_Medullary Stroma', 'M_Cortical Stroma',\n",
    "       'I_B_Cell', 'I_Dendritic_Cell', 'I_Granulocyte', 'I_Macrophage', 'I_T_Cell',\n",
    "        'EN_Blood', 'EN_Lymph', 'Epithelium', 'Oocyte'])"
   ]
  },
  {
   "cell_type": "code",
   "execution_count": null,
   "id": "b72a7801",
   "metadata": {},
   "outputs": [],
   "source": [
    "counts_subset = counts[counts[\"Celltype_group\"].isin([\"M\"])]\n",
    "counts_subset[\"Celltype\"] = counts_subset[\"Celltype\"].astype('category')\n",
    "counts_subset[\"Celltype\"] = counts_subset[\"Celltype\"].cat.set_categories(['M_Immature Theca', 'M_Steroidogenic Theca', \n",
    "        'M_Dividing Mesenchyme', 'M_Smooth Muscle', 'M_Pericyte',\n",
    "           'M_Medullary Stroma', 'M_Cortical Stroma'])"
   ]
  },
  {
   "cell_type": "code",
   "execution_count": null,
   "id": "9cbf57a6",
   "metadata": {},
   "outputs": [],
   "source": [
    "sc.settings.set_figure_params(dpi_save = 400, dpi=300, fontsize=12, facecolor='white', frameon=True, transparent=True, format=\"pdf\")\n",
    "g, ax = plt.subplots(figsize=(20, 4.0))\n",
    "plt.ylim((0,0.55))\n",
    "plt.grid(b=None)\n",
    "ax.set_axisbelow(True)\n",
    "g = sns.barplot(x = \"Celltype\", y = \"Proportions\", data= counts_subset, hue=\"Sample\", palette=\"Dark2\")\n",
    "ax.set_xticklabels(ax.get_xticklabels(), rotation=0, horizontalalignment='center')\n",
    "plt.legend(ncol=1, prop={'size': 16}, handletextpad=0.5, markerscale = 0.6, title = \"Sample\", labelspacing = 0.0, loc = \"right\", bbox_to_anchor = (1.12,0.5))\n",
    "g.set(ylim=(0, 0.50))\n",
    "plt.tight_layout()\n",
    "plt.show()"
   ]
  },
  {
   "cell_type": "code",
   "execution_count": null,
   "id": "cae8655f",
   "metadata": {},
   "outputs": [],
   "source": []
  },
  {
   "cell_type": "code",
   "execution_count": null,
   "id": "e320a34d",
   "metadata": {},
   "outputs": [],
   "source": []
  }
 ],
 "metadata": {
  "kernelspec": {
   "display_name": "Python 3 (ipykernel)",
   "language": "python",
   "name": "python3"
  },
  "language_info": {
   "codemirror_mode": {
    "name": "ipython",
    "version": 3
   },
   "file_extension": ".py",
   "mimetype": "text/x-python",
   "name": "python",
   "nbconvert_exporter": "python",
   "pygments_lexer": "ipython3",
   "version": "3.8.5"
  }
 },
 "nbformat": 4,
 "nbformat_minor": 5
}
