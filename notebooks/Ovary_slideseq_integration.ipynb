{
 "cells": [
  {
   "cell_type": "code",
   "execution_count": null,
   "id": "4cb17587",
   "metadata": {},
   "outputs": [],
   "source": [
    "import pandas as pd\n",
    "import matplotlib.pyplot as plt\n",
    "import seaborn as sns\n",
    "import scanpy as sc\n",
    "import numpy as np\n",
    "import scanpy.external as sce"
   ]
  },
  {
   "cell_type": "code",
   "execution_count": null,
   "id": "2a7e5f81",
   "metadata": {},
   "outputs": [],
   "source": [
    "sc.settings.verbosity = 3  \n",
    "# verbosity: errors (0), warnings (1), info (2), hints (3)\n",
    "sc.logging.print_versions()\n",
    "sc.settings.set_figure_params(dpi=80, facecolor='white', frameon=True, figsize=(5, 5))"
   ]
  },
  {
   "cell_type": "code",
   "execution_count": null,
   "id": "18efa711",
   "metadata": {},
   "outputs": [],
   "source": [
    "# samples_dict = {\"Immature\": \"A0021_043\", \"0hr\": \"A0008_041\", \"1hr\": \"A0021_044\", \"4hr\": \"A0008_045\", \"4hr_replicate\": \"A0021_042\", \"6hr\": \"A0021_045\", \"8hr\": \"A0008_044\", \"8hr_replicate\": \"A0021_038\", \"11hr\": \"A0008_046\", \"12hr\": \"A0021_046\"}\n",
    "samples_dict = {\"Immature\": \"A0021_043\", \"0hr\": \"A0008_041\", \"1hr\": \"A0021_044\", \"4hr\": \"A0021_042\", \"6hr\": \"A0021_045\", \"8hr\": \"A0008_044\", \"11hr\": \"A0008_046\", \"12hr\": \"A0021_046\"}"
   ]
  },
  {
   "cell_type": "code",
   "execution_count": null,
   "id": "6e5e7c67",
   "metadata": {},
   "outputs": [],
   "source": [
    "s_genes = list(pd.read_csv(\"./../../../../MouseInfection/s.genes.txt\")[\"x\"])\n",
    "g2m_genes = list(pd.read_csv(\"./../../../../MouseInfection/g2m.genes.txt\")[\"x\"])\n",
    "print(s_genes)\n",
    "print(g2m_genes)"
   ]
  },
  {
   "cell_type": "code",
   "execution_count": null,
   "id": "c6b7b1df",
   "metadata": {},
   "outputs": [],
   "source": [
    "adata_dict = dict()\n",
    "for sample in samples_dict.keys():\n",
    "        adata_dict[sample] = sc.read_h5ad(\"./../../pyobjs_github//adata_\"+ sample + \"_with_image_processed_undertissue_filtered_reprocessed_refiltered_processed.h5ad\")\n",
    "adata_dict"
   ]
  },
  {
   "cell_type": "code",
   "execution_count": null,
   "id": "d968d970",
   "metadata": {},
   "outputs": [],
   "source": [
    "adata_ovary_combined = adata_dict[list(samples_dict.keys())[0]].raw.to_adata().concatenate([adata_dict[x].raw.to_adata() for x in list(samples_dict.keys())[1:]], batch_key= \"Sample\", batch_categories=list(samples_dict.keys()))\n",
    "adata_ovary_combined\n",
    "del adata_dict"
   ]
  },
  {
   "cell_type": "code",
   "execution_count": null,
   "id": "4f3fe67b",
   "metadata": {},
   "outputs": [],
   "source": [
    "adata_ovary_combined.obs.rename(columns={\"leiden_1.0\": \"individual_leiden_1.0\", \n",
    "                                     \"leiden_1.2\": \"individual_leiden_1.2\",\n",
    "                                     \"leiden_1.5\": \"individual_leiden_1.5\"}, inplace=True)\n",
    "adata_ovary_combined"
   ]
  },
  {
   "cell_type": "code",
   "execution_count": null,
   "id": "bcb351a0",
   "metadata": {
    "scrolled": false
   },
   "outputs": [],
   "source": [
    "sc.pp.highly_variable_genes(adata_ovary_combined, max_mean=3, batch_key = \"Sample\")\n",
    "sc.pl.highly_variable_genes(adata_ovary_combined)\n",
    "sc.tl.score_genes_cell_cycle(adata_ovary_combined, s_genes=s_genes, g2m_genes=g2m_genes)\n",
    "adata_ovary_combined.raw = adata_ovary_combined\n",
    "adata_ovary_combined = adata_ovary_combined[:, adata_ovary_combined.var.highly_variable]\n",
    "print(adata_ovary_combined.shape)\n",
    "sc.pp.scale(adata_ovary_combined, max_value=10)\n",
    "sc.pp.pca(adata_ovary_combined, random_state= 0)\n",
    "sc.pl.pca_variance_ratio(adata_ovary_combined, n_pcs = 50)\n",
    "sc.pp.neighbors(adata_ovary_combined, n_pcs=20)\n",
    "sc.tl.umap(adata_ovary_combined)"
   ]
  },
  {
   "cell_type": "code",
   "execution_count": null,
   "id": "4e6fb8c2",
   "metadata": {},
   "outputs": [],
   "source": [
    "sc.settings.set_figure_params(dpi=200, dpi_save= 300, fontsize=8, facecolor='white', frameon=True, figsize=(2.0, 2.0), vector_friendly = False, transparent=True, format=\"pdf\")\n",
    "sc.pl.umap(adata_ovary_combined, color = [\"Sample\", \"individual_leiden_1.2\"], wspace= 0.5)"
   ]
  },
  {
   "cell_type": "code",
   "execution_count": null,
   "id": "c9e387f1",
   "metadata": {
    "scrolled": true
   },
   "outputs": [],
   "source": [
    "sc.settings.set_figure_params(dpi=200, dpi_save= 300, fontsize=8, facecolor='white', frameon=True, figsize=(2.0, 2.0), vector_friendly = False, transparent=True, format=\"pdf\")\n",
    "sc.pl.umap(adata_ovary_combined, color = [\"Sample\", \"individual_leiden_1.2\"], wspace= 0.5)"
   ]
  },
  {
   "cell_type": "code",
   "execution_count": null,
   "id": "b55e1054",
   "metadata": {},
   "outputs": [],
   "source": [
    "sce.pp.harmony_integrate(adata_ovary_combined, 'Sample')"
   ]
  },
  {
   "cell_type": "code",
   "execution_count": null,
   "id": "92475b9a",
   "metadata": {},
   "outputs": [],
   "source": [
    "sc.pp.neighbors(adata_ovary_combined, use_rep = \"X_pca_harmony\", n_pcs=50, key_added=\"harmony_nn\")\n",
    "sc.tl.umap(adata_ovary_combined, neighbors_key=\"harmony_nn\")"
   ]
  },
  {
   "cell_type": "code",
   "execution_count": null,
   "id": "e9799ab6",
   "metadata": {},
   "outputs": [],
   "source": [
    "sc.tl.leiden(adata_ovary_combined, key_added=\"leiden_1.0\", neighbors_key=\"harmony_nn\", resolution = 1.0)\n",
    "sc.tl.leiden(adata_ovary_combined, key_added=\"leiden_1.5\", neighbors_key=\"harmony_nn\", resolution = 1.5)"
   ]
  },
  {
   "cell_type": "code",
   "execution_count": null,
   "id": "01005e83",
   "metadata": {},
   "outputs": [],
   "source": [
    "sc.settings.set_figure_params(dpi=200, dpi_save= 300, fontsize=8, facecolor='white', frameon=True, figsize=(2.0, 2.0), vector_friendly = False, transparent=True, format=\"pdf\")\n",
    "sc.pl.umap(adata_ovary_combined, color = ['n_genes_by_counts', 'total_counts'], wspace= 0.4, palette=\"tab20\")"
   ]
  },
  {
   "cell_type": "code",
   "execution_count": null,
   "id": "6cc4eeb0",
   "metadata": {},
   "outputs": [],
   "source": [
    "sc.settings.set_figure_params(dpi=200, dpi_save= 300, fontsize=8, facecolor='white', frameon=True, figsize=(2.0, 2.0), vector_friendly = False, transparent=True, format=\"pdf\")\n",
    "sc.pl.umap(adata_ovary_combined, color = [\"Sample\", \"phase\", \"leiden_1.5\"], wspace= 0.6, palette=\"tab20\")"
   ]
  },
  {
   "cell_type": "code",
   "execution_count": null,
   "id": "31d2c928",
   "metadata": {},
   "outputs": [],
   "source": [
    "sc.settings.set_figure_params(dpi=300, dpi_save= 300, fontsize=10, facecolor='white', frameon=False, figsize=(2.0, 2.0), vector_friendly = False, transparent=True, format=\"pdf\")\n",
    "grouping_var = \"individual_leiden_1.5\"\n",
    "fig, axs = plt.subplots(2,4, figsize = (20,8))\n",
    "for i, sample in enumerate(samples_dict.keys()):\n",
    "    subset = adata_ovary_combined[adata_ovary_combined.obs[\"Sample\"] == sample]\n",
    "#     subset.obs[grouping_var] = subset.obs[grouping_var].cat.set_categories(adata_ovary_combined.obs[grouping_var].cat.categories)\n",
    "#     print(subset.obs[grouping_var].cat.categories)\n",
    "    if i == 1:\n",
    "        sc.pl.spatial(subset, color = [grouping_var], wspace= 0.0, hspace = 0.0, spot_size = 30, frameon=False, title=sample, show=False, ax=axs[int(i/4), int(i%4)], cmap=\"tab20\")\n",
    "        handles, labels = axs[int(i/5), int(i%5)].get_legend_handles_labels()\n",
    "        axs[int(i/5), int(i%5)].get_legend().remove()\n",
    "    else: \n",
    "        sc.pl.spatial(subset, color = [grouping_var], wspace= 0.0, hspace = 0.0, spot_size = 30, frameon=False, title=sample, show=False, legend_loc=\"none\", ax=axs[int(i/4), int(i%4)], cmap=\"tab20\")  \n",
    "fig.legend(handles, labels, loc='right', bbox_to_anchor = (0.98,0.5))\n",
    "plt.subplots_adjust(wspace=0, hspace=0)"
   ]
  },
  {
   "cell_type": "code",
   "execution_count": null,
   "id": "aaf6b158",
   "metadata": {},
   "outputs": [],
   "source": [
    "adata_ovary_combined.write_h5ad(\"./../../pyobjs_github/adata_ovary_combined_processed0.h5ad\")"
   ]
  },
  {
   "cell_type": "code",
   "execution_count": null,
   "id": "8ac8d75d",
   "metadata": {},
   "outputs": [],
   "source": [
    "adata_ovary_combined = sc.read_h5ad(\"./../../pyobjs_github/adata_ovary_combined_processed0.h5ad\")\n",
    "adata_ovary_combined"
   ]
  },
  {
   "cell_type": "code",
   "execution_count": null,
   "id": "b3c3b250",
   "metadata": {},
   "outputs": [],
   "source": [
    "adata_ovary_combined.obs[\"Sample\"].value_counts()"
   ]
  },
  {
   "cell_type": "code",
   "execution_count": null,
   "id": "79bbb7fa",
   "metadata": {},
   "outputs": [],
   "source": [
    "fig, axs = plt.subplots(2,4, figsize = (20,8))\n",
    "for i, sample in enumerate(samples_dict.keys()):\n",
    "    sc.settings.set_figure_params(dpi=200, dpi_save= 300, fontsize=10, facecolor='white', frameon=False, figsize=(2.0, 2.0), vector_friendly = False, transparent=True, format=\"pdf\")\n",
    "    sc.pl.spatial(adata_ovary_combined[adata_ovary_combined.obs[\"Sample\"] == sample], color = [\"Kctd14\"], wspace= 0.5, spot_size = 30, frameon=False, title=sample, show=False, ax=axs[int(i/4), int(i%4)], cmap=sns.blend_palette([\"lightgrey\", sns.xkcd_rgb[\"crimson\"]], as_cmap=True), vmax='p99.2')  "
   ]
  },
  {
   "cell_type": "code",
   "execution_count": null,
   "id": "8373aea2",
   "metadata": {},
   "outputs": [],
   "source": [
    "validation_markers = {\"Increase from immature to 0h and then decrease\" : [\"Cyp19a1\", \"Hsd3b1\"],\n",
    "                      \"Continuously increase from immature to 12h\" : [\"Vegfa\", \"Cebpb\"],\n",
    "                      \"Increase from immature to 4h and then decrease\" : [\"Lhcgr\", \"Star\"], \n",
    "                      \"Gene peaks at 12h\" : [\"Edn2\"],\n",
    "                      \"Gene peaks at 4hr\" : [\"Ptgs2\"],\n",
    "                      \"Gene peaks at 8hr\" : [\"Kdr\"]\n",
    "                     }"
   ]
  },
  {
   "cell_type": "code",
   "execution_count": null,
   "id": "e9dfc549",
   "metadata": {},
   "outputs": [],
   "source": [
    "sc.settings.set_figure_params(dpi=200, dpi_save= 300, fontsize=10, facecolor='white', frameon=False, figsize=(5.0,5.0), vector_friendly = False, transparent=True, format=\"pdf\")\n",
    "sc.pl.dotplot(adata_ovary_combined, validation_markers, groupby=\"Sample\", cmap=\"Blues\", var_group_rotation=90)"
   ]
  },
  {
   "cell_type": "code",
   "execution_count": null,
   "id": "1946a3bc",
   "metadata": {
    "scrolled": true
   },
   "outputs": [],
   "source": [
    "sc.tl.rank_genes_groups(adata_ovary_combined, 'leiden_1.5', key_added='rank_genes_groups_leiden_1.5')"
   ]
  },
  {
   "cell_type": "code",
   "execution_count": null,
   "id": "12067446",
   "metadata": {},
   "outputs": [],
   "source": [
    "result = adata_ovary_combined.uns['rank_genes_groups_leiden_1.5']\n",
    "groups = result['names'].dtype.names\n",
    "dge_results = pd.DataFrame(\n",
    "    {group + '_' + key: result[key][group]\n",
    "    for group in groups for key in ['names']}).head(100)\n",
    "print(dge_results.head(30))"
   ]
  },
  {
   "cell_type": "code",
   "execution_count": null,
   "id": "0e2572fb",
   "metadata": {},
   "outputs": [],
   "source": [
    "sc.settings.set_figure_params(dpi=200, dpi_save= 300, fontsize=20, facecolor='white', frameon=True, figsize=(2.0, 2.0), vector_friendly = False, transparent=True, format=\"pdf\")\n",
    "sc.pl.rank_genes_groups_dotplot(adata_ovary_combined, key=\"rank_genes_groups_leiden_1.5\", n_genes=5, values_to_plot='logfoldchanges', min_logfoldchange=1, vmax=7, vmin=-7, cmap='bwr')"
   ]
  },
  {
   "cell_type": "code",
   "execution_count": null,
   "id": "1b12bb2e",
   "metadata": {},
   "outputs": [],
   "source": [
    "adata_ovary_combined"
   ]
  },
  {
   "cell_type": "code",
   "execution_count": null,
   "id": "e1a7b752",
   "metadata": {},
   "outputs": [],
   "source": [
    "adata_ovary_combined.write_h5ad(\"./../../pyobjs_github/adata_ovary_combined_processed0.h5ad\")"
   ]
  },
  {
   "cell_type": "code",
   "execution_count": null,
   "id": "46deb8d3",
   "metadata": {},
   "outputs": [],
   "source": [
    "adata_ovary_combined = sc.read_h5ad(\"./../../pyobjs_github/adata_ovary_combined_processed0.h5ad\")\n",
    "adata_ovary_combined"
   ]
  },
  {
   "cell_type": "code",
   "execution_count": null,
   "id": "991affc5",
   "metadata": {},
   "outputs": [],
   "source": [
    "Level1_obsm = dict(sc.read_h5ad(\"./../pyobjs/ovary_cell2location_ss_combined_level1.h5ad\")[adata_ovary_combined.obs_names,:].obsm)\n",
    "Level1_uns = dict(sc.read_h5ad(\"./../pyobjs/ovary_cell2location_ss_combined_level1.h5ad\")[adata_ovary_combined.obs_names,:].uns)\n",
    "\n",
    "Level1_obsm['q05_cell_proportions'] = Level1_obsm['q05_cell_abundance_w_sf'].div(Level1_obsm['q05_cell_abundance_w_sf'].sum(axis=1), axis=0)\n",
    "# add 5% quantile, representing confident cell abundance, 'at least this amount is present',\n",
    "# to adata.obs with nice names for plotting\n",
    "adata_ovary_combined.obs[\"Level1_total_abundance\"] = Level1_obsm['q05_cell_abundance_w_sf'].sum(axis = 1)\n",
    "ct_list = list(Level1_uns['mod']['factor_names'])\n",
    "ct_list = [\"Level1_\" + x for x in ct_list]\n",
    "adata_ovary_combined.obs[ct_list] = Level1_obsm['q05_cell_proportions']\n",
    "# # for ct in ct_list:\n",
    "# #     data = adata_vis.obs[ct].values\n",
    "# #     adata_ovary_combined.obs[ct] = np.clip(data,0, np.quantile(data, 0.90))\n",
    "adata_ovary_combined.obs[\"Level1_max_pred\"] = adata_ovary_combined.obs[ct_list].max(axis=1)\n",
    "adata_ovary_combined.obs[\"Level1_max_pred_celltype\"] = adata_ovary_combined.obs[ct_list].idxmax(axis=1)\n",
    "adata_ovary_combined.obs[\"Level1_max_pred_celltype_group\"]  = [x.split(\"_\")[1] for x in adata_ovary_combined.obs[\"Level1_max_pred_celltype\"]]"
   ]
  },
  {
   "cell_type": "code",
   "execution_count": null,
   "id": "ce39caa1",
   "metadata": {},
   "outputs": [],
   "source": [
    "Level0_obsm = dict(sc.read_h5ad(\"./../pyobjs/ovary_cell2location_ss_combined_level0.h5ad\")[adata_ovary_combined.obs_names,:].obsm)\n",
    "Level0_uns = dict(sc.read_h5ad(\"./../pyobjs/ovary_cell2location_ss_combined_level0.h5ad\")[adata_ovary_combined.obs_names,:].uns)\n",
    "\n",
    "Level0_obsm['q05_cell_proportions'] = Level0_obsm['q05_cell_abundance_w_sf'].div(Level0_obsm['q05_cell_abundance_w_sf'].sum(axis=1), axis=0)\n",
    "# add 5% quantile, representing confident cell abundance, 'at least this amount is present',\n",
    "# to adata.obs with nice names for plotting\n",
    "adata_ovary_combined.obs[\"Level0_total_abundance\"] = Level0_obsm['q05_cell_abundance_w_sf'].sum(axis = 1)\n",
    "ct_list = list(Level0_uns['mod']['factor_names'])\n",
    "ct_list = [\"Level0_\" + x for x in ct_list]\n",
    "adata_ovary_combined.obs[ct_list] = Level0_obsm['q05_cell_proportions']\n",
    "# # for ct in ct_list:\n",
    "# #     data = adata_vis.obs[ct].values\n",
    "# #     adata_ovary_combined.obs[ct] = np.clip(data,0, np.quantile(data, 0.90))\n",
    "adata_ovary_combined.obs[\"Level0_max_pred\"] = adata_ovary_combined.obs[ct_list].max(axis=1)\n",
    "adata_ovary_combined.obs[\"Level0_max_pred_celltype\"] = adata_ovary_combined.obs[ct_list].idxmax(axis=1)\n"
   ]
  },
  {
   "cell_type": "code",
   "execution_count": null,
   "id": "5454d2d7",
   "metadata": {
    "scrolled": false
   },
   "outputs": [],
   "source": [
    "adata_ovary_combined.write_h5ad(\"./../../pyobjs_github/adata_ovary_combined_processed_deconvoluted_newscaling.h5ad\")"
   ]
  },
  {
   "cell_type": "code",
   "execution_count": null,
   "id": "451c0ef9",
   "metadata": {},
   "outputs": [],
   "source": [
    "adata_ovary_combined = sc.read_h5ad(\"./../../pyobjs_github/adata_ovary_combined_processed_deconvoluted_newscaling.h5ad\")\n",
    "adata_ovary_combined"
   ]
  },
  {
   "cell_type": "code",
   "execution_count": null,
   "id": "352ca38c",
   "metadata": {},
   "outputs": [],
   "source": [
    "adata_ovary_combined.obs[\"Coarse celltype\"] = [x.split(\"Level0_\")[1] for x in adata_ovary_combined.obs[\"Level0_max_pred_celltype\"]]\n",
    "adata_ovary_combined.obs[\"Coarse celltype\"] = adata_ovary_combined.obs[\"Coarse celltype\"].astype(str)\n",
    "adata_ovary_combined.obs[\"Coarse celltype\"] = adata_ovary_combined.obs[\"Coarse celltype\"].astype(\"category\")\n",
    "adata_ovary_combined.obs[\"Coarse celltype\"] = adata_ovary_combined.obs[\"Coarse celltype\"].cat.set_categories(['Endothelium', 'Epithelium', 'Granulosa', 'Mesenchyme', 'Immune' ,'Oocyte'])"
   ]
  },
  {
   "cell_type": "code",
   "execution_count": null,
   "id": "26ea1056",
   "metadata": {},
   "outputs": [],
   "source": [
    "adata_ovary_combined.obs[\"Coarse celltype\"].value_counts()"
   ]
  },
  {
   "cell_type": "code",
   "execution_count": null,
   "id": "e27218cc",
   "metadata": {
    "scrolled": false
   },
   "outputs": [],
   "source": [
    "sc.settings.set_figure_params(dpi=200, dpi_save= 300, fontsize=6, facecolor='white', frameon=False, figsize=(2.0, 2.0), vector_friendly = False, transparent=True, format=\"pdf\")\n",
    "grouping_var = \"Coarse celltype\"\n",
    "fig, axs = plt.subplots(2,4, figsize = (20,8))\n",
    "for i, sample in enumerate(samples_dict.keys()):\n",
    "    subset = adata_ovary_combined[adata_ovary_combined.obs[\"Sample\"] == sample]\n",
    "    subset.obs[grouping_var] = subset.obs[grouping_var].cat.set_categories(adata_ovary_combined.obs[grouping_var].cat.categories)\n",
    "    print(subset.obs[grouping_var].cat.categories)\n",
    "    if i == 0:\n",
    "        sc.pl.spatial(subset, color = [grouping_var], wspace= 0.5, spot_size = 30, frameon=False, title=sample, show=False, ax=axs[int(i/4), int(i%4)])\n",
    "        handles, labels = axs[int(i/4), int(i%4)].get_legend_handles_labels()\n",
    "        axs[int(i/4), int(i%4)].get_legend().remove()\n",
    "    else: \n",
    "        sc.pl.spatial(subset, color = [grouping_var], wspace= 0.5, spot_size = 30, frameon=False, title=sample, show=False, legend_loc=\"none\", ax=axs[int(i/4), int(i%4)])  \n",
    "fig.legend(handles, labels, ncol = 6, loc='lower center', bbox_to_anchor = (0.50,0.1), title = \"Coarse celltype\")\n",
    "plt.subplots_adjust(wspace=0, hspace=0)"
   ]
  },
  {
   "cell_type": "code",
   "execution_count": null,
   "id": "99015c1e",
   "metadata": {},
   "outputs": [],
   "source": [
    "adata_ovary_combined.obs[\"Level1_max_pred_celltype_group\"]  = [x.split(\"_\")[1] for x in adata_ovary_combined.obs[\"Level1_max_pred_celltype\"]]\n",
    "adata_ovary_combined.obs[\"Fine celltype\"] = [x.split(\"Level1_\")[1] for x in adata_ovary_combined.obs[\"Level1_max_pred_celltype\"]]\n",
    "adata_ovary_combined.obs[\"Fine celltype\"] = adata_ovary_combined.obs[\"Fine celltype\"].astype(str)\n",
    "adata_ovary_combined.obs[\"Fine celltype\"][adata_ovary_combined.obs[\"Level1_max_pred_celltype_group\"] == \"I\"] = \"Immune\"\n",
    "adata_ovary_combined.obs[\"Fine celltype\"] = adata_ovary_combined.obs[\"Fine celltype\"].astype(\"category\")"
   ]
  },
  {
   "cell_type": "code",
   "execution_count": null,
   "id": "3807c093",
   "metadata": {},
   "outputs": [],
   "source": [
    "adata_ovary_combined.obs[\"Fine celltype\"] = adata_ovary_combined.obs[\"Fine celltype\"].cat.set_categories(['GC_Preantral', 'GC_Antral','GC_Estrous', 'GC_CL_Lytic', 'GC_Atretic',\n",
    "       'GC_CL_Active', 'GC_Mitotic', 'GC_Mural', \n",
    "         'M_Immature Theca', 'M_Steroidogenic Theca', \n",
    "        'M_Dividing Mesenchyme', 'M_Smooth Muscle', 'M_Pericyte',\n",
    "           'M_Medullary Stroma', 'M_Cortical Stroma',\n",
    "        \"Immune\", 'EN_Blood', 'EN_Lymph', 'Epithelium', 'Oocyte'])"
   ]
  },
  {
   "cell_type": "code",
   "execution_count": null,
   "id": "12946d67",
   "metadata": {
    "scrolled": true
   },
   "outputs": [],
   "source": [
    "sc.settings.set_figure_params(dpi=300, dpi_save= 300, fontsize=10, facecolor='white', frameon=False, figsize=(2.0, 2.0), vector_friendly = False, transparent=True, format=\"pdf\")\n",
    "grouping_var = \"Fine celltype\"\n",
    "fig, axs = plt.subplots(2,4, figsize = (20,8))\n",
    "for i, sample in enumerate(samples_dict.keys()):\n",
    "    subset = adata_ovary_combined[adata_ovary_combined.obs[\"Sample\"] == sample]\n",
    "#     subset.obs[grouping_var] = subset.obs[grouping_var].cat.set_categories(adata_ovary_combined.obs[grouping_var].cat.categories)\n",
    "#     print(subset.obs[grouping_var].cat.categories)\n",
    "    if i == 1:\n",
    "        sc.pl.spatial(subset, color = [grouping_var], wspace= 0.0, hspace = 0.0, spot_size = 30, frameon=False, title=sample, show=False, ax=axs[int(i/4), int(i%4)])\n",
    "        handles, labels = axs[int(i/4), int(i%4)].get_legend_handles_labels()\n",
    "        axs[int(i/4), int(i%4)].get_legend().remove()\n",
    "    else: \n",
    "        sc.pl.spatial(subset, color = [grouping_var], wspace= 0.0, hspace = 0.0, spot_size = 30, frameon=False, title=sample, show=False, legend_loc=\"none\", ax=axs[int(i/4), int(i%4)])  \n",
    "fig.legend(handles, labels, ncol = 6, loc='lower center', bbox_to_anchor = (0.55, 0), title = \"Fine celltype\")\n",
    "plt.subplots_adjust(wspace=0, hspace=0)"
   ]
  },
  {
   "cell_type": "code",
   "execution_count": null,
   "id": "cae8655f",
   "metadata": {},
   "outputs": [],
   "source": [
    "adata_ovary_combined = sc.read_h5ad(\"./../../pyobjs_github/adata_ovary_combined_processed_deconvoluted_newscaling.h5ad\")\n",
    "adata_ovary_combined"
   ]
  },
  {
   "cell_type": "code",
   "execution_count": null,
   "id": "e320a34d",
   "metadata": {},
   "outputs": [],
   "source": [
    "for sample in samples_dict.keys():\n",
    "        print(adata_ovary_combined[adata_ovary_combined.obs[\"Sample\"] == sample].shape)\n",
    "        adata_ovary_combined[adata_ovary_combined.obs[\"Sample\"] == sample].write_h5ad(\"./../../pyobjs_github/adata_\"+ sample + \"_with_image_processed_undertissue_filtered_reprocessed_refiltered_integrated.h5ad\")          "
   ]
  },
  {
   "cell_type": "code",
   "execution_count": null,
   "id": "b1af48b5",
   "metadata": {},
   "outputs": [],
   "source": [
    "adata_dict[\"4hr\"].obs_names"
   ]
  },
  {
   "cell_type": "code",
   "execution_count": null,
   "id": "e08a5421",
   "metadata": {},
   "outputs": [],
   "source": [
    "adata_dict = dict()\n",
    "for sample in samples_dict.keys():\n",
    "        adata_dict[sample] = sc.read_h5ad(\"./../../pyobjs_github/adata_\"+ sample + \"_with_image_processed_undertissue_filtered_reprocessed_refiltered_integrated.h5ad\")\n",
    "        print(adata_dict[sample].shape)"
   ]
  },
  {
   "cell_type": "code",
   "execution_count": null,
   "id": "7d2cc5aa",
   "metadata": {},
   "outputs": [],
   "source": [
    "adata_ovary_combined = sc.read_h5ad(\"./../../pyobjs_github/adata_ovary_combined_processed_deconvoluted_newscaling.h5ad\")\n",
    "adata_ovary_combined.uns['log1p'] = {'base' : None}\n",
    "adata_ovary_combined"
   ]
  },
  {
   "cell_type": "code",
   "execution_count": null,
   "id": "4f6169a7",
   "metadata": {},
   "outputs": [],
   "source": [
    "sc.tl.rank_genes_groups(adata_ovary_combined, groupby=\"Coarse celltype\", key_added=\"rank_gene_groups_coarse_celltype\", pts=True)"
   ]
  },
  {
   "cell_type": "code",
   "execution_count": null,
   "id": "6d4a89f9",
   "metadata": {},
   "outputs": [],
   "source": [
    "sc.settings.set_figure_params(dpi=80, fontsize=16, facecolor='white', frameon=True, figsize=(8, 5))\n",
    "sc.pl.rank_genes_groups_dotplot(adata_ovary_combined, n_genes=10, key=\"rank_gene_groups_coarse_celltype\", values_to_plot='logfoldchanges', min_logfoldchange=1.0, cmap='bwr', vmin = -3, vmax = 3.0)"
   ]
  },
  {
   "cell_type": "code",
   "execution_count": null,
   "id": "712ca500",
   "metadata": {},
   "outputs": [],
   "source": [
    "result = adata_ovary_combined.uns['rank_gene_groups_Level0_max_pred_celltype']\n",
    "groups = result['names'].dtype.names\n",
    "dge_results = pd.DataFrame(\n",
    "    {group + '_' + key: result[key][group]\n",
    "    for group in groups for key in ['names', \"logfoldchanges\", \"pvals_adj\"]}).head(30)\n",
    "dge_results"
   ]
  },
  {
   "cell_type": "code",
   "execution_count": null,
   "id": "2147faf2",
   "metadata": {},
   "outputs": [],
   "source": []
  }
 ],
 "metadata": {
  "kernelspec": {
   "display_name": "Python 3 (ipykernel)",
   "language": "python",
   "name": "python3"
  },
  "language_info": {
   "codemirror_mode": {
    "name": "ipython",
    "version": 3
   },
   "file_extension": ".py",
   "mimetype": "text/x-python",
   "name": "python",
   "nbconvert_exporter": "python",
   "pygments_lexer": "ipython3",
   "version": "3.9.13"
  }
 },
 "nbformat": 4,
 "nbformat_minor": 5
}
