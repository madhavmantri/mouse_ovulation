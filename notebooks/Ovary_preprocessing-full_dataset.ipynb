{
 "cells": [
  {
   "cell_type": "code",
   "execution_count": 2,
   "id": "c621ab0b",
   "metadata": {},
   "outputs": [],
   "source": [
    "import pandas as pd\n",
    "import matplotlib.pyplot as plt\n",
    "import seaborn as sns\n",
    "import scanpy as sc\n",
    "import numpy as np"
   ]
  },
  {
   "cell_type": "code",
   "execution_count": 3,
   "id": "092bf673",
   "metadata": {
    "scrolled": true
   },
   "outputs": [
    {
     "name": "stdout",
     "output_type": "stream",
     "text": [
      "The history saving thread hit an unexpected error (OperationalError('database is locked')).History will not be written to the database.Hello World\n",
      "\n"
     ]
    }
   ],
   "source": [
    "print(\"Hello World\")"
   ]
  },
  {
   "cell_type": "code",
   "execution_count": 4,
   "id": "d204be58",
   "metadata": {},
   "outputs": [
    {
     "name": "stdout",
     "output_type": "stream",
     "text": [
      "-----\n",
      "anndata     0.9.1\n",
      "scanpy      1.9.3\n",
      "-----\n",
      "PIL                         9.1.1\n",
      "anyio                       NA\n",
      "asciitree                   NA\n",
      "attr                        21.2.0\n",
      "babel                       2.9.1\n",
      "backcall                    0.2.0\n",
      "brotli                      NA\n",
      "certifi                     2022.12.07\n",
      "cffi                        1.15.0\n",
      "charset_normalizer          2.0.7\n",
      "cloudpickle                 2.2.0\n",
      "colorama                    0.4.6\n",
      "cycler                      0.10.0\n",
      "cython_runtime              NA\n",
      "cytoolz                     0.12.1\n",
      "dask                        2023.5.1\n",
      "dateutil                    2.8.2\n",
      "debugpy                     1.5.0\n",
      "decorator                   5.1.1\n",
      "defusedxml                  0.7.1\n",
      "dill                        0.3.6\n",
      "entrypoints                 0.3\n",
      "fasteners                   0.18\n",
      "fastjsonschema              NA\n",
      "google                      NA\n",
      "h5py                        3.7.0\n",
      "idna                        3.3\n",
      "igraph                      0.10.3\n",
      "ipykernel                   6.4.1\n",
      "ipython_genutils            0.2.0\n",
      "ipywidgets                  7.7.1\n",
      "jedi                        0.18.0\n",
      "jinja2                      3.1.2\n",
      "joblib                      1.3.0\n",
      "json5                       NA\n",
      "jsonschema                  4.1.0\n",
      "jupyter_server              1.11.1\n",
      "jupyterlab_server           2.8.2\n",
      "kiwisolver                  1.4.3\n",
      "leidenalg                   0.9.1\n",
      "llvmlite                    0.40.0\n",
      "lz4                         4.3.2\n",
      "markupsafe                  2.0.1\n",
      "matplotlib                  3.6.2\n",
      "mpl_toolkits                NA\n",
      "msgpack                     1.0.4\n",
      "natsort                     8.2.0\n",
      "nbclassic                   NA\n",
      "nbformat                    5.1.3\n",
      "numba                       0.57.0\n",
      "numcodecs                   0.11.0\n",
      "numexpr                     2.8.4\n",
      "numpy                       1.24.3\n",
      "packaging                   22.0\n",
      "pandas                      1.5.2\n",
      "parso                       0.8.2\n",
      "pexpect                     4.8.0\n",
      "pickleshare                 0.7.5\n",
      "pkg_resources               NA\n",
      "prometheus_client           NA\n",
      "prompt_toolkit              3.0.20\n",
      "psutil                      5.9.1\n",
      "ptyprocess                  0.7.0\n",
      "pvectorc                    NA\n",
      "pyarrow                     12.0.0\n",
      "pydev_ipython               NA\n",
      "pydevconsole                NA\n",
      "pydevd                      2.4.1\n",
      "pydevd_concurrency_analyser NA\n",
      "pydevd_file_utils           NA\n",
      "pydevd_plugins              NA\n",
      "pydevd_tracing              NA\n",
      "pygments                    2.14.0\n",
      "pyparsing                   3.0.9\n",
      "pyrsistent                  NA\n",
      "pytz                        2021.1\n",
      "requests                    2.26.0\n",
      "scipy                       1.11.0\n",
      "seaborn                     0.12.2\n",
      "send2trash                  NA\n",
      "session_info                1.0.0\n",
      "simplejson                  3.18.3\n",
      "six                         1.16.0\n",
      "sklearn                     1.2.0\n",
      "sniffio                     1.2.0\n",
      "socks                       1.7.1\n",
      "sphinxcontrib               NA\n",
      "statsmodels                 0.13.5\n",
      "storemagic                  NA\n",
      "tblib                       1.7.0\n",
      "terminado                   0.12.1\n",
      "texttable                   1.6.7\n",
      "threadpoolctl               2.1.0\n",
      "tlz                         0.12.1\n",
      "toolz                       0.11.2\n",
      "torch                       1.12.0+cu102\n",
      "tornado                     6.1\n",
      "tqdm                        4.64.1\n",
      "traitlets                   5.1.0\n",
      "typing_extensions           NA\n",
      "urllib3                     1.26.7\n",
      "wcwidth                     0.2.5\n",
      "websocket                   1.2.1\n",
      "yaml                        6.0\n",
      "zarr                        2.13.3\n",
      "zipp                        NA\n",
      "zmq                         22.3.0\n",
      "zoneinfo                    NA\n",
      "-----\n",
      "IPython             7.28.0\n",
      "jupyter_client      7.0.6\n",
      "jupyter_core        4.8.1\n",
      "jupyterlab          3.2.0\n",
      "notebook            6.4.4\n",
      "-----\n",
      "Python 3.9.13 (main, Aug 25 2022, 23:26:10) [GCC 11.2.0]\n",
      "Linux-5.14.0-70.13.1.el9_0.x86_64-x86_64-with-glibc2.34\n",
      "-----\n",
      "Session information updated at 2023-08-22 01:37\n"
     ]
    }
   ],
   "source": [
    "sc.settings.verbosity = 3  \n",
    "# verbosity: errors (0), warnings (1), info (2), hints (3)\n",
    "sc.logging.print_versions()\n",
    "sc.settings.set_figure_params(dpi=80, facecolor='white', frameon=True, figsize=(5, 5))"
   ]
  },
  {
   "cell_type": "code",
   "execution_count": null,
   "id": "23121cc6",
   "metadata": {},
   "outputs": [],
   "source": [
    "# samples_dict = {\"Immature\": \"A0021_043\", \"0hr\": \"A0008_041\", \"1hr\": \"A0021_044\", \"4hr\": \"A0008_045\", \"4hr_replicate\": \"A0021_042\", \"6hr\": \"A0021_045\", \"8hr\": \"A0008_044\", \"8hr_replicate\": \"A0021_038\", \"11hr\": \"A0008_046\", \"12hr\": \"A0021_046\"}\n",
    "samples_dict = {\"Immature\": \"A0021_043\", \"0hr\": \"A0008_041\", \"1hr\": \"A0021_044\", \"4hr\": \"A0021_042\", \"6hr\": \"A0021_045\", \"8hr\": \"A0008_044\", \"11hr\": \"A0008_046\", \"12hr\": \"A0021_046\"}"
   ]
  },
  {
   "cell_type": "code",
   "execution_count": null,
   "id": "db180674",
   "metadata": {
    "scrolled": false
   },
   "outputs": [],
   "source": [
    "for sample in samples_dict.keys():\n",
    "        print(sample + \": \" + samples_dict[sample])\n",
    "        adata = sc.read_10x_mtx(path=\"./../STARsolo_counts/\" + sample + \"/\" + sample + \"Solo.out/Gene/raw/\")\n",
    "        print(adata.shape)\n",
    "        adata.obs_names = [(''.join(x.split(\"_\"))) for x in adata.obs_names]\n",
    "        barcodes_adata = pd.read_csv(\"./../whitelists/\" + samples_dict[sample] + \"_BeadBarcodes.txt\", delimiter=\"\\t\", names= [\"barcode\", \"x\", \"y\"])\n",
    "        barcodes_adata[[\"x\", \"y\"]].to_numpy()\n",
    "        barcodes_adata.index = barcodes_adata[\"barcode\"]\n",
    "        print(barcodes_adata.shape)\n",
    "        shared_barcodes_adata = list(set(adata.obs_names).intersection(set(barcodes_adata[\"barcode\"])))\n",
    "        adata = adata[shared_barcodes_adata]\n",
    "        barcodes_adata = barcodes_adata.reindex(adata.obs_names)\n",
    "        adata.obs = adata.obs.join(barcodes_adata)\n",
    "        adata.obsm[\"spatial\"] = barcodes_adata[[\"x\", \"y\"]].to_numpy()\n",
    "        adata.obs_names_make_unique()\n",
    "        adata.var_names_make_unique()\n",
    "\n",
    "        adata.var['mt'] = adata.var_names.str.startswith('mt-')  # annotate the group of mitochondrial genes as 'mt'\n",
    "        sc.pp.calculate_qc_metrics(adata, qc_vars=['mt'], percent_top=None, log1p=False, inplace=True)\n",
    "\n",
    "        sc.settings.set_figure_params(dpi_save= 400, fontsize=6, figsize=(3.0,3.0), facecolor='white', frameon=False, transparent=True, format=\"pdf\")\n",
    "        print(sample)\n",
    "        sc.pl.spatial(\n",
    "                adata,\n",
    "                color= [\"total_counts\", \"n_genes_by_counts\", \"pct_counts_mt\"],\n",
    "                spot_size=30, vmin=0, vmax='p99.2')\n",
    "        sc.settings.set_figure_params(dpi=80, facecolor='white', frameon=True, figsize=(5, 5))\n",
    "        print(adata.shape)\n",
    "        adata.write_h5ad(\"./../pyobjs/adata_\"+ sample + \"_with_image_raw_counts.h5ad\")"
   ]
  },
  {
   "cell_type": "code",
   "execution_count": null,
   "id": "7b197aaa",
   "metadata": {},
   "outputs": [],
   "source": [
    "adata_dict = dict()\n",
    "for sample in samples_dict.keys():\n",
    "        adata_dict[sample] = sc.read_h5ad(\"./../../pyobjs_github/adata_\"+ sample + \"_with_image_raw_counts.h5ad\")\n",
    "adata_dict"
   ]
  },
  {
   "cell_type": "code",
   "execution_count": null,
   "id": "efc6ada7",
   "metadata": {},
   "outputs": [],
   "source": [
    "for sample in adata_dict.keys():\n",
    "#         sc.settings.set_figure_params(dpi_save= 400, fontsize=6, figsize=(3.0,3.0), facecolor='white', frameon=False, transparent=True, format=\"pdf\")\n",
    "#         sc.pl.spatial(\n",
    "#                 adata_dict[sample],\n",
    "#                 color= [\"total_counts\", \"n_genes_by_counts\"],\n",
    "#                 spot_size=30, vmin=0, vmax='p99.2', wspace=0.1)\n",
    "#         sc.settings.set_figure_params(dpi=80, facecolor='white', frameon=True, figsize=(5, 5))\n",
    "        print(adata_dict[sample].shape)\n",
    "        sc.pp.filter_cells(adata_dict[sample], min_counts=100)\n",
    "        print(adata_dict[sample].shape)"
   ]
  },
  {
   "cell_type": "code",
   "execution_count": null,
   "id": "0caf18b1",
   "metadata": {
    "scrolled": true
   },
   "outputs": [],
   "source": [
    "# for sample in adata_dict.keys():\n",
    "#         print(adata_dict[sample].shape)\n",
    "#         adata_dict[sample].write_h5ad(\"./../pyobjs/adata_\"+ sample + \"_with_image_raw_counts_filtered.h5ad\")"
   ]
  },
  {
   "cell_type": "code",
   "execution_count": null,
   "id": "cff4a969",
   "metadata": {},
   "outputs": [],
   "source": [
    "adata_dict = dict()\n",
    "for sample in samples_dict.keys():\n",
    "        adata_dict[sample] = sc.read_h5ad(\"./../../pyobjs_github/adata_\"+ sample + \"_with_image_raw_counts_filtered.h5ad\")\n",
    "adata_dict"
   ]
  },
  {
   "cell_type": "code",
   "execution_count": null,
   "id": "4f8b499b",
   "metadata": {},
   "outputs": [],
   "source": [
    "adata_ovary_combined_raw_counts = adata_dict[list(samples_dict.keys())[0]].concatenate([adata_dict[x] for x in list(samples_dict.keys())[1:]], batch_key= \"Sample\", batch_categories=list(samples_dict.keys()))"
   ]
  },
  {
   "cell_type": "code",
   "execution_count": null,
   "id": "30c9605a",
   "metadata": {},
   "outputs": [],
   "source": [
    "sc.settings.set_figure_params(dpi=300, dpi_save= 300, fontsize=10, facecolor='white', frameon=False, figsize=(2.0, 2.0), vector_friendly = False, transparent=True, format=\"pdf\")\n",
    "grouping_var = \"total_counts\"\n",
    "fig, axs = plt.subplots(2,4, figsize = (20,8))\n",
    "for i, sample in enumerate(samples_dict.keys()):\n",
    "    subset = adata_ovary_combined_raw_counts[adata_ovary_combined_raw_counts.obs[\"Sample\"] == sample]\n",
    "    sc.pl.spatial(subset, color = [grouping_var], wspace= 0.0, hspace = 0.0, spot_size = 30, frameon=False, title=sample, show=False, ax=axs[int(i/4), int(i%4)], vmin=0, vmax='p99.2')  \n",
    "plt.subplots_adjust(wspace=0.1, hspace=0.05)"
   ]
  },
  {
   "cell_type": "code",
   "execution_count": null,
   "id": "11a37274",
   "metadata": {},
   "outputs": [],
   "source": [
    "# adata_ovary_combined_raw_counts = adata_dict[list(samples_dict.keys())[0]].concatenate([adata_dict[x] for x in list(samples_dict.keys())[1:]], batch_key= \"Sample\", batch_categories=list(samples_dict.keys()))\n",
    "# adata_ovary_combined_raw_counts.write_h5ad(\"./../../pyobjs_github/adata_ovary_combined_raw_counts_filtered.h5ad\")\n",
    "adata_ovary_combined_raw_counts = sc.read_h5ad(\"./../../pyobjs_github/adata_ovary_combined_raw_counts_filtered.h5ad\")\n",
    "adata_ovary_combined_raw_counts"
   ]
  },
  {
   "cell_type": "code",
   "execution_count": null,
   "id": "a02c62ae",
   "metadata": {
    "scrolled": true
   },
   "outputs": [],
   "source": [
    "for sample in adata_dict.keys():\n",
    "        sc.pp.normalize_total(adata_dict[sample], inplace=True)\n",
    "        sc.pp.log1p(adata_dict[sample])\n",
    "        sc.pp.highly_variable_genes(adata_dict[sample], max_mean=3, min_disp=0.2)\n",
    "        sc.pl.highly_variable_genes(adata_dict[sample])\n",
    "        adata_dict[sample].raw = adata_dict[sample]\n",
    "        adata_dict[sample] = adata_dict[sample][:, adata_dict[sample].var.highly_variable]\n",
    "        print(adata_dict[sample].shape)\n",
    "        sc.pp.regress_out(adata_dict[sample], [\"total_counts\"])\n",
    "        sc.pp.scale(adata_dict[sample], max_value=10)\n",
    "        sc.pp.pca(adata_dict[sample], random_state= 0)\n",
    "        sc.pl.pca_variance_ratio(adata_dict[sample], n_pcs = 50)\n",
    "        sc.pp.neighbors(adata_dict[sample], n_pcs=20)\n",
    "        sc.tl.umap(adata_dict[sample])\n",
    "        sc.tl.leiden(adata_dict[sample], key_added=\"leiden_1.0\", resolution = 1.0)\n",
    "        sc.tl.leiden(adata_dict[sample], key_added=\"leiden_1.2\", resolution = 1.2)\n",
    "        sc.tl.leiden(adata_dict[sample], key_added=\"leiden_1.5\", resolution = 1.5)"
   ]
  },
  {
   "cell_type": "code",
   "execution_count": null,
   "id": "7f837197",
   "metadata": {},
   "outputs": [],
   "source": [
    "adata_ovary_combined_raw_counts = adata_dict[list(samples_dict.keys())[0]].concatenate([adata_dict[x] for x in list(samples_dict.keys())[1:]], batch_key= \"Sample\", batch_categories=list(samples_dict.keys()))"
   ]
  },
  {
   "cell_type": "code",
   "execution_count": null,
   "id": "7900238c",
   "metadata": {
    "scrolled": false
   },
   "outputs": [],
   "source": [
    "sc.settings.set_figure_params(dpi=300, dpi_save= 300, fontsize=10, facecolor='white', frameon=False, figsize=(2.0, 2.0), vector_friendly = False, transparent=True, format=\"pdf\")\n",
    "grouping_var = \"leiden_1.5\"\n",
    "fig, axs = plt.subplots(2,5, figsize = (20,8))\n",
    "for i, sample in enumerate(samples_dict.keys()):\n",
    "    subset = adata_ovary_combined_raw_counts[adata_ovary_combined_raw_counts.obs[\"Sample\"] == sample]\n",
    "    sc.pl.spatial(subset, color = [grouping_var], wspace= 0.0, hspace = 0.0, spot_size = 30, frameon=False, title=sample, show=False, ax=axs[int(i/5), int(i%5)], vmin=0, vmax='p99.2')  \n",
    "plt.subplots_adjust(wspace=0.3, hspace=0.05)"
   ]
  },
  {
   "cell_type": "code",
   "execution_count": null,
   "id": "c091d382",
   "metadata": {
    "scrolled": false
   },
   "outputs": [],
   "source": [
    "for sample in adata_dict.keys():\n",
    "        sc.pl.spatial(adata_dict[sample], color=[\"leiden_1.0\", \"leiden_1.2\", \"leiden_1.5\"], spot_size=30, wspace=0.25)"
   ]
  },
  {
   "cell_type": "code",
   "execution_count": null,
   "id": "4774f29e",
   "metadata": {
    "scrolled": false
   },
   "outputs": [],
   "source": [
    "for sample in adata_dict.keys():\n",
    "        sc.pl.spatial(adata_dict[sample], color=[\"leiden_1.0\", \"leiden_1.2\", \"leiden_1.5\"], spot_size=30, wspace=0.25)"
   ]
  },
  {
   "cell_type": "code",
   "execution_count": null,
   "id": "5b115acf",
   "metadata": {},
   "outputs": [],
   "source": [
    "sc.pl.spatial(adata_dict[\"Immature\"][adata_dict[\"Immature\"].obs[\"leiden_1.2\"].isin([\"0\", \"4\"])], color=[\"leiden_1.2\"], spot_size=30)"
   ]
  },
  {
   "cell_type": "code",
   "execution_count": null,
   "id": "15fd7b10",
   "metadata": {},
   "outputs": [],
   "source": [
    "sc.pl.spatial(adata_dict[\"Immature\"][~adata_dict[\"Immature\"].obs[\"leiden_1.2\"].isin([\"0\", \"4\"])], color=[\"leiden_1.2\"], spot_size=30)"
   ]
  },
  {
   "cell_type": "code",
   "execution_count": null,
   "id": "5064cbb4",
   "metadata": {},
   "outputs": [],
   "source": [
    "sc.pl.spatial(adata_dict[\"Immature\"][adata_dict[\"Immature\"].obs[\"leiden_1.5\"].isin([\"0\", \"2\", \"11\"])], color=[\"leiden_1.5\"], spot_size=30)"
   ]
  },
  {
   "cell_type": "code",
   "execution_count": null,
   "id": "6b6fe7bc",
   "metadata": {},
   "outputs": [],
   "source": [
    "sc.pl.spatial(adata_dict[\"Immature\"][~adata_dict[\"Immature\"].obs[\"leiden_1.5\"].isin([\"0\", \"2\", \"11\"])], color=[\"leiden_1.5\"], spot_size=30)"
   ]
  },
  {
   "cell_type": "code",
   "execution_count": null,
   "id": "6899bc9c",
   "metadata": {},
   "outputs": [],
   "source": [
    "sc.settings.set_figure_params(dpi=200, dpi_save= 300, fontsize=10, facecolor='white', frameon=False, figsize=(2.0, 2.0), vector_friendly = False, transparent=True, format=\"pdf\")\n",
    "grouping_var = \"Selection\"\n",
    "fig, axs = plt.subplots(1,3, figsize = (20,8))\n",
    "sc.pl.spatial(adata_dict[\"0hr\"], color=[\"leiden_1.5\"], spot_size=30, ax = axs[0], show = False, title = \"All clusters\")\n",
    "sc.pl.spatial(adata_dict[\"0hr\"][adata_dict[\"0hr\"].obs[\"leiden_1.5\"].isin([\"0\", \"1\", \"2\", \"6\", \"11\"])], color=[\"leiden_1.5\"], spot_size=30, ax = axs[1], show= False, title = \"Smear clusters\")\n",
    "sc.pl.spatial(adata_dict[\"0hr\"][~adata_dict[\"0hr\"].obs[\"leiden_1.5\"].isin([\"0\", \"1\", \"2\", \"6\", \"11\"])], color=[\"leiden_1.5\"], spot_size=30, ax = axs[2], show= False, title =  \"Filtered data\" )\n",
    "plt.subplots_adjust(wspace=0.2, hspace=0)\n",
    "plt.show()"
   ]
  },
  {
   "cell_type": "code",
   "execution_count": null,
   "id": "59179cd3",
   "metadata": {},
   "outputs": [],
   "source": [
    "sc.pl.spatial(adata_dict[\"0hr\"][adata_dict[\"0hr\"].obs[\"leiden_1.5\"].isin([\"0\", \"1\", \"2\", \"6\", \"11\"])], color=[\"leiden_1.5\"], spot_size=30)"
   ]
  },
  {
   "cell_type": "code",
   "execution_count": null,
   "id": "24af6d12",
   "metadata": {},
   "outputs": [],
   "source": [
    "sc.pl.spatial(adata_dict[\"0hr\"][~adata_dict[\"0hr\"].obs[\"leiden_1.5\"].isin([\"0\", \"1\", \"2\", \"6\", \"11\"])], color=[\"leiden_1.5\"], spot_size=30, crop_coord=(1300, 5740, 755, 5000), wspace=0.3)"
   ]
  },
  {
   "cell_type": "code",
   "execution_count": null,
   "id": "7805ec5c",
   "metadata": {},
   "outputs": [],
   "source": [
    "sc.pl.spatial(adata_dict[\"1hr\"][adata_dict[\"1hr\"].obs[\"leiden_1.5\"].isin([\"0\", \"2\", \"3\"])], color=[\"leiden_1.5\"], spot_size=30)"
   ]
  },
  {
   "cell_type": "code",
   "execution_count": null,
   "id": "d9d331eb",
   "metadata": {},
   "outputs": [],
   "source": [
    "sc.pl.spatial(adata_dict[\"1hr\"][~adata_dict[\"1hr\"].obs[\"leiden_1.5\"].isin([\"0\", \"3\", \"2\"])], color=[\"leiden_1.5\"], spot_size=30)"
   ]
  },
  {
   "cell_type": "code",
   "execution_count": null,
   "id": "332ebe31",
   "metadata": {},
   "outputs": [],
   "source": [
    "sc.pl.spatial(adata_dict[\"4hr\"][adata_dict[\"4hr\"].obs[\"leiden_1.5\"].isin([\"4\", \"2\", \"6\", \"9\"])], color=[\"leiden_1.5\"], spot_size=30)"
   ]
  },
  {
   "cell_type": "code",
   "execution_count": null,
   "id": "f44d5edf",
   "metadata": {},
   "outputs": [],
   "source": [
    "sc.pl.spatial(adata_dict[\"4hr\"][~adata_dict[\"4hr\"].obs[\"leiden_1.5\"].isin([\"4\", \"2\", \"6\", \"9\"])], color=[\"leiden_1.5\"], spot_size=30)"
   ]
  },
  {
   "cell_type": "code",
   "execution_count": null,
   "id": "39124410",
   "metadata": {},
   "outputs": [],
   "source": [
    "sc.pl.spatial(adata_dict[\"4hr_replicate\"][adata_dict[\"4hr_replicate\"].obs[\"leiden_1.5\"].isin([\"0\",\"1\", \"8\", \"5\"])], color=[\"leiden_1.5\"], spot_size=30)"
   ]
  },
  {
   "cell_type": "code",
   "execution_count": null,
   "id": "93f144d0",
   "metadata": {},
   "outputs": [],
   "source": [
    "sc.pl.spatial(adata_dict[\"4hr_replicate\"][~adata_dict[\"4hr_replicate\"].obs[\"leiden_1.5\"].isin([\"0\",\"1\", \"8\", \"5\"])], color=[\"leiden_1.5\"], spot_size=30)"
   ]
  },
  {
   "cell_type": "code",
   "execution_count": null,
   "id": "8b7e85af",
   "metadata": {},
   "outputs": [],
   "source": [
    "sc.pl.spatial(adata_dict[\"6hr\"][adata_dict[\"6hr\"].obs[\"leiden_1.5\"].isin([\"0\", \"2\", \"4\", \"5\", \"8\", \"9\"])], color=[\"leiden_1.5\"], spot_size=30)\n"
   ]
  },
  {
   "cell_type": "code",
   "execution_count": null,
   "id": "13869be2",
   "metadata": {},
   "outputs": [],
   "source": [
    "sc.pl.spatial(adata_dict[\"6hr\"][~adata_dict[\"6hr\"].obs[\"leiden_1.5\"].isin([\"0\", \"2\", \"4\", \"5\", \"8\", \"9\"])], color=[\"leiden_1.5\"], spot_size=30)\n"
   ]
  },
  {
   "cell_type": "code",
   "execution_count": null,
   "id": "d01dc7d6",
   "metadata": {},
   "outputs": [],
   "source": [
    "sc.pl.spatial(adata_dict[\"8hr\"][adata_dict[\"8hr\"].obs[\"leiden_1.5\"].isin([\"0\", \"2\", \"6\", \"4\", \"10\", \"8\", \"12\", \"17\"])], color=[\"leiden_1.5\"], spot_size=30)\n"
   ]
  },
  {
   "cell_type": "code",
   "execution_count": null,
   "id": "4bcd7716",
   "metadata": {},
   "outputs": [],
   "source": [
    "sc.pl.spatial(adata_dict[\"8hr\"][~adata_dict[\"8hr\"].obs[\"leiden_1.5\"].isin([\"0\", \"2\", \"6\", \"4\", \"10\", \"8\", \"12\", \"17\"])], color=[\"leiden_1.5\"], spot_size=30, crop_coord=(1400, 5500, 700, 4800), wspace=0.4)\n"
   ]
  },
  {
   "cell_type": "code",
   "execution_count": null,
   "id": "920c5ab9",
   "metadata": {},
   "outputs": [],
   "source": [
    "sc.pl.spatial(adata_dict[\"8hr_replicate\"][adata_dict[\"8hr_replicate\"].obs[\"leiden_1.5\"].isin([\"0\", \"3\", \"7\"])], color=[\"leiden_1.5\"], spot_size=30)\n"
   ]
  },
  {
   "cell_type": "code",
   "execution_count": null,
   "id": "447b74e2",
   "metadata": {},
   "outputs": [],
   "source": [
    "sc.pl.spatial(adata_dict[\"8hr_replicate\"][~adata_dict[\"8hr_replicate\"].obs[\"leiden_1.5\"].isin([\"0\", \"3\", \"7\"])], color=[\"leiden_1.5\"], spot_size=30)\n"
   ]
  },
  {
   "cell_type": "code",
   "execution_count": null,
   "id": "1f9455f7",
   "metadata": {
    "scrolled": true
   },
   "outputs": [],
   "source": [
    "sc.pl.spatial(adata_dict[\"11hr\"][adata_dict[\"11hr\"].obs[\"leiden_1.5\"].isin([\"0\", \"2\", \"3\"])], color=[\"leiden_1.5\"], spot_size=30)"
   ]
  },
  {
   "cell_type": "code",
   "execution_count": null,
   "id": "3a178101",
   "metadata": {},
   "outputs": [],
   "source": [
    "sc.pl.spatial(adata_dict[\"11hr\"][~adata_dict[\"11hr\"].obs[\"leiden_1.5\"].isin([\"0\", \"2\", \"3\"])], color=[\"leiden_1.5\"], spot_size=30)"
   ]
  },
  {
   "cell_type": "code",
   "execution_count": null,
   "id": "36e97454",
   "metadata": {},
   "outputs": [],
   "source": [
    "sc.pl.spatial(adata_dict[\"12hr\"][adata_dict[\"12hr\"].obs[\"leiden_1.5\"].isin([\"0\", \"4\", \"10\"])], color=[\"leiden_1.5\"], spot_size=30)"
   ]
  },
  {
   "cell_type": "code",
   "execution_count": null,
   "id": "8e97149e",
   "metadata": {},
   "outputs": [],
   "source": [
    "sc.pl.spatial(adata_dict[\"12hr\"][~adata_dict[\"12hr\"].obs[\"leiden_1.5\"].isin([\"0\", \"4\", \"10\"])], color=[\"leiden_1.5\"], spot_size=30)"
   ]
  },
  {
   "cell_type": "code",
   "execution_count": null,
   "id": "6563d24c",
   "metadata": {},
   "outputs": [],
   "source": [
    "adata_dict[\"Immature\"] = adata_dict[\"Immature\"][~adata_dict[\"Immature\"].obs[\"leiden_1.5\"].isin([\"0\", \"2\", \"11\"])]\n",
    "adata_dict[\"0hr\"] = adata_dict[\"0hr\"][~adata_dict[\"0hr\"].obs[\"leiden_1.5\"].isin([\"0\", \"1\", \"2\", \"6\", \"11\"])]\n",
    "adata_dict[\"1hr\"] = adata_dict[\"1hr\"][~adata_dict[\"1hr\"].obs[\"leiden_1.5\"].isin([\"0\", \"3\", \"2\"])]\n",
    "adata_dict[\"4hr\"] = adata_dict[\"4hr\"][~adata_dict[\"4hr\"].obs[\"leiden_1.5\"].isin([\"4\", \"2\", \"6\", \"9\"])]\n",
    "adata_dict[\"4hr_replicate\"] = adata_dict[\"4hr_replicate\"][~adata_dict[\"4hr_replicate\"].obs[\"leiden_1.5\"].isin([\"0\",\"1\", \"8\", \"5\"])]\n",
    "adata_dict[\"6hr\"] = adata_dict[\"6hr\"][~adata_dict[\"6hr\"].obs[\"leiden_1.5\"].isin([\"0\", \"2\", \"4\", \"5\", \"8\", \"9\"])]\n",
    "adata_dict[\"8hr\"] = adata_dict[\"8hr\"][~adata_dict[\"8hr\"].obs[\"leiden_1.5\"].isin([\"0\", \"2\", \"6\", \"4\", \"10\", \"8\", \"12\", \"17\"])]\n",
    "adata_dict[\"8hr_replicate\"] = adata_dict[\"8hr_replicate\"][~adata_dict[\"8hr_replicate\"].obs[\"leiden_1.5\"].isin([\"0\", \"3\", \"7\"])]\n",
    "adata_dict[\"11hr\"] = adata_dict[\"11hr\"][~adata_dict[\"11hr\"].obs[\"leiden_1.5\"].isin([\"0\", \"2\", \"3\"])]\n",
    "adata_dict[\"12hr\"] = adata_dict[\"12hr\"][~adata_dict[\"12hr\"].obs[\"leiden_1.5\"].isin([\"0\", \"4\", \"10\"])]"
   ]
  },
  {
   "cell_type": "code",
   "execution_count": null,
   "id": "49f41ecd",
   "metadata": {},
   "outputs": [],
   "source": [
    "for sample in adata_dict.keys():\n",
    "        print(adata_dict[sample].shape)\n",
    "        adata_dict[sample].write_h5ad(\"./../pyobjs/adata_\"+ sample + \"_with_image_processed_undertissue.h5ad\")"
   ]
  },
  {
   "cell_type": "code",
   "execution_count": null,
   "id": "836555f3",
   "metadata": {},
   "outputs": [],
   "source": [
    "adata_dict = dict()\n",
    "for sample in samples_dict.keys():\n",
    "        adata_dict[sample] = sc.read_h5ad(\"./../pyobjs/adata_\"+ sample + \"_with_image_processed_undertissue.h5ad\")\n",
    "        adata_dict[sample].uns['log1p'][\"base\"] = None\n",
    "adata_dict"
   ]
  },
  {
   "cell_type": "code",
   "execution_count": null,
   "id": "b25d24af",
   "metadata": {},
   "outputs": [],
   "source": [
    "import scipy.spatial as scisp\n",
    "for sample in samples_dict.keys():\n",
    "    # Calculate euclidean distances\n",
    "    adata_dict[sample].obsm[\"spatial_distances\"] = scisp.distance.squareform(scisp.distance.pdist(adata_dict[sample].obsm['spatial']))\n",
    "    adata_dict[sample].obs[\"spatial_neighbors_100_true\"] = np.sum(adata_dict[sample].obsm[\"spatial_distances\"] < 100, axis=0)\n",
    "#     sc.pl.spatial(adata_dict[sample][adata_dict[sample].obs[\"spatial_neighbors_100_true\"] > 10,], color=[\"leiden_1.5\", \"spatial_neighbors_100_true\"], spot_size=30, wspace=0.25, title=\"\")\n"
   ]
  },
  {
   "cell_type": "code",
   "execution_count": null,
   "id": "fb102910",
   "metadata": {},
   "outputs": [],
   "source": [
    "for sample in samples_dict.keys():\n",
    "    sc.pl.spatial(adata_dict[sample][adata_dict[sample].obs[\"spatial_neighbors_100_true\"] < 10,], color=[\"leiden_1.5\", \"spatial_neighbors_100_true\"], spot_size=30, wspace=0.25, title=sample)\n",
    "    "
   ]
  },
  {
   "cell_type": "code",
   "execution_count": null,
   "id": "cbb76e5e",
   "metadata": {
    "scrolled": false
   },
   "outputs": [],
   "source": [
    "for sample in samples_dict.keys():\n",
    "    sc.pl.spatial(adata_dict[sample][adata_dict[sample].obs[\"spatial_neighbors_100_true\"] > 10,], color=[\"leiden_1.5\", \"spatial_neighbors_100_true\"], spot_size=30, wspace=0.25, title=sample)\n",
    "    "
   ]
  },
  {
   "cell_type": "code",
   "execution_count": null,
   "id": "47a3584c",
   "metadata": {},
   "outputs": [],
   "source": [
    "for sample in samples_dict.keys():\n",
    "    adata_dict[sample] = adata_dict[sample][adata_dict[sample].obs[\"spatial_neighbors_100_true\"] > 10,]"
   ]
  },
  {
   "cell_type": "code",
   "execution_count": null,
   "id": "8632c012",
   "metadata": {},
   "outputs": [],
   "source": [
    "for sample in adata_dict.keys():\n",
    "        print(adata_dict[sample].shape)\n",
    "        adata_dict[sample].write_h5ad(\"./../pyobjs/adata_\"+ sample + \"_with_image_processed_undertissue_filtered.h5ad\")"
   ]
  },
  {
   "cell_type": "code",
   "execution_count": null,
   "id": "8aa16f9f",
   "metadata": {},
   "outputs": [],
   "source": [
    "adata_dict = dict()\n",
    "for sample in samples_dict.keys():\n",
    "        adata_dict[sample] = sc.read_h5ad(\"./../pyobjs/adata_\"+ sample + \"_with_image_processed_undertissue_filtered.h5ad\")\n",
    "        adata_dict[sample].uns['log1p'][\"base\"] = None\n",
    "        adata_dict"
   ]
  },
  {
   "cell_type": "code",
   "execution_count": null,
   "id": "39849c5d",
   "metadata": {
    "scrolled": false
   },
   "outputs": [],
   "source": [
    "for sample in samples_dict.keys():\n",
    "        adata_dict[sample] = adata_dict[sample].raw.to_adata()\n",
    "        sc.pp.highly_variable_genes(adata_dict[sample], max_mean=3, min_disp=0.20)\n",
    "        sc.pl.highly_variable_genes(adata_dict[sample])\n",
    "        adata_dict[sample].raw = adata_dict[sample]\n",
    "        adata_dict[sample] = adata_dict[sample][:, adata_dict[sample].var.highly_variable]\n",
    "        print(adata_dict[sample].shape)\n",
    "        sc.pp.regress_out(adata_dict[sample], [\"total_counts\"])\n",
    "        sc.pp.scale(adata_dict[sample], max_value=10)\n",
    "        sc.pp.pca(adata_dict[sample], random_state= 0)\n",
    "        sc.pl.pca_variance_ratio(adata_dict[sample], n_pcs = 50)\n",
    "        sc.pp.neighbors(adata_dict[sample], n_pcs=20)\n",
    "        sc.tl.umap(adata_dict[sample])\n",
    "        sc.tl.leiden(adata_dict[sample], key_added=\"leiden_1.0\", resolution = 1.0)\n",
    "        sc.tl.leiden(adata_dict[sample], key_added=\"leiden_1.2\", resolution = 1.2)\n",
    "        sc.tl.leiden(adata_dict[sample], key_added=\"leiden_1.5\", resolution = 1.5)"
   ]
  },
  {
   "cell_type": "code",
   "execution_count": null,
   "id": "f687c20e",
   "metadata": {},
   "outputs": [],
   "source": [
    "for sample in adata_dict.keys():\n",
    "        print(adata_dict[sample].shape)\n",
    "        adata_dict[sample].write_h5ad(\"./../pyobjs/adata_\"+ sample + \"_with_image_processed_undertissue_filtered_reprocessed.h5ad\")\n"
   ]
  },
  {
   "cell_type": "code",
   "execution_count": null,
   "id": "7b15e0ca",
   "metadata": {},
   "outputs": [],
   "source": [
    "adata_dict = dict()\n",
    "for sample in samples_dict.keys():\n",
    "        adata_dict[sample] = sc.read_h5ad(\"./../pyobjs/adata_\"+ sample + \"_with_image_processed_undertissue_filtered_reprocessed.h5ad\")\n",
    "        adata_dict[sample].uns['log1p'][\"base\"] = None\n",
    "        adata_dict"
   ]
  },
  {
   "cell_type": "code",
   "execution_count": null,
   "id": "469ff164",
   "metadata": {
    "scrolled": false
   },
   "outputs": [],
   "source": [
    "for sample in samples_dict.keys():\n",
    "    sc.pl.spatial(adata_dict[sample], color=[\"leiden_1.5\"], spot_size=30, wspace=0.25, title=sample)\n",
    "    "
   ]
  },
  {
   "cell_type": "code",
   "execution_count": null,
   "id": "9fb930d4",
   "metadata": {},
   "outputs": [],
   "source": [
    "adata_dict[\"Immature\"] = adata_dict[\"Immature\"][~adata_dict[\"Immature\"].obs[\"leiden_1.5\"].isin([\"9\"])]\n",
    "# adata_dict[\"0hr\"] = adata_dict[\"0hr\"][~adata_dict[\"0hr\"].obs[\"leiden_1.5\"].isin([\"0\", \"1\", \"2\", \"6\", \"11\"])]\n",
    "# adata_dict[\"1hr\"] = adata_dict[\"1hr\"][~adata_dict[\"1hr\"].obs[\"leiden_1.5\"].isin([\"0\", \"3\", \"2\"])]\n",
    "adata_dict[\"4hr\"] = adata_dict[\"4hr\"][~adata_dict[\"4hr\"].obs[\"leiden_1.5\"].isin([\"4\"])]\n",
    "adata_dict[\"4hr_replicate\"] = adata_dict[\"4hr_replicate\"][~adata_dict[\"4hr_replicate\"].obs[\"leiden_1.5\"].isin([\"3\"])]\n",
    "# adata_dict[\"6hr\"] = adata_dict[\"6hr\"][~adata_dict[\"6hr\"].obs[\"leiden_1.5\"].isin([\"0\", \"2\", \"4\", \"5\", \"8\", \"9\"])]\n",
    "# adata_dict[\"8hr\"] = adata_dict[\"8hr\"][~adata_dict[\"8hr\"].obs[\"leiden_1.5\"].isin([\"0\", \"2\", \"6\", \"4\", \"10\", \"8\", \"12\", \"17\"])]\n",
    "adata_dict[\"8hr_replicate\"] = adata_dict[\"8hr_replicate\"][~adata_dict[\"8hr_replicate\"].obs[\"leiden_1.5\"].isin([\"5\", \"9\"])]\n",
    "adata_dict[\"11hr\"] = adata_dict[\"11hr\"][~adata_dict[\"11hr\"].obs[\"leiden_1.5\"].isin([\"1\", \"5\"])]\n",
    "adata_dict[\"12hr\"] = adata_dict[\"12hr\"][~adata_dict[\"12hr\"].obs[\"leiden_1.5\"].isin([\"2\", \"4\"])]"
   ]
  },
  {
   "cell_type": "code",
   "execution_count": null,
   "id": "ed91b71a",
   "metadata": {},
   "outputs": [],
   "source": [
    "for sample in samples_dict.keys():\n",
    "    sc.pl.spatial(adata_dict[sample], color=[\"leiden_1.5\"], spot_size=30, wspace=0.25, title=sample)\n",
    "    "
   ]
  },
  {
   "cell_type": "code",
   "execution_count": null,
   "id": "1f285b83",
   "metadata": {},
   "outputs": [],
   "source": [
    "import scipy.spatial as scisp\n",
    "for sample in samples_dict.keys():\n",
    "    # Calculate euclidean distances\n",
    "    adata_dict[sample].obsm[\"spatial_distances\"] = scisp.distance.squareform(scisp.distance.pdist(adata_dict[sample].obsm['spatial']))\n",
    "    adata_dict[sample].obs[\"spatial_neighbors_100_true\"] = np.sum(adata_dict[sample].obsm[\"spatial_distances\"] < 100, axis=0)\n",
    "#     sc.pl.spatial(adata_dict[sample][adata_dict[sample].obs[\"spatial_neighbors_100_true\"] > 10,], color=[\"leiden_1.5\", \"spatial_neighbors_100_true\"], spot_size=30, wspace=0.25, title=\"\")\n",
    "#     adata_dict[sample] = adata_dict[sample][adata_dict[sample].obs[\"spatial_neighbors_100_true\"] > 10,]"
   ]
  },
  {
   "cell_type": "code",
   "execution_count": null,
   "id": "11f6c7be",
   "metadata": {},
   "outputs": [],
   "source": [
    "for sample in samples_dict.keys():\n",
    "    sc.pl.spatial(adata_dict[sample][adata_dict[sample].obs[\"spatial_neighbors_100_true\"] < 10,], color=[\"leiden_1.5\", \"spatial_neighbors_100_true\"], spot_size=30, wspace=0.25, title=sample)\n",
    "    "
   ]
  },
  {
   "cell_type": "code",
   "execution_count": null,
   "id": "01f5af22",
   "metadata": {},
   "outputs": [],
   "source": [
    "for sample in samples_dict.keys():\n",
    "    sc.pl.spatial(adata_dict[sample][adata_dict[sample].obs[\"spatial_neighbors_100_true\"] > 10,], color=[\"leiden_1.5\", \"spatial_neighbors_100_true\"], spot_size=30, wspace=0.25, title=sample)\n",
    "    "
   ]
  },
  {
   "cell_type": "code",
   "execution_count": null,
   "id": "a9270197",
   "metadata": {},
   "outputs": [],
   "source": [
    "for sample in samples_dict.keys():\n",
    "    adata_dict[sample] = adata_dict[sample][adata_dict[sample].obs[\"spatial_neighbors_100_true\"] > 10,]"
   ]
  },
  {
   "cell_type": "code",
   "execution_count": null,
   "id": "2fcb6c76",
   "metadata": {},
   "outputs": [],
   "source": [
    "for sample in adata_dict.keys():\n",
    "        print(adata_dict[sample].shape)\n",
    "        adata_dict[sample].write_h5ad(\"./../pyobjs/adata_\"+ sample + \"_with_image_processed_undertissue_filtered_reprocessed_refiltered.h5ad\")"
   ]
  },
  {
   "cell_type": "code",
   "execution_count": null,
   "id": "0ed4e19c",
   "metadata": {},
   "outputs": [],
   "source": [
    "adata_dict = dict()\n",
    "for sample in samples_dict.keys():\n",
    "        adata_dict[sample] = sc.read_h5ad(\"./../pyobjs/adata_\"+ sample + \"_with_image_processed_undertissue_filtered_reprocessed_refiltered.h5ad\")\n",
    "adata_dict"
   ]
  },
  {
   "cell_type": "code",
   "execution_count": null,
   "id": "3cae814b",
   "metadata": {},
   "outputs": [],
   "source": [
    "adata_dict = dict()\n",
    "for sample in samples_dict.keys():\n",
    "        adata_dict[sample] = sc.read_h5ad(\"./../pyobjs/adata_\"+ sample + \"_with_image_raw_counts_filtered.h5ad\")[sc.read_h5ad(\"./../pyobjs/adata_\"+ sample + \"_with_image_processed_undertissue_filtered_reprocessed_refiltered.h5ad\").obs_names]    \n",
    "adata_dict"
   ]
  },
  {
   "cell_type": "code",
   "execution_count": null,
   "id": "1747a6ef",
   "metadata": {
    "scrolled": false
   },
   "outputs": [],
   "source": [
    "for sample in samples_dict.keys():\n",
    "        sc.pp.normalize_total(adata_dict[sample], target_sum=1e4, inplace=True)\n",
    "        sc.pp.log1p(adata_dict[sample])\n",
    "        sc.pp.highly_variable_genes(adata_dict[sample], max_mean=3)\n",
    "        sc.pl.highly_variable_genes(adata_dict[sample])\n",
    "        adata_dict[sample].raw = adata_dict[sample]\n",
    "        adata_dict[sample] = adata_dict[sample][:, adata_dict[sample].var.highly_variable]\n",
    "        print(adata_dict[sample].shape)\n",
    "        sc.pp.regress_out(adata_dict[sample], [\"total_counts\"])\n",
    "        sc.pp.scale(adata_dict[sample], max_value=10)\n",
    "        sc.pp.pca(adata_dict[sample], random_state= 0)\n",
    "        sc.pl.pca_variance_ratio(adata_dict[sample], n_pcs = 50)\n",
    "        sc.pp.neighbors(adata_dict[sample], n_pcs=20)\n",
    "        sc.tl.umap(adata_dict[sample])\n",
    "        sc.tl.leiden(adata_dict[sample], key_added=\"leiden_1.0\", resolution = 1.0)\n",
    "        sc.tl.leiden(adata_dict[sample], key_added=\"leiden_1.2\", resolution = 1.2)\n",
    "        sc.tl.leiden(adata_dict[sample], key_added=\"leiden_1.5\", resolution = 1.5)"
   ]
  },
  {
   "cell_type": "code",
   "execution_count": null,
   "id": "fe67f10f",
   "metadata": {
    "scrolled": false
   },
   "outputs": [],
   "source": [
    "for sample in samples_dict.keys():\n",
    "    sc.pl.spatial(adata_dict[sample], color=[\"leiden_1.0\", \"leiden_1.2\", \"leiden_1.5\"], spot_size=30, wspace=0.25, title=sample)"
   ]
  },
  {
   "cell_type": "code",
   "execution_count": null,
   "id": "dfcb4a68",
   "metadata": {},
   "outputs": [],
   "source": [
    "for sample in adata_dict.keys():\n",
    "        print(adata_dict[sample].shape)\n",
    "        adata_dict[sample].write_h5ad(\"./../pyobjs/adata_\"+ sample + \"_with_image_processed_undertissue_filtered_reprocessed_refiltered_processed.h5ad\")"
   ]
  },
  {
   "cell_type": "code",
   "execution_count": null,
   "id": "07577872",
   "metadata": {},
   "outputs": [],
   "source": [
    "# samples_dict = {\"Immature\": \"A0021_043\", \"0hr\": \"A0008_041\", \"1hr\": \"A0021_044\", \"4hr\": \"A0008_045\", \"4hr_replicate\": \"A0021_042\", \"6hr\": \"A0021_045\", \"8hr\": \"A0008_044\", \"8hr_replicate\": \"A0021_038\", \"11hr\": \"A0008_046\", \"12hr\": \"A0021_046\"}\n",
    "samples_dict = {\"Immature\": \"A0021_043\", \"0hr\": \"A0008_041\", \"1hr\": \"A0021_044\", \"4hr\": \"A0021_042\", \"6hr\": \"A0021_045\", \"8hr\": \"A0008_044\", \"11hr\": \"A0008_046\", \"12hr\": \"A0021_046\"}"
   ]
  },
  {
   "cell_type": "code",
   "execution_count": null,
   "id": "08df761b",
   "metadata": {},
   "outputs": [],
   "source": [
    "adata_dict = dict()\n",
    "for sample in samples_dict.keys():\n",
    "        adata_dict[sample] = sc.read_h5ad(\"./../../pyobjs_github/adata_\"+ sample + \"_with_image_processed_undertissue_filtered_reprocessed_refiltered_processed.h5ad\")\n",
    "# adata_dict"
   ]
  },
  {
   "cell_type": "code",
   "execution_count": null,
   "id": "dfbe4652",
   "metadata": {},
   "outputs": [],
   "source": [
    "sc.settings.set_figure_params(dpi=300, dpi_save= 300, fontsize=10, facecolor='white', frameon=False, figsize=(2.0, 2.0), vector_friendly = False, transparent=True, format=\"pdf\")\n",
    "grouping_var = \"total_counts\"\n",
    "fig, axs = plt.subplots(2,4, figsize = (20,8))\n",
    "for i, sample in enumerate(samples_dict.keys()):\n",
    "    sc.pl.spatial(adata_dict[sample], color = [grouping_var], wspace= 0.0, hspace = 0.0, spot_size = 30, frameon=False, title=sample, show=False, ax=axs[int(i/4), int(i%4)], vmin=0, vmax='p99.2')  \n",
    "plt.subplots_adjust(wspace=0.1, hspace=0.05)"
   ]
  },
  {
   "cell_type": "code",
   "execution_count": null,
   "id": "5d2f3330",
   "metadata": {},
   "outputs": [],
   "source": []
  }
 ],
 "metadata": {
  "kernelspec": {
   "display_name": "Python 3 (ipykernel)",
   "language": "python",
   "name": "python3"
  },
  "language_info": {
   "codemirror_mode": {
    "name": "ipython",
    "version": 3
   },
   "file_extension": ".py",
   "mimetype": "text/x-python",
   "name": "python",
   "nbconvert_exporter": "python",
   "pygments_lexer": "ipython3",
   "version": "3.9.13"
  }
 },
 "nbformat": 4,
 "nbformat_minor": 5
}
