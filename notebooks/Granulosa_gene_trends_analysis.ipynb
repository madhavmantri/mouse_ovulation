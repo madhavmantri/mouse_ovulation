{
 "cells": [
  {
   "cell_type": "code",
   "execution_count": 47,
   "id": "f07eca8f",
   "metadata": {},
   "outputs": [],
   "source": [
    "import scGAM as scGAM\n",
    "import gseapy"
   ]
  },
  {
   "cell_type": "code",
   "execution_count": 48,
   "id": "4cb17587",
   "metadata": {},
   "outputs": [],
   "source": [
    "import pandas as pd\n",
    "import matplotlib.pyplot as plt\n",
    "import seaborn as sns\n",
    "import scanpy as sc\n",
    "import numpy as np\n",
    "import scanpy.external as sce"
   ]
  },
  {
   "cell_type": "code",
   "execution_count": 49,
   "id": "28be2bd7",
   "metadata": {},
   "outputs": [],
   "source": [
    "from pygam import LinearGAM, s\n",
    "import numpy as np\n",
    "import pandas as pd\n",
    "import time\n",
    "from collections import OrderedDict\n",
    "from joblib import delayed, Parallel\n",
    "from sklearn.preprocessing import StandardScaler\n",
    "import scanpy as sc\n",
    "import seaborn as sns"
   ]
  },
  {
   "cell_type": "code",
   "execution_count": 50,
   "id": "cde69056",
   "metadata": {},
   "outputs": [],
   "source": [
    "import pygam"
   ]
  },
  {
   "cell_type": "code",
   "execution_count": 51,
   "id": "4fb60f91",
   "metadata": {},
   "outputs": [
    {
     "name": "stdout",
     "output_type": "stream",
     "text": [
      "0.8.0\n"
     ]
    }
   ],
   "source": [
    "print(pygam.__version__)"
   ]
  },
  {
   "cell_type": "code",
   "execution_count": 52,
   "id": "2a7e5f81",
   "metadata": {},
   "outputs": [
    {
     "name": "stdout",
     "output_type": "stream",
     "text": [
      "-----\n",
      "anndata     0.9.1\n",
      "scanpy      1.9.3\n",
      "-----\n",
      "PIL                         9.1.1\n",
      "anyio                       NA\n",
      "asciitree                   NA\n",
      "attr                        21.2.0\n",
      "babel                       2.9.1\n",
      "backcall                    0.2.0\n",
      "brotli                      NA\n",
      "certifi                     2022.12.07\n",
      "cffi                        1.15.0\n",
      "charset_normalizer          2.0.7\n",
      "cloudpickle                 2.2.0\n",
      "colorama                    0.4.6\n",
      "cycler                      0.10.0\n",
      "cython_runtime              NA\n",
      "cytoolz                     0.12.1\n",
      "dask                        2023.5.1\n",
      "dateutil                    2.8.2\n",
      "debugpy                     1.5.0\n",
      "decorator                   5.1.1\n",
      "defusedxml                  0.7.1\n",
      "dill                        0.3.6\n",
      "entrypoints                 0.3\n",
      "fasteners                   0.18\n",
      "fastjsonschema              NA\n",
      "google                      NA\n",
      "gseapy                      1.0.4\n",
      "h5py                        3.7.0\n",
      "idna                        3.3\n",
      "igraph                      0.10.3\n",
      "ipykernel                   6.4.1\n",
      "ipython_genutils            0.2.0\n",
      "ipywidgets                  7.7.1\n",
      "jedi                        0.18.0\n",
      "jinja2                      3.1.2\n",
      "joblib                      1.3.0\n",
      "json5                       NA\n",
      "jsonschema                  4.1.0\n",
      "jupyter_server              1.11.1\n",
      "jupyterlab_server           2.8.2\n",
      "kiwisolver                  1.4.3\n",
      "leidenalg                   0.9.1\n",
      "llvmlite                    0.40.0\n",
      "lz4                         4.3.2\n",
      "markupsafe                  2.0.1\n",
      "matplotlib                  3.6.2\n",
      "matplotlib_inline           NA\n",
      "mpl_toolkits                NA\n",
      "msgpack                     1.0.4\n",
      "natsort                     8.2.0\n",
      "nbclassic                   NA\n",
      "nbformat                    5.1.3\n",
      "numba                       0.57.0\n",
      "numcodecs                   0.11.0\n",
      "numexpr                     2.8.4\n",
      "numpy                       1.24.3\n",
      "packaging                   22.0\n",
      "pandas                      1.5.2\n",
      "parso                       0.8.2\n",
      "pexpect                     4.8.0\n",
      "pickleshare                 0.7.5\n",
      "pkg_resources               NA\n",
      "progressbar                 4.2.0\n",
      "prometheus_client           NA\n",
      "prompt_toolkit              3.0.20\n",
      "psutil                      5.9.1\n",
      "ptyprocess                  0.7.0\n",
      "pvectorc                    NA\n",
      "pyarrow                     12.0.0\n",
      "pycparser                   2.20\n",
      "pydev_ipython               NA\n",
      "pydevconsole                NA\n",
      "pydevd                      2.4.1\n",
      "pydevd_concurrency_analyser NA\n",
      "pydevd_file_utils           NA\n",
      "pydevd_plugins              NA\n",
      "pydevd_tracing              NA\n",
      "pygam                       0.8.0\n",
      "pygments                    2.14.0\n",
      "pyparsing                   3.0.9\n",
      "pyrsistent                  NA\n",
      "python_utils                NA\n",
      "pytz                        2021.1\n",
      "requests                    2.26.0\n",
      "scGAM                       NA\n",
      "scipy                       1.11.0\n",
      "seaborn                     0.12.2\n",
      "send2trash                  NA\n",
      "session_info                1.0.0\n",
      "simplejson                  3.18.3\n",
      "six                         1.16.0\n",
      "sklearn                     1.2.0\n",
      "sniffio                     1.2.0\n",
      "socks                       1.7.1\n",
      "sphinxcontrib               NA\n",
      "statsmodels                 0.13.5\n",
      "storemagic                  NA\n",
      "tblib                       1.7.0\n",
      "terminado                   0.12.1\n",
      "texttable                   1.6.7\n",
      "threadpoolctl               2.1.0\n",
      "tlz                         0.12.1\n",
      "toolz                       0.11.2\n",
      "torch                       1.12.0+cu102\n",
      "tornado                     6.1\n",
      "tqdm                        4.64.1\n",
      "traitlets                   5.1.0\n",
      "typing_extensions           NA\n",
      "urllib3                     1.26.7\n",
      "wcwidth                     0.2.5\n",
      "websocket                   1.2.1\n",
      "yaml                        6.0\n",
      "zarr                        2.13.3\n",
      "zipp                        NA\n",
      "zmq                         22.3.0\n",
      "zoneinfo                    NA\n",
      "-----\n",
      "IPython             7.28.0\n",
      "jupyter_client      7.0.6\n",
      "jupyter_core        4.8.1\n",
      "jupyterlab          3.2.0\n",
      "notebook            6.4.4\n",
      "-----\n",
      "Python 3.9.13 (main, Aug 25 2022, 23:26:10) [GCC 11.2.0]\n",
      "Linux-5.14.0-70.13.1.el9_0.x86_64-x86_64-with-glibc2.34\n",
      "-----\n",
      "Session information updated at 2023-12-08 12:48\n"
     ]
    }
   ],
   "source": [
    "sc.settings.verbosity = 3  \n",
    "# verbosity: errors (0), warnings (1), info (2), hints (3)\n",
    "sc.logging.print_versions()\n",
    "sc.settings.set_figure_params(dpi=80, facecolor='white', frameon=True, figsize=(5, 5))"
   ]
  },
  {
   "cell_type": "code",
   "execution_count": 55,
   "id": "18efa711",
   "metadata": {},
   "outputs": [],
   "source": [
    "# samples_dict = {\"Immature\": \"A0021_043\", \"0hr\": \"A0008_041\", \"1hr\": \"A0021_044\", \"4hr\": \"A0008_045\", \"4hr_replicate\": \"A0021_042\", \"6hr\": \"A0021_045\", \"8hr\": \"A0008_044\", \"8hr_replicate\": \"A0021_038\", \"11hr\": \"A0008_046\", \"12hr\": \"A0021_046\"}\n",
    "samples_dict = {\"Immature\": \"A0021_043\", \"0hr\": \"A0008_041\", \"1hr\": \"A0021_044\", \"4hr\": \"A0021_042\", \"6hr\": \"A0021_045\", \"8hr\": \"A0008_044\", \"11hr\": \"A0008_046\", \"12hr\": \"A0021_046\"}"
   ]
  },
  {
   "cell_type": "code",
   "execution_count": 56,
   "id": "6e5e7c67",
   "metadata": {},
   "outputs": [
    {
     "name": "stdout",
     "output_type": "stream",
     "text": [
      "['Mcm4', 'Exo1', 'Slbp', 'Gmnn', 'Cdc45', 'Msh2', 'Mcm6', 'Rrm2', 'Pold3', 'Blm', 'Ubr7', 'Mcm5', 'Clspn', 'Hells', 'Nasp', 'Rpa2', 'Rad51ap1', 'Tyms', 'Rrm1', 'Rfc2', 'Prim1', 'Brip1', 'Usp1', 'Ung', 'Pola1', 'Mcm2', 'Fen1', 'Tipin', 'Pcna', 'Cdca7', 'Uhrf1', 'Casp8ap2', 'Cdc6', 'Dscc1', 'Wdr76', 'E2f8', 'Dtl', 'Ccne2', 'Atad2', 'Gins2', 'Chaf1b', 'Pcna-ps2']\n",
      "['Nuf2', 'Psrc1', 'Ncapd2', 'Ccnb2', 'Smc4', 'Lbr', 'Tacc3', 'Cenpa', 'Kif23', 'Cdca2', 'Anp32e', 'G2e3', 'Cdca3', 'Anln', 'Cenpe', 'Gas2l3', 'Tubb4b', 'Cenpf', 'Dlgap5', 'Hjurp', 'Cks1brt', 'Gtse1', 'Bub1', 'Birc5', 'Ube2c', 'Rangap1', 'Hmmr', 'Ect2', 'Tpx2', 'Ckap5', 'Cbx5', 'Nek2', 'Ttk', 'Cdca8', 'Nusap1', 'Ctcf', 'Cdc20', 'Cks2', 'Mki67', 'Tmpo', 'Ckap2l', 'Aurkb', 'Kif2c', 'Cdk1', 'Kif20b', 'Top2a', 'Aurka', 'Ckap2', 'Hmgb2', 'Cdc25c', 'Ndc80', 'Kif11']\n"
     ]
    }
   ],
   "source": [
    "s_genes = list(pd.read_csv(\"./../../../../MouseInfection/s.genes.txt\")[\"x\"])\n",
    "g2m_genes = list(pd.read_csv(\"./../../../../MouseInfection/g2m.genes.txt\")[\"x\"])\n",
    "print(s_genes)\n",
    "print(g2m_genes)"
   ]
  },
  {
   "cell_type": "code",
   "execution_count": 53,
   "id": "cfda2d44",
   "metadata": {},
   "outputs": [
    {
     "data": {
      "text/plain": [
       "(121536, 2537)"
      ]
     },
     "execution_count": 53,
     "metadata": {},
     "output_type": "execute_result"
    }
   ],
   "source": [
    "adata_ovary_combined = sc.read_h5ad(\"./../../pyobjs_github/adata_ovary_combined_processed_deconvoluted_newscaling.h5ad\")\n",
    "adata_ovary_combined.uns['log1p'] = {'base' : None}\n",
    "adata_ovary_combined.shape"
   ]
  },
  {
   "cell_type": "code",
   "execution_count": 57,
   "id": "e488da6a",
   "metadata": {},
   "outputs": [
    {
     "data": {
      "text/plain": [
       "(58038, 31053)"
      ]
     },
     "execution_count": 57,
     "metadata": {},
     "output_type": "execute_result"
    }
   ],
   "source": [
    "granulosa = sc.read_h5ad(\"./../../pyobjs_github/granulosa1.h5ad\")\n",
    "granulosa.uns['log1p'] = {'base' : None}\n",
    "granulosa.shape"
   ]
  },
  {
   "cell_type": "code",
   "execution_count": 58,
   "id": "d2a38e8d",
   "metadata": {},
   "outputs": [],
   "source": [
    "adata_ovary_combined.obs[\"granulosa_celltypes_reduced\"] = adata_ovary_combined.obs[\"Level0_max_pred_celltype\"]\n",
    "adata_ovary_combined.obs[\"granulosa_celltypes_reduced\"] = adata_ovary_combined.obs[\"granulosa_celltypes_reduced\"].astype(str)\n",
    "adata_ovary_combined.obs.loc[granulosa.obs_names,\"granulosa_celltypes_reduced\"] = granulosa.obs[\"granulosa_celltypes_reduced\"]\n",
    "adata_ovary_combined.obs[\"granulosa_celltypes_reduced\"] = adata_ovary_combined.obs[\"granulosa_celltypes_reduced\"].astype(\"category\")"
   ]
  },
  {
   "cell_type": "code",
   "execution_count": null,
   "id": "98c184f9",
   "metadata": {},
   "outputs": [],
   "source": [
    "del adata_ovary_combined"
   ]
  },
  {
   "cell_type": "code",
   "execution_count": 59,
   "id": "87d2fd6c",
   "metadata": {},
   "outputs": [
    {
     "data": {
      "text/plain": [
       "(54508, 31053)"
      ]
     },
     "execution_count": 59,
     "metadata": {},
     "output_type": "execute_result"
    }
   ],
   "source": [
    "granulosa_mural = sc.read_h5ad(\"./../../pyobjs_github/granulosa_mural.h5ad\")\n",
    "granulosa_mural.uns['log1p'][\"base\"] = None\n",
    "granulosa_mural.shape"
   ]
  },
  {
   "cell_type": "code",
   "execution_count": 60,
   "id": "f042e829",
   "metadata": {},
   "outputs": [
    {
     "name": "stdout",
     "output_type": "stream",
     "text": [
      "ranking genes\n"
     ]
    },
    {
     "name": "stderr",
     "output_type": "stream",
     "text": [
      "/home/mm2937/.local/lib/python3.9/site-packages/scanpy/tools/_rank_genes_groups.py:580: ImplicitModificationWarning: Trying to modify attribute `._uns` of view, initializing view as actual.\n",
      "  adata.uns[key_added] = {}\n"
     ]
    },
    {
     "name": "stdout",
     "output_type": "stream",
     "text": [
      "    finished: added to `.uns['rank_gene_groups_granulosa_celltypes_follicle_type']`\n",
      "    'names', sorted np.recarray to be indexed by group ids\n",
      "    'scores', sorted np.recarray to be indexed by group ids\n",
      "    'logfoldchanges', sorted np.recarray to be indexed by group ids\n",
      "    'pvals', sorted np.recarray to be indexed by group ids\n",
      "    'pvals_adj', sorted np.recarray to be indexed by group ids (0:00:20)\n",
      "WARNING: Default of the method has been changed to 't-test' from 't-test_overestim_var'\n",
      "ranking genes\n",
      "    finished: added to `.uns['rank_gene_groups_granulosa_celltypes_reduced']`\n",
      "    'names', sorted np.recarray to be indexed by group ids\n",
      "    'scores', sorted np.recarray to be indexed by group ids\n",
      "    'logfoldchanges', sorted np.recarray to be indexed by group ids\n",
      "    'pvals', sorted np.recarray to be indexed by group ids\n",
      "    'pvals_adj', sorted np.recarray to be indexed by group ids (0:00:00)\n"
     ]
    }
   ],
   "source": [
    "granulosa_temp = granulosa_mural[granulosa_mural.obs[\"Sample\"] == \"Immature\"]\n",
    "sc.tl.rank_genes_groups(granulosa_temp, groupby=\"granulosa_celltypes_follicle_type\", method=\"wilcoxon\", key_added=\"rank_gene_groups_granulosa_celltypes_follicle_type\")\n",
    "sc.tl.rank_genes_groups(granulosa_temp, groupby=\"granulosa_celltypes_reduced\", key_added=\"rank_gene_groups_granulosa_celltypes_reduced\")"
   ]
  },
  {
   "cell_type": "code",
   "execution_count": null,
   "id": "3f786d6d",
   "metadata": {},
   "outputs": [],
   "source": [
    "result = granulosa_temp.uns['rank_gene_groups_granulosa_celltypes_follicle_type']\n",
    "groups = result['names'].dtype.names\n",
    "dge_results = pd.DataFrame(\n",
    "    {group + '_' + key: result[key][group]\n",
    "    for group in groups for key in ['names', \"logfoldchanges\", \"pvals_adj\"]})\n",
    "marker_list = list()\n",
    "for group in result['names'].dtype.names:\n",
    "    markers = sc.get.rank_genes_groups_df(granulosa_temp, key='rank_gene_groups_granulosa_celltypes_follicle_type', group = group)\n",
    "    markers[\"celltypes\"] = group\n",
    "    marker_list.append(markers)\n",
    "df = marker_list[1]\n",
    "df = df.set_index(\"names\")\n",
    "df.to_csv(\"./../pyobjs/Immature_rank_gene_groups_granulosa_celltypes_reduced.csv\")"
   ]
  },
  {
   "cell_type": "code",
   "execution_count": null,
   "id": "419a3ba2",
   "metadata": {},
   "outputs": [],
   "source": [
    "sc.tl.dendrogram(granulosa_temp, groupby=\"granulosa_celltypes_reduced\")\n",
    "sc.settings.set_figure_params(dpi=300, dpi_save= 300, fontsize=6, facecolor='white', frameon=False, figsize=(2.0, 2.0), vector_friendly = False, transparent=True, format=\"pdf\")\n",
    "sc.pl.rank_genes_groups_matrixplot(granulosa_temp, key=\"rank_gene_groups_granulosa_celltypes_follicle_type\", n_genes=10, cmap='RdBu_r', values_to_plot=\"logfoldchanges\", min_logfoldchange=1.0, save=\"rank_gene_groups_granulosa_celltypes_follicle_type\", figsize = (6,0.4))\n",
    "sc.settings.set_figure_params(dpi=80, facecolor='white', frameon=True, figsize=(2, 2))"
   ]
  },
  {
   "cell_type": "code",
   "execution_count": 41,
   "id": "a9766383",
   "metadata": {},
   "outputs": [],
   "source": [
    "def plot_2_genes_spatial_prep(adata, gene1, gene2, detection_threshold = 0.5, use_raw = True):\n",
    "    pairs_d = {(True, True): \"Both expressed\",\n",
    "               (True, False): f\"{gene1} not {gene2}\",\n",
    "               (False, True): f\"{gene2} not {gene1}\",\n",
    "               (False, False): \"Neither expressed\"}\n",
    "    if use_raw:\n",
    "        adata.obs[f\"{gene1}_{gene2}\"] = [pairs_d[x] for x in zip(adata.raw.to_adata().to_df()[gene1] > detection_threshold, adata.raw.to_adata().to_df()[gene2] > detection_threshold)]\n",
    "    else:\n",
    "        adata.obs[f\"{gene1}_{gene2}\"] = [pairs_d[x] for x in zip(adata.to_df()[gene1] > detection_threshold, adata.to_df()[gene2] > detection_threshold)]\n",
    "    print(f\"{gene1}_{gene2}\" + \" added to .obs\")\n",
    "    return adata"
   ]
  },
  {
   "cell_type": "code",
   "execution_count": 42,
   "id": "4a386826",
   "metadata": {},
   "outputs": [],
   "source": [
    "def plot_2_gene_programs_spatial_prep(adata, gene_dict1 , gene_dict2, detection_threshold = 0.5, use_raw = True):\n",
    "    pairs_d = {(True, True): \"Both expressed\",\n",
    "               (True, False): f\"{list(gene_dict1.keys())[0]} not {list(gene_dict2.keys())[0]}\",\n",
    "               (False, True): f\"{list(gene_dict2.keys())[0]} not {list(gene_dict1.keys())[0]}\",\n",
    "               (False, False): \"Neither expressed\"}\n",
    "    if use_raw:\n",
    "        adata.obs[f\"{list(gene_dict1.keys())[0]}_{list(gene_dict2.keys())[0]}\"] = [pairs_d[x] for x in zip(adata.raw.to_adata().to_df()[list(gene_dict1.values())[0]].sum(axis = 1) > detection_threshold, adata.raw.to_adata().to_df()[list(gene_dict2.values())[0]].sum(axis = 1) > detection_threshold)]\n",
    "    else:\n",
    "        adata.obs[f\"{list(gene_dict1.keys())[0]}_{list(gene_dict2.keys())[0]}\"] = [pairs_d[x] for x in zip(adata.to_df()[list(gene_dict1.values())[0]].sum(axis = 1) > detection_threshold, adata.to_df()[list(gene_dict2.values())[0]].sum(axis = 1) > detection_threshold)]\n",
    "    print(f\"{gene1}_{gene2}\" + \" added to .obs\")\n",
    "    return adata"
   ]
  },
  {
   "cell_type": "code",
   "execution_count": null,
   "id": "ed877fe8",
   "metadata": {},
   "outputs": [],
   "source": [
    "granulosa_temp = plot_2_genes_spatial_prep(granulosa_temp, gene1=\"Kctd14\", gene2=\"Inhbb\", detection_threshold = 0.1, use_raw=False)\n",
    "\n",
    "# granulosa_mural = plot_2_gene_programs_spatial_prep(granulosa_temp,\n",
    "#                                                     gene_dict1={\"Preantral\": [\"Kctd14\", \"Slc18a2\"]},\n",
    "#                                                     gene_dict2={\"Antral\": [\"Inhbb\", \"Inhba\"]}, detection_threshold=2.0)"
   ]
  },
  {
   "cell_type": "code",
   "execution_count": null,
   "id": "c3daaec5",
   "metadata": {},
   "outputs": [],
   "source": [
    "sc.tl.rank_genes_groups(granulosa_temp, groupby=\"Kctd14_Inhbb\", key_added=\"Kctd14_Inhbb_markers\", method=\"wilcoxon\")"
   ]
  },
  {
   "cell_type": "code",
   "execution_count": null,
   "id": "c8a6c218",
   "metadata": {},
   "outputs": [],
   "source": [
    "result = granulosa_temp.uns['Kctd14_Inhbb_markers']\n",
    "groups = result['names'].dtype.names\n",
    "dge_results = pd.DataFrame(\n",
    "    {group + '_' + key: result[key][group]\n",
    "    for group in groups for key in ['names', \"logfoldchanges\", \"pvals\", \"pvals_adj\"]})"
   ]
  },
  {
   "cell_type": "code",
   "execution_count": null,
   "id": "82951f0d",
   "metadata": {},
   "outputs": [],
   "source": [
    "dge_results.head(20)"
   ]
  },
  {
   "cell_type": "code",
   "execution_count": null,
   "id": "e502793d",
   "metadata": {},
   "outputs": [],
   "source": [
    "sc.tl.dendrogram(granulosa_temp, groupby=\"Kctd14_Inhbb\")\n",
    "sc.settings.set_figure_params(dpi=300, dpi_save= 300, fontsize=6, facecolor='white', frameon=False, figsize=(1.0, 1.0), vector_friendly = False, transparent=True, format=\"pdf\")\n",
    "sc.pl.rank_genes_groups_matrixplot(granulosa_temp, key=\"Kctd14_Inhbb_markers\", n_genes=10, cmap='RdBu_r', values_to_plot=\"logfoldchanges\", min_logfoldchange=1.5, vmin = -3, vmax = 3, save = \"Kctd_inhbb_subtype_markers\", figsize = (6,0.5))"
   ]
  },
  {
   "cell_type": "code",
   "execution_count": null,
   "id": "bd262498",
   "metadata": {},
   "outputs": [],
   "source": [
    "double_positive_markers = sc.get.rank_genes_groups_df(granulosa_temp, key='Kctd14_Inhbb_markers', group = \"Both expressed\")\n",
    "double_positive_markers = double_positive_markers[double_positive_markers[\"pvals\"] < 0.05]\n",
    "double_positive_markers = double_positive_markers[double_positive_markers[\"logfoldchanges\"] > 1.5]\n",
    "# double_positive_markers = double_positive_markers.sort_values(by=\"logfoldchanges\", ascending=False)\n",
    "double_positive_markers.head(30)"
   ]
  },
  {
   "cell_type": "code",
   "execution_count": null,
   "id": "768568ce",
   "metadata": {},
   "outputs": [],
   "source": [
    "sc.settings.set_figure_params(dpi=300, dpi_save= 300, fontsize=8, facecolor='white', frameon=False, figsize=(2.0,2.0), vector_friendly = True, transparent=True, format=\"pdf\")\n",
    "sc.pl.spatial(granulosa_temp, color=[\"Ank1\", \"Aldh3b1\", \"Irx3\", \"Cacna1a\"], spot_size=30, ncols=2, wspace=0.1, cmap=\"Blues\")"
   ]
  },
  {
   "cell_type": "code",
   "execution_count": null,
   "id": "7c545daa",
   "metadata": {},
   "outputs": [],
   "source": [
    "freq_table = granulosa_temp.obs.groupby(['FollicleNumber', \"Follicle_type\", \"phase\"]).size().reset_index(name='count')\n",
    "freq_table['total_count'] = freq_table.groupby(['FollicleNumber', \"Follicle_type\"])['count'].transform('sum')\n",
    "freq_table['proportion'] = freq_table['count'] / freq_table['total_count']\n",
    "# freq_table[\"Follicle_type\"] = freq_table[\"Follicle_type\"].cat.remove_categories([\"Lytic\"])\n",
    "# freq_table[\"Follicle_type\"] = freq_table[\"Follicle_type\"].cat.reorder_categories([\"Preantral\", \"Antral\", \"Atretic\", \"Transitioning\"])\n",
    "freq_table = freq_table[freq_table[\"count\"] > 0]\n",
    "freq_table.head(20)"
   ]
  },
  {
   "cell_type": "code",
   "execution_count": null,
   "id": "24b4c43f",
   "metadata": {},
   "outputs": [],
   "source": [
    "sc.settings.set_figure_params(dpi=80, fontsize=6, facecolor='white', frameon=False, figsize=(2.0, 2.0), vector_friendly = False, transparent=True, format=\"pdf\")\n",
    "sns.set_style(\"ticks\")\n",
    "fig, ax = plt.subplots(figsize = (1.8,1.5))\n",
    "plt.margins(x=0, y=0)\n",
    "ax.tick_params(axis='both', which='major', pad=0, size = 2)\n",
    "sns.barplot(freq_table, y = \"Follicle_type\", x = \"proportion\", dodge=True, hue=\"phase\", palette=\"Set2\", errwidth=1.5, ax=ax)\n",
    "plt.legend(ncol=1, prop={'size': 6}, handletextpad=0.5, markerscale = 0.6, title = \"Cell cycle\",\n",
    "           labelspacing = 0.0, frameon = False,  title_fontsize = 6, alignment = \"left\", \n",
    "           borderpad = 0.1, borderaxespad = 0.1, loc = 1, bbox_to_anchor = (1.0, 1.0))\n",
    "plt.rcParams['legend.title_fontsize'] = 9\n",
    "ax.set_xlim(0,1.0)\n",
    "ax.set_ylabel(\"Follicle type\", labelpad = -2)\n",
    "ax.set_xlabel(\"Cell proportions\", labelpad = 1.0)\n",
    "plt.tight_layout()\n",
    "plt.savefig(\"./figures/cellcycle_immature.pdf\")"
   ]
  },
  {
   "cell_type": "code",
   "execution_count": null,
   "id": "d23e0052",
   "metadata": {},
   "outputs": [],
   "source": [
    "freq_table = granulosa_temp.obs.groupby(['FollicleNumber', \"Follicle_type\", \"Kctd14_Inhbb\"]).size().reset_index(name='count')\n",
    "freq_table['total_count'] = freq_table.groupby(['FollicleNumber', \"Follicle_type\"])['count'].transform('sum')\n",
    "freq_table['proportion'] = freq_table['count'] / freq_table['total_count']\n",
    "# freq_table[\"Follicle_type\"] = freq_table[\"Follicle_type\"].cat.remove_categories([\"Lytic\"])\n",
    "# freq_table[\"Follicle_type\"] = freq_table[\"Follicle_type\"].cat.reorder_categories([\"Preantral\", \"Antral\", \"Atretic\", \"Transitioning\"])\n",
    "freq_table = freq_table[freq_table[\"count\"] > 0]\n",
    "freq_table.head(20)"
   ]
  },
  {
   "cell_type": "code",
   "execution_count": null,
   "id": "629233d0",
   "metadata": {},
   "outputs": [],
   "source": [
    "sc.settings.set_figure_params(dpi=80, fontsize=6, facecolor='white', frameon=False, figsize=(2.0, 2.0), vector_friendly = False, transparent=True, format=\"pdf\")\n",
    "sns.set_style(\"ticks\")\n",
    "fig, ax = plt.subplots(figsize = (1.5,1.5))\n",
    "plt.margins(x=0, y=0)\n",
    "ax.tick_params(axis='both', which='major', pad=0, size = 2)\n",
    "sns.barplot(freq_table, y = \"Follicle_type\", x = \"proportion\", dodge=True, hue=\"Kctd14_Inhbb\", palette=\"tab10\", ax=ax)\n",
    "plt.legend(ncol=1, prop={'size': 6}, handletextpad=0.5, markerscale = 0.6, title = \"Kctd & Inhbb expression\",\n",
    "           labelspacing = 0.0, frameon = False,  title_fontsize = 7, alignment = \"left\", \n",
    "           borderpad = 0.1, borderaxespad = 0.1, loc = 6, bbox_to_anchor = (1.0, 0.5))\n",
    "plt.rcParams['legend.title_fontsize'] = 9\n",
    "ax.set_xlim(0,1.0)\n",
    "ax.set_ylabel(\"Follicle type\", labelpad = -2)\n",
    "ax.set_xlabel(\"Cell proportions\", labelpad = 0.5)\n",
    "ax.get_legend().remove()\n",
    "plt.tight_layout()\n",
    "plt.savefig(\"./figures/kctd14_inhbb_immature.pdf\")"
   ]
  },
  {
   "cell_type": "code",
   "execution_count": null,
   "id": "1d2580ad",
   "metadata": {},
   "outputs": [],
   "source": [
    "freq_table = granulosa_temp.obs.groupby(['FollicleNumber', \"Kctd14_Inhbb\", \"phase\"]).size().reset_index(name='count')\n",
    "freq_table['total_count'] = freq_table.groupby(['FollicleNumber', \"Kctd14_Inhbb\"])['count'].transform('sum')\n",
    "freq_table['proportion'] = freq_table['count'] / freq_table['total_count']\n",
    "# freq_table[\"Follicle_type\"] = freq_table[\"Follicle_type\"].cat.remove_categories([\"Lytic\"])\n",
    "# freq_table[\"Follicle_type\"] = freq_table[\"Follicle_type\"].cat.reorder_categories([\"Preantral\", \"Antral\", \"Atretic\", \"Transitioning\"])\n",
    "freq_table = freq_table[freq_table[\"count\"] > 0]\n",
    "freq_table.head(20)"
   ]
  },
  {
   "cell_type": "code",
   "execution_count": null,
   "id": "fb0cc2bc",
   "metadata": {},
   "outputs": [],
   "source": [
    "sc.settings.set_figure_params(dpi=80, fontsize=6, facecolor='white', frameon=False, figsize=(2.0, 2.0), vector_friendly = False, transparent=True, format=\"pdf\")\n",
    "sns.set_style(\"ticks\")\n",
    "fig, ax = plt.subplots(figsize = (2.0,1.5))\n",
    "plt.margins(x=0, y=0)\n",
    "ax.tick_params(axis='both', which='major', pad=0, size = 2)\n",
    "sns.barplot(freq_table, y = \"Kctd14_Inhbb\", x = \"proportion\", dodge=True, hue=\"phase\", palette=\"Set2\", ax=ax)\n",
    "plt.legend(ncol=1, prop={'size': 6}, handletextpad=0.5, markerscale = 0.6, title = \"Cell cycle\",\n",
    "           labelspacing = 0.0, frameon = False,  title_fontsize = 6, alignment = \"left\", \n",
    "           borderpad = 0.1, borderaxespad = 0.1, loc = 1, bbox_to_anchor = (1.0, 1.0))\n",
    "plt.rcParams['legend.title_fontsize'] = 9\n",
    "ax.set_xlim(0,1.0)\n",
    "ax.set_ylabel(\"Kctd & Inhbb expression\", labelpad = -2)\n",
    "ax.set_xlabel(\"Cell proportions\", labelpad = 0.5)\n",
    "# ax.get_legend().remove()\n",
    "plt.tight_layout()\n",
    "plt.savefig(\"./figures/kctd14_inhbb_phase_immature.pdf\")"
   ]
  },
  {
   "cell_type": "code",
   "execution_count": null,
   "id": "3c533f78",
   "metadata": {},
   "outputs": [],
   "source": [
    "granulosa_temp = plot_2_genes_spatial_prep(granulosa_temp, gene1=\"Kctd14\", gene2=\"Cfh\", detection_threshold = 0.1, use_raw=False)"
   ]
  },
  {
   "cell_type": "code",
   "execution_count": null,
   "id": "96fc04e9",
   "metadata": {
    "scrolled": true
   },
   "outputs": [],
   "source": [
    "granulosa_temp.write_h5ad(\"./../pyobjs/granulosa_mural_immature.h5ad\")"
   ]
  },
  {
   "cell_type": "code",
   "execution_count": null,
   "id": "04509ebc",
   "metadata": {},
   "outputs": [],
   "source": [
    "granulosa_temp.obs"
   ]
  },
  {
   "cell_type": "code",
   "execution_count": 40,
   "id": "01cfb8e8",
   "metadata": {},
   "outputs": [
    {
     "data": {
      "text/plain": [
       "(54508, 31053)"
      ]
     },
     "execution_count": 40,
     "metadata": {},
     "output_type": "execute_result"
    }
   ],
   "source": [
    "granulosa_mural = sc.read_h5ad(\"./../../pyobjs_github/granulosa_mural.h5ad\")\n",
    "granulosa_mural.uns['log1p'][\"base\"] = None\n",
    "granulosa_mural.shape"
   ]
  },
  {
   "cell_type": "code",
   "execution_count": 43,
   "id": "0cba5b95",
   "metadata": {},
   "outputs": [],
   "source": [
    "granulosa_temp = granulosa_mural[granulosa_mural.obs[\"Sample\"] == \"0hr\"]"
   ]
  },
  {
   "cell_type": "code",
   "execution_count": 45,
   "id": "047c6a79",
   "metadata": {},
   "outputs": [
    {
     "name": "stdout",
     "output_type": "stream",
     "text": [
      "Kctd14_Inhbb added to .obs\n"
     ]
    }
   ],
   "source": [
    "granulosa_temp = plot_2_genes_spatial_prep(granulosa_temp, gene1=\"Kctd14\", gene2=\"Inhbb\", detection_threshold = 0.1, use_raw=False)"
   ]
  },
  {
   "cell_type": "code",
   "execution_count": 46,
   "id": "78b93b2b",
   "metadata": {},
   "outputs": [
    {
     "name": "stderr",
     "output_type": "stream",
     "text": [
      "... storing 'Kctd14_Inhbb' as categorical\n"
     ]
    }
   ],
   "source": [
    "granulosa_temp.write_h5ad(\"./../../../pyobjs/granulosa_mural_0hr.h5ad\")"
   ]
  },
  {
   "cell_type": "code",
   "execution_count": 44,
   "id": "214159ca",
   "metadata": {},
   "outputs": [
    {
     "name": "stdout",
     "output_type": "stream",
     "text": [
      "WARNING: Default of the method has been changed to 't-test' from 't-test_overestim_var'\n",
      "ranking genes\n"
     ]
    },
    {
     "name": "stderr",
     "output_type": "stream",
     "text": [
      "/home/mm2937/.local/lib/python3.9/site-packages/scanpy/tools/_rank_genes_groups.py:580: ImplicitModificationWarning: Trying to modify attribute `._uns` of view, initializing view as actual.\n",
      "  adata.uns[key_added] = {}\n"
     ]
    },
    {
     "name": "stdout",
     "output_type": "stream",
     "text": [
      "    finished: added to `.uns['AO_vs_AI']`\n",
      "    'names', sorted np.recarray to be indexed by group ids\n",
      "    'scores', sorted np.recarray to be indexed by group ids\n",
      "    'logfoldchanges', sorted np.recarray to be indexed by group ids\n",
      "    'pvals', sorted np.recarray to be indexed by group ids\n",
      "    'pvals_adj', sorted np.recarray to be indexed by group ids (0:00:00)\n"
     ]
    }
   ],
   "source": [
    "sc.tl.rank_genes_groups(granulosa_temp, groupby=\"granulosa_celltypes\", groups=[\"GC_Mural_Outer-(Antral)\", \"GC_Mural_Inner-(Antral)\"], key_added=\"AO_vs_AI\")"
   ]
  },
  {
   "cell_type": "code",
   "execution_count": null,
   "id": "75aeb6b7",
   "metadata": {
    "scrolled": false
   },
   "outputs": [],
   "source": [
    "result = granulosa_temp.uns['AO_vs_AI']\n",
    "groups = result['names'].dtype.names\n",
    "dge_results = pd.DataFrame(\n",
    "    {group + '_' + key: result[key][group]\n",
    "    for group in groups for key in ['names', \"logfoldchanges\", \"pvals_adj\"]}).head(10)\n",
    "print(dge_results.head(20))"
   ]
  },
  {
   "cell_type": "code",
   "execution_count": null,
   "id": "0ccd233e",
   "metadata": {},
   "outputs": [],
   "source": [
    "sc.settings.set_figure_params(dpi=300, dpi_save= 300, fontsize=20, facecolor='white', frameon=False, figsize=(1.0, 1.0), vector_friendly = False, transparent=True, format=\"pdf\")\n",
    "sc.pl.rank_genes_groups_matrixplot(granulosa_temp, key=\"AO_vs_AI\", n_genes=30, cmap='magma_r', min_logfoldchange=1.0)"
   ]
  },
  {
   "cell_type": "code",
   "execution_count": null,
   "id": "d8761855",
   "metadata": {
    "scrolled": false
   },
   "outputs": [],
   "source": [
    "sc.settings.set_figure_params(dpi=300, dpi_save= 300, fontsize=8, facecolor='white', frameon=False, figsize=(2.0,2.0), vector_friendly = True, transparent=True, format=\"pdf\")\n",
    "sc.pl.spatial(granulosa_temp, color=[\"Bmp3\", \"Slc38a5\", \"Ccnd2\"], spot_size=30, ncols=3, wspace=0.1, cmap=sns.blend_palette([\"lightgrey\", sns.xkcd_rgb[\"darkblue\"]], as_cmap=True), vmax = 'p99.2')"
   ]
  },
  {
   "cell_type": "code",
   "execution_count": null,
   "id": "17e892c8",
   "metadata": {},
   "outputs": [],
   "source": [
    "granulosa_temp = granulosa_mural[granulosa_mural.obs[\"Sample\"].isin([\"Immature\", \"0hr\"])]\n",
    "granulosa_temp = granulosa_temp[granulosa_temp.obs[\"granulosa_celltypes_reduced\"].isin([\"GC_Mural-(Antral)\"])]\n",
    "granulosa_temp.shape"
   ]
  },
  {
   "cell_type": "code",
   "execution_count": null,
   "id": "8df926a7",
   "metadata": {},
   "outputs": [],
   "source": [
    "sc.tl.rank_genes_groups(granulosa_temp, groupby=\"Sample\", key_added=\"SAF_vs_LAF\")"
   ]
  },
  {
   "cell_type": "code",
   "execution_count": null,
   "id": "9d999b2e",
   "metadata": {},
   "outputs": [],
   "source": [
    "# sc.tl.rank_genes_groups(granulosa_temp, groupby=\"Sample\", key_added=\"SAF_vs_LAF\")\n",
    "result = granulosa_temp.uns['SAF_vs_LAF']\n",
    "groups = result['names'].dtype.names\n",
    "dge_results = pd.DataFrame(\n",
    "    {group + '_' + key: result[key][group]\n",
    "    for group in groups for key in ['names', \"logfoldchanges\", \"pvals_adj\"]}).head(10)\n",
    "print(dge_results.head(30))"
   ]
  },
  {
   "cell_type": "code",
   "execution_count": null,
   "id": "0af60228",
   "metadata": {},
   "outputs": [],
   "source": [
    "sc.settings.set_figure_params(dpi=300, dpi_save= 300, fontsize=20, facecolor='white', frameon=False, figsize=(1.0, 1.0), vector_friendly = False, transparent=True, format=\"pdf\")\n",
    "sc.pl.rank_genes_groups_matrixplot(granulosa_temp, key=\"SAF_vs_LAF\", n_genes=15, cmap='magma_r', min_logfoldchange=2.0)\n",
    "sc.settings.set_figure_params(dpi=80, dpi_save= 300, fontsize=8, facecolor='white', frameon=False, figsize=(3.0, 3.0))\n"
   ]
  },
  {
   "cell_type": "code",
   "execution_count": 61,
   "id": "fa192649",
   "metadata": {},
   "outputs": [
    {
     "data": {
      "text/plain": [
       "(9715, 31053)"
      ]
     },
     "execution_count": 61,
     "metadata": {},
     "output_type": "execute_result"
    }
   ],
   "source": [
    "granulosa_temp = granulosa_mural[granulosa_mural.obs[\"Sample\"].isin([\"0hr\", \"1hr\"])]\n",
    "granulosa_temp = granulosa_temp[granulosa_temp.obs[\"Follicle_type\"] == \"Antral\"]\n",
    "granulosa_temp.shape"
   ]
  },
  {
   "cell_type": "code",
   "execution_count": 95,
   "id": "d45c6d80",
   "metadata": {},
   "outputs": [
    {
     "name": "stdout",
     "output_type": "stream",
     "text": [
      "WARNING: Default of the method has been changed to 't-test' from 't-test_overestim_var'\n",
      "ranking genes\n",
      "    finished: added to `.uns['early_hcg_chnages']`\n",
      "    'names', sorted np.recarray to be indexed by group ids\n",
      "    'scores', sorted np.recarray to be indexed by group ids\n",
      "    'logfoldchanges', sorted np.recarray to be indexed by group ids\n",
      "    'pvals', sorted np.recarray to be indexed by group ids\n",
      "    'pvals_adj', sorted np.recarray to be indexed by group ids (0:00:00)\n"
     ]
    }
   ],
   "source": [
    "sc.tl.rank_genes_groups(granulosa_temp, groupby=\"Sample\", groups=[\"1hr\"], reference=\"0hr\", key_added=\"early_hcg_chnages\", method=\"wilcoxon\")"
   ]
  },
  {
   "cell_type": "code",
   "execution_count": 97,
   "id": "e7cf37ba",
   "metadata": {},
   "outputs": [
    {
     "data": {
      "text/html": [
       "<div>\n",
       "<style scoped>\n",
       "    .dataframe tbody tr th:only-of-type {\n",
       "        vertical-align: middle;\n",
       "    }\n",
       "\n",
       "    .dataframe tbody tr th {\n",
       "        vertical-align: top;\n",
       "    }\n",
       "\n",
       "    .dataframe thead th {\n",
       "        text-align: right;\n",
       "    }\n",
       "</style>\n",
       "<table border=\"1\" class=\"dataframe\">\n",
       "  <thead>\n",
       "    <tr style=\"text-align: right;\">\n",
       "      <th></th>\n",
       "      <th>names</th>\n",
       "      <th>scores</th>\n",
       "      <th>logfoldchanges</th>\n",
       "      <th>pvals</th>\n",
       "      <th>pvals_adj</th>\n",
       "    </tr>\n",
       "  </thead>\n",
       "  <tbody>\n",
       "    <tr>\n",
       "      <th>0</th>\n",
       "      <td>Gm42418</td>\n",
       "      <td>73.601952</td>\n",
       "      <td>4.626991</td>\n",
       "      <td>0.000000e+00</td>\n",
       "      <td>0.000000e+00</td>\n",
       "    </tr>\n",
       "    <tr>\n",
       "      <th>1</th>\n",
       "      <td>Lars2</td>\n",
       "      <td>38.896954</td>\n",
       "      <td>3.715691</td>\n",
       "      <td>1.035372e-307</td>\n",
       "      <td>1.607571e-303</td>\n",
       "    </tr>\n",
       "    <tr>\n",
       "      <th>2</th>\n",
       "      <td>Gm8797</td>\n",
       "      <td>33.032505</td>\n",
       "      <td>3.140488</td>\n",
       "      <td>1.311963e-226</td>\n",
       "      <td>1.358013e-222</td>\n",
       "    </tr>\n",
       "    <tr>\n",
       "      <th>3</th>\n",
       "      <td>Serpina3a</td>\n",
       "      <td>30.301582</td>\n",
       "      <td>5.756907</td>\n",
       "      <td>5.784959e-191</td>\n",
       "      <td>3.592806e-187</td>\n",
       "    </tr>\n",
       "    <tr>\n",
       "      <th>4</th>\n",
       "      <td>Cyp19a1</td>\n",
       "      <td>26.369329</td>\n",
       "      <td>1.739384</td>\n",
       "      <td>1.611683e-144</td>\n",
       "      <td>7.149655e-141</td>\n",
       "    </tr>\n",
       "    <tr>\n",
       "      <th>...</th>\n",
       "      <td>...</td>\n",
       "      <td>...</td>\n",
       "      <td>...</td>\n",
       "      <td>...</td>\n",
       "      <td>...</td>\n",
       "    </tr>\n",
       "    <tr>\n",
       "      <th>31048</th>\n",
       "      <td>Rpl29</td>\n",
       "      <td>-25.373177</td>\n",
       "      <td>-1.939720</td>\n",
       "      <td>4.514668e-131</td>\n",
       "      <td>1.274491e-127</td>\n",
       "    </tr>\n",
       "    <tr>\n",
       "      <th>31049</th>\n",
       "      <td>Ubb</td>\n",
       "      <td>-25.870516</td>\n",
       "      <td>-1.556267</td>\n",
       "      <td>8.856685e-138</td>\n",
       "      <td>3.055852e-134</td>\n",
       "    </tr>\n",
       "    <tr>\n",
       "      <th>31050</th>\n",
       "      <td>Tpt1</td>\n",
       "      <td>-25.984602</td>\n",
       "      <td>-1.073599</td>\n",
       "      <td>1.009555e-141</td>\n",
       "      <td>3.918713e-138</td>\n",
       "    </tr>\n",
       "    <tr>\n",
       "      <th>31051</th>\n",
       "      <td>Rps14</td>\n",
       "      <td>-28.931810</td>\n",
       "      <td>-1.175236</td>\n",
       "      <td>1.219243e-173</td>\n",
       "      <td>6.310190e-170</td>\n",
       "    </tr>\n",
       "    <tr>\n",
       "      <th>31052</th>\n",
       "      <td>mt-Co3</td>\n",
       "      <td>-31.255295</td>\n",
       "      <td>-0.829327</td>\n",
       "      <td>2.941538e-202</td>\n",
       "      <td>2.283590e-198</td>\n",
       "    </tr>\n",
       "  </tbody>\n",
       "</table>\n",
       "<p>31053 rows × 5 columns</p>\n",
       "</div>"
      ],
      "text/plain": [
       "           names     scores  logfoldchanges          pvals      pvals_adj\n",
       "0        Gm42418  73.601952        4.626991   0.000000e+00   0.000000e+00\n",
       "1          Lars2  38.896954        3.715691  1.035372e-307  1.607571e-303\n",
       "2         Gm8797  33.032505        3.140488  1.311963e-226  1.358013e-222\n",
       "3      Serpina3a  30.301582        5.756907  5.784959e-191  3.592806e-187\n",
       "4        Cyp19a1  26.369329        1.739384  1.611683e-144  7.149655e-141\n",
       "...          ...        ...             ...            ...            ...\n",
       "31048      Rpl29 -25.373177       -1.939720  4.514668e-131  1.274491e-127\n",
       "31049        Ubb -25.870516       -1.556267  8.856685e-138  3.055852e-134\n",
       "31050       Tpt1 -25.984602       -1.073599  1.009555e-141  3.918713e-138\n",
       "31051      Rps14 -28.931810       -1.175236  1.219243e-173  6.310190e-170\n",
       "31052     mt-Co3 -31.255295       -0.829327  2.941538e-202  2.283590e-198\n",
       "\n",
       "[31053 rows x 5 columns]"
      ]
     },
     "execution_count": 97,
     "metadata": {},
     "output_type": "execute_result"
    }
   ],
   "source": [
    "dge_results = sc.get.rank_genes_groups_df(granulosa_temp, key=\"early_hcg_chnages\", group = \"1hr\")\n",
    "# f_tfs = \"./../../../../pyscenic_databases/allTFs_mm.txt\"   # mouse\n",
    "# tfs = pd.read_csv(f_tfs, header=None)[0].values\n",
    "# dge_results[\"TFs\"] = np.in1d(dge_results.names.values, tfs)\n",
    "# tf_names = load_tf_names( f_tfs )\n",
    "# dge_results.to_csv(\"./../pyobjs/early_hcg_changes.csv\")\n",
    "dge_results"
   ]
  },
  {
   "cell_type": "code",
   "execution_count": 112,
   "id": "d8c6820c",
   "metadata": {},
   "outputs": [
    {
     "data": {
      "text/html": [
       "<div>\n",
       "<style scoped>\n",
       "    .dataframe tbody tr th:only-of-type {\n",
       "        vertical-align: middle;\n",
       "    }\n",
       "\n",
       "    .dataframe tbody tr th {\n",
       "        vertical-align: top;\n",
       "    }\n",
       "\n",
       "    .dataframe thead th {\n",
       "        text-align: right;\n",
       "    }\n",
       "</style>\n",
       "<table border=\"1\" class=\"dataframe\">\n",
       "  <thead>\n",
       "    <tr style=\"text-align: right;\">\n",
       "      <th></th>\n",
       "      <th>names</th>\n",
       "      <th>scores</th>\n",
       "      <th>logfoldchanges</th>\n",
       "      <th>pvals</th>\n",
       "      <th>pvals_adj</th>\n",
       "      <th>pct_nz_group</th>\n",
       "      <th>TFs</th>\n",
       "    </tr>\n",
       "  </thead>\n",
       "  <tbody>\n",
       "    <tr>\n",
       "      <th>0</th>\n",
       "      <td>Gm42418</td>\n",
       "      <td>44.962505</td>\n",
       "      <td>4.626991</td>\n",
       "      <td>0.000000e+00</td>\n",
       "      <td>0.000000e+00</td>\n",
       "      <td>0.661930</td>\n",
       "      <td>False</td>\n",
       "    </tr>\n",
       "    <tr>\n",
       "      <th>1</th>\n",
       "      <td>Hspa8</td>\n",
       "      <td>23.069770</td>\n",
       "      <td>1.049129</td>\n",
       "      <td>9.315434e-118</td>\n",
       "      <td>3.615902e-114</td>\n",
       "      <td>0.780529</td>\n",
       "      <td>False</td>\n",
       "    </tr>\n",
       "    <tr>\n",
       "      <th>2</th>\n",
       "      <td>Cyp19a1</td>\n",
       "      <td>22.580425</td>\n",
       "      <td>1.739384</td>\n",
       "      <td>6.749503e-113</td>\n",
       "      <td>2.095923e-109</td>\n",
       "      <td>0.565138</td>\n",
       "      <td>False</td>\n",
       "    </tr>\n",
       "    <tr>\n",
       "      <th>3</th>\n",
       "      <td>Malat1</td>\n",
       "      <td>21.320866</td>\n",
       "      <td>1.578447</td>\n",
       "      <td>7.270264e-101</td>\n",
       "      <td>1.612597e-97</td>\n",
       "      <td>0.625211</td>\n",
       "      <td>False</td>\n",
       "    </tr>\n",
       "    <tr>\n",
       "      <th>4</th>\n",
       "      <td>Rpl37</td>\n",
       "      <td>20.703678</td>\n",
       "      <td>1.228227</td>\n",
       "      <td>3.209124e-95</td>\n",
       "      <td>6.643528e-92</td>\n",
       "      <td>0.694288</td>\n",
       "      <td>False</td>\n",
       "    </tr>\n",
       "    <tr>\n",
       "      <th>...</th>\n",
       "      <td>...</td>\n",
       "      <td>...</td>\n",
       "      <td>...</td>\n",
       "      <td>...</td>\n",
       "      <td>...</td>\n",
       "      <td>...</td>\n",
       "      <td>...</td>\n",
       "    </tr>\n",
       "    <tr>\n",
       "      <th>31048</th>\n",
       "      <td>Tpt1</td>\n",
       "      <td>-25.740704</td>\n",
       "      <td>-1.073599</td>\n",
       "      <td>4.096525e-146</td>\n",
       "      <td>2.120156e-142</td>\n",
       "      <td>0.807119</td>\n",
       "      <td>False</td>\n",
       "    </tr>\n",
       "    <tr>\n",
       "      <th>31049</th>\n",
       "      <td>Ubb</td>\n",
       "      <td>-25.824312</td>\n",
       "      <td>-1.556267</td>\n",
       "      <td>4.729791e-147</td>\n",
       "      <td>2.937484e-143</td>\n",
       "      <td>0.487479</td>\n",
       "      <td>False</td>\n",
       "    </tr>\n",
       "    <tr>\n",
       "      <th>31050</th>\n",
       "      <td>Rplp0</td>\n",
       "      <td>-26.066961</td>\n",
       "      <td>-1.311272</td>\n",
       "      <td>8.641684e-150</td>\n",
       "      <td>6.708755e-146</td>\n",
       "      <td>0.660664</td>\n",
       "      <td>False</td>\n",
       "    </tr>\n",
       "    <tr>\n",
       "      <th>31051</th>\n",
       "      <td>Rps14</td>\n",
       "      <td>-28.313097</td>\n",
       "      <td>-1.175236</td>\n",
       "      <td>2.384289e-176</td>\n",
       "      <td>2.467977e-172</td>\n",
       "      <td>0.810636</td>\n",
       "      <td>False</td>\n",
       "    </tr>\n",
       "    <tr>\n",
       "      <th>31052</th>\n",
       "      <td>mt-Co3</td>\n",
       "      <td>-32.234314</td>\n",
       "      <td>-0.829327</td>\n",
       "      <td>5.836129e-228</td>\n",
       "      <td>9.061466e-224</td>\n",
       "      <td>0.947102</td>\n",
       "      <td>False</td>\n",
       "    </tr>\n",
       "  </tbody>\n",
       "</table>\n",
       "<p>31053 rows × 7 columns</p>\n",
       "</div>"
      ],
      "text/plain": [
       "         names     scores  logfoldchanges          pvals      pvals_adj  \\\n",
       "0      Gm42418  44.962505        4.626991   0.000000e+00   0.000000e+00   \n",
       "1        Hspa8  23.069770        1.049129  9.315434e-118  3.615902e-114   \n",
       "2      Cyp19a1  22.580425        1.739384  6.749503e-113  2.095923e-109   \n",
       "3       Malat1  21.320866        1.578447  7.270264e-101   1.612597e-97   \n",
       "4        Rpl37  20.703678        1.228227   3.209124e-95   6.643528e-92   \n",
       "...        ...        ...             ...            ...            ...   \n",
       "31048     Tpt1 -25.740704       -1.073599  4.096525e-146  2.120156e-142   \n",
       "31049      Ubb -25.824312       -1.556267  4.729791e-147  2.937484e-143   \n",
       "31050    Rplp0 -26.066961       -1.311272  8.641684e-150  6.708755e-146   \n",
       "31051    Rps14 -28.313097       -1.175236  2.384289e-176  2.467977e-172   \n",
       "31052   mt-Co3 -32.234314       -0.829327  5.836129e-228  9.061466e-224   \n",
       "\n",
       "       pct_nz_group    TFs  \n",
       "0          0.661930  False  \n",
       "1          0.780529  False  \n",
       "2          0.565138  False  \n",
       "3          0.625211  False  \n",
       "4          0.694288  False  \n",
       "...             ...    ...  \n",
       "31048      0.807119  False  \n",
       "31049      0.487479  False  \n",
       "31050      0.660664  False  \n",
       "31051      0.810636  False  \n",
       "31052      0.947102  False  \n",
       "\n",
       "[31053 rows x 7 columns]"
      ]
     },
     "execution_count": 112,
     "metadata": {},
     "output_type": "execute_result"
    }
   ],
   "source": [
    "dge_results = pd.read_csv(\"./../../../pyobjs/early_hcg_changes.csv\", index_col=0)\n",
    "dge_results"
   ]
  },
  {
   "cell_type": "code",
   "execution_count": 111,
   "id": "28be4c95",
   "metadata": {},
   "outputs": [
    {
     "name": "stdout",
     "output_type": "stream",
     "text": [
      "(136, 7)\n"
     ]
    },
    {
     "data": {
      "text/plain": [
       "(136, 7)"
      ]
     },
     "execution_count": 111,
     "metadata": {},
     "output_type": "execute_result"
    }
   ],
   "source": [
    "dge_results = dge_results[dge_results[\"logfoldchanges\"] > 0.5]\n",
    "dge_results = dge_results[dge_results[\"pvals_adj\"] < 0.01]\n",
    "dge_results = dge_results.sort_values(by = \"logfoldchanges\", ascending=False)\n",
    "print(dge_results.shape)\n",
    "dge_results.shape"
   ]
  },
  {
   "cell_type": "code",
   "execution_count": 39,
   "id": "cc26bf7c",
   "metadata": {},
   "outputs": [],
   "source": [
    "dge_results.to_csv(\"./../../pyobjs_github/SuppTable3.csv\")"
   ]
  },
  {
   "cell_type": "code",
   "execution_count": 107,
   "id": "389117f8",
   "metadata": {},
   "outputs": [],
   "source": [
    "import gseapy\n",
    "enr_res = gseapy.enrichr(gene_list=list(dge_results[\"names\"]), \n",
    "                     organism='Mouse',\n",
    "                     gene_sets=['GO_Biological_Process_2021'],\n",
    "#                      description='pathway', \n",
    "                     cutoff = 0.01)"
   ]
  },
  {
   "cell_type": "code",
   "execution_count": 108,
   "id": "4fcdbb60",
   "metadata": {},
   "outputs": [
    {
     "data": {
      "text/html": [
       "<div>\n",
       "<style scoped>\n",
       "    .dataframe tbody tr th:only-of-type {\n",
       "        vertical-align: middle;\n",
       "    }\n",
       "\n",
       "    .dataframe tbody tr th {\n",
       "        vertical-align: top;\n",
       "    }\n",
       "\n",
       "    .dataframe thead th {\n",
       "        text-align: right;\n",
       "    }\n",
       "</style>\n",
       "<table border=\"1\" class=\"dataframe\">\n",
       "  <thead>\n",
       "    <tr style=\"text-align: right;\">\n",
       "      <th></th>\n",
       "      <th>Gene_set</th>\n",
       "      <th>Term</th>\n",
       "      <th>Overlap</th>\n",
       "      <th>P-value</th>\n",
       "      <th>Adjusted P-value</th>\n",
       "      <th>Old P-value</th>\n",
       "      <th>Old Adjusted P-value</th>\n",
       "      <th>Odds Ratio</th>\n",
       "      <th>Combined Score</th>\n",
       "      <th>Genes</th>\n",
       "      <th>-log p-value</th>\n",
       "    </tr>\n",
       "  </thead>\n",
       "  <tbody>\n",
       "    <tr>\n",
       "      <th>0</th>\n",
       "      <td>GO_Biological_Process_2021</td>\n",
       "      <td>regulation of apoptotic process</td>\n",
       "      <td>24/742</td>\n",
       "      <td>1.889190e-10</td>\n",
       "      <td>2.557963e-07</td>\n",
       "      <td>0</td>\n",
       "      <td>0</td>\n",
       "      <td>5.714087</td>\n",
       "      <td>127.936705</td>\n",
       "      <td>TOP2A;VCP;HSP90AA1;RBM25;ARL6IP1;ANP32A;HSPA5;...</td>\n",
       "      <td>6.592106</td>\n",
       "    </tr>\n",
       "    <tr>\n",
       "      <th>1</th>\n",
       "      <td>GO_Biological_Process_2021</td>\n",
       "      <td>negative regulation of apoptotic process</td>\n",
       "      <td>16/485</td>\n",
       "      <td>2.020250e-07</td>\n",
       "      <td>1.367709e-04</td>\n",
       "      <td>0</td>\n",
       "      <td>0</td>\n",
       "      <td>5.513859</td>\n",
       "      <td>84.995449</td>\n",
       "      <td>SET;ARL6IP1;HSPA5;MIF;PRLR;YWHAZ;HSP90B1;IGF1R...</td>\n",
       "      <td>3.864006</td>\n",
       "    </tr>\n",
       "    <tr>\n",
       "      <th>2</th>\n",
       "      <td>GO_Biological_Process_2021</td>\n",
       "      <td>negative regulation of programmed cell death</td>\n",
       "      <td>14/381</td>\n",
       "      <td>3.389122e-07</td>\n",
       "      <td>1.394472e-04</td>\n",
       "      <td>0</td>\n",
       "      <td>0</td>\n",
       "      <td>6.096351</td>\n",
       "      <td>90.820534</td>\n",
       "      <td>ARL6IP1;HSPA5;MIF;PRLR;YWHAZ;HSP90B1;IGF1R;COM...</td>\n",
       "      <td>3.855590</td>\n",
       "    </tr>\n",
       "    <tr>\n",
       "      <th>3</th>\n",
       "      <td>GO_Biological_Process_2021</td>\n",
       "      <td>RNA processing</td>\n",
       "      <td>10/179</td>\n",
       "      <td>4.119564e-07</td>\n",
       "      <td>1.394472e-04</td>\n",
       "      <td>0</td>\n",
       "      <td>0</td>\n",
       "      <td>9.249084</td>\n",
       "      <td>135.983259</td>\n",
       "      <td>HNRNPL;RBM39;SFPQ;U2AF2;SNRPG;HNRNPU;RBMS1;LUC...</td>\n",
       "      <td>3.855590</td>\n",
       "    </tr>\n",
       "    <tr>\n",
       "      <th>4</th>\n",
       "      <td>GO_Biological_Process_2021</td>\n",
       "      <td>response to unfolded protein</td>\n",
       "      <td>6/49</td>\n",
       "      <td>9.732022e-07</td>\n",
       "      <td>2.203732e-04</td>\n",
       "      <td>0</td>\n",
       "      <td>0</td>\n",
       "      <td>21.274776</td>\n",
       "      <td>294.499793</td>\n",
       "      <td>DNAJA1;HSPA8;HSP90AA1;HSPH1;HSPA5;HSPA4</td>\n",
       "      <td>3.656841</td>\n",
       "    </tr>\n",
       "    <tr>\n",
       "      <th>5</th>\n",
       "      <td>GO_Biological_Process_2021</td>\n",
       "      <td>gene expression</td>\n",
       "      <td>13/356</td>\n",
       "      <td>9.765431e-07</td>\n",
       "      <td>2.203732e-04</td>\n",
       "      <td>0</td>\n",
       "      <td>0</td>\n",
       "      <td>6.015146</td>\n",
       "      <td>83.245093</td>\n",
       "      <td>RBM39;RPL21;HNRNPU;RRBP1;THOC2;HNRNPL;RPS25;RP...</td>\n",
       "      <td>3.656841</td>\n",
       "    </tr>\n",
       "    <tr>\n",
       "      <th>6</th>\n",
       "      <td>GO_Biological_Process_2021</td>\n",
       "      <td>chromatin remodeling</td>\n",
       "      <td>7/103</td>\n",
       "      <td>6.626679e-06</td>\n",
       "      <td>1.281789e-03</td>\n",
       "      <td>0</td>\n",
       "      <td>0</td>\n",
       "      <td>11.173773</td>\n",
       "      <td>133.240610</td>\n",
       "      <td>CBX3;ATRX;SMARCA5;CHD4;TOP1;BAZ1B;ACTB</td>\n",
       "      <td>2.892183</td>\n",
       "    </tr>\n",
       "    <tr>\n",
       "      <th>7</th>\n",
       "      <td>GO_Biological_Process_2021</td>\n",
       "      <td>response to endoplasmic reticulum stress</td>\n",
       "      <td>7/110</td>\n",
       "      <td>1.023144e-05</td>\n",
       "      <td>1.731671e-03</td>\n",
       "      <td>0</td>\n",
       "      <td>0</td>\n",
       "      <td>10.410702</td>\n",
       "      <td>119.619439</td>\n",
       "      <td>VCP;HSPA5;SEL1L;HYOU1;PDIA4;ATF4;HSP90B1</td>\n",
       "      <td>2.761535</td>\n",
       "    </tr>\n",
       "    <tr>\n",
       "      <th>8</th>\n",
       "      <td>GO_Biological_Process_2021</td>\n",
       "      <td>chromosome condensation</td>\n",
       "      <td>5/45</td>\n",
       "      <td>1.325992e-05</td>\n",
       "      <td>1.994882e-03</td>\n",
       "      <td>0</td>\n",
       "      <td>0</td>\n",
       "      <td>18.916031</td>\n",
       "      <td>212.441480</td>\n",
       "      <td>TOP2A;SET;ACIN1;SMC4;SMC2</td>\n",
       "      <td>2.700083</td>\n",
       "    </tr>\n",
       "    <tr>\n",
       "      <th>9</th>\n",
       "      <td>GO_Biological_Process_2021</td>\n",
       "      <td>ATF6-mediated unfolded protein response</td>\n",
       "      <td>3/9</td>\n",
       "      <td>2.507190e-05</td>\n",
       "      <td>3.086123e-03</td>\n",
       "      <td>0</td>\n",
       "      <td>0</td>\n",
       "      <td>74.654135</td>\n",
       "      <td>790.868201</td>\n",
       "      <td>HSPA5;CALR;HSP90B1</td>\n",
       "      <td>2.510587</td>\n",
       "    </tr>\n",
       "    <tr>\n",
       "      <th>10</th>\n",
       "      <td>GO_Biological_Process_2021</td>\n",
       "      <td>DNA topological change</td>\n",
       "      <td>3/9</td>\n",
       "      <td>2.507190e-05</td>\n",
       "      <td>3.086123e-03</td>\n",
       "      <td>0</td>\n",
       "      <td>0</td>\n",
       "      <td>74.654135</td>\n",
       "      <td>790.868201</td>\n",
       "      <td>TOP2A;HMGB1;TOP1</td>\n",
       "      <td>2.510587</td>\n",
       "    </tr>\n",
       "    <tr>\n",
       "      <th>11</th>\n",
       "      <td>GO_Biological_Process_2021</td>\n",
       "      <td>regulation of mRNA splicing, via spliceosome</td>\n",
       "      <td>6/90</td>\n",
       "      <td>3.449775e-05</td>\n",
       "      <td>3.892496e-03</td>\n",
       "      <td>0</td>\n",
       "      <td>0</td>\n",
       "      <td>10.868132</td>\n",
       "      <td>111.665887</td>\n",
       "      <td>HNRNPL;RBM39;RBM25;U2AF2;NCL;HNRNPU</td>\n",
       "      <td>2.409772</td>\n",
       "    </tr>\n",
       "    <tr>\n",
       "      <th>12</th>\n",
       "      <td>GO_Biological_Process_2021</td>\n",
       "      <td>mRNA processing</td>\n",
       "      <td>10/300</td>\n",
       "      <td>3.994497e-05</td>\n",
       "      <td>3.982881e-03</td>\n",
       "      <td>0</td>\n",
       "      <td>0</td>\n",
       "      <td>5.356869</td>\n",
       "      <td>54.254413</td>\n",
       "      <td>SRRM2;HNRNPL;HSPA8;SFPQ;U2AF2;SNRPG;HNRNPU;PRP...</td>\n",
       "      <td>2.399803</td>\n",
       "    </tr>\n",
       "    <tr>\n",
       "      <th>13</th>\n",
       "      <td>GO_Biological_Process_2021</td>\n",
       "      <td>cytoplasmic translation</td>\n",
       "      <td>6/93</td>\n",
       "      <td>4.153697e-05</td>\n",
       "      <td>3.982881e-03</td>\n",
       "      <td>0</td>\n",
       "      <td>0</td>\n",
       "      <td>10.491777</td>\n",
       "      <td>105.850770</td>\n",
       "      <td>EIF4A1;RPS25;RPS27;RPL21;RPS29;RPL37</td>\n",
       "      <td>2.399803</td>\n",
       "    </tr>\n",
       "    <tr>\n",
       "      <th>14</th>\n",
       "      <td>GO_Biological_Process_2021</td>\n",
       "      <td>cotranslational protein targeting to membrane</td>\n",
       "      <td>6/94</td>\n",
       "      <td>4.412350e-05</td>\n",
       "      <td>3.982881e-03</td>\n",
       "      <td>0</td>\n",
       "      <td>0</td>\n",
       "      <td>10.372028</td>\n",
       "      <td>104.016069</td>\n",
       "      <td>RPS25;RPS27;ARL6IP1;RPL21;RPS29;RPL37</td>\n",
       "      <td>2.399803</td>\n",
       "    </tr>\n",
       "  </tbody>\n",
       "</table>\n",
       "</div>"
      ],
      "text/plain": [
       "                      Gene_set                                           Term  \\\n",
       "0   GO_Biological_Process_2021                regulation of apoptotic process   \n",
       "1   GO_Biological_Process_2021       negative regulation of apoptotic process   \n",
       "2   GO_Biological_Process_2021   negative regulation of programmed cell death   \n",
       "3   GO_Biological_Process_2021                                 RNA processing   \n",
       "4   GO_Biological_Process_2021                   response to unfolded protein   \n",
       "5   GO_Biological_Process_2021                                gene expression   \n",
       "6   GO_Biological_Process_2021                           chromatin remodeling   \n",
       "7   GO_Biological_Process_2021       response to endoplasmic reticulum stress   \n",
       "8   GO_Biological_Process_2021                        chromosome condensation   \n",
       "9   GO_Biological_Process_2021        ATF6-mediated unfolded protein response   \n",
       "10  GO_Biological_Process_2021                         DNA topological change   \n",
       "11  GO_Biological_Process_2021   regulation of mRNA splicing, via spliceosome   \n",
       "12  GO_Biological_Process_2021                                mRNA processing   \n",
       "13  GO_Biological_Process_2021                        cytoplasmic translation   \n",
       "14  GO_Biological_Process_2021  cotranslational protein targeting to membrane   \n",
       "\n",
       "   Overlap       P-value  Adjusted P-value  Old P-value  Old Adjusted P-value  \\\n",
       "0   24/742  1.889190e-10      2.557963e-07            0                     0   \n",
       "1   16/485  2.020250e-07      1.367709e-04            0                     0   \n",
       "2   14/381  3.389122e-07      1.394472e-04            0                     0   \n",
       "3   10/179  4.119564e-07      1.394472e-04            0                     0   \n",
       "4     6/49  9.732022e-07      2.203732e-04            0                     0   \n",
       "5   13/356  9.765431e-07      2.203732e-04            0                     0   \n",
       "6    7/103  6.626679e-06      1.281789e-03            0                     0   \n",
       "7    7/110  1.023144e-05      1.731671e-03            0                     0   \n",
       "8     5/45  1.325992e-05      1.994882e-03            0                     0   \n",
       "9      3/9  2.507190e-05      3.086123e-03            0                     0   \n",
       "10     3/9  2.507190e-05      3.086123e-03            0                     0   \n",
       "11    6/90  3.449775e-05      3.892496e-03            0                     0   \n",
       "12  10/300  3.994497e-05      3.982881e-03            0                     0   \n",
       "13    6/93  4.153697e-05      3.982881e-03            0                     0   \n",
       "14    6/94  4.412350e-05      3.982881e-03            0                     0   \n",
       "\n",
       "    Odds Ratio  Combined Score  \\\n",
       "0     5.714087      127.936705   \n",
       "1     5.513859       84.995449   \n",
       "2     6.096351       90.820534   \n",
       "3     9.249084      135.983259   \n",
       "4    21.274776      294.499793   \n",
       "5     6.015146       83.245093   \n",
       "6    11.173773      133.240610   \n",
       "7    10.410702      119.619439   \n",
       "8    18.916031      212.441480   \n",
       "9    74.654135      790.868201   \n",
       "10   74.654135      790.868201   \n",
       "11   10.868132      111.665887   \n",
       "12    5.356869       54.254413   \n",
       "13   10.491777      105.850770   \n",
       "14   10.372028      104.016069   \n",
       "\n",
       "                                                Genes  -log p-value  \n",
       "0   TOP2A;VCP;HSP90AA1;RBM25;ARL6IP1;ANP32A;HSPA5;...      6.592106  \n",
       "1   SET;ARL6IP1;HSPA5;MIF;PRLR;YWHAZ;HSP90B1;IGF1R...      3.864006  \n",
       "2   ARL6IP1;HSPA5;MIF;PRLR;YWHAZ;HSP90B1;IGF1R;COM...      3.855590  \n",
       "3   HNRNPL;RBM39;SFPQ;U2AF2;SNRPG;HNRNPU;RBMS1;LUC...      3.855590  \n",
       "4             DNAJA1;HSPA8;HSP90AA1;HSPH1;HSPA5;HSPA4      3.656841  \n",
       "5   RBM39;RPL21;HNRNPU;RRBP1;THOC2;HNRNPL;RPS25;RP...      3.656841  \n",
       "6              CBX3;ATRX;SMARCA5;CHD4;TOP1;BAZ1B;ACTB      2.892183  \n",
       "7            VCP;HSPA5;SEL1L;HYOU1;PDIA4;ATF4;HSP90B1      2.761535  \n",
       "8                           TOP2A;SET;ACIN1;SMC4;SMC2      2.700083  \n",
       "9                                  HSPA5;CALR;HSP90B1      2.510587  \n",
       "10                                   TOP2A;HMGB1;TOP1      2.510587  \n",
       "11                HNRNPL;RBM39;RBM25;U2AF2;NCL;HNRNPU      2.409772  \n",
       "12  SRRM2;HNRNPL;HSPA8;SFPQ;U2AF2;SNRPG;HNRNPU;PRP...      2.399803  \n",
       "13               EIF4A1;RPS25;RPS27;RPL21;RPS29;RPL37      2.399803  \n",
       "14              RPS25;RPS27;ARL6IP1;RPL21;RPS29;RPL37      2.399803  "
      ]
     },
     "execution_count": 108,
     "metadata": {},
     "output_type": "execute_result"
    }
   ],
   "source": [
    "GO_results = enr_res.results\n",
    "GO_results[\"-log p-value\"] =  -1 * np.log10(GO_results[\"Adjusted P-value\"]) \n",
    "GO_results[\"Term\"] = [x.split(\" (\")[0] for x in GO_results[\"Term\"]]\n",
    "GO_results[0:15]\n"
   ]
  },
  {
   "cell_type": "code",
   "execution_count": 109,
   "id": "7f534410",
   "metadata": {},
   "outputs": [
    {
     "name": "stdout",
     "output_type": "stream",
     "text": [
      "['negative regulation of\\napoptotic process', 'negative regulation of\\nprogrammed cell death', 'RNA processing', 'response to unfolded protein', 'gene expression', 'chromatin remodeling']\n"
     ]
    },
    {
     "name": "stderr",
     "output_type": "stream",
     "text": [
      "/tmp/ipykernel_486715/974110861.py:7: MatplotlibDeprecationWarning: The 'b' parameter of grid() has been renamed 'visible' since Matplotlib 3.5; support for the old name will be dropped two minor releases later.\n",
      "  plt.grid(b=None)\n",
      "/tmp/ipykernel_486715/974110861.py:14: UserWarning: FixedFormatter should only be used together with FixedLocator\n",
      "  ax.set_xticklabels(ax.get_xticklabels(), rotation=0, horizontalalignment='right')\n"
     ]
    },
    {
     "data": {
      "text/plain": [
       "(0.0, 4.5)"
      ]
     },
     "execution_count": 109,
     "metadata": {},
     "output_type": "execute_result"
    },
    {
     "data": {
      "image/png": "[encoded data removed]",
      "text/plain": [
       "<Figure size 80x96 with 1 Axes>"
      ]
     },
     "metadata": {
      "image/png": {
       "height": 102,
       "width": 166
      }
     },
     "output_type": "display_data"
    }
   ],
   "source": [
    "sc.settings.set_figure_params(dpi_save= 400, fontsize=5, facecolor='white', frameon=True, transparent=True, format=\"pdf\")\n",
    "fig, ax = plt.subplots(figsize=(1.0,1.2))\n",
    "plt.rc('font', size=5)\n",
    "plt.margins(x=0, y=0)\n",
    "ax.tick_params(axis='both', which='major', pad=0.5, size = 2)\n",
    "ax.set_axisbelow(True)\n",
    "plt.grid(b=None)\n",
    "g = sns.barplot(y = \"Term\", x = \"-log p-value\", data= GO_results[1:7], ax=ax)\n",
    "from textwrap import wrap\n",
    "labels = [x.get_text() for x in ax.get_yticklabels()]\n",
    "labels = ['\\n'.join(wrap(l, 30)) for l in labels]\n",
    "print(labels)\n",
    "ax.set_yticklabels(labels, rotation=0, horizontalalignment='right')\n",
    "ax.set_xticklabels(ax.get_xticklabels(), rotation=0, horizontalalignment='right')\n",
    "ax.set_xlabel(\"-log p-value\", labelpad=0.5)\n",
    "ax.set_ylabel(\"Term\", labelpad=0.0)\n",
    "plt.xlim((0,4.5))\n",
    "# plt.tight_layout()\n",
    "# plt.savefig(\"./figures/early_hcg_go.pdf\")"
   ]
  },
  {
   "cell_type": "code",
   "execution_count": 90,
   "id": "fff332c4",
   "metadata": {},
   "outputs": [
    {
     "data": {
      "text/html": [
       "<div>\n",
       "<style scoped>\n",
       "    .dataframe tbody tr th:only-of-type {\n",
       "        vertical-align: middle;\n",
       "    }\n",
       "\n",
       "    .dataframe tbody tr th {\n",
       "        vertical-align: top;\n",
       "    }\n",
       "\n",
       "    .dataframe thead th {\n",
       "        text-align: right;\n",
       "    }\n",
       "</style>\n",
       "<table border=\"1\" class=\"dataframe\">\n",
       "  <thead>\n",
       "    <tr style=\"text-align: right;\">\n",
       "      <th></th>\n",
       "      <th>names</th>\n",
       "      <th>scores</th>\n",
       "      <th>logfoldchanges</th>\n",
       "      <th>pvals</th>\n",
       "      <th>pvals_adj</th>\n",
       "      <th>TFs</th>\n",
       "    </tr>\n",
       "  </thead>\n",
       "  <tbody>\n",
       "    <tr>\n",
       "      <th>0</th>\n",
       "      <td>Gm42418</td>\n",
       "      <td>44.962505</td>\n",
       "      <td>4.626991</td>\n",
       "      <td>0.000000e+00</td>\n",
       "      <td>0.000000e+00</td>\n",
       "      <td>False</td>\n",
       "    </tr>\n",
       "    <tr>\n",
       "      <th>1</th>\n",
       "      <td>Hspa8</td>\n",
       "      <td>23.069771</td>\n",
       "      <td>1.049129</td>\n",
       "      <td>9.315434e-118</td>\n",
       "      <td>3.615902e-114</td>\n",
       "      <td>False</td>\n",
       "    </tr>\n",
       "    <tr>\n",
       "      <th>2</th>\n",
       "      <td>Cyp19a1</td>\n",
       "      <td>22.580425</td>\n",
       "      <td>1.739384</td>\n",
       "      <td>6.749503e-113</td>\n",
       "      <td>2.095923e-109</td>\n",
       "      <td>False</td>\n",
       "    </tr>\n",
       "    <tr>\n",
       "      <th>3</th>\n",
       "      <td>Malat1</td>\n",
       "      <td>21.320866</td>\n",
       "      <td>1.578447</td>\n",
       "      <td>7.270264e-101</td>\n",
       "      <td>1.612597e-97</td>\n",
       "      <td>False</td>\n",
       "    </tr>\n",
       "    <tr>\n",
       "      <th>4</th>\n",
       "      <td>Rpl37</td>\n",
       "      <td>20.703678</td>\n",
       "      <td>1.228227</td>\n",
       "      <td>3.209124e-95</td>\n",
       "      <td>6.643528e-92</td>\n",
       "      <td>False</td>\n",
       "    </tr>\n",
       "    <tr>\n",
       "      <th>...</th>\n",
       "      <td>...</td>\n",
       "      <td>...</td>\n",
       "      <td>...</td>\n",
       "      <td>...</td>\n",
       "      <td>...</td>\n",
       "      <td>...</td>\n",
       "    </tr>\n",
       "    <tr>\n",
       "      <th>31048</th>\n",
       "      <td>Tpt1</td>\n",
       "      <td>-25.740704</td>\n",
       "      <td>-1.073599</td>\n",
       "      <td>4.096525e-146</td>\n",
       "      <td>2.120156e-142</td>\n",
       "      <td>False</td>\n",
       "    </tr>\n",
       "    <tr>\n",
       "      <th>31049</th>\n",
       "      <td>Ubb</td>\n",
       "      <td>-25.824312</td>\n",
       "      <td>-1.556267</td>\n",
       "      <td>4.729791e-147</td>\n",
       "      <td>2.937484e-143</td>\n",
       "      <td>False</td>\n",
       "    </tr>\n",
       "    <tr>\n",
       "      <th>31050</th>\n",
       "      <td>Rplp0</td>\n",
       "      <td>-26.066961</td>\n",
       "      <td>-1.311272</td>\n",
       "      <td>8.641684e-150</td>\n",
       "      <td>6.708755e-146</td>\n",
       "      <td>False</td>\n",
       "    </tr>\n",
       "    <tr>\n",
       "      <th>31051</th>\n",
       "      <td>Rps14</td>\n",
       "      <td>-28.313097</td>\n",
       "      <td>-1.175236</td>\n",
       "      <td>2.384289e-176</td>\n",
       "      <td>2.467977e-172</td>\n",
       "      <td>False</td>\n",
       "    </tr>\n",
       "    <tr>\n",
       "      <th>31052</th>\n",
       "      <td>mt-Co3</td>\n",
       "      <td>-32.234314</td>\n",
       "      <td>-0.829327</td>\n",
       "      <td>5.836129e-228</td>\n",
       "      <td>9.061466e-224</td>\n",
       "      <td>False</td>\n",
       "    </tr>\n",
       "  </tbody>\n",
       "</table>\n",
       "<p>31053 rows × 6 columns</p>\n",
       "</div>"
      ],
      "text/plain": [
       "         names     scores  logfoldchanges          pvals      pvals_adj    TFs\n",
       "0      Gm42418  44.962505        4.626991   0.000000e+00   0.000000e+00  False\n",
       "1        Hspa8  23.069771        1.049129  9.315434e-118  3.615902e-114  False\n",
       "2      Cyp19a1  22.580425        1.739384  6.749503e-113  2.095923e-109  False\n",
       "3       Malat1  21.320866        1.578447  7.270264e-101   1.612597e-97  False\n",
       "4        Rpl37  20.703678        1.228227   3.209124e-95   6.643528e-92  False\n",
       "...        ...        ...             ...            ...            ...    ...\n",
       "31048     Tpt1 -25.740704       -1.073599  4.096525e-146  2.120156e-142  False\n",
       "31049      Ubb -25.824312       -1.556267  4.729791e-147  2.937484e-143  False\n",
       "31050    Rplp0 -26.066961       -1.311272  8.641684e-150  6.708755e-146  False\n",
       "31051    Rps14 -28.313097       -1.175236  2.384289e-176  2.467977e-172  False\n",
       "31052   mt-Co3 -32.234314       -0.829327  5.836129e-228  9.061466e-224  False\n",
       "\n",
       "[31053 rows x 6 columns]"
      ]
     },
     "execution_count": 90,
     "metadata": {},
     "output_type": "execute_result"
    }
   ],
   "source": [
    "dge_results = sc.get.rank_genes_groups_df(granulosa_temp, key=\"early_hcg_chnages\", group = \"1hr\")\n",
    "f_tfs = \"./../../../../pyscenic_databases/allTFs_mm.txt\"   # mouse\n",
    "tfs = pd.read_csv(f_tfs, header=None)[0].values\n",
    "dge_results[\"TFs\"] = np.in1d(dge_results.names.values, tfs)\n",
    "# tf_names = load_tf_names( f_tfs )\n",
    "# dge_results.to_csv(\"./../pyobjs/early_hcg_changes.csv\")\n",
    "dge_results"
   ]
  },
  {
   "cell_type": "code",
   "execution_count": 94,
   "id": "78f37357",
   "metadata": {},
   "outputs": [
    {
     "data": {
      "text/plain": [
       "(32, 6)"
      ]
     },
     "execution_count": 94,
     "metadata": {},
     "output_type": "execute_result"
    }
   ],
   "source": [
    "dge_results = dge_results[dge_results[\"pvals_adj\"] < 0.01]\n",
    "dge_results = dge_results[dge_results[\"TFs\"] == True]\n",
    "dge_results = dge_results.sort_values(by = \"scores\", ascending=False)\n",
    "dge_results.shape"
   ]
  },
  {
   "cell_type": "code",
   "execution_count": null,
   "id": "2007448e",
   "metadata": {},
   "outputs": [],
   "source": [
    "# dge_results.to_csv(\"./../pyobjs/early_hcg_changes_tfs.csv\")"
   ]
  },
  {
   "cell_type": "code",
   "execution_count": null,
   "id": "1c34f171",
   "metadata": {},
   "outputs": [],
   "source": [
    "sc.settings.set_figure_params(dpi=300, dpi_save = 300, fontsize=6, facecolor='white', frameon=False, figsize=(2.0, 2.0), vector_friendly = True, transparent=True, format=\"pdf\")\n",
    "sns.set_style(\"ticks\")\n",
    "fig, axs = plt.subplots(2,3, figsize = (2.1,1.4))\n",
    "axs = axs.flatten()\n",
    "gene_list = dge_results.head(6)[\"names\"]\n",
    "data = granulosa_temp.obs.join(granulosa.to_df()[gene_list])\n",
    "for i, gene in enumerate(gene_list):\n",
    "    print(i, gene)\n",
    "    sns.boxplot(data, y=gene, x=\"Sample\", ax = axs[i], linewidth=1.0, fliersize=1.0)\n",
    "#     if i == 0:\n",
    "#         legend = axs[i].get_legend()\n",
    "#     axs[i].get_legend().remove()\n",
    "    axs[i].tick_params(axis='both', which='major', pad=0, size = 2)\n",
    "    axs[i].set_ylabel(gene, labelpad = 0.0)\n",
    "    axs[i].set_xlabel(\"\", labelpad = 0.0) \n",
    "# plt.legend(ncol=1, prop={'size': 6}, handletextpad=0.5, markerscale = 0.6, title = \"Kctd & Inhbb expression\",\n",
    "#            labelspacing = 0.0, frameon = False,  title_fontsize = 7, alignment = \"left\", \n",
    "#            borderpad = 0.1, borderaxespad = 0.1, loc = 6, bbox_to_anchor = (1.0, 0.5))     \n",
    "plt.subplots_adjust(wspace=0, hspace=0.5)\n",
    "plt.tight_layout()\n",
    "plt.savefig(\"./figures/early_hcg_tfs.pdf\", dpi = 300)"
   ]
  },
  {
   "cell_type": "code",
   "execution_count": null,
   "id": "2f4bcd3b",
   "metadata": {},
   "outputs": [],
   "source": [
    "granulosa_mural = sc.read_h5ad(\"./../../pyobjs_github/granulosa_mural.h5ad\")\n",
    "granulosa_mural.uns['log1p'][\"base\"] = None\n",
    "granulosa_mural_subset = granulosa_mural[~granulosa_mural.obs[\"Follicle_type\"].isin([\"Antral\"])]\n",
    "granulosa_mural_subset = granulosa_mural_subset[~granulosa_mural_subset.obs[\"Sample\"].isin([\"Immature\"])]\n",
    "granulosa_mural_subset.shape"
   ]
  },
  {
   "cell_type": "code",
   "execution_count": null,
   "id": "3538cd6a",
   "metadata": {},
   "outputs": [],
   "source": [
    "granulosa_mural_subset.obs[\"timepoint\"] = granulosa_mural_subset.obs[\"Sample\"]\n",
    "celltypes = {'0hr': 0, \n",
    "            '1hr': 1, \n",
    "            '4hr': 4, \n",
    "            '6hr': 6, \n",
    "            '8hr': 8,\n",
    "            '11hr': 11,\n",
    "            '12hr': 12}\n",
    "granulosa_mural_subset.obs[\"timepoint\"] = granulosa_mural_subset.obs[\"timepoint\"].map(celltypes)\n",
    "granulosa_mural_subset.obs[\"timepoint\"] = granulosa_mural_subset.obs[\"timepoint\"].astype(int)"
   ]
  },
  {
   "cell_type": "code",
   "execution_count": null,
   "id": "678af7f6",
   "metadata": {
    "scrolled": false
   },
   "outputs": [],
   "source": [
    "sc.pp.highly_variable_genes(granulosa_mural_subset, min_disp=0.5, min_mean=0.2)\n",
    "sc.pl.highly_variable_genes(granulosa_mural_subset)\n",
    "gene_list = list(granulosa_mural_subset.var_names[granulosa_mural_subset.var.highly_variable])\n",
    "len(gene_list)"
   ]
  },
  {
   "cell_type": "code",
   "execution_count": null,
   "id": "cb3f6622",
   "metadata": {},
   "outputs": [],
   "source": [
    "mural_path = ['GC_Mural-(Antral)']\n",
    "trend_results = scGAM.compute_gene_trends(granulosa_mural_subset, var_key=\"timepoint\", genes = gene_list, n_bins = 0, use_raw = False, lineages_paths={\"mural\":mural_path}, group_by = \"granulosa_celltypes_reduced\")"
   ]
  },
  {
   "cell_type": "code",
   "execution_count": null,
   "id": "9c82cbca",
   "metadata": {},
   "outputs": [],
   "source": [
    "trends = trend_results['mural']['trend']"
   ]
  },
  {
   "cell_type": "code",
   "execution_count": null,
   "id": "5c42afd0",
   "metadata": {},
   "outputs": [],
   "source": [
    "trends.to_csv(\"./../pyobjs/mural_granulosa_gene_trends_timepoint_discrete.csv\")"
   ]
  },
  {
   "cell_type": "code",
   "execution_count": null,
   "id": "40e0a385",
   "metadata": {},
   "outputs": [],
   "source": [
    "clusters = scGAM.Agglomerative_cluster_gene_trends_from_lineage(trends, n_clusters=5, scale=True)\n",
    "clusters.value_counts()"
   ]
  },
  {
   "cell_type": "code",
   "execution_count": null,
   "id": "a0f16ca9",
   "metadata": {},
   "outputs": [],
   "source": [
    "# def plot_gene_expression_trend_clusters(trends, cluster_ids, scale = True):\n",
    "#     if scale: \n",
    "#         trends_df = pd.DataFrame(\n",
    "#             StandardScaler().fit_transform(trends.T).T,\n",
    "#             index=trends.index,\n",
    "#             columns=trends.columns,\n",
    "#         ).T\n",
    "#     else:\n",
    "#         trends_df = trends.T\n",
    "#     trends_df = trends_df.stack().reset_index().rename(columns = {\"level_0\": \"timepoint\", \"level_1\":\"Gene\", 0: \"Expression\"})\n",
    "#     trends_df[\"Cluster\"] = [cluster_ids[x] for x in trends_df[\"Gene\"]]\n",
    "#     return trends_df\n",
    "\n",
    "# def plot_gene_expression_trends(trends, genes, scale = True):\n",
    "#     if scale: \n",
    "#         trends_df = pd.DataFrame(\n",
    "#             StandardScaler().fit_transform(trends.T).T,\n",
    "#             index=trends.index,\n",
    "#             columns=trends.columns,\n",
    "#         ).T[genes]\n",
    "#     else:\n",
    "#         trends_df = trends.T[genes]\n",
    "#     trends_df = trends_df.stack().reset_index().rename(columns = {\"level_0\": \"timepoint\", \"level_1\":\"Gene\", 0: \"Expression\"})\n",
    "#     return trends_df"
   ]
  },
  {
   "cell_type": "code",
   "execution_count": null,
   "id": "07f9eed9",
   "metadata": {},
   "outputs": [],
   "source": [
    "trends_df = plot_gene_expression_trend_clusters(trends = trends, cluster_ids=clusters, scale=True)"
   ]
  },
  {
   "cell_type": "code",
   "execution_count": null,
   "id": "33065d83",
   "metadata": {
    "scrolled": false
   },
   "outputs": [],
   "source": [
    "sc.settings.set_figure_params(dpi=200, dpi_save=200, fontsize=6, facecolor='white', frameon=True, figsize=(1.5, 1.5))\n",
    "fig, ax = plt.subplots(figsize = (2.3,1.5))\n",
    "plt.grid(False)\n",
    "sns.set_style(\"ticks\")\n",
    "plt.margins(x=0, y=0)\n",
    "ax.tick_params(axis='both', which='major', pad=0.5, size = 2)\n",
    "g = sns.lineplot(data = trends_df, x = \"timepoint\", y= \"Expression\", hue=\"Cluster\", palette=\"tab10\", lw = 1, ax=ax)\n",
    "g.set_xticks(range(0, 13, 2))\n",
    "plt.legend(ncol=1, prop={'size': 6}, loc = 2, handletextpad=0.5, markerscale = 0.6, title = \"Gene groups\", \n",
    "           labelspacing = 0.0, frameon = False, title_fontsize = 7, alignment = \"left\", \n",
    "           borderpad = 0.1, borderaxespad = 0.1, bbox_to_anchor = (1.1, 0.75))\n",
    "ax.get_legend().set_title(\"Gene groups\")\n",
    "ax.set_xlabel(\"Time after LH treatment\", labelpad=0.5)\n",
    "ax.set_ylabel(\"Scaled expression\", labelpad=0.0)\n",
    "plt.tight_layout()"
   ]
  },
  {
   "cell_type": "code",
   "execution_count": null,
   "id": "c3669aa8",
   "metadata": {},
   "outputs": [],
   "source": [
    "trends_df = plot_gene_expression_trends(trends = trends, genes=granulosa_mural_subset.var.loc[clusters[clusters == 3].index.values,:].sort_values(by = \"dispersions_norm\", ascending = False).index.values[0:15], scale=True)"
   ]
  },
  {
   "cell_type": "code",
   "execution_count": null,
   "id": "995f29f0",
   "metadata": {},
   "outputs": [],
   "source": [
    "sc.settings.set_figure_params(dpi=200, fontsize=7, facecolor='white', frameon=True, figsize=(5, 5))\n",
    "fig, ax = plt.subplots(figsize = (2.5,1.5))\n",
    "plt.grid(False)\n",
    "sns.set_style(\"ticks\")\n",
    "plt.margins(x=0, y=0)\n",
    "ax.tick_params(axis='both', which='major', pad=0.5, size = 2)\n",
    "g = sns.lineplot(data = trends_df, x = \"timepoint\", y= \"Expression\", hue=\"Gene\", palette=\"Dark2\", lw = 1, ax=ax)\n",
    "g.set_xticks(range(0, 13, 2))\n",
    "plt.legend(ncol=1, prop={'size': 6}, loc = 6, handletextpad=0.5, markerscale = 0.6, title = \"Gene groups\", \n",
    "           labelspacing = 0.0, frameon = False, title_fontsize = 6, alignment = \"left\", \n",
    "           borderpad = 0.1, borderaxespad = 0.1, bbox_to_anchor = (1.05, 0.50))\n",
    "ax.get_legend().set_title(\"Genes\")\n",
    "ax.set_xlabel(\"Time after LH treatment\", labelpad=0.5)\n",
    "ax.set_ylabel(\"Scaled expression\", labelpad=0.0)\n",
    "plt.tight_layout()\n",
    "# fig.savefig(\"./figures/increasing_trends.pdf\")"
   ]
  },
  {
   "cell_type": "code",
   "execution_count": null,
   "id": "c6c8ac6e",
   "metadata": {
    "scrolled": true
   },
   "outputs": [],
   "source": [
    "# #Available databases : ‘Human’, ‘Mouse’, ‘Yeast’, ‘Fly’, ‘Fish’, ‘Worm’ \n",
    "# gene_set_names = gseapy.get_library_name(organism='Mouse')\n",
    "# print(gene_set_names)"
   ]
  },
  {
   "cell_type": "code",
   "execution_count": null,
   "id": "44faee2c",
   "metadata": {},
   "outputs": [],
   "source": [
    "# # Some databases of interest:\n",
    "# GO_Biological_Process_2021\n",
    "# GO_Biological_Process_2017b\n",
    "# KEGG_2019_Human\n",
    "# KEGG_2019_Mouse\n",
    "# WikiPathways_2019_Human\n",
    "# WikiPathways_2019_Mouse"
   ]
  },
  {
   "cell_type": "code",
   "execution_count": null,
   "id": "44ae1472",
   "metadata": {},
   "outputs": [],
   "source": [
    "# import gseapy\n",
    "# enr_res = gseapy.enrichr(gene_list=list(clusters[clusters == 3].index), \n",
    "#                      organism='Mouse',\n",
    "#                      gene_sets=['GO_Biological_Process_2021'],\n",
    "# #                      description='pathway', \n",
    "#                      cutoff = 0.5)"
   ]
  },
  {
   "cell_type": "code",
   "execution_count": null,
   "id": "f712f7c9",
   "metadata": {
    "scrolled": false
   },
   "outputs": [],
   "source": [
    "# GO_results = enr_res.results\n",
    "# GO_results[\"-log p-value\"] =  -1 * np.log10(GO_results[\"Adjusted P-value\"]) \n",
    "# GO_results[\"Term\"] = [x.split(\" (\")[0] for x in GO_results[\"Term\"]]\n",
    "# GO_results[0:5]"
   ]
  },
  {
   "cell_type": "code",
   "execution_count": null,
   "id": "9397cd17",
   "metadata": {},
   "outputs": [],
   "source": [
    "# sc.settings.set_figure_params(dpi_save= 400, fontsize=5, facecolor='white', frameon=True, transparent=True, format=\"pdf\")\n",
    "# fig, ax = plt.subplots(figsize=(0.9,1.5))\n",
    "# plt.rc('font', size=5)\n",
    "# plt.margins(x=0, y=0)\n",
    "# ax.tick_params(axis='both', which='major', pad=0.5, size = 2)\n",
    "# ax.set_axisbelow(True)\n",
    "# plt.grid(b=None)\n",
    "# g = sns.barplot(y = \"Term\", x = \"-log p-value\", data= GO_results[0:10], ax=ax)\n",
    "# # from textwrap import wrap\n",
    "# # labels = [x.get_text() for x in ax.get_yticklabels()]\n",
    "# # labels = ['\\n'.join(wrap(l, 40)) for l in labels]\n",
    "# # # print(labels)\n",
    "# # ax.set_yticklabels(labels, rotation=0, horizontalalignment='right')\n",
    "# ax.set_xticklabels(ax.get_xticklabels(), rotation=0, horizontalalignment='right')\n",
    "# ax.set_xlabel(\"-log p-value\", labelpad=0.5)\n",
    "# ax.set_ylabel(\"Term\", labelpad=0.0)\n",
    "# plt.tight_layout()"
   ]
  },
  {
   "cell_type": "code",
   "execution_count": null,
   "id": "2b6ab48d",
   "metadata": {},
   "outputs": [],
   "source": [
    "granulosa_mural_bulk = sc.read_h5ad(\"./../../pyobjs_github/granulosa_mural_bulk_raw_counts.h5ad\")\n",
    "# granulosa_mural_bulk.uns['log1p'][\"base\"] = None\n",
    "granulosa_mural_bulk"
   ]
  },
  {
   "cell_type": "code",
   "execution_count": null,
   "id": "edb17525",
   "metadata": {},
   "outputs": [],
   "source": [
    "granulosa_mural_bulk[granulosa_mural_bulk.obs[\"Sample\"] == \"12hr\"].obs[\"Follicle_type\"].value_counts()"
   ]
  },
  {
   "cell_type": "code",
   "execution_count": null,
   "id": "3801de63",
   "metadata": {},
   "outputs": [],
   "source": [
    "sc.pp.normalize_total(granulosa_mural_bulk, target_sum=1e4)\n",
    "sc.pp.log1p(granulosa_mural_bulk)"
   ]
  },
  {
   "cell_type": "code",
   "execution_count": null,
   "id": "6270c13e",
   "metadata": {},
   "outputs": [],
   "source": [
    "granulosa_mural_bulk_subset = granulosa_mural_bulk[~granulosa_mural_bulk.obs[\"Sample\"].isin([\"Immature\"])]\n",
    "granulosa_mural_bulk_subset.shape"
   ]
  },
  {
   "cell_type": "code",
   "execution_count": null,
   "id": "454e35af",
   "metadata": {},
   "outputs": [],
   "source": [
    "granulosa_mural_bulk_subset.obs[\"Follicle_type\"].value_counts()"
   ]
  },
  {
   "cell_type": "code",
   "execution_count": null,
   "id": "a49b8261",
   "metadata": {},
   "outputs": [],
   "source": [
    "granulosa_mural_bulk_subset = granulosa_mural_bulk_subset[granulosa_mural_bulk_subset.obs[\"Follicle_type\"].isin([\"Antral\"])]\n",
    "granulosa_mural_bulk_subset.shape"
   ]
  },
  {
   "cell_type": "code",
   "execution_count": null,
   "id": "d5fb32bb",
   "metadata": {},
   "outputs": [],
   "source": [
    "sc.pp.highly_variable_genes(granulosa_mural_bulk_subset, min_disp=0.5, min_mean=0.5)\n",
    "sc.pl.highly_variable_genes(granulosa_mural_bulk_subset)\n",
    "gene_list = list(granulosa_mural_bulk_subset.var_names[granulosa_mural_bulk_subset.var.highly_variable])\n",
    "len(gene_list)"
   ]
  },
  {
   "cell_type": "code",
   "execution_count": null,
   "id": "bf54c809",
   "metadata": {},
   "outputs": [],
   "source": [
    "\"Edn2\" in gene_list"
   ]
  },
  {
   "cell_type": "code",
   "execution_count": null,
   "id": "3eac93db",
   "metadata": {},
   "outputs": [],
   "source": [
    "granulosa_mural_bulk_subset.obs[\"timepoint\"] = granulosa_mural_bulk_subset.obs[\"Sample\"]\n",
    "celltypes = {'Immature': -1, \n",
    "             '0hr': 0, \n",
    "            '1hr': 1, \n",
    "            '4hr': 4, \n",
    "            '6hr': 6, \n",
    "            '8hr': 8,\n",
    "            '11hr': 11,\n",
    "            '12hr': 12}\n",
    "granulosa_mural_bulk_subset.obs[\"timepoint\"] = granulosa_mural_bulk_subset.obs[\"timepoint\"].map(celltypes)\n",
    "granulosa_mural_bulk_subset.obs[\"timepoint\"] = granulosa_mural_bulk_subset.obs[\"timepoint\"].astype(np.int_)"
   ]
  },
  {
   "cell_type": "code",
   "execution_count": null,
   "id": "8e4a46f3",
   "metadata": {},
   "outputs": [],
   "source": [
    "antral_mural_path = ['Antral']\n",
    "trend_results = scGAM.compute_gene_trends(granulosa_mural_bulk_subset, var_key=\"timepoint\", genes = gene_list, n_bins = 0, use_raw = False, lineages_paths={\"Antral\": antral_mural_path}, group_by = \"Follicle_type\")"
   ]
  },
  {
   "cell_type": "code",
   "execution_count": null,
   "id": "f77ddb70",
   "metadata": {},
   "outputs": [],
   "source": [
    "trends = trend_results['Antral']['trend']\n",
    "trends.shape"
   ]
  },
  {
   "cell_type": "code",
   "execution_count": null,
   "id": "684f85f6",
   "metadata": {},
   "outputs": [],
   "source": [
    "trends.to_csv(\"./../pyobjs/follicle_muralgranulosa_gene_trends_timepoint_discrete.csv\")"
   ]
  },
  {
   "cell_type": "code",
   "execution_count": null,
   "id": "b8f6e929",
   "metadata": {},
   "outputs": [],
   "source": [
    "trends= pd.read_csv(\"./../pyobjs/follicle_muralgranulosa_gene_trends_timepoint_discrete.csv\", index_col=0)\n",
    "trends"
   ]
  },
  {
   "cell_type": "code",
   "execution_count": null,
   "id": "baaaf3d6",
   "metadata": {},
   "outputs": [],
   "source": [
    "clusters = scGAM.Agglomerative_cluster_gene_trends_from_lineage(trends, n_clusters=6, scale=True)\n",
    "clusters.value_counts()"
   ]
  },
  {
   "cell_type": "code",
   "execution_count": null,
   "id": "439e79fd",
   "metadata": {},
   "outputs": [],
   "source": [
    "trends_df = plot_gene_expression_trend_clusters(trends = trends, cluster_ids=clusters, scale=True)"
   ]
  },
  {
   "cell_type": "code",
   "execution_count": null,
   "id": "3fa50d00",
   "metadata": {},
   "outputs": [],
   "source": [
    "sc.settings.set_figure_params(dpi=200, dpi_save=200, fontsize=6, facecolor='white', frameon=True, figsize=(1.5, 1.5))\n",
    "fig, ax = plt.subplots(figsize = (2.3,1.5))\n",
    "plt.grid(False)\n",
    "sns.set_style(\"ticks\")\n",
    "plt.margins(x=0, y=0)\n",
    "ax.tick_params(axis='both', which='major', pad=0.5, size = 2)\n",
    "g = sns.lineplot(data = trends_df, x = \"timepoint\", y= \"Expression\", hue=\"Cluster\", palette=\"tab10\", lw = 1, ax=ax)\n",
    "g.set_xticks([0,2,4,6])\n",
    "plt.legend(ncol=1, prop={'size': 6}, loc = 2, handletextpad=0.5, markerscale = 0.6, title = \"Gene groups\", \n",
    "           labelspacing = 0.0, frameon = False, title_fontsize = 6, alignment = \"left\", \n",
    "           borderpad = 0.1, borderaxespad = 0.1, bbox_to_anchor = (1.05, 0.75))\n",
    "ax.get_legend().set_title(\"Gene groups\")\n",
    "ax.set_xlabel(\"Time after hCG treatment\", labelpad=0.5)\n",
    "ax.set_ylabel(\"Scaled expression\", labelpad=0.0)\n",
    "plt.tight_layout()\n",
    "fig.savefig(\"./figures/mural _granulosa_gene_group_trends.pdf\")\n",
    "# plt.show()"
   ]
  },
  {
   "cell_type": "code",
   "execution_count": null,
   "id": "96491ee6",
   "metadata": {},
   "outputs": [],
   "source": [
    "trends_df = plot_gene_expression_trends(trends = trends, genes=granulosa_mural_bulk_subset.var.loc[clusters[clusters == 0].index.values,:].sort_values(by = \"dispersions_norm\", ascending = False).index.values[0:10], scale=True)"
   ]
  },
  {
   "cell_type": "code",
   "execution_count": null,
   "id": "bdc78d7e",
   "metadata": {},
   "outputs": [],
   "source": [
    "sc.settings.set_figure_params(dpi=200, fontsize=6, facecolor='white', frameon=True, figsize=(5, 5))\n",
    "fig, ax = plt.subplots(figsize = (2.3,1.5))\n",
    "plt.grid(False)\n",
    "sns.set_style(\"ticks\")\n",
    "plt.margins(x=0, y=0)\n",
    "ax.tick_params(axis='both', which='major', pad=0.5, size = 2)\n",
    "g = sns.lineplot(data = trends_df, x = \"timepoint\", y= \"Expression\", hue=\"Gene\", palette=\"Dark2\", lw = 1, ax=ax)\n",
    "g.set_xticks([0,2,4,6])\n",
    "plt.legend(ncol=1, prop={'size': 6}, loc = 6, handletextpad=0.5, markerscale = 0.6, title = \"Gene groups\", \n",
    "           labelspacing = 0.0, frameon = False, title_fontsize = 6, alignment = \"left\", \n",
    "           borderpad = 0.1, borderaxespad = 0.1, bbox_to_anchor = (1.05, 0.50))\n",
    "ax.get_legend().set_title(\"Genes\")\n",
    "ax.set_xlabel(\"Time after hCG treatment\", labelpad=0.5)\n",
    "ax.set_ylabel(\"Scaled expression\", labelpad=0.0)\n",
    "plt.tight_layout()\n",
    "fig.savefig(\"./figures/decreasing_trends.pdf\")"
   ]
  },
  {
   "cell_type": "code",
   "execution_count": null,
   "id": "db19e82b",
   "metadata": {},
   "outputs": [],
   "source": [
    "import gseapy\n",
    "enr_res = gseapy.enrichr(gene_list=list(clusters[clusters == 0].index), \n",
    "                     organism='Mouse',\n",
    "                     gene_sets=['GO_Biological_Process_2021'],\n",
    "#                      description='pathway', \n",
    "                     cutoff = 0.01)"
   ]
  },
  {
   "cell_type": "code",
   "execution_count": null,
   "id": "403aea73",
   "metadata": {},
   "outputs": [],
   "source": [
    "GO_results = enr_res.results\n",
    "GO_results[\"-log p-value\"] =  -1 * np.log10(GO_results[\"Adjusted P-value\"]) \n",
    "GO_results[\"Term\"] = [x.split(\" (\")[0] for x in GO_results[\"Term\"]]\n",
    "GO_results[0:10]"
   ]
  },
  {
   "cell_type": "code",
   "execution_count": null,
   "id": "e8961713",
   "metadata": {},
   "outputs": [],
   "source": [
    "GO_results[GO_results[\"Term\"] == \"negative regulation of apoptotic process\"]"
   ]
  },
  {
   "cell_type": "code",
   "execution_count": null,
   "id": "7533dea6",
   "metadata": {},
   "outputs": [],
   "source": [
    "apoptosis_genes = GO_results[GO_results[\"Term\"] == \"negative regulation of apoptotic process\"].Genes.values[0].split(\";\")\n",
    "from gseapy import Biomart\n",
    "bm = Biomart()\n",
    "h2m = bm.query(dataset='hsapiens_gene_ensembl',\n",
    "               attributes=['external_gene_name',\n",
    "                           'mmusculus_homolog_associated_gene_name'])\n",
    "h2m.index = h2m[\"external_gene_name\"]\n",
    "apoptosis_genes = h2m.loc[apoptosis_genes][\"mmusculus_homolog_associated_gene_name\"]\n",
    "apoptosis_genes = apoptosis_genes[~pd.isna(apoptosis_genes)]"
   ]
  },
  {
   "cell_type": "code",
   "execution_count": null,
   "id": "d45f8197",
   "metadata": {},
   "outputs": [],
   "source": [
    "apoptosis_genes"
   ]
  },
  {
   "cell_type": "code",
   "execution_count": null,
   "id": "9a278c78",
   "metadata": {},
   "outputs": [],
   "source": [
    "apoptosis_genes.to_csv(\"./../pyobjs/apoptosis_genes.csv\")"
   ]
  },
  {
   "cell_type": "code",
   "execution_count": null,
   "id": "31b5c2e2",
   "metadata": {},
   "outputs": [],
   "source": [
    "sc.settings.set_figure_params(dpi_save= 400, fontsize=5, facecolor='white', frameon=True, transparent=True, format=\"pdf\")\n",
    "fig, ax = plt.subplots(figsize=(1.2,1.5))\n",
    "plt.rc('font', size=6)\n",
    "plt.margins(x=0, y=0)\n",
    "ax.tick_params(axis='both', which='major', pad=0.5, size = 2)\n",
    "ax.set_axisbelow(True)\n",
    "plt.grid(b=None)\n",
    "g = sns.barplot(y = \"Term\", x = \"-log p-value\", data= GO_results[0:15], ax=ax)\n",
    "# from textwrap import wrap\n",
    "# labels = [x.get_text() for x in ax.get_yticklabels()]\n",
    "# labels = ['\\n'.join(wrap(l, 40)) for l in labels]\n",
    "# print(labels)\n",
    "# ax.set_yticklabels(labels, rotation=0, horizontalalignment='right')\n",
    "ax.set_xticklabels(ax.get_xticklabels(), rotation=0, horizontalalignment='right')\n",
    "ax.set_xlabel(\"-log p-value\", labelpad=0.5)\n",
    "ax.set_ylabel(\"Term\", labelpad=0.0)\n",
    "# plt.tight_layout()\n",
    "plt.savefig(\"./figures/decreasing_trends_go.pdf\")"
   ]
  },
  {
   "cell_type": "code",
   "execution_count": null,
   "id": "74012eea",
   "metadata": {},
   "outputs": [],
   "source": [
    "trends_df = plot_gene_expression_trends(trends = trends, genes=granulosa_mural_bulk_subset.var.loc[clusters[clusters == 2].index.values,:].sort_values(by = \"dispersions_norm\", ascending = False).index.values[0:10], scale=True)"
   ]
  },
  {
   "cell_type": "code",
   "execution_count": null,
   "id": "0a25936d",
   "metadata": {},
   "outputs": [],
   "source": [
    "sc.settings.set_figure_params(dpi=200, fontsize=6, facecolor='white', frameon=True, figsize=(5, 5))\n",
    "fig, ax = plt.subplots(figsize = (2.3,1.5))\n",
    "plt.grid(False)\n",
    "sns.set_style(\"ticks\")\n",
    "plt.margins(x=0, y=0)\n",
    "ax.tick_params(axis='both', which='major', pad=0.5, size = 2)\n",
    "g = sns.lineplot(data = trends_df, x = \"timepoint\", y= \"Expression\", hue=\"Gene\", palette=\"Dark2\", lw = 1, ax=ax)\n",
    "g.set_xticks([0,2,4,6])\n",
    "plt.legend(ncol=1, prop={'size': 6}, loc = 6, handletextpad=0.5, markerscale = 0.6, title = \"Gene groups\", \n",
    "           labelspacing = 0.0, frameon = False, title_fontsize = 6, alignment = \"left\", \n",
    "           borderpad = 0.1, borderaxespad = 0.1, bbox_to_anchor = (1.05, 0.50))\n",
    "ax.get_legend().set_title(\"Genes\")\n",
    "ax.set_xlabel(\"Time after hCG treatment\", labelpad=0.5)\n",
    "ax.set_ylabel(\"Scaled expression\", labelpad=0.0)\n",
    "plt.tight_layout()\n",
    "fig.savefig(\"./figures/increasing_trends.pdf\")"
   ]
  },
  {
   "cell_type": "code",
   "execution_count": null,
   "id": "4a4855a0",
   "metadata": {},
   "outputs": [],
   "source": [
    "import gseapy\n",
    "enr_res = gseapy.enrichr(gene_list=list(granulosa_mural_bulk_subset.var.loc[clusters[clusters == 2].index.values,:].sort_values(by = \"dispersions_norm\", ascending = False).index.values), \n",
    "                     organism='Mouse',\n",
    "                     gene_sets=['GO_Biological_Process_2021'],\n",
    "#                      description='pathway', \n",
    "                     cutoff = 0.01)"
   ]
  },
  {
   "cell_type": "code",
   "execution_count": null,
   "id": "f8638325",
   "metadata": {},
   "outputs": [],
   "source": [
    "GO_results = enr_res.results\n",
    "GO_results[\"-log p-value\"] =  -1 * np.log10(GO_results[\"Adjusted P-value\"]) \n",
    "GO_results[\"Term\"] = [x.split(\" (\")[0] for x in GO_results[\"Term\"]]\n",
    "GO_results[0:15]"
   ]
  },
  {
   "cell_type": "code",
   "execution_count": null,
   "id": "fd774160",
   "metadata": {},
   "outputs": [],
   "source": [
    "sc.settings.set_figure_params(dpi_save= 400, fontsize=5, facecolor='white', frameon=True, transparent=True, format=\"pdf\")\n",
    "fig, ax = plt.subplots(figsize=(1.2,1.5))\n",
    "plt.rc('font', size=6)\n",
    "plt.margins(x=0, y=0)\n",
    "ax.tick_params(axis='both', which='major', pad=0.5, size = 2)\n",
    "ax.set_axisbelow(True)\n",
    "plt.grid(b=None)\n",
    "g = sns.barplot(y = \"Term\", x = \"-log p-value\", data= GO_results[0:15], ax=ax)\n",
    "# from textwrap import wrap\n",
    "# labels = [x.get_text() for x in ax.get_yticklabels()]\n",
    "# labels = ['\\n'.join(wrap(l, 40)) for l in labels]\n",
    "# print(labels)\n",
    "# ax.set_yticklabels(labels, rotation=0, horizontalalignment='right')\n",
    "ax.set_xticklabels(ax.get_xticklabels(), rotation=0, horizontalalignment='right')\n",
    "ax.set_xlabel(\"-log p-value\", labelpad=0.5)\n",
    "ax.set_ylabel(\"Term\", labelpad=0.0)\n",
    "# plt.tight_layout()\n",
    "plt.savefig(\"./figures/increasing_trends_go.pdf\")"
   ]
  },
  {
   "cell_type": "code",
   "execution_count": null,
   "id": "5ed24993",
   "metadata": {},
   "outputs": [],
   "source": [
    "trends_df = plot_gene_expression_trends(trends = trends, genes=granulosa_mural_bulk_subset.var.loc[clusters[clusters == 3].index.values,:].sort_values(by = \"dispersions_norm\", ascending = False).index.values[0:10], scale=True)"
   ]
  },
  {
   "cell_type": "code",
   "execution_count": null,
   "id": "0fba4f82",
   "metadata": {},
   "outputs": [],
   "source": [
    "sc.settings.set_figure_params(dpi=200, fontsize=7, facecolor='white', frameon=True, figsize=(5, 5))\n",
    "fig, ax = plt.subplots(figsize = (2.3,1.5))\n",
    "plt.grid(False)\n",
    "sns.set_style(\"ticks\")\n",
    "plt.margins(x=0, y=0)\n",
    "ax.tick_params(axis='both', which='major', pad=0.5, size = 2)\n",
    "g = sns.lineplot(data = trends_df, x = \"timepoint\", y= \"Expression\", hue=\"Gene\", palette=\"Dark2\", lw = 1, ax=ax)\n",
    "g.set_xticks([0,2,4,6])\n",
    "plt.legend(ncol=1, prop={'size': 6}, loc = 6, handletextpad=0.5, markerscale = 0.6, title = \"Gene groups\", \n",
    "           labelspacing = 0.0, frameon = False, title_fontsize = 7, alignment = \"left\", \n",
    "           borderpad = 0.1, borderaxespad = 0.1, bbox_to_anchor = (1.05, 0.50))\n",
    "ax.get_legend().set_title(\"Genes\")\n",
    "ax.set_xlabel(\"Time after LH treatment\", labelpad=0.5)\n",
    "ax.set_ylabel(\"Scaled expression\", labelpad=0.0)\n",
    "plt.tight_layout()\n",
    "# fig.savefig(\"./figures/granulosa_late_increasing_trends.pdf\")"
   ]
  },
  {
   "cell_type": "code",
   "execution_count": null,
   "id": "470350b0",
   "metadata": {},
   "outputs": [],
   "source": [
    "import gseapy\n",
    "enr_res = gseapy.enrichr(gene_list=list(granulosa_mural_bulk_subset.var.loc[clusters[(clusters == 3) | (clusters == 3)].index.values,:].sort_values(by = \"dispersions_norm\", ascending = False).index.values), \n",
    "                     organism='Mouse',\n",
    "                     gene_sets=['GO_Biological_Process_2021'],\n",
    "#                      description='pathway', \n",
    "                     cutoff = 0.01)"
   ]
  },
  {
   "cell_type": "code",
   "execution_count": null,
   "id": "50119a68",
   "metadata": {},
   "outputs": [],
   "source": [
    "GO_results = enr_res.results\n",
    "GO_results[\"-log p-value\"] =  -1 * np.log10(GO_results[\"Adjusted P-value\"]) \n",
    "GO_results[\"Term\"] = [x.split(\" (\")[0] for x in GO_results[\"Term\"]]\n",
    "GO_results[0:15]"
   ]
  },
  {
   "cell_type": "code",
   "execution_count": null,
   "id": "286520e9",
   "metadata": {},
   "outputs": [],
   "source": []
  },
  {
   "cell_type": "code",
   "execution_count": null,
   "id": "92259651",
   "metadata": {},
   "outputs": [],
   "source": []
  },
  {
   "cell_type": "code",
   "execution_count": null,
   "id": "2a2bb987",
   "metadata": {},
   "outputs": [],
   "source": [
    "freq_table = granulosa_mural_subset.obs.groupby(['FollicleNumber', \"Sample\", \"phase\"]).size().reset_index(name='count')\n",
    "freq_table['total_count'] = freq_table.groupby(['FollicleNumber', \"Sample\"])['count'].transform('sum')\n",
    "freq_table['proportion'] = freq_table['count'] / freq_table['total_count']\n",
    "freq_table = freq_table[freq_table[\"count\"] > 0]\n",
    "freq_table.head(20)"
   ]
  },
  {
   "cell_type": "code",
   "execution_count": null,
   "id": "61e2aed6",
   "metadata": {},
   "outputs": [],
   "source": [
    "sc.settings.set_figure_params(dpi=80, fontsize=6, facecolor='white', frameon=False, figsize=(2.0, 2.0), vector_friendly = False, transparent=True, format=\"pdf\")\n",
    "sns.set_style(\"ticks\")\n",
    "fig, ax = plt.subplots(figsize = (2.8,1.5))\n",
    "plt.margins(x=0, y=0)\n",
    "ax.tick_params(axis='both', which='major', pad=0, size = 2)\n",
    "sns.barplot(freq_table, x = \"Sample\", y = \"proportion\", dodge=True, hue=\"phase\", palette=\"Set2\", ax=ax)\n",
    "plt.legend(ncol=1, prop={'size': 6}, handletextpad=0.5, markerscale = 0.6, title = \"Cell cycle\",\n",
    "           labelspacing = 0.0, frameon = False,  title_fontsize = 7, alignment = \"left\", \n",
    "           borderpad = 0.1, borderaxespad = 0.1, loc = 1, bbox_to_anchor = (1.0, 1.0))\n",
    "plt.rcParams['legend.title_fontsize'] = 9\n",
    "ax.set_ylim(0,1.0)\n",
    "ax.set_ylabel(\"Follicle type\", labelpad = 0)\n",
    "ax.set_xlabel(\"Cell proportions\", labelpad = 1.0)\n",
    "plt.tight_layout()\n",
    "plt.savefig(\"./figures/cellcycle_all_granulosa_mural.pdf\")"
   ]
  },
  {
   "cell_type": "code",
   "execution_count": null,
   "id": "2cc944ff",
   "metadata": {},
   "outputs": [],
   "source": [
    "adata_magic = pd.read_csv(\"./../../../pyobjs/adata_ovary_combined_magic_edn2_subset.csv\", index_col=0)\n",
    "adata_magic.index = [x.replace(\"4hr_replicate\", \"4hr\") for x in adata_magic.index]\n",
    "dremi_df = pd.read_csv(\"./../../../pyobjs/dremi_magic_Edn2.csv\", index_col=0)"
   ]
  },
  {
   "cell_type": "code",
   "execution_count": null,
   "id": "42ed6568",
   "metadata": {
    "scrolled": true
   },
   "outputs": [],
   "source": [
    "print(dremi_df.loc[\"Edn2\",])\n",
    "dremi_df = dremi_df[dremi_df[\"means\"] > 0.1]\n",
    "dremi_df = dremi_df[dremi_df[\"dispersions\"] > 0.1]"
   ]
  },
  {
   "cell_type": "code",
   "execution_count": null,
   "id": "7d51f9ad",
   "metadata": {},
   "outputs": [],
   "source": [
    "adata_magic.shape"
   ]
  },
  {
   "cell_type": "code",
   "execution_count": null,
   "id": "04d6ad05",
   "metadata": {},
   "outputs": [],
   "source": [
    "adata_magic[\"Sample\"] = adata_ovary_combined.obs[\"Sample\"]"
   ]
  },
  {
   "cell_type": "code",
   "execution_count": null,
   "id": "03ec67cf",
   "metadata": {},
   "outputs": [],
   "source": [
    "sc.settings.set_figure_params(dpi=80, dpi_save = 300, fontsize=6, facecolor='white', frameon=False, figsize=(1.0, 1.0), vector_friendly = True, transparent=True, format=\"pdf\")\n",
    "sns.set_style(\"ticks\")\n",
    "fig, axs = plt.subplots(2,2, figsize = (1.8,1.5))\n",
    "axs = axs.flatten()\n",
    "x_gene = \"Edn2\"\n",
    "y_gene_list = dremi_df[\"gene\"][1:5]\n",
    "for i, y_gene in enumerate(y_gene_list):\n",
    "    print(i, y_gene)\n",
    "    sns.scatterplot(adata_magic.loc[adata_ovary_combined.obs_names], x=\"Edn2\", y = y_gene, hue = \"Sample\", palette=\"Set2\", ax=axs[i], \n",
    "                    s = 0.5, alpha = 0.5, linewidths = 0.0)\n",
    "    if i == 0:\n",
    "        handles, labels = axs[i].get_legend_handles_labels()\n",
    "        legend = axs[i].get_legend()\n",
    "    axs[i].get_legend().remove()\n",
    "    axs[i].tick_params(axis='both', which='major', pad=0, size = 2)\n",
    "    axs[i].set_ylabel(y_gene, labelpad = 0.0, fontstyle = \"italic\")\n",
    "    axs[i].set_xlabel(x_gene, labelpad = 0.0, fontstyle = \"italic\")\n",
    "    \n",
    "fig.legend(handles, labels, ncol=1, prop={'size': 6}, handletextpad=0.5, markerscale = 0.6, title = \"Sample\",\n",
    "           labelspacing = 0.0, frameon = False,  title_fontsize = 7, alignment = \"left\", \n",
    "           borderpad = 0.1, borderaxespad = 0.1, loc = 6, bbox_to_anchor = (1.0, 0.5))     \n",
    "# fig.delaxes(axs[0])\n",
    "plt.margins(x=0, y=0)\n",
    "plt.subplots_adjust(wspace=0, hspace=0)\n",
    "plt.tight_layout()\n",
    "plt.savefig(\"./figures/edn2_dremi_coor.png\", dpi = 300)"
   ]
  },
  {
   "cell_type": "code",
   "execution_count": null,
   "id": "b3c910b8",
   "metadata": {},
   "outputs": [],
   "source": [
    "ovary_11hr = sc.read_h5ad(\"./../pyobjs/11hr_ovary.h5ad\")\n",
    "ovary_12hr = sc.read_h5ad(\"./../pyobjs/12hr_ovary.h5ad\")"
   ]
  },
  {
   "cell_type": "code",
   "execution_count": null,
   "id": "7f4336a3",
   "metadata": {},
   "outputs": [],
   "source": [
    "sc.settings.set_figure_params(dpi=200, dpi_save= 300, fontsize=8, facecolor='white', frameon=False, figsize=(2.0,2.0), vector_friendly = True, transparent=True, format=\"pdf\")\n",
    "sc.pl.spatial(ovary_12hr, color=[\"granulosa_clusters\"], spot_size=30, ncols=3, wspace=0.1)"
   ]
  },
  {
   "cell_type": "code",
   "execution_count": null,
   "id": "360a9875",
   "metadata": {},
   "outputs": [],
   "source": [
    "sample = \"12hr\"\n",
    "celltypes = {'0': \"GC_Mural-(Antral)\", \n",
    "             '1': \"GC_Lytic-1\", \n",
    "            '2': \"GC_Lytic-2\", \n",
    "            '3': \"GC_Mural-(Antral)\", \n",
    "            '4': \"GC_Mural-(Antral)\", \n",
    "            '5': \"GC_Mural-(Atretic)\", \n",
    "            '6': pd.NA,\n",
    "            '7': \"GC_Mural-(Preantral)\", \n",
    "            '8': \"GC_Cumulus\"}\n",
    "ovary_12hr.obs[\"granulosa_celltypes\"] = ovary_12hr.obs[\"granulosa_clusters\"].map(celltypes).astype(\"category\")"
   ]
  },
  {
   "cell_type": "code",
   "execution_count": null,
   "id": "186a2f0b",
   "metadata": {},
   "outputs": [],
   "source": [
    "from pylab import *\n",
    "cmap = cm.get_cmap('tab20')\n",
    "palette_custom = [matplotlib.colors.rgb2hex(cmap(i)) for i in range(cmap.N)]\n",
    "cmap\n",
    "sc.settings.set_figure_params(dpi=200, dpi_save=300, facecolor='white', fontsize=6, frameon=True, figsize=(3, 3), format=\"pdf\")\n",
    "sc.pl.spatial(ovary_12hr, color=[\"granulosa_celltypes\"], spot_size=30, frameon=False, wspace=0.3, na_in_legend=False, title=\"Granulosa celltypes\", save=\"granulosa_celltypes_12hr\")"
   ]
  },
  {
   "cell_type": "code",
   "execution_count": null,
   "id": "c018fceb",
   "metadata": {},
   "outputs": [],
   "source": [
    "sc.settings.set_figure_params(dpi=200, dpi_save=300, facecolor='white', fontsize=6, frameon=True, figsize=(0.8,0.8), format=\"pdf\")\n",
    "fig, axs = plt.subplots(2,2, figsize = (2.3,1.8))\n",
    "axs = axs.flatten()\n",
    "for i, gene in enumerate([\"Edn2\", \"Ptgs1\", \"Junb\", \"Adamts1\"]):\n",
    "    sc.pl.spatial(adata_ovary_combined[adata_ovary_combined.obs[\"Sample\"] == \"12hr\"], color=gene, spot_size=30, frameon=False, wspace=0.1, ncols=5, cmap=sns.blend_palette([\"lightgrey\", sns.xkcd_rgb[\"black\"]], as_cmap=True), ax=axs[i], vmax = \"p99.2\", show=False)\n",
    "    axs[i].set_title(axs[i].get_title(), pad=0)\n",
    "for i in range(1,5):\n",
    "    mappable = fig.axes[-i].collections[1]\n",
    "    colorBar = fig.axes[-i]\n",
    "    colorBar.remove()\n",
    "    plt.colorbar(mappable=mappable, ax=axs[-i],\n",
    "                 fraction=0.25, aspect=7, location = \"right\",\n",
    "                 pad=0 ,shrink = 0.3)\n",
    "for i in range(1,5):\n",
    "    fig.axes[-i].tick_params(length = 2, pad = 0.0)\n",
    "    \n",
    "plt.subplots_adjust(wspace=0, hspace=0)\n",
    "plt.tight_layout()\n",
    "# plt.show()\n",
    "plt.savefig(\"./figures/rupture_asscoiated.pdf\")"
   ]
  },
  {
   "cell_type": "code",
   "execution_count": null,
   "id": "0ed8864e",
   "metadata": {},
   "outputs": [],
   "source": [
    "sc.settings.set_figure_params(dpi=200, dpi_save=300, facecolor='white', fontsize=6, frameon=True, figsize=(0.8,0.8), format=\"pdf\")\n",
    "fig, axs = plt.subplots(1, 3, figsize = (3.0,1.0))\n",
    "axs = axs.flatten()\n",
    "for i, gene in enumerate([\"Sfrp4\", \"Gm2a\", \"Ltbp1\"]):\n",
    "    sc.pl.spatial(adata_ovary_combined[adata_ovary_combined.obs[\"Sample\"] == \"12hr\"], color=gene, spot_size=30, frameon=False, wspace=0.1, ncols=5, cmap=sns.blend_palette([\"lightgrey\", sns.xkcd_rgb[\"black\"]], as_cmap=True), ax=axs[i], vmin = \"p1.0\", vmax = \"p99.2\", show=False)\n",
    "    axs[i].set_title(axs[i].get_title(), pad=0)\n",
    "for i in range(1,4):\n",
    "    mappable = fig.axes[-i].collections[1]\n",
    "    colorBar = fig.axes[-i]\n",
    "    colorBar.remove()\n",
    "    plt.colorbar(mappable=mappable, ax=axs[-i],\n",
    "                 fraction=0.25, aspect=7, location = \"right\",\n",
    "                 pad=0 ,shrink = 0.3)\n",
    "for i in range(1,4):\n",
    "    fig.axes[-i].tick_params(length = 2, pad = 0.0)\n",
    "    \n",
    "plt.subplots_adjust(wspace=0, hspace=0)\n",
    "plt.tight_layout()\n",
    "# plt.show()\n",
    "plt.savefig(\"./figures/12hr_lytic_asscoiated.pdf\")"
   ]
  },
  {
   "cell_type": "code",
   "execution_count": null,
   "id": "2f2ead6a",
   "metadata": {},
   "outputs": [],
   "source": [
    "sc.settings.set_figure_params(dpi=200, dpi_save=300, facecolor='white', fontsize=6, frameon=True, figsize=(0.8,0.8), format=\"pdf\")\n",
    "fig, axs = plt.subplots(1, 3, figsize = (3.0,1.0))\n",
    "axs = axs.flatten()\n",
    "for i, gene in enumerate([\"Rhox8\", \"Star\", \"Ctsl\"]):\n",
    "    sc.pl.spatial(adata_ovary_combined[adata_ovary_combined.obs[\"Sample\"] == \"12hr\"], color=gene, spot_size=30, frameon=False, wspace=0.1, ncols=5, cmap=sns.blend_palette([\"lightgrey\", sns.xkcd_rgb[\"black\"]], as_cmap=True), ax=axs[i], vmin = \"p1.0\", vmax = \"p99.2\", show=False)\n",
    "    axs[i].set_title(axs[i].get_title(), pad=0)\n",
    "for i in range(1,4):\n",
    "    mappable = fig.axes[-i].collections[1]\n",
    "    colorBar = fig.axes[-i]\n",
    "    colorBar.remove()\n",
    "    plt.colorbar(mappable=mappable, ax=axs[-i],\n",
    "                 fraction=0.25, aspect=7, location = \"right\",\n",
    "                 pad=0 ,shrink = 0.3)\n",
    "for i in range(1,4):\n",
    "    fig.axes[-i].tick_params(length = 2, pad = 0.0)\n",
    "    \n",
    "plt.subplots_adjust(wspace=0, hspace=0)\n",
    "plt.tight_layout()\n",
    "# plt.show()\n",
    "plt.savefig(\"./figures/12hr_antral_asscoiated.pdf\")"
   ]
  },
  {
   "cell_type": "code",
   "execution_count": null,
   "id": "112b2732",
   "metadata": {},
   "outputs": [],
   "source": [
    "sc.tl.rank_genes_groups(ovary_12hr, groupby=\"granulosa_celltypes\", groups=[\"GC_Lytic-1\"], reference = \"GC_Lytic-2\", method=\"wilcoxon\", key_added=\"between_lytic_diff\")\n",
    "sc.tl.rank_genes_groups(ovary_12hr, groupby=\"granulosa_celltypes\", groups=[\"GC_Lytic-1\"], reference = \"GC_Mural-(Antral)\", method=\"wilcoxon\", key_added=\"between_lytic_and_mural_diff\")"
   ]
  },
  {
   "cell_type": "code",
   "execution_count": null,
   "id": "d544cf4a",
   "metadata": {},
   "outputs": [],
   "source": [
    "result = ovary_12hr.uns['between_lytic_diff']\n",
    "groups = result['names'].dtype.names\n",
    "dge_results = pd.DataFrame(\n",
    "    {key: result[key][group]\n",
    "    for group in groups for key in ['names', \"logfoldchanges\", \"pvals_adj\"]})\n",
    "print(dge_results)"
   ]
  },
  {
   "cell_type": "code",
   "execution_count": null,
   "id": "5014bee3",
   "metadata": {},
   "outputs": [],
   "source": [
    "sc.settings.set_figure_params(dpi=200, dpi_save=300, facecolor='white', fontsize=6, frameon=False, figsize=(2, 2), format=\"pdf\")\n",
    "sc.pl.spatial(ovary_12hr, color=dge_results.head(10)[\"names\"], spot_size=30, cmap=\"viridis\", ncols=5, wspace = 0.0)"
   ]
  },
  {
   "cell_type": "code",
   "execution_count": null,
   "id": "be1c8835",
   "metadata": {},
   "outputs": [],
   "source": [
    "sc.settings.set_figure_params(dpi=200, dpi_save=300, facecolor='white', fontsize=6, frameon=False, figsize=(2, 2), format=\"pdf\")\n",
    "sc.pl.spatial(ovary_12hr, color=dge_results.tail(10)[\"names\"], spot_size=30, cmap=\"viridis\", ncols=5, wspace = 0.0)"
   ]
  },
  {
   "cell_type": "code",
   "execution_count": null,
   "id": "dcf668a3",
   "metadata": {},
   "outputs": [],
   "source": [
    "result = ovary_12hr.uns['between_lytic_and_mural_diff']\n",
    "groups = result['names'].dtype.names\n",
    "dge_results = pd.DataFrame(\n",
    "    {key: result[key][group]\n",
    "    for group in groups for key in ['names', \"logfoldchanges\", \"pvals_adj\"]})\n",
    "print(dge_results)"
   ]
  },
  {
   "cell_type": "code",
   "execution_count": null,
   "id": "254750ce",
   "metadata": {},
   "outputs": [],
   "source": [
    "sc.settings.set_figure_params(dpi=200, dpi_save=300, facecolor='white', fontsize=6, frameon=False, figsize=(2, 2), format=\"pdf\")\n",
    "sc.pl.spatial(ovary_12hr, color=dge_results.head(10)[\"names\"], spot_size=30, cmap=\"viridis\", ncols=5, wspace = 0.0)"
   ]
  },
  {
   "cell_type": "code",
   "execution_count": null,
   "id": "41190398",
   "metadata": {},
   "outputs": [],
   "source": [
    "sc.settings.set_figure_params(dpi=200, dpi_save=300, facecolor='white', fontsize=6, frameon=False, figsize=(2, 2), format=\"pdf\")\n",
    "sc.pl.spatial(ovary_12hr, color=dge_results.tail(10)[\"names\"], spot_size=30, cmap=\"viridis\", ncols=5, wspace = 0.0)"
   ]
  },
  {
   "cell_type": "code",
   "execution_count": null,
   "id": "51c165e6",
   "metadata": {},
   "outputs": [],
   "source": [
    "sc.settings.set_figure_params(dpi=200, dpi_save=300, facecolor='white', fontsize=6, frameon=False, figsize=(2, 2), format=\"pdf\")\n",
    "sc.pl.spatial(ovary_12hr, color=[\"Edn2\", \"Adamts1\", \"Ldhd\", \"Apln\", \"Akr1c18\"], spot_size=30, cmap=\"viridis\", ncols=5, wspace = 0.0)"
   ]
  },
  {
   "cell_type": "code",
   "execution_count": null,
   "id": "78c56c67",
   "metadata": {},
   "outputs": [],
   "source": [
    "sc.settings.set_figure_params(dpi=200, dpi_save=300, facecolor='white', fontsize=6, frameon=False, figsize=(2, 2), format=\"pdf\")\n",
    "sc.pl.spatial(ovary_11hr, color=[\"Edn2\", \"Adamts1\", \"Ldhd\", \"Akr1c18\"], spot_size=30, cmap=\"viridis\", ncols=5, wspace = 0.0)"
   ]
  },
  {
   "cell_type": "code",
   "execution_count": null,
   "id": "3e0d17a6",
   "metadata": {},
   "outputs": [],
   "source": []
  }
 ],
 "metadata": {
  "kernelspec": {
   "display_name": "Python 3 (ipykernel)",
   "language": "python",
   "name": "python3"
  },
  "language_info": {
   "codemirror_mode": {
    "name": "ipython",
    "version": 3
   },
   "file_extension": ".py",
   "mimetype": "text/x-python",
   "name": "python",
   "nbconvert_exporter": "python",
   "pygments_lexer": "ipython3",
   "version": "3.9.13"
  }
 },
 "nbformat": 4,
 "nbformat_minor": 5
}
