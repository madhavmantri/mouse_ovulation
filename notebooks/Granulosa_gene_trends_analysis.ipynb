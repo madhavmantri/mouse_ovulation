{
 "cells": [
  {
   "cell_type": "code",
   "execution_count": null,
   "id": "f07eca8f",
   "metadata": {},
   "outputs": [],
   "source": [
    "import scGAM as scGAM\n",
    "import gseapy"
   ]
  },
  {
   "cell_type": "code",
   "execution_count": null,
   "id": "4cb17587",
   "metadata": {},
   "outputs": [],
   "source": [
    "import pandas as pd\n",
    "import matplotlib.pyplot as plt\n",
    "import seaborn as sns\n",
    "import scanpy as sc\n",
    "import numpy as np\n",
    "import scanpy.external as sce"
   ]
  },
  {
   "cell_type": "code",
   "execution_count": null,
   "id": "28be2bd7",
   "metadata": {},
   "outputs": [],
   "source": [
    "from pygam import LinearGAM, s\n",
    "import numpy as np\n",
    "import pandas as pd\n",
    "import time\n",
    "from collections import OrderedDict\n",
    "from joblib import delayed, Parallel\n",
    "from sklearn.preprocessing import StandardScaler\n",
    "import scanpy as sc\n",
    "import seaborn as sns"
   ]
  },
  {
   "cell_type": "code",
   "execution_count": null,
   "id": "2a7e5f81",
   "metadata": {},
   "outputs": [],
   "source": [
    "sc.settings.verbosity = 3  \n",
    "# verbosity: errors (0), warnings (1), info (2), hints (3)\n",
    "sc.logging.print_versions()\n",
    "sc.settings.set_figure_params(dpi=80, facecolor='white', frameon=True, figsize=(5, 5))"
   ]
  },
  {
   "cell_type": "code",
   "execution_count": null,
   "id": "18efa711",
   "metadata": {},
   "outputs": [],
   "source": [
    "# samples_dict = {\"Immature\": \"A0021_043\", \"0hr\": \"A0008_041\", \"1hr\": \"A0021_044\", \"4hr\": \"A0008_045\", \"4hr_replicate\": \"A0021_042\", \"6hr\": \"A0021_045\", \"8hr\": \"A0008_044\", \"8hr_replicate\": \"A0021_038\", \"11hr\": \"A0008_046\", \"12hr\": \"A0021_046\"}\n",
    "samples_dict = {\"Immature\": \"A0021_043\", \"0hr\": \"A0008_041\", \"1hr\": \"A0021_044\", \"4hr\": \"A0021_042\", \"6hr\": \"A0021_045\", \"8hr\": \"A0008_044\", \"11hr\": \"A0008_046\", \"12hr\": \"A0021_046\"}"
   ]
  },
  {
   "cell_type": "code",
   "execution_count": null,
   "id": "6e5e7c67",
   "metadata": {},
   "outputs": [],
   "source": [
    "s_genes = list(pd.read_csv(\"./../../MouseInfection/s.genes.txt\")[\"x\"])\n",
    "g2m_genes = list(pd.read_csv(\"./../../MouseInfection/g2m.genes.txt\")[\"x\"])\n",
    "print(s_genes)\n",
    "print(g2m_genes)"
   ]
  },
  {
   "cell_type": "code",
   "execution_count": null,
   "id": "cfda2d44",
   "metadata": {},
   "outputs": [],
   "source": [
    "adata_ovary_combined = sc.read_h5ad(\"./../../pyobjs_github/adata_ovary_combined_processed_deconvoluted_newscaling.h5ad\")\n",
    "adata_ovary_combined.uns['log1p'] = {'base' : None}\n",
    "adata_ovary_combined.shape"
   ]
  },
  {
   "cell_type": "code",
   "execution_count": null,
   "id": "e488da6a",
   "metadata": {},
   "outputs": [],
   "source": [
    "granulosa = sc.read_h5ad(\"./../../pyobjs_github/granulosa1.h5ad\")\n",
    "granulosa.uns['log1p'] = {'base' : None}\n",
    "granulosa.shape"
   ]
  },
  {
   "cell_type": "code",
   "execution_count": null,
   "id": "d2a38e8d",
   "metadata": {},
   "outputs": [],
   "source": [
    "adata_ovary_combined.obs[\"granulosa_celltypes_reduced\"] = adata_ovary_combined.obs[\"Level0_max_pred_celltype\"]\n",
    "adata_ovary_combined.obs[\"granulosa_celltypes_reduced\"] = adata_ovary_combined.obs[\"granulosa_celltypes_reduced\"].astype(str)\n",
    "adata_ovary_combined.obs.loc[granulosa.obs_names,\"granulosa_celltypes_reduced\"] = granulosa.obs[\"granulosa_celltypes_reduced\"]\n",
    "adata_ovary_combined.obs[\"granulosa_celltypes_reduced\"] = adata_ovary_combined.obs[\"granulosa_celltypes_reduced\"].astype(\"category\")"
   ]
  },
  {
   "cell_type": "code",
   "execution_count": null,
   "id": "98c184f9",
   "metadata": {},
   "outputs": [],
   "source": [
    "del adata_ovary_combined"
   ]
  },
  {
   "cell_type": "code",
   "execution_count": null,
   "id": "87d2fd6c",
   "metadata": {},
   "outputs": [],
   "source": [
    "granulosa_mural = sc.read_h5ad(\"./../../pyobjs_github/granulosa_mural.h5ad\")\n",
    "granulosa_mural.uns['log1p'][\"base\"] = None\n",
    "granulosa_mural.shape"
   ]
  },
  {
   "cell_type": "code",
   "execution_count": null,
   "id": "f042e829",
   "metadata": {},
   "outputs": [],
   "source": [
    "granulosa_temp = granulosa_mural[granulosa_mural.obs[\"Sample\"] == \"Immature\"]\n",
    "sc.tl.rank_genes_groups(granulosa_temp, groupby=\"granulosa_celltypes_follicle_type\", method=\"wilcoxon\", key_added=\"rank_gene_groups_granulosa_celltypes_follicle_type\")\n",
    "sc.tl.rank_genes_groups(granulosa_temp, groupby=\"granulosa_celltypes_reduced\", key_added=\"rank_gene_groups_granulosa_celltypes_reduced\")"
   ]
  },
  {
   "cell_type": "code",
   "execution_count": null,
   "id": "3f786d6d",
   "metadata": {},
   "outputs": [],
   "source": [
    "result = granulosa_temp.uns['rank_gene_groups_granulosa_celltypes_follicle_type']\n",
    "groups = result['names'].dtype.names\n",
    "dge_results = pd.DataFrame(\n",
    "    {group + '_' + key: result[key][group]\n",
    "    for group in groups for key in ['names', \"logfoldchanges\", \"pvals_adj\"]})\n",
    "marker_list = list()\n",
    "for group in result['names'].dtype.names:\n",
    "    markers = sc.get.rank_genes_groups_df(granulosa_temp, key='rank_gene_groups_granulosa_celltypes_follicle_type', group = group)\n",
    "    markers[\"celltypes\"] = group\n",
    "    marker_list.append(markers)\n",
    "df = marker_list[1]\n",
    "df = df.set_index(\"names\")\n",
    "df.to_csv(\"./../pyobjs/Immature_rank_gene_groups_granulosa_celltypes_reduced.csv\")"
   ]
  },
  {
   "cell_type": "code",
   "execution_count": null,
   "id": "419a3ba2",
   "metadata": {},
   "outputs": [],
   "source": [
    "sc.tl.dendrogram(granulosa_temp, groupby=\"granulosa_celltypes_reduced\")\n",
    "sc.settings.set_figure_params(dpi=300, dpi_save= 300, fontsize=6, facecolor='white', frameon=False, figsize=(2.0, 2.0), vector_friendly = False, transparent=True, format=\"pdf\")\n",
    "sc.pl.rank_genes_groups_matrixplot(granulosa_temp, key=\"rank_gene_groups_granulosa_celltypes_follicle_type\", n_genes=10, cmap='RdBu_r', values_to_plot=\"logfoldchanges\", min_logfoldchange=1.0, save=\"rank_gene_groups_granulosa_celltypes_follicle_type\", figsize = (6,0.4))\n",
    "sc.settings.set_figure_params(dpi=80, facecolor='white', frameon=True, figsize=(2, 2))"
   ]
  },
  {
   "cell_type": "code",
   "execution_count": null,
   "id": "a9766383",
   "metadata": {},
   "outputs": [],
   "source": [
    "def plot_2_genes_spatial_prep(adata, gene1, gene2, detection_threshold = 0.5, use_raw = True):\n",
    "    pairs_d = {(True, True): \"Both expressed\",\n",
    "               (True, False): f\"{gene1} not {gene2}\",\n",
    "               (False, True): f\"{gene2} not {gene1}\",\n",
    "               (False, False): \"Neither expressed\"}\n",
    "    if use_raw:\n",
    "        adata.obs[f\"{gene1}_{gene2}\"] = [pairs_d[x] for x in zip(adata.raw.to_adata().to_df()[gene1] > detection_threshold, adata.raw.to_adata().to_df()[gene2] > detection_threshold)]\n",
    "    else:\n",
    "        adata.obs[f\"{gene1}_{gene2}\"] = [pairs_d[x] for x in zip(adata.to_df()[gene1] > detection_threshold, adata.to_df()[gene2] > detection_threshold)]\n",
    "    print(f\"{gene1}_{gene2}\" + \" added to .obs\")\n",
    "    return adata"
   ]
  },
  {
   "cell_type": "code",
   "execution_count": null,
   "id": "4a386826",
   "metadata": {},
   "outputs": [],
   "source": [
    "def plot_2_gene_programs_spatial_prep(adata, gene_dict1 , gene_dict2, detection_threshold = 0.5, use_raw = True):\n",
    "    pairs_d = {(True, True): \"Both expressed\",\n",
    "               (True, False): f\"{list(gene_dict1.keys())[0]} not {list(gene_dict2.keys())[0]}\",\n",
    "               (False, True): f\"{list(gene_dict2.keys())[0]} not {list(gene_dict1.keys())[0]}\",\n",
    "               (False, False): \"Neither expressed\"}\n",
    "    if use_raw:\n",
    "        adata.obs[f\"{list(gene_dict1.keys())[0]}_{list(gene_dict2.keys())[0]}\"] = [pairs_d[x] for x in zip(adata.raw.to_adata().to_df()[list(gene_dict1.values())[0]].sum(axis = 1) > detection_threshold, adata.raw.to_adata().to_df()[list(gene_dict2.values())[0]].sum(axis = 1) > detection_threshold)]\n",
    "    else:\n",
    "        adata.obs[f\"{list(gene_dict1.keys())[0]}_{list(gene_dict2.keys())[0]}\"] = [pairs_d[x] for x in zip(adata.to_df()[list(gene_dict1.values())[0]].sum(axis = 1) > detection_threshold, adata.to_df()[list(gene_dict2.values())[0]].sum(axis = 1) > detection_threshold)]\n",
    "    print(f\"{gene1}_{gene2}\" + \" added to .obs\")\n",
    "    return adata"
   ]
  },
  {
   "cell_type": "code",
   "execution_count": null,
   "id": "ed877fe8",
   "metadata": {},
   "outputs": [],
   "source": [
    "granulosa_temp = plot_2_genes_spatial_prep(granulosa_temp, gene1=\"Kctd14\", gene2=\"Inhbb\", detection_threshold = 0.1, use_raw=False)\n",
    "\n",
    "# granulosa_mural = plot_2_gene_programs_spatial_prep(granulosa_temp,\n",
    "#                                                     gene_dict1={\"Preantral\": [\"Kctd14\", \"Slc18a2\"]},\n",
    "#                                                     gene_dict2={\"Antral\": [\"Inhbb\", \"Inhba\"]}, detection_threshold=2.0)"
   ]
  },
  {
   "cell_type": "code",
   "execution_count": null,
   "id": "c3daaec5",
   "metadata": {},
   "outputs": [],
   "source": [
    "sc.tl.rank_genes_groups(granulosa_temp, groupby=\"Kctd14_Inhbb\", key_added=\"Kctd14_Inhbb_markers\", method=\"wilcoxon\")"
   ]
  },
  {
   "cell_type": "code",
   "execution_count": null,
   "id": "c8a6c218",
   "metadata": {},
   "outputs": [],
   "source": [
    "result = granulosa_temp.uns['Kctd14_Inhbb_markers']\n",
    "groups = result['names'].dtype.names\n",
    "dge_results = pd.DataFrame(\n",
    "    {group + '_' + key: result[key][group]\n",
    "    for group in groups for key in ['names', \"logfoldchanges\", \"pvals\", \"pvals_adj\"]})"
   ]
  },
  {
   "cell_type": "code",
   "execution_count": null,
   "id": "82951f0d",
   "metadata": {},
   "outputs": [],
   "source": [
    "dge_results.head(20)"
   ]
  },
  {
   "cell_type": "code",
   "execution_count": null,
   "id": "e502793d",
   "metadata": {},
   "outputs": [],
   "source": [
    "sc.tl.dendrogram(granulosa_temp, groupby=\"Kctd14_Inhbb\")\n",
    "sc.settings.set_figure_params(dpi=300, dpi_save= 300, fontsize=6, facecolor='white', frameon=False, figsize=(1.0, 1.0), vector_friendly = False, transparent=True, format=\"pdf\")\n",
    "sc.pl.rank_genes_groups_matrixplot(granulosa_temp, key=\"Kctd14_Inhbb_markers\", n_genes=10, cmap='RdBu_r', values_to_plot=\"logfoldchanges\", min_logfoldchange=1.5, vmin = -3, vmax = 3, save = \"Kctd_inhbb_subtype_markers\", figsize = (6,0.5))"
   ]
  },
  {
   "cell_type": "code",
   "execution_count": null,
   "id": "bd262498",
   "metadata": {},
   "outputs": [],
   "source": [
    "double_positive_markers = sc.get.rank_genes_groups_df(granulosa_temp, key='Kctd14_Inhbb_markers', group = \"Both expressed\")\n",
    "double_positive_markers = double_positive_markers[double_positive_markers[\"pvals\"] < 0.05]\n",
    "double_positive_markers = double_positive_markers[double_positive_markers[\"logfoldchanges\"] > 1.5]\n",
    "# double_positive_markers = double_positive_markers.sort_values(by=\"logfoldchanges\", ascending=False)\n",
    "double_positive_markers.head(30)"
   ]
  },
  {
   "cell_type": "code",
   "execution_count": null,
   "id": "768568ce",
   "metadata": {},
   "outputs": [],
   "source": [
    "sc.settings.set_figure_params(dpi=300, dpi_save= 300, fontsize=8, facecolor='white', frameon=False, figsize=(2.0,2.0), vector_friendly = True, transparent=True, format=\"pdf\")\n",
    "sc.pl.spatial(granulosa_temp, color=[\"Ank1\", \"Aldh3b1\", \"Irx3\", \"Cacna1a\"], spot_size=30, ncols=2, wspace=0.1, cmap=\"Blues\")"
   ]
  },
  {
   "cell_type": "code",
   "execution_count": null,
   "id": "7c545daa",
   "metadata": {},
   "outputs": [],
   "source": [
    "freq_table = granulosa_temp.obs.groupby(['FollicleNumber', \"Follicle_type\", \"phase\"]).size().reset_index(name='count')\n",
    "freq_table['total_count'] = freq_table.groupby(['FollicleNumber', \"Follicle_type\"])['count'].transform('sum')\n",
    "freq_table['proportion'] = freq_table['count'] / freq_table['total_count']\n",
    "# freq_table[\"Follicle_type\"] = freq_table[\"Follicle_type\"].cat.remove_categories([\"Lytic\"])\n",
    "# freq_table[\"Follicle_type\"] = freq_table[\"Follicle_type\"].cat.reorder_categories([\"Preantral\", \"Antral\", \"Atretic\", \"Transitioning\"])\n",
    "freq_table = freq_table[freq_table[\"count\"] > 0]\n",
    "freq_table.head(20)"
   ]
  },
  {
   "cell_type": "code",
   "execution_count": null,
   "id": "24b4c43f",
   "metadata": {},
   "outputs": [],
   "source": [
    "sc.settings.set_figure_params(dpi=80, fontsize=6, facecolor='white', frameon=False, figsize=(2.0, 2.0), vector_friendly = False, transparent=True, format=\"pdf\")\n",
    "sns.set_style(\"ticks\")\n",
    "fig, ax = plt.subplots(figsize = (1.8,1.5))\n",
    "plt.margins(x=0, y=0)\n",
    "ax.tick_params(axis='both', which='major', pad=0, size = 2)\n",
    "sns.barplot(freq_table, y = \"Follicle_type\", x = \"proportion\", dodge=True, hue=\"phase\", palette=\"Set2\", errwidth=1.5, ax=ax)\n",
    "plt.legend(ncol=1, prop={'size': 6}, handletextpad=0.5, markerscale = 0.6, title = \"Cell cycle\",\n",
    "           labelspacing = 0.0, frameon = False,  title_fontsize = 6, alignment = \"left\", \n",
    "           borderpad = 0.1, borderaxespad = 0.1, loc = 1, bbox_to_anchor = (1.0, 1.0))\n",
    "plt.rcParams['legend.title_fontsize'] = 9\n",
    "ax.set_xlim(0,1.0)\n",
    "ax.set_ylabel(\"Follicle type\", labelpad = -2)\n",
    "ax.set_xlabel(\"Cell proportions\", labelpad = 1.0)\n",
    "plt.tight_layout()\n",
    "plt.savefig(\"./figures/cellcycle_immature.pdf\")"
   ]
  },
  {
   "cell_type": "code",
   "execution_count": null,
   "id": "d23e0052",
   "metadata": {},
   "outputs": [],
   "source": [
    "freq_table = granulosa_temp.obs.groupby(['FollicleNumber', \"Follicle_type\", \"Kctd14_Inhbb\"]).size().reset_index(name='count')\n",
    "freq_table['total_count'] = freq_table.groupby(['FollicleNumber', \"Follicle_type\"])['count'].transform('sum')\n",
    "freq_table['proportion'] = freq_table['count'] / freq_table['total_count']\n",
    "# freq_table[\"Follicle_type\"] = freq_table[\"Follicle_type\"].cat.remove_categories([\"Lytic\"])\n",
    "# freq_table[\"Follicle_type\"] = freq_table[\"Follicle_type\"].cat.reorder_categories([\"Preantral\", \"Antral\", \"Atretic\", \"Transitioning\"])\n",
    "freq_table = freq_table[freq_table[\"count\"] > 0]\n",
    "freq_table.head(20)"
   ]
  },
  {
   "cell_type": "code",
   "execution_count": null,
   "id": "629233d0",
   "metadata": {},
   "outputs": [],
   "source": [
    "sc.settings.set_figure_params(dpi=80, fontsize=6, facecolor='white', frameon=False, figsize=(2.0, 2.0), vector_friendly = False, transparent=True, format=\"pdf\")\n",
    "sns.set_style(\"ticks\")\n",
    "fig, ax = plt.subplots(figsize = (1.5,1.5))\n",
    "plt.margins(x=0, y=0)\n",
    "ax.tick_params(axis='both', which='major', pad=0, size = 2)\n",
    "sns.barplot(freq_table, y = \"Follicle_type\", x = \"proportion\", dodge=True, hue=\"Kctd14_Inhbb\", palette=\"tab10\", ax=ax)\n",
    "plt.legend(ncol=1, prop={'size': 6}, handletextpad=0.5, markerscale = 0.6, title = \"Kctd & Inhbb expression\",\n",
    "           labelspacing = 0.0, frameon = False,  title_fontsize = 7, alignment = \"left\", \n",
    "           borderpad = 0.1, borderaxespad = 0.1, loc = 6, bbox_to_anchor = (1.0, 0.5))\n",
    "plt.rcParams['legend.title_fontsize'] = 9\n",
    "ax.set_xlim(0,1.0)\n",
    "ax.set_ylabel(\"Follicle type\", labelpad = -2)\n",
    "ax.set_xlabel(\"Cell proportions\", labelpad = 0.5)\n",
    "ax.get_legend().remove()\n",
    "plt.tight_layout()\n",
    "plt.savefig(\"./figures/kctd14_inhbb_immature.pdf\")"
   ]
  },
  {
   "cell_type": "code",
   "execution_count": null,
   "id": "1d2580ad",
   "metadata": {},
   "outputs": [],
   "source": [
    "freq_table = granulosa_temp.obs.groupby(['FollicleNumber', \"Kctd14_Inhbb\", \"phase\"]).size().reset_index(name='count')\n",
    "freq_table['total_count'] = freq_table.groupby(['FollicleNumber', \"Kctd14_Inhbb\"])['count'].transform('sum')\n",
    "freq_table['proportion'] = freq_table['count'] / freq_table['total_count']\n",
    "# freq_table[\"Follicle_type\"] = freq_table[\"Follicle_type\"].cat.remove_categories([\"Lytic\"])\n",
    "# freq_table[\"Follicle_type\"] = freq_table[\"Follicle_type\"].cat.reorder_categories([\"Preantral\", \"Antral\", \"Atretic\", \"Transitioning\"])\n",
    "freq_table = freq_table[freq_table[\"count\"] > 0]\n",
    "freq_table.head(20)"
   ]
  },
  {
   "cell_type": "code",
   "execution_count": null,
   "id": "fb0cc2bc",
   "metadata": {},
   "outputs": [],
   "source": [
    "sc.settings.set_figure_params(dpi=80, fontsize=6, facecolor='white', frameon=False, figsize=(2.0, 2.0), vector_friendly = False, transparent=True, format=\"pdf\")\n",
    "sns.set_style(\"ticks\")\n",
    "fig, ax = plt.subplots(figsize = (2.0,1.5))\n",
    "plt.margins(x=0, y=0)\n",
    "ax.tick_params(axis='both', which='major', pad=0, size = 2)\n",
    "sns.barplot(freq_table, y = \"Kctd14_Inhbb\", x = \"proportion\", dodge=True, hue=\"phase\", palette=\"Set2\", ax=ax)\n",
    "plt.legend(ncol=1, prop={'size': 6}, handletextpad=0.5, markerscale = 0.6, title = \"Cell cycle\",\n",
    "           labelspacing = 0.0, frameon = False,  title_fontsize = 6, alignment = \"left\", \n",
    "           borderpad = 0.1, borderaxespad = 0.1, loc = 1, bbox_to_anchor = (1.0, 1.0))\n",
    "plt.rcParams['legend.title_fontsize'] = 9\n",
    "ax.set_xlim(0,1.0)\n",
    "ax.set_ylabel(\"Kctd & Inhbb expression\", labelpad = -2)\n",
    "ax.set_xlabel(\"Cell proportions\", labelpad = 0.5)\n",
    "# ax.get_legend().remove()\n",
    "plt.tight_layout()\n",
    "plt.savefig(\"./figures/kctd14_inhbb_phase_immature.pdf\")"
   ]
  },
  {
   "cell_type": "code",
   "execution_count": null,
   "id": "3c533f78",
   "metadata": {},
   "outputs": [],
   "source": [
    "granulosa_temp = plot_2_genes_spatial_prep(granulosa_temp, gene1=\"Kctd14\", gene2=\"Cfh\", detection_threshold = 0.1, use_raw=False)"
   ]
  },
  {
   "cell_type": "code",
   "execution_count": null,
   "id": "96fc04e9",
   "metadata": {
    "scrolled": true
   },
   "outputs": [],
   "source": [
    "granulosa_temp.write_h5ad(\"./../pyobjs/granulosa_mural_immature.h5ad\")"
   ]
  },
  {
   "cell_type": "code",
   "execution_count": null,
   "id": "04509ebc",
   "metadata": {},
   "outputs": [],
   "source": [
    "granulosa_temp.obs"
   ]
  },
  {
   "cell_type": "code",
   "execution_count": null,
   "id": "01cfb8e8",
   "metadata": {},
   "outputs": [],
   "source": [
    "granulosa_mural = sc.read_h5ad(\"./../pyobjs/granulosa_mural.h5ad\")\n",
    "granulosa_mural.uns['log1p'][\"base\"] = None\n",
    "granulosa_mural.shape"
   ]
  },
  {
   "cell_type": "code",
   "execution_count": null,
   "id": "0cba5b95",
   "metadata": {},
   "outputs": [],
   "source": [
    "granulosa_temp = granulosa_mural[granulosa_mural.obs[\"Sample\"] == \"0hr\"]"
   ]
  },
  {
   "cell_type": "code",
   "execution_count": null,
   "id": "214159ca",
   "metadata": {},
   "outputs": [],
   "source": [
    "sc.tl.rank_genes_groups(granulosa_temp, groupby=\"granulosa_celltypes\", groups=[\"GC_Mural_Outer-(Antral)\", \"GC_Mural_Inner-(Antral)\"], key_added=\"AO_vs_AI\")"
   ]
  },
  {
   "cell_type": "code",
   "execution_count": null,
   "id": "75aeb6b7",
   "metadata": {
    "scrolled": false
   },
   "outputs": [],
   "source": [
    "result = granulosa_temp.uns['AO_vs_AI']\n",
    "groups = result['names'].dtype.names\n",
    "dge_results = pd.DataFrame(\n",
    "    {group + '_' + key: result[key][group]\n",
    "    for group in groups for key in ['names', \"logfoldchanges\", \"pvals_adj\"]}).head(10)\n",
    "print(dge_results.head(20))"
   ]
  },
  {
   "cell_type": "code",
   "execution_count": null,
   "id": "0ccd233e",
   "metadata": {},
   "outputs": [],
   "source": [
    "sc.settings.set_figure_params(dpi=300, dpi_save= 300, fontsize=20, facecolor='white', frameon=False, figsize=(1.0, 1.0), vector_friendly = False, transparent=True, format=\"pdf\")\n",
    "sc.pl.rank_genes_groups_matrixplot(granulosa_temp, key=\"AO_vs_AI\", n_genes=30, cmap='magma_r', min_logfoldchange=1.0)"
   ]
  },
  {
   "cell_type": "code",
   "execution_count": null,
   "id": "d8761855",
   "metadata": {
    "scrolled": false
   },
   "outputs": [],
   "source": [
    "sc.settings.set_figure_params(dpi=300, dpi_save= 300, fontsize=8, facecolor='white', frameon=False, figsize=(2.0,2.0), vector_friendly = True, transparent=True, format=\"pdf\")\n",
    "sc.pl.spatial(granulosa_temp, color=[\"Bmp3\", \"Slc38a5\", \"Ccnd2\"], spot_size=30, ncols=3, wspace=0.1, cmap=sns.blend_palette([\"lightgrey\", sns.xkcd_rgb[\"darkblue\"]], as_cmap=True), vmax = 'p99.2')"
   ]
  },
  {
   "cell_type": "code",
   "execution_count": null,
   "id": "17e892c8",
   "metadata": {},
   "outputs": [],
   "source": [
    "granulosa_temp = granulosa_mural[granulosa_mural.obs[\"Sample\"].isin([\"Immature\", \"0hr\"])]\n",
    "granulosa_temp = granulosa_temp[granulosa_temp.obs[\"granulosa_celltypes_reduced\"].isin([\"GC_Mural-(Antral)\"])]\n",
    "granulosa_temp.shape"
   ]
  },
  {
   "cell_type": "code",
   "execution_count": null,
   "id": "8df926a7",
   "metadata": {},
   "outputs": [],
   "source": [
    "sc.tl.rank_genes_groups(granulosa_temp, groupby=\"Sample\", key_added=\"SAF_vs_LAF\")"
   ]
  },
  {
   "cell_type": "code",
   "execution_count": null,
   "id": "9d999b2e",
   "metadata": {},
   "outputs": [],
   "source": [
    "# sc.tl.rank_genes_groups(granulosa_temp, groupby=\"Sample\", key_added=\"SAF_vs_LAF\")\n",
    "result = granulosa_temp.uns['SAF_vs_LAF']\n",
    "groups = result['names'].dtype.names\n",
    "dge_results = pd.DataFrame(\n",
    "    {group + '_' + key: result[key][group]\n",
    "    for group in groups for key in ['names', \"logfoldchanges\", \"pvals_adj\"]}).head(10)\n",
    "print(dge_results.head(30))"
   ]
  },
  {
   "cell_type": "code",
   "execution_count": null,
   "id": "0af60228",
   "metadata": {},
   "outputs": [],
   "source": [
    "sc.settings.set_figure_params(dpi=300, dpi_save= 300, fontsize=20, facecolor='white', frameon=False, figsize=(1.0, 1.0), vector_friendly = False, transparent=True, format=\"pdf\")\n",
    "sc.pl.rank_genes_groups_matrixplot(granulosa_temp, key=\"SAF_vs_LAF\", n_genes=15, cmap='magma_r', min_logfoldchange=2.0)\n",
    "sc.settings.set_figure_params(dpi=80, dpi_save= 300, fontsize=8, facecolor='white', frameon=False, figsize=(3.0, 3.0))\n"
   ]
  },
  {
   "cell_type": "code",
   "execution_count": null,
   "id": "fa192649",
   "metadata": {},
   "outputs": [],
   "source": [
    "granulosa_temp = granulosa_mural[granulosa_mural.obs[\"Sample\"].isin([\"0hr\", \"1hr\"])]\n",
    "granulosa_temp = granulosa_temp[granulosa_temp.obs[\"Follicle_type\"] == \"Antral\"]\n",
    "granulosa_temp.shape"
   ]
  },
  {
   "cell_type": "code",
   "execution_count": null,
   "id": "d45c6d80",
   "metadata": {},
   "outputs": [],
   "source": [
    "sc.tl.rank_genes_groups(granulosa_temp, groupby=\"Sample\", groups=[\"1hr\"], reference=\"0hr\", key_added=\"early_hcg_chnages\", pts=True, method=\"wilcoxon\")"
   ]
  },
  {
   "cell_type": "code",
   "execution_count": null,
   "id": "e7cf37ba",
   "metadata": {},
   "outputs": [],
   "source": [
    "dge_results = sc.get.rank_genes_groups_df(granulosa_temp, key=\"early_hcg_chnages\", group = \"1hr\")\n",
    "f_tfs = \"./../../pyscenic_databases/allTFs_mm.txt\"   # mouse\n",
    "tfs = pd.read_csv(f_tfs, header=None)[0].values\n",
    "dge_results[\"TFs\"] = np.in1d(dge_results.names.values, tfs)\n",
    "# tf_names = load_tf_names( f_tfs )\n",
    "# dge_results.to_csv(\"./../pyobjs/early_hcg_changes.csv\")\n",
    "dge_results"
   ]
  },
  {
   "cell_type": "code",
   "execution_count": null,
   "id": "28be4c95",
   "metadata": {},
   "outputs": [],
   "source": [
    "dge_results = dge_results[dge_results[\"pvals_adj\"] < 0.01]\n",
    "dge_results = dge_results.sort_values(by = \"logfoldchanges\", ascending=False)\n",
    "dge_results = dge_results[dge_results[\"logfoldchanges\"] > 0.5]\n",
    "print(dge_results.shape)\n",
    "dge_results.head(20)"
   ]
  },
  {
   "cell_type": "code",
   "execution_count": null,
   "id": "389117f8",
   "metadata": {},
   "outputs": [],
   "source": [
    "import gseapy\n",
    "enr_res = gseapy.enrichr(gene_list=list(dge_results[\"names\"]), \n",
    "                     organism='Mouse',\n",
    "                     gene_sets=['GO_Biological_Process_2021'],\n",
    "#                      description='pathway', \n",
    "                     cutoff = 0.01)"
   ]
  },
  {
   "cell_type": "code",
   "execution_count": null,
   "id": "4fcdbb60",
   "metadata": {},
   "outputs": [],
   "source": [
    "GO_results = enr_res.results\n",
    "GO_results[\"-log p-value\"] =  -1 * np.log10(GO_results[\"Adjusted P-value\"]) \n",
    "GO_results[\"Term\"] = [x.split(\" (\")[0] for x in GO_results[\"Term\"]]\n",
    "GO_results[0:15]\n"
   ]
  },
  {
   "cell_type": "code",
   "execution_count": null,
   "id": "7f534410",
   "metadata": {},
   "outputs": [],
   "source": [
    "sc.settings.set_figure_params(dpi_save= 400, fontsize=5, facecolor='white', frameon=True, transparent=True, format=\"pdf\")\n",
    "fig, ax = plt.subplots(figsize=(1.0,1.2))\n",
    "plt.rc('font', size=5)\n",
    "plt.margins(x=0, y=0)\n",
    "ax.tick_params(axis='both', which='major', pad=0.5, size = 2)\n",
    "ax.set_axisbelow(True)\n",
    "plt.grid(b=None)\n",
    "g = sns.barplot(y = \"Term\", x = \"-log p-value\", data= GO_results[1:7], ax=ax)\n",
    "from textwrap import wrap\n",
    "labels = [x.get_text() for x in ax.get_yticklabels()]\n",
    "labels = ['\\n'.join(wrap(l, 30)) for l in labels]\n",
    "print(labels)\n",
    "ax.set_yticklabels(labels, rotation=0, horizontalalignment='right')\n",
    "ax.set_xticklabels(ax.get_xticklabels(), rotation=0, horizontalalignment='right')\n",
    "ax.set_xlabel(\"-log p-value\", labelpad=0.5)\n",
    "ax.set_ylabel(\"Term\", labelpad=0.0)\n",
    "plt.xlim((0,4.5))\n",
    "# plt.tight_layout()\n",
    "plt.savefig(\"./figures/early_hcg_go.pdf\")"
   ]
  },
  {
   "cell_type": "code",
   "execution_count": null,
   "id": "fff332c4",
   "metadata": {},
   "outputs": [],
   "source": [
    "dge_results = sc.get.rank_genes_groups_df(granulosa_temp, key=\"early_hcg_chnages\", group = \"1hr\")\n",
    "f_tfs = \"./../../pyscenic_databases/allTFs_mm.txt\"   # mouse\n",
    "tfs = pd.read_csv(f_tfs, header=None)[0].values\n",
    "dge_results[\"TFs\"] = np.in1d(dge_results.names.values, tfs)\n",
    "# tf_names = load_tf_names( f_tfs )\n",
    "# dge_results.to_csv(\"./../pyobjs/early_hcg_changes.csv\")\n",
    "dge_results"
   ]
  },
  {
   "cell_type": "code",
   "execution_count": null,
   "id": "78f37357",
   "metadata": {},
   "outputs": [],
   "source": [
    "dge_results = dge_results[dge_results[\"pvals_adj\"] < 0.01]\n",
    "dge_results = dge_results[dge_results[\"TFs\"] == True]\n",
    "dge_results = dge_results.sort_values(by = \"scores\", ascending=False)\n",
    "dge_results.head(10)"
   ]
  },
  {
   "cell_type": "code",
   "execution_count": null,
   "id": "2007448e",
   "metadata": {},
   "outputs": [],
   "source": [
    "# dge_results.to_csv(\"./../pyobjs/early_hcg_changes_tfs.csv\")"
   ]
  },
  {
   "cell_type": "code",
   "execution_count": null,
   "id": "1c34f171",
   "metadata": {},
   "outputs": [],
   "source": [
    "sc.settings.set_figure_params(dpi=300, dpi_save = 300, fontsize=6, facecolor='white', frameon=False, figsize=(2.0, 2.0), vector_friendly = True, transparent=True, format=\"pdf\")\n",
    "sns.set_style(\"ticks\")\n",
    "fig, axs = plt.subplots(2,3, figsize = (2.1,1.4))\n",
    "axs = axs.flatten()\n",
    "gene_list = dge_results.head(6)[\"names\"]\n",
    "data = granulosa_temp.obs.join(granulosa.to_df()[gene_list])\n",
    "for i, gene in enumerate(gene_list):\n",
    "    print(i, gene)\n",
    "    sns.boxplot(data, y=gene, x=\"Sample\", ax = axs[i], linewidth=1.0, fliersize=1.0)\n",
    "#     if i == 0:\n",
    "#         legend = axs[i].get_legend()\n",
    "#     axs[i].get_legend().remove()\n",
    "    axs[i].tick_params(axis='both', which='major', pad=0, size = 2)\n",
    "    axs[i].set_ylabel(gene, labelpad = 0.0)\n",
    "    axs[i].set_xlabel(\"\", labelpad = 0.0) \n",
    "# plt.legend(ncol=1, prop={'size': 6}, handletextpad=0.5, markerscale = 0.6, title = \"Kctd & Inhbb expression\",\n",
    "#            labelspacing = 0.0, frameon = False,  title_fontsize = 7, alignment = \"left\", \n",
    "#            borderpad = 0.1, borderaxespad = 0.1, loc = 6, bbox_to_anchor = (1.0, 0.5))     \n",
    "plt.subplots_adjust(wspace=0, hspace=0.5)\n",
    "plt.tight_layout()\n",
    "plt.savefig(\"./figures/early_hcg_tfs.pdf\", dpi = 300)"
   ]
  },
  {
   "cell_type": "code",
   "execution_count": null,
   "id": "2f4bcd3b",
   "metadata": {},
   "outputs": [],
   "source": [
    "granulosa_mural = sc.read_h5ad(\"./../../pyobjs_github/granulosa_mural.h5ad\")\n",
    "granulosa_mural.uns['log1p'][\"base\"] = None\n",
    "granulosa_mural_subset = granulosa_mural[~granulosa_mural.obs[\"Follicle_type\"].isin([\"Antral\"])]\n",
    "granulosa_mural_subset = granulosa_mural_subset[~granulosa_mural_subset.obs[\"Sample\"].isin([\"Immature\"])]\n",
    "granulosa_mural_subset.shape"
   ]
  },
  {
   "cell_type": "code",
   "execution_count": null,
   "id": "3538cd6a",
   "metadata": {},
   "outputs": [],
   "source": [
    "granulosa_mural_subset.obs[\"timepoint\"] = granulosa_mural_subset.obs[\"Sample\"]\n",
    "celltypes = {'0hr': 0, \n",
    "            '1hr': 1, \n",
    "            '4hr': 4, \n",
    "            '6hr': 6, \n",
    "            '8hr': 8,\n",
    "            '11hr': 11,\n",
    "            '12hr': 12}\n",
    "granulosa_mural_subset.obs[\"timepoint\"] = granulosa_mural_subset.obs[\"timepoint\"].map(celltypes)\n",
    "granulosa_mural_subset.obs[\"timepoint\"] = granulosa_mural_subset.obs[\"timepoint\"].astype(int)"
   ]
  },
  {
   "cell_type": "code",
   "execution_count": null,
   "id": "678af7f6",
   "metadata": {
    "scrolled": false
   },
   "outputs": [],
   "source": [
    "sc.pp.highly_variable_genes(granulosa_mural_subset, min_disp=0.5, min_mean=0.2)\n",
    "sc.pl.highly_variable_genes(granulosa_mural_subset)\n",
    "gene_list = list(granulosa_mural_subset.var_names[granulosa_mural_subset.var.highly_variable])\n",
    "len(gene_list)"
   ]
  },
  {
   "cell_type": "code",
   "execution_count": null,
   "id": "cb3f6622",
   "metadata": {},
   "outputs": [],
   "source": [
    "mural_path = ['GC_Mural-(Antral)']\n",
    "trend_results = scGAM.compute_gene_trends(granulosa_mural_subset, var_key=\"timepoint\", genes = gene_list, n_bins = 0, use_raw = False, lineages_paths={\"mural\":mural_path}, group_by = \"granulosa_celltypes_reduced\")"
   ]
  },
  {
   "cell_type": "code",
   "execution_count": null,
   "id": "9c82cbca",
   "metadata": {},
   "outputs": [],
   "source": [
    "trends = trend_results['mural']['trend']"
   ]
  },
  {
   "cell_type": "code",
   "execution_count": null,
   "id": "5c42afd0",
   "metadata": {},
   "outputs": [],
   "source": [
    "trends.to_csv(\"./../pyobjs/mural_granulosa_gene_trends_timepoint_discrete.csv\")"
   ]
  },
  {
   "cell_type": "code",
   "execution_count": null,
   "id": "40e0a385",
   "metadata": {},
   "outputs": [],
   "source": [
    "clusters = scGAM.Agglomerative_cluster_gene_trends_from_lineage(trends, n_clusters=5, scale=True)\n",
    "clusters.value_counts()"
   ]
  },
  {
   "cell_type": "code",
   "execution_count": null,
   "id": "a0f16ca9",
   "metadata": {},
   "outputs": [],
   "source": [
    "# def plot_gene_expression_trend_clusters(trends, cluster_ids, scale = True):\n",
    "#     if scale: \n",
    "#         trends_df = pd.DataFrame(\n",
    "#             StandardScaler().fit_transform(trends.T).T,\n",
    "#             index=trends.index,\n",
    "#             columns=trends.columns,\n",
    "#         ).T\n",
    "#     else:\n",
    "#         trends_df = trends.T\n",
    "#     trends_df = trends_df.stack().reset_index().rename(columns = {\"level_0\": \"timepoint\", \"level_1\":\"Gene\", 0: \"Expression\"})\n",
    "#     trends_df[\"Cluster\"] = [cluster_ids[x] for x in trends_df[\"Gene\"]]\n",
    "#     return trends_df\n",
    "\n",
    "# def plot_gene_expression_trends(trends, genes, scale = True):\n",
    "#     if scale: \n",
    "#         trends_df = pd.DataFrame(\n",
    "#             StandardScaler().fit_transform(trends.T).T,\n",
    "#             index=trends.index,\n",
    "#             columns=trends.columns,\n",
    "#         ).T[genes]\n",
    "#     else:\n",
    "#         trends_df = trends.T[genes]\n",
    "#     trends_df = trends_df.stack().reset_index().rename(columns = {\"level_0\": \"timepoint\", \"level_1\":\"Gene\", 0: \"Expression\"})\n",
    "#     return trends_df"
   ]
  },
  {
   "cell_type": "code",
   "execution_count": null,
   "id": "07f9eed9",
   "metadata": {},
   "outputs": [],
   "source": [
    "trends_df = plot_gene_expression_trend_clusters(trends = trends, cluster_ids=clusters, scale=True)"
   ]
  },
  {
   "cell_type": "code",
   "execution_count": null,
   "id": "33065d83",
   "metadata": {
    "scrolled": false
   },
   "outputs": [],
   "source": [
    "sc.settings.set_figure_params(dpi=200, dpi_save=200, fontsize=6, facecolor='white', frameon=True, figsize=(1.5, 1.5))\n",
    "fig, ax = plt.subplots(figsize = (2.3,1.5))\n",
    "plt.grid(False)\n",
    "sns.set_style(\"ticks\")\n",
    "plt.margins(x=0, y=0)\n",
    "ax.tick_params(axis='both', which='major', pad=0.5, size = 2)\n",
    "g = sns.lineplot(data = trends_df, x = \"timepoint\", y= \"Expression\", hue=\"Cluster\", palette=\"tab10\", lw = 1, ax=ax)\n",
    "g.set_xticks(range(0, 13, 2))\n",
    "plt.legend(ncol=1, prop={'size': 6}, loc = 2, handletextpad=0.5, markerscale = 0.6, title = \"Gene groups\", \n",
    "           labelspacing = 0.0, frameon = False, title_fontsize = 7, alignment = \"left\", \n",
    "           borderpad = 0.1, borderaxespad = 0.1, bbox_to_anchor = (1.1, 0.75))\n",
    "ax.get_legend().set_title(\"Gene groups\")\n",
    "ax.set_xlabel(\"Time after LH treatment\", labelpad=0.5)\n",
    "ax.set_ylabel(\"Scaled expression\", labelpad=0.0)\n",
    "plt.tight_layout()"
   ]
  },
  {
   "cell_type": "code",
   "execution_count": null,
   "id": "c3669aa8",
   "metadata": {},
   "outputs": [],
   "source": [
    "trends_df = plot_gene_expression_trends(trends = trends, genes=granulosa_mural_subset.var.loc[clusters[clusters == 3].index.values,:].sort_values(by = \"dispersions_norm\", ascending = False).index.values[0:15], scale=True)"
   ]
  },
  {
   "cell_type": "code",
   "execution_count": null,
   "id": "995f29f0",
   "metadata": {},
   "outputs": [],
   "source": [
    "sc.settings.set_figure_params(dpi=200, fontsize=7, facecolor='white', frameon=True, figsize=(5, 5))\n",
    "fig, ax = plt.subplots(figsize = (2.5,1.5))\n",
    "plt.grid(False)\n",
    "sns.set_style(\"ticks\")\n",
    "plt.margins(x=0, y=0)\n",
    "ax.tick_params(axis='both', which='major', pad=0.5, size = 2)\n",
    "g = sns.lineplot(data = trends_df, x = \"timepoint\", y= \"Expression\", hue=\"Gene\", palette=\"Dark2\", lw = 1, ax=ax)\n",
    "g.set_xticks(range(0, 13, 2))\n",
    "plt.legend(ncol=1, prop={'size': 6}, loc = 6, handletextpad=0.5, markerscale = 0.6, title = \"Gene groups\", \n",
    "           labelspacing = 0.0, frameon = False, title_fontsize = 6, alignment = \"left\", \n",
    "           borderpad = 0.1, borderaxespad = 0.1, bbox_to_anchor = (1.05, 0.50))\n",
    "ax.get_legend().set_title(\"Genes\")\n",
    "ax.set_xlabel(\"Time after LH treatment\", labelpad=0.5)\n",
    "ax.set_ylabel(\"Scaled expression\", labelpad=0.0)\n",
    "plt.tight_layout()\n",
    "# fig.savefig(\"./figures/increasing_trends.pdf\")"
   ]
  },
  {
   "cell_type": "code",
   "execution_count": null,
   "id": "c6c8ac6e",
   "metadata": {
    "scrolled": true
   },
   "outputs": [],
   "source": [
    "# #Available databases : ‘Human’, ‘Mouse’, ‘Yeast’, ‘Fly’, ‘Fish’, ‘Worm’ \n",
    "# gene_set_names = gseapy.get_library_name(organism='Mouse')\n",
    "# print(gene_set_names)"
   ]
  },
  {
   "cell_type": "code",
   "execution_count": null,
   "id": "44faee2c",
   "metadata": {},
   "outputs": [],
   "source": [
    "# # Some databases of interest:\n",
    "# GO_Biological_Process_2021\n",
    "# GO_Biological_Process_2017b\n",
    "# KEGG_2019_Human\n",
    "# KEGG_2019_Mouse\n",
    "# WikiPathways_2019_Human\n",
    "# WikiPathways_2019_Mouse"
   ]
  },
  {
   "cell_type": "code",
   "execution_count": null,
   "id": "44ae1472",
   "metadata": {},
   "outputs": [],
   "source": [
    "# import gseapy\n",
    "# enr_res = gseapy.enrichr(gene_list=list(clusters[clusters == 3].index), \n",
    "#                      organism='Mouse',\n",
    "#                      gene_sets=['GO_Biological_Process_2021'],\n",
    "# #                      description='pathway', \n",
    "#                      cutoff = 0.5)"
   ]
  },
  {
   "cell_type": "code",
   "execution_count": null,
   "id": "f712f7c9",
   "metadata": {
    "scrolled": false
   },
   "outputs": [],
   "source": [
    "# GO_results = enr_res.results\n",
    "# GO_results[\"-log p-value\"] =  -1 * np.log10(GO_results[\"Adjusted P-value\"]) \n",
    "# GO_results[\"Term\"] = [x.split(\" (\")[0] for x in GO_results[\"Term\"]]\n",
    "# GO_results[0:5]"
   ]
  },
  {
   "cell_type": "code",
   "execution_count": null,
   "id": "9397cd17",
   "metadata": {},
   "outputs": [],
   "source": [
    "# sc.settings.set_figure_params(dpi_save= 400, fontsize=5, facecolor='white', frameon=True, transparent=True, format=\"pdf\")\n",
    "# fig, ax = plt.subplots(figsize=(0.9,1.5))\n",
    "# plt.rc('font', size=5)\n",
    "# plt.margins(x=0, y=0)\n",
    "# ax.tick_params(axis='both', which='major', pad=0.5, size = 2)\n",
    "# ax.set_axisbelow(True)\n",
    "# plt.grid(b=None)\n",
    "# g = sns.barplot(y = \"Term\", x = \"-log p-value\", data= GO_results[0:10], ax=ax)\n",
    "# # from textwrap import wrap\n",
    "# # labels = [x.get_text() for x in ax.get_yticklabels()]\n",
    "# # labels = ['\\n'.join(wrap(l, 40)) for l in labels]\n",
    "# # # print(labels)\n",
    "# # ax.set_yticklabels(labels, rotation=0, horizontalalignment='right')\n",
    "# ax.set_xticklabels(ax.get_xticklabels(), rotation=0, horizontalalignment='right')\n",
    "# ax.set_xlabel(\"-log p-value\", labelpad=0.5)\n",
    "# ax.set_ylabel(\"Term\", labelpad=0.0)\n",
    "# plt.tight_layout()"
   ]
  },
  {
   "cell_type": "code",
   "execution_count": null,
   "id": "2b6ab48d",
   "metadata": {},
   "outputs": [],
   "source": [
    "granulosa_mural_bulk = sc.read_h5ad(\"./../../pyobjs_github/granulosa_mural_bulk_raw_counts.h5ad\")\n",
    "# granulosa_mural_bulk.uns['log1p'][\"base\"] = None\n",
    "granulosa_mural_bulk"
   ]
  },
  {
   "cell_type": "code",
   "execution_count": null,
   "id": "edb17525",
   "metadata": {},
   "outputs": [],
   "source": [
    "granulosa_mural_bulk[granulosa_mural_bulk.obs[\"Sample\"] == \"12hr\"].obs[\"Follicle_type\"].value_counts()"
   ]
  },
  {
   "cell_type": "code",
   "execution_count": null,
   "id": "3801de63",
   "metadata": {},
   "outputs": [],
   "source": [
    "sc.pp.normalize_total(granulosa_mural_bulk, target_sum=1e4)\n",
    "sc.pp.log1p(granulosa_mural_bulk)"
   ]
  },
  {
   "cell_type": "code",
   "execution_count": null,
   "id": "6270c13e",
   "metadata": {},
   "outputs": [],
   "source": [
    "granulosa_mural_bulk_subset = granulosa_mural_bulk[~granulosa_mural_bulk.obs[\"Sample\"].isin([\"Immature\"])]\n",
    "granulosa_mural_bulk_subset.shape"
   ]
  },
  {
   "cell_type": "code",
   "execution_count": null,
   "id": "454e35af",
   "metadata": {},
   "outputs": [],
   "source": [
    "granulosa_mural_bulk_subset.obs[\"Follicle_type\"].value_counts()"
   ]
  },
  {
   "cell_type": "code",
   "execution_count": null,
   "id": "a49b8261",
   "metadata": {},
   "outputs": [],
   "source": [
    "granulosa_mural_bulk_subset = granulosa_mural_bulk_subset[granulosa_mural_bulk_subset.obs[\"Follicle_type\"].isin([\"Antral\"])]\n",
    "granulosa_mural_bulk_subset.shape"
   ]
  },
  {
   "cell_type": "code",
   "execution_count": null,
   "id": "d5fb32bb",
   "metadata": {},
   "outputs": [],
   "source": [
    "sc.pp.highly_variable_genes(granulosa_mural_bulk_subset, min_disp=0.5, min_mean=0.5)\n",
    "sc.pl.highly_variable_genes(granulosa_mural_bulk_subset)\n",
    "gene_list = list(granulosa_mural_bulk_subset.var_names[granulosa_mural_bulk_subset.var.highly_variable])\n",
    "len(gene_list)"
   ]
  },
  {
   "cell_type": "code",
   "execution_count": null,
   "id": "bf54c809",
   "metadata": {},
   "outputs": [],
   "source": [
    "\"Edn2\" in gene_list"
   ]
  },
  {
   "cell_type": "code",
   "execution_count": null,
   "id": "3eac93db",
   "metadata": {},
   "outputs": [],
   "source": [
    "granulosa_mural_bulk_subset.obs[\"timepoint\"] = granulosa_mural_bulk_subset.obs[\"Sample\"]\n",
    "celltypes = {'Immature': -1, \n",
    "             '0hr': 0, \n",
    "            '1hr': 1, \n",
    "            '4hr': 4, \n",
    "            '6hr': 6, \n",
    "            '8hr': 8,\n",
    "            '11hr': 11,\n",
    "            '12hr': 12}\n",
    "granulosa_mural_bulk_subset.obs[\"timepoint\"] = granulosa_mural_bulk_subset.obs[\"timepoint\"].map(celltypes)\n",
    "granulosa_mural_bulk_subset.obs[\"timepoint\"] = granulosa_mural_bulk_subset.obs[\"timepoint\"].astype(np.int_)"
   ]
  },
  {
   "cell_type": "code",
   "execution_count": null,
   "id": "8e4a46f3",
   "metadata": {},
   "outputs": [],
   "source": [
    "antral_mural_path = ['Antral']\n",
    "trend_results = scGAM.compute_gene_trends(granulosa_mural_bulk_subset, var_key=\"timepoint\", genes = gene_list, n_bins = 0, use_raw = False, lineages_paths={\"Antral\": antral_mural_path}, group_by = \"Follicle_type\")"
   ]
  },
  {
   "cell_type": "code",
   "execution_count": null,
   "id": "f77ddb70",
   "metadata": {},
   "outputs": [],
   "source": [
    "trends = trend_results['Antral']['trend']\n",
    "trends.shape"
   ]
  },
  {
   "cell_type": "code",
   "execution_count": null,
   "id": "684f85f6",
   "metadata": {},
   "outputs": [],
   "source": [
    "trends.to_csv(\"./../pyobjs/follicle_muralgranulosa_gene_trends_timepoint_discrete.csv\")"
   ]
  },
  {
   "cell_type": "code",
   "execution_count": null,
   "id": "b8f6e929",
   "metadata": {},
   "outputs": [],
   "source": [
    "trends= pd.read_csv(\"./../pyobjs/follicle_muralgranulosa_gene_trends_timepoint_discrete.csv\", index_col=0)\n",
    "trends"
   ]
  },
  {
   "cell_type": "code",
   "execution_count": null,
   "id": "baaaf3d6",
   "metadata": {},
   "outputs": [],
   "source": [
    "clusters = scGAM.Agglomerative_cluster_gene_trends_from_lineage(trends, n_clusters=6, scale=True)\n",
    "clusters.value_counts()"
   ]
  },
  {
   "cell_type": "code",
   "execution_count": null,
   "id": "439e79fd",
   "metadata": {},
   "outputs": [],
   "source": [
    "trends_df = plot_gene_expression_trend_clusters(trends = trends, cluster_ids=clusters, scale=True)"
   ]
  },
  {
   "cell_type": "code",
   "execution_count": null,
   "id": "3fa50d00",
   "metadata": {},
   "outputs": [],
   "source": [
    "sc.settings.set_figure_params(dpi=200, dpi_save=200, fontsize=6, facecolor='white', frameon=True, figsize=(1.5, 1.5))\n",
    "fig, ax = plt.subplots(figsize = (2.3,1.5))\n",
    "plt.grid(False)\n",
    "sns.set_style(\"ticks\")\n",
    "plt.margins(x=0, y=0)\n",
    "ax.tick_params(axis='both', which='major', pad=0.5, size = 2)\n",
    "g = sns.lineplot(data = trends_df, x = \"timepoint\", y= \"Expression\", hue=\"Cluster\", palette=\"tab10\", lw = 1, ax=ax)\n",
    "g.set_xticks([0,2,4,6])\n",
    "plt.legend(ncol=1, prop={'size': 6}, loc = 2, handletextpad=0.5, markerscale = 0.6, title = \"Gene groups\", \n",
    "           labelspacing = 0.0, frameon = False, title_fontsize = 6, alignment = \"left\", \n",
    "           borderpad = 0.1, borderaxespad = 0.1, bbox_to_anchor = (1.05, 0.75))\n",
    "ax.get_legend().set_title(\"Gene groups\")\n",
    "ax.set_xlabel(\"Time after hCG treatment\", labelpad=0.5)\n",
    "ax.set_ylabel(\"Scaled expression\", labelpad=0.0)\n",
    "plt.tight_layout()\n",
    "fig.savefig(\"./figures/mural _granulosa_gene_group_trends.pdf\")\n",
    "# plt.show()"
   ]
  },
  {
   "cell_type": "code",
   "execution_count": null,
   "id": "96491ee6",
   "metadata": {},
   "outputs": [],
   "source": [
    "trends_df = plot_gene_expression_trends(trends = trends, genes=granulosa_mural_bulk_subset.var.loc[clusters[clusters == 0].index.values,:].sort_values(by = \"dispersions_norm\", ascending = False).index.values[0:10], scale=True)"
   ]
  },
  {
   "cell_type": "code",
   "execution_count": null,
   "id": "bdc78d7e",
   "metadata": {},
   "outputs": [],
   "source": [
    "sc.settings.set_figure_params(dpi=200, fontsize=6, facecolor='white', frameon=True, figsize=(5, 5))\n",
    "fig, ax = plt.subplots(figsize = (2.3,1.5))\n",
    "plt.grid(False)\n",
    "sns.set_style(\"ticks\")\n",
    "plt.margins(x=0, y=0)\n",
    "ax.tick_params(axis='both', which='major', pad=0.5, size = 2)\n",
    "g = sns.lineplot(data = trends_df, x = \"timepoint\", y= \"Expression\", hue=\"Gene\", palette=\"Dark2\", lw = 1, ax=ax)\n",
    "g.set_xticks([0,2,4,6])\n",
    "plt.legend(ncol=1, prop={'size': 6}, loc = 6, handletextpad=0.5, markerscale = 0.6, title = \"Gene groups\", \n",
    "           labelspacing = 0.0, frameon = False, title_fontsize = 6, alignment = \"left\", \n",
    "           borderpad = 0.1, borderaxespad = 0.1, bbox_to_anchor = (1.05, 0.50))\n",
    "ax.get_legend().set_title(\"Genes\")\n",
    "ax.set_xlabel(\"Time after hCG treatment\", labelpad=0.5)\n",
    "ax.set_ylabel(\"Scaled expression\", labelpad=0.0)\n",
    "plt.tight_layout()\n",
    "fig.savefig(\"./figures/decreasing_trends.pdf\")"
   ]
  },
  {
   "cell_type": "code",
   "execution_count": null,
   "id": "db19e82b",
   "metadata": {},
   "outputs": [],
   "source": [
    "import gseapy\n",
    "enr_res = gseapy.enrichr(gene_list=list(clusters[clusters == 0].index), \n",
    "                     organism='Mouse',\n",
    "                     gene_sets=['GO_Biological_Process_2021'],\n",
    "#                      description='pathway', \n",
    "                     cutoff = 0.01)"
   ]
  },
  {
   "cell_type": "code",
   "execution_count": null,
   "id": "403aea73",
   "metadata": {},
   "outputs": [],
   "source": [
    "GO_results = enr_res.results\n",
    "GO_results[\"-log p-value\"] =  -1 * np.log10(GO_results[\"Adjusted P-value\"]) \n",
    "GO_results[\"Term\"] = [x.split(\" (\")[0] for x in GO_results[\"Term\"]]\n",
    "GO_results[0:10]"
   ]
  },
  {
   "cell_type": "code",
   "execution_count": null,
   "id": "e8961713",
   "metadata": {},
   "outputs": [],
   "source": [
    "GO_results[GO_results[\"Term\"] == \"negative regulation of apoptotic process\"]"
   ]
  },
  {
   "cell_type": "code",
   "execution_count": null,
   "id": "7533dea6",
   "metadata": {},
   "outputs": [],
   "source": [
    "apoptosis_genes = GO_results[GO_results[\"Term\"] == \"negative regulation of apoptotic process\"].Genes.values[0].split(\";\")\n",
    "from gseapy import Biomart\n",
    "bm = Biomart()\n",
    "h2m = bm.query(dataset='hsapiens_gene_ensembl',\n",
    "               attributes=['external_gene_name',\n",
    "                           'mmusculus_homolog_associated_gene_name'])\n",
    "h2m.index = h2m[\"external_gene_name\"]\n",
    "apoptosis_genes = h2m.loc[apoptosis_genes][\"mmusculus_homolog_associated_gene_name\"]\n",
    "apoptosis_genes = apoptosis_genes[~pd.isna(apoptosis_genes)]"
   ]
  },
  {
   "cell_type": "code",
   "execution_count": null,
   "id": "d45f8197",
   "metadata": {},
   "outputs": [],
   "source": [
    "apoptosis_genes"
   ]
  },
  {
   "cell_type": "code",
   "execution_count": null,
   "id": "9a278c78",
   "metadata": {},
   "outputs": [],
   "source": [
    "apoptosis_genes.to_csv(\"./../pyobjs/apoptosis_genes.csv\")"
   ]
  },
  {
   "cell_type": "code",
   "execution_count": null,
   "id": "31b5c2e2",
   "metadata": {},
   "outputs": [],
   "source": [
    "sc.settings.set_figure_params(dpi_save= 400, fontsize=5, facecolor='white', frameon=True, transparent=True, format=\"pdf\")\n",
    "fig, ax = plt.subplots(figsize=(1.2,1.5))\n",
    "plt.rc('font', size=6)\n",
    "plt.margins(x=0, y=0)\n",
    "ax.tick_params(axis='both', which='major', pad=0.5, size = 2)\n",
    "ax.set_axisbelow(True)\n",
    "plt.grid(b=None)\n",
    "g = sns.barplot(y = \"Term\", x = \"-log p-value\", data= GO_results[0:15], ax=ax)\n",
    "# from textwrap import wrap\n",
    "# labels = [x.get_text() for x in ax.get_yticklabels()]\n",
    "# labels = ['\\n'.join(wrap(l, 40)) for l in labels]\n",
    "# print(labels)\n",
    "# ax.set_yticklabels(labels, rotation=0, horizontalalignment='right')\n",
    "ax.set_xticklabels(ax.get_xticklabels(), rotation=0, horizontalalignment='right')\n",
    "ax.set_xlabel(\"-log p-value\", labelpad=0.5)\n",
    "ax.set_ylabel(\"Term\", labelpad=0.0)\n",
    "# plt.tight_layout()\n",
    "plt.savefig(\"./figures/decreasing_trends_go.pdf\")"
   ]
  },
  {
   "cell_type": "code",
   "execution_count": null,
   "id": "74012eea",
   "metadata": {},
   "outputs": [],
   "source": [
    "trends_df = plot_gene_expression_trends(trends = trends, genes=granulosa_mural_bulk_subset.var.loc[clusters[clusters == 2].index.values,:].sort_values(by = \"dispersions_norm\", ascending = False).index.values[0:10], scale=True)"
   ]
  },
  {
   "cell_type": "code",
   "execution_count": null,
   "id": "0a25936d",
   "metadata": {},
   "outputs": [],
   "source": [
    "sc.settings.set_figure_params(dpi=200, fontsize=6, facecolor='white', frameon=True, figsize=(5, 5))\n",
    "fig, ax = plt.subplots(figsize = (2.3,1.5))\n",
    "plt.grid(False)\n",
    "sns.set_style(\"ticks\")\n",
    "plt.margins(x=0, y=0)\n",
    "ax.tick_params(axis='both', which='major', pad=0.5, size = 2)\n",
    "g = sns.lineplot(data = trends_df, x = \"timepoint\", y= \"Expression\", hue=\"Gene\", palette=\"Dark2\", lw = 1, ax=ax)\n",
    "g.set_xticks([0,2,4,6])\n",
    "plt.legend(ncol=1, prop={'size': 6}, loc = 6, handletextpad=0.5, markerscale = 0.6, title = \"Gene groups\", \n",
    "           labelspacing = 0.0, frameon = False, title_fontsize = 6, alignment = \"left\", \n",
    "           borderpad = 0.1, borderaxespad = 0.1, bbox_to_anchor = (1.05, 0.50))\n",
    "ax.get_legend().set_title(\"Genes\")\n",
    "ax.set_xlabel(\"Time after hCG treatment\", labelpad=0.5)\n",
    "ax.set_ylabel(\"Scaled expression\", labelpad=0.0)\n",
    "plt.tight_layout()\n",
    "fig.savefig(\"./figures/increasing_trends.pdf\")"
   ]
  },
  {
   "cell_type": "code",
   "execution_count": null,
   "id": "4a4855a0",
   "metadata": {},
   "outputs": [],
   "source": [
    "import gseapy\n",
    "enr_res = gseapy.enrichr(gene_list=list(granulosa_mural_bulk_subset.var.loc[clusters[clusters == 2].index.values,:].sort_values(by = \"dispersions_norm\", ascending = False).index.values), \n",
    "                     organism='Mouse',\n",
    "                     gene_sets=['GO_Biological_Process_2021'],\n",
    "#                      description='pathway', \n",
    "                     cutoff = 0.01)"
   ]
  },
  {
   "cell_type": "code",
   "execution_count": null,
   "id": "f8638325",
   "metadata": {},
   "outputs": [],
   "source": [
    "GO_results = enr_res.results\n",
    "GO_results[\"-log p-value\"] =  -1 * np.log10(GO_results[\"Adjusted P-value\"]) \n",
    "GO_results[\"Term\"] = [x.split(\" (\")[0] for x in GO_results[\"Term\"]]\n",
    "GO_results[0:15]"
   ]
  },
  {
   "cell_type": "code",
   "execution_count": null,
   "id": "fd774160",
   "metadata": {},
   "outputs": [],
   "source": [
    "sc.settings.set_figure_params(dpi_save= 400, fontsize=5, facecolor='white', frameon=True, transparent=True, format=\"pdf\")\n",
    "fig, ax = plt.subplots(figsize=(1.2,1.5))\n",
    "plt.rc('font', size=6)\n",
    "plt.margins(x=0, y=0)\n",
    "ax.tick_params(axis='both', which='major', pad=0.5, size = 2)\n",
    "ax.set_axisbelow(True)\n",
    "plt.grid(b=None)\n",
    "g = sns.barplot(y = \"Term\", x = \"-log p-value\", data= GO_results[0:15], ax=ax)\n",
    "# from textwrap import wrap\n",
    "# labels = [x.get_text() for x in ax.get_yticklabels()]\n",
    "# labels = ['\\n'.join(wrap(l, 40)) for l in labels]\n",
    "# print(labels)\n",
    "# ax.set_yticklabels(labels, rotation=0, horizontalalignment='right')\n",
    "ax.set_xticklabels(ax.get_xticklabels(), rotation=0, horizontalalignment='right')\n",
    "ax.set_xlabel(\"-log p-value\", labelpad=0.5)\n",
    "ax.set_ylabel(\"Term\", labelpad=0.0)\n",
    "# plt.tight_layout()\n",
    "plt.savefig(\"./figures/increasing_trends_go.pdf\")"
   ]
  },
  {
   "cell_type": "code",
   "execution_count": null,
   "id": "5ed24993",
   "metadata": {},
   "outputs": [],
   "source": [
    "trends_df = plot_gene_expression_trends(trends = trends, genes=granulosa_mural_bulk_subset.var.loc[clusters[clusters == 3].index.values,:].sort_values(by = \"dispersions_norm\", ascending = False).index.values[0:10], scale=True)"
   ]
  },
  {
   "cell_type": "code",
   "execution_count": null,
   "id": "0fba4f82",
   "metadata": {},
   "outputs": [],
   "source": [
    "sc.settings.set_figure_params(dpi=200, fontsize=7, facecolor='white', frameon=True, figsize=(5, 5))\n",
    "fig, ax = plt.subplots(figsize = (2.3,1.5))\n",
    "plt.grid(False)\n",
    "sns.set_style(\"ticks\")\n",
    "plt.margins(x=0, y=0)\n",
    "ax.tick_params(axis='both', which='major', pad=0.5, size = 2)\n",
    "g = sns.lineplot(data = trends_df, x = \"timepoint\", y= \"Expression\", hue=\"Gene\", palette=\"Dark2\", lw = 1, ax=ax)\n",
    "g.set_xticks([0,2,4,6])\n",
    "plt.legend(ncol=1, prop={'size': 6}, loc = 6, handletextpad=0.5, markerscale = 0.6, title = \"Gene groups\", \n",
    "           labelspacing = 0.0, frameon = False, title_fontsize = 7, alignment = \"left\", \n",
    "           borderpad = 0.1, borderaxespad = 0.1, bbox_to_anchor = (1.05, 0.50))\n",
    "ax.get_legend().set_title(\"Genes\")\n",
    "ax.set_xlabel(\"Time after LH treatment\", labelpad=0.5)\n",
    "ax.set_ylabel(\"Scaled expression\", labelpad=0.0)\n",
    "plt.tight_layout()\n",
    "# fig.savefig(\"./figures/granulosa_late_increasing_trends.pdf\")"
   ]
  },
  {
   "cell_type": "code",
   "execution_count": null,
   "id": "470350b0",
   "metadata": {},
   "outputs": [],
   "source": [
    "import gseapy\n",
    "enr_res = gseapy.enrichr(gene_list=list(granulosa_mural_bulk_subset.var.loc[clusters[(clusters == 3) | (clusters == 3)].index.values,:].sort_values(by = \"dispersions_norm\", ascending = False).index.values), \n",
    "                     organism='Mouse',\n",
    "                     gene_sets=['GO_Biological_Process_2021'],\n",
    "#                      description='pathway', \n",
    "                     cutoff = 0.01)"
   ]
  },
  {
   "cell_type": "code",
   "execution_count": null,
   "id": "50119a68",
   "metadata": {},
   "outputs": [],
   "source": [
    "GO_results = enr_res.results\n",
    "GO_results[\"-log p-value\"] =  -1 * np.log10(GO_results[\"Adjusted P-value\"]) \n",
    "GO_results[\"Term\"] = [x.split(\" (\")[0] for x in GO_results[\"Term\"]]\n",
    "GO_results[0:15]"
   ]
  },
  {
   "cell_type": "code",
   "execution_count": null,
   "id": "286520e9",
   "metadata": {},
   "outputs": [],
   "source": []
  },
  {
   "cell_type": "code",
   "execution_count": null,
   "id": "92259651",
   "metadata": {},
   "outputs": [],
   "source": []
  },
  {
   "cell_type": "code",
   "execution_count": null,
   "id": "2a2bb987",
   "metadata": {},
   "outputs": [],
   "source": [
    "freq_table = granulosa_mural_subset.obs.groupby(['FollicleNumber', \"Sample\", \"phase\"]).size().reset_index(name='count')\n",
    "freq_table['total_count'] = freq_table.groupby(['FollicleNumber', \"Sample\"])['count'].transform('sum')\n",
    "freq_table['proportion'] = freq_table['count'] / freq_table['total_count']\n",
    "freq_table = freq_table[freq_table[\"count\"] > 0]\n",
    "freq_table.head(20)"
   ]
  },
  {
   "cell_type": "code",
   "execution_count": null,
   "id": "61e2aed6",
   "metadata": {},
   "outputs": [],
   "source": [
    "sc.settings.set_figure_params(dpi=80, fontsize=6, facecolor='white', frameon=False, figsize=(2.0, 2.0), vector_friendly = False, transparent=True, format=\"pdf\")\n",
    "sns.set_style(\"ticks\")\n",
    "fig, ax = plt.subplots(figsize = (2.8,1.5))\n",
    "plt.margins(x=0, y=0)\n",
    "ax.tick_params(axis='both', which='major', pad=0, size = 2)\n",
    "sns.barplot(freq_table, x = \"Sample\", y = \"proportion\", dodge=True, hue=\"phase\", palette=\"Set2\", ax=ax)\n",
    "plt.legend(ncol=1, prop={'size': 6}, handletextpad=0.5, markerscale = 0.6, title = \"Cell cycle\",\n",
    "           labelspacing = 0.0, frameon = False,  title_fontsize = 7, alignment = \"left\", \n",
    "           borderpad = 0.1, borderaxespad = 0.1, loc = 1, bbox_to_anchor = (1.0, 1.0))\n",
    "plt.rcParams['legend.title_fontsize'] = 9\n",
    "ax.set_ylim(0,1.0)\n",
    "ax.set_ylabel(\"Follicle type\", labelpad = 0)\n",
    "ax.set_xlabel(\"Cell proportions\", labelpad = 1.0)\n",
    "plt.tight_layout()\n",
    "plt.savefig(\"./figures/cellcycle_all_granulosa_mural.pdf\")"
   ]
  },
  {
   "cell_type": "code",
   "execution_count": null,
   "id": "2cc944ff",
   "metadata": {},
   "outputs": [],
   "source": [
    "adata_magic = pd.read_csv(\"./../../../pyobjs/adata_ovary_combined_magic_edn2_subset.csv\", index_col=0)\n",
    "adata_magic.index = [x.replace(\"4hr_replicate\", \"4hr\") for x in adata_magic.index]\n",
    "dremi_df = pd.read_csv(\"./../../../pyobjs/dremi_magic_Edn2.csv\", index_col=0)"
   ]
  },
  {
   "cell_type": "code",
   "execution_count": null,
   "id": "42ed6568",
   "metadata": {
    "scrolled": true
   },
   "outputs": [],
   "source": [
    "print(dremi_df.loc[\"Edn2\",])\n",
    "dremi_df = dremi_df[dremi_df[\"means\"] > 0.1]\n",
    "dremi_df = dremi_df[dremi_df[\"dispersions\"] > 0.1]"
   ]
  },
  {
   "cell_type": "code",
   "execution_count": null,
   "id": "7d51f9ad",
   "metadata": {},
   "outputs": [],
   "source": [
    "adata_magic.shape"
   ]
  },
  {
   "cell_type": "code",
   "execution_count": null,
   "id": "04d6ad05",
   "metadata": {},
   "outputs": [],
   "source": [
    "adata_magic[\"Sample\"] = adata_ovary_combined.obs[\"Sample\"]"
   ]
  },
  {
   "cell_type": "code",
   "execution_count": null,
   "id": "03ec67cf",
   "metadata": {},
   "outputs": [],
   "source": [
    "sc.settings.set_figure_params(dpi=80, dpi_save = 300, fontsize=6, facecolor='white', frameon=False, figsize=(1.0, 1.0), vector_friendly = True, transparent=True, format=\"pdf\")\n",
    "sns.set_style(\"ticks\")\n",
    "fig, axs = plt.subplots(2,2, figsize = (1.8,1.5))\n",
    "axs = axs.flatten()\n",
    "x_gene = \"Edn2\"\n",
    "y_gene_list = dremi_df[\"gene\"][1:5]\n",
    "for i, y_gene in enumerate(y_gene_list):\n",
    "    print(i, y_gene)\n",
    "    sns.scatterplot(adata_magic.loc[adata_ovary_combined.obs_names], x=\"Edn2\", y = y_gene, hue = \"Sample\", palette=\"Set2\", ax=axs[i], \n",
    "                    s = 0.5, alpha = 0.5, linewidths = 0.0)\n",
    "    if i == 0:\n",
    "        handles, labels = axs[i].get_legend_handles_labels()\n",
    "        legend = axs[i].get_legend()\n",
    "    axs[i].get_legend().remove()\n",
    "    axs[i].tick_params(axis='both', which='major', pad=0, size = 2)\n",
    "    axs[i].set_ylabel(y_gene, labelpad = 0.0, fontstyle = \"italic\")\n",
    "    axs[i].set_xlabel(x_gene, labelpad = 0.0, fontstyle = \"italic\")\n",
    "    \n",
    "fig.legend(handles, labels, ncol=1, prop={'size': 6}, handletextpad=0.5, markerscale = 0.6, title = \"Sample\",\n",
    "           labelspacing = 0.0, frameon = False,  title_fontsize = 7, alignment = \"left\", \n",
    "           borderpad = 0.1, borderaxespad = 0.1, loc = 6, bbox_to_anchor = (1.0, 0.5))     \n",
    "# fig.delaxes(axs[0])\n",
    "plt.margins(x=0, y=0)\n",
    "plt.subplots_adjust(wspace=0, hspace=0)\n",
    "plt.tight_layout()\n",
    "plt.savefig(\"./figures/edn2_dremi_coor.png\", dpi = 300)"
   ]
  },
  {
   "cell_type": "code",
   "execution_count": null,
   "id": "b3c910b8",
   "metadata": {},
   "outputs": [],
   "source": [
    "ovary_11hr = sc.read_h5ad(\"./../pyobjs/11hr_ovary.h5ad\")\n",
    "ovary_12hr = sc.read_h5ad(\"./../pyobjs/12hr_ovary.h5ad\")"
   ]
  },
  {
   "cell_type": "code",
   "execution_count": null,
   "id": "7f4336a3",
   "metadata": {},
   "outputs": [],
   "source": [
    "sc.settings.set_figure_params(dpi=200, dpi_save= 300, fontsize=8, facecolor='white', frameon=False, figsize=(2.0,2.0), vector_friendly = True, transparent=True, format=\"pdf\")\n",
    "sc.pl.spatial(ovary_12hr, color=[\"granulosa_clusters\"], spot_size=30, ncols=3, wspace=0.1)"
   ]
  },
  {
   "cell_type": "code",
   "execution_count": null,
   "id": "360a9875",
   "metadata": {},
   "outputs": [],
   "source": [
    "sample = \"12hr\"\n",
    "celltypes = {'0': \"GC_Mural-(Antral)\", \n",
    "             '1': \"GC_Lytic-1\", \n",
    "            '2': \"GC_Lytic-2\", \n",
    "            '3': \"GC_Mural-(Antral)\", \n",
    "            '4': \"GC_Mural-(Antral)\", \n",
    "            '5': \"GC_Mural-(Atretic)\", \n",
    "            '6': pd.NA,\n",
    "            '7': \"GC_Mural-(Preantral)\", \n",
    "            '8': \"GC_Cumulus\"}\n",
    "ovary_12hr.obs[\"granulosa_celltypes\"] = ovary_12hr.obs[\"granulosa_clusters\"].map(celltypes).astype(\"category\")"
   ]
  },
  {
   "cell_type": "code",
   "execution_count": null,
   "id": "186a2f0b",
   "metadata": {},
   "outputs": [],
   "source": [
    "from pylab import *\n",
    "cmap = cm.get_cmap('tab20')\n",
    "palette_custom = [matplotlib.colors.rgb2hex(cmap(i)) for i in range(cmap.N)]\n",
    "cmap\n",
    "sc.settings.set_figure_params(dpi=200, dpi_save=300, facecolor='white', fontsize=6, frameon=True, figsize=(3, 3), format=\"pdf\")\n",
    "sc.pl.spatial(ovary_12hr, color=[\"granulosa_celltypes\"], spot_size=30, frameon=False, wspace=0.3, na_in_legend=False, title=\"Granulosa celltypes\", save=\"granulosa_celltypes_12hr\")"
   ]
  },
  {
   "cell_type": "code",
   "execution_count": null,
   "id": "c018fceb",
   "metadata": {},
   "outputs": [],
   "source": [
    "sc.settings.set_figure_params(dpi=200, dpi_save=300, facecolor='white', fontsize=6, frameon=True, figsize=(0.8,0.8), format=\"pdf\")\n",
    "fig, axs = plt.subplots(2,2, figsize = (2.3,1.8))\n",
    "axs = axs.flatten()\n",
    "for i, gene in enumerate([\"Edn2\", \"Ptgs1\", \"Junb\", \"Adamts1\"]):\n",
    "    sc.pl.spatial(adata_ovary_combined[adata_ovary_combined.obs[\"Sample\"] == \"12hr\"], color=gene, spot_size=30, frameon=False, wspace=0.1, ncols=5, cmap=sns.blend_palette([\"lightgrey\", sns.xkcd_rgb[\"black\"]], as_cmap=True), ax=axs[i], vmax = \"p99.2\", show=False)\n",
    "    axs[i].set_title(axs[i].get_title(), pad=0)\n",
    "for i in range(1,5):\n",
    "    mappable = fig.axes[-i].collections[1]\n",
    "    colorBar = fig.axes[-i]\n",
    "    colorBar.remove()\n",
    "    plt.colorbar(mappable=mappable, ax=axs[-i],\n",
    "                 fraction=0.25, aspect=7, location = \"right\",\n",
    "                 pad=0 ,shrink = 0.3)\n",
    "for i in range(1,5):\n",
    "    fig.axes[-i].tick_params(length = 2, pad = 0.0)\n",
    "    \n",
    "plt.subplots_adjust(wspace=0, hspace=0)\n",
    "plt.tight_layout()\n",
    "# plt.show()\n",
    "plt.savefig(\"./figures/rupture_asscoiated.pdf\")"
   ]
  },
  {
   "cell_type": "code",
   "execution_count": null,
   "id": "0ed8864e",
   "metadata": {},
   "outputs": [],
   "source": [
    "sc.settings.set_figure_params(dpi=200, dpi_save=300, facecolor='white', fontsize=6, frameon=True, figsize=(0.8,0.8), format=\"pdf\")\n",
    "fig, axs = plt.subplots(1, 3, figsize = (3.0,1.0))\n",
    "axs = axs.flatten()\n",
    "for i, gene in enumerate([\"Sfrp4\", \"Gm2a\", \"Ltbp1\"]):\n",
    "    sc.pl.spatial(adata_ovary_combined[adata_ovary_combined.obs[\"Sample\"] == \"12hr\"], color=gene, spot_size=30, frameon=False, wspace=0.1, ncols=5, cmap=sns.blend_palette([\"lightgrey\", sns.xkcd_rgb[\"black\"]], as_cmap=True), ax=axs[i], vmin = \"p1.0\", vmax = \"p99.2\", show=False)\n",
    "    axs[i].set_title(axs[i].get_title(), pad=0)\n",
    "for i in range(1,4):\n",
    "    mappable = fig.axes[-i].collections[1]\n",
    "    colorBar = fig.axes[-i]\n",
    "    colorBar.remove()\n",
    "    plt.colorbar(mappable=mappable, ax=axs[-i],\n",
    "                 fraction=0.25, aspect=7, location = \"right\",\n",
    "                 pad=0 ,shrink = 0.3)\n",
    "for i in range(1,4):\n",
    "    fig.axes[-i].tick_params(length = 2, pad = 0.0)\n",
    "    \n",
    "plt.subplots_adjust(wspace=0, hspace=0)\n",
    "plt.tight_layout()\n",
    "# plt.show()\n",
    "plt.savefig(\"./figures/12hr_lytic_asscoiated.pdf\")"
   ]
  },
  {
   "cell_type": "code",
   "execution_count": null,
   "id": "2f2ead6a",
   "metadata": {},
   "outputs": [],
   "source": [
    "sc.settings.set_figure_params(dpi=200, dpi_save=300, facecolor='white', fontsize=6, frameon=True, figsize=(0.8,0.8), format=\"pdf\")\n",
    "fig, axs = plt.subplots(1, 3, figsize = (3.0,1.0))\n",
    "axs = axs.flatten()\n",
    "for i, gene in enumerate([\"Rhox8\", \"Star\", \"Ctsl\"]):\n",
    "    sc.pl.spatial(adata_ovary_combined[adata_ovary_combined.obs[\"Sample\"] == \"12hr\"], color=gene, spot_size=30, frameon=False, wspace=0.1, ncols=5, cmap=sns.blend_palette([\"lightgrey\", sns.xkcd_rgb[\"black\"]], as_cmap=True), ax=axs[i], vmin = \"p1.0\", vmax = \"p99.2\", show=False)\n",
    "    axs[i].set_title(axs[i].get_title(), pad=0)\n",
    "for i in range(1,4):\n",
    "    mappable = fig.axes[-i].collections[1]\n",
    "    colorBar = fig.axes[-i]\n",
    "    colorBar.remove()\n",
    "    plt.colorbar(mappable=mappable, ax=axs[-i],\n",
    "                 fraction=0.25, aspect=7, location = \"right\",\n",
    "                 pad=0 ,shrink = 0.3)\n",
    "for i in range(1,4):\n",
    "    fig.axes[-i].tick_params(length = 2, pad = 0.0)\n",
    "    \n",
    "plt.subplots_adjust(wspace=0, hspace=0)\n",
    "plt.tight_layout()\n",
    "# plt.show()\n",
    "plt.savefig(\"./figures/12hr_antral_asscoiated.pdf\")"
   ]
  },
  {
   "cell_type": "code",
   "execution_count": null,
   "id": "112b2732",
   "metadata": {},
   "outputs": [],
   "source": [
    "sc.tl.rank_genes_groups(ovary_12hr, groupby=\"granulosa_celltypes\", groups=[\"GC_Lytic-1\"], reference = \"GC_Lytic-2\", method=\"wilcoxon\", key_added=\"between_lytic_diff\")\n",
    "sc.tl.rank_genes_groups(ovary_12hr, groupby=\"granulosa_celltypes\", groups=[\"GC_Lytic-1\"], reference = \"GC_Mural-(Antral)\", method=\"wilcoxon\", key_added=\"between_lytic_and_mural_diff\")"
   ]
  },
  {
   "cell_type": "code",
   "execution_count": null,
   "id": "d544cf4a",
   "metadata": {},
   "outputs": [],
   "source": [
    "result = ovary_12hr.uns['between_lytic_diff']\n",
    "groups = result['names'].dtype.names\n",
    "dge_results = pd.DataFrame(\n",
    "    {key: result[key][group]\n",
    "    for group in groups for key in ['names', \"logfoldchanges\", \"pvals_adj\"]})\n",
    "print(dge_results)"
   ]
  },
  {
   "cell_type": "code",
   "execution_count": null,
   "id": "5014bee3",
   "metadata": {},
   "outputs": [],
   "source": [
    "sc.settings.set_figure_params(dpi=200, dpi_save=300, facecolor='white', fontsize=6, frameon=False, figsize=(2, 2), format=\"pdf\")\n",
    "sc.pl.spatial(ovary_12hr, color=dge_results.head(10)[\"names\"], spot_size=30, cmap=\"viridis\", ncols=5, wspace = 0.0)"
   ]
  },
  {
   "cell_type": "code",
   "execution_count": null,
   "id": "be1c8835",
   "metadata": {},
   "outputs": [],
   "source": [
    "sc.settings.set_figure_params(dpi=200, dpi_save=300, facecolor='white', fontsize=6, frameon=False, figsize=(2, 2), format=\"pdf\")\n",
    "sc.pl.spatial(ovary_12hr, color=dge_results.tail(10)[\"names\"], spot_size=30, cmap=\"viridis\", ncols=5, wspace = 0.0)"
   ]
  },
  {
   "cell_type": "code",
   "execution_count": null,
   "id": "dcf668a3",
   "metadata": {},
   "outputs": [],
   "source": [
    "result = ovary_12hr.uns['between_lytic_and_mural_diff']\n",
    "groups = result['names'].dtype.names\n",
    "dge_results = pd.DataFrame(\n",
    "    {key: result[key][group]\n",
    "    for group in groups for key in ['names', \"logfoldchanges\", \"pvals_adj\"]})\n",
    "print(dge_results)"
   ]
  },
  {
   "cell_type": "code",
   "execution_count": null,
   "id": "254750ce",
   "metadata": {},
   "outputs": [],
   "source": [
    "sc.settings.set_figure_params(dpi=200, dpi_save=300, facecolor='white', fontsize=6, frameon=False, figsize=(2, 2), format=\"pdf\")\n",
    "sc.pl.spatial(ovary_12hr, color=dge_results.head(10)[\"names\"], spot_size=30, cmap=\"viridis\", ncols=5, wspace = 0.0)"
   ]
  },
  {
   "cell_type": "code",
   "execution_count": null,
   "id": "41190398",
   "metadata": {},
   "outputs": [],
   "source": [
    "sc.settings.set_figure_params(dpi=200, dpi_save=300, facecolor='white', fontsize=6, frameon=False, figsize=(2, 2), format=\"pdf\")\n",
    "sc.pl.spatial(ovary_12hr, color=dge_results.tail(10)[\"names\"], spot_size=30, cmap=\"viridis\", ncols=5, wspace = 0.0)"
   ]
  },
  {
   "cell_type": "code",
   "execution_count": null,
   "id": "51c165e6",
   "metadata": {},
   "outputs": [],
   "source": [
    "sc.settings.set_figure_params(dpi=200, dpi_save=300, facecolor='white', fontsize=6, frameon=False, figsize=(2, 2), format=\"pdf\")\n",
    "sc.pl.spatial(ovary_12hr, color=[\"Edn2\", \"Adamts1\", \"Ldhd\", \"Apln\", \"Akr1c18\"], spot_size=30, cmap=\"viridis\", ncols=5, wspace = 0.0)"
   ]
  },
  {
   "cell_type": "code",
   "execution_count": null,
   "id": "78c56c67",
   "metadata": {},
   "outputs": [],
   "source": [
    "sc.settings.set_figure_params(dpi=200, dpi_save=300, facecolor='white', fontsize=6, frameon=False, figsize=(2, 2), format=\"pdf\")\n",
    "sc.pl.spatial(ovary_11hr, color=[\"Edn2\", \"Adamts1\", \"Ldhd\", \"Akr1c18\"], spot_size=30, cmap=\"viridis\", ncols=5, wspace = 0.0)"
   ]
  },
  {
   "cell_type": "code",
   "execution_count": null,
   "id": "3e0d17a6",
   "metadata": {},
   "outputs": [],
   "source": []
  }
 ],
 "metadata": {
  "kernelspec": {
   "display_name": "Python 3 (ipykernel)",
   "language": "python",
   "name": "python3"
  },
  "language_info": {
   "codemirror_mode": {
    "name": "ipython",
    "version": 3
   },
   "file_extension": ".py",
   "mimetype": "text/x-python",
   "name": "python",
   "nbconvert_exporter": "python",
   "pygments_lexer": "ipython3",
   "version": "3.9.13"
  }
 },
 "nbformat": 4,
 "nbformat_minor": 5
}
